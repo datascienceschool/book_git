{
 "cells": [
  {
   "cell_type": "code",
   "execution_count": 1,
   "id": "7e5937a1",
   "metadata": {
    "vscode": {
     "languageId": "shellscript"
    }
   },
   "outputs": [],
   "source": [
    "# | echo: false\n",
    "# | output: false\n",
    "export LANG=en_US.UTF-8\n",
    "export HOME=/Users/joelkim/Work/personal/book_git\n",
    "cd $HOME"
   ]
  },
  {
   "cell_type": "markdown",
   "id": "4ef13002",
   "metadata": {},
   "source": [
    "# 비교"
   ]
  },
  {
   "cell_type": "markdown",
   "id": "5e9ad1df",
   "metadata": {},
   "source": [
    "## `diff` 명령"
   ]
  },
  {
   "cell_type": "markdown",
   "id": "86724c37",
   "metadata": {},
   "source": [
    "- diff 명령은 커밋과 커밋간의 차이를 비교\n",
    "\n",
    "    ```bash\n",
    "    git diff <커밋해시 또는 참조> <커밋해시 또는 참조>\n",
    "    ```"
   ]
  },
  {
   "cell_type": "markdown",
   "id": "b2ba22e0",
   "metadata": {},
   "source": [
    "- 첫번째 인수를 생략하면 워크트리과 커밋을 비교\n",
    "\n",
    "\n",
    "    ```bash\n",
    "    git diff <커밋해시 또는 참조>\n",
    "    ```"
   ]
  },
  {
   "cell_type": "markdown",
   "id": "50e8a486",
   "metadata": {},
   "source": [
    "- 첫번째 인수를 생략하고 `--cached` 옵션을 주면 스테이지과 커밋을 비교\n",
    "\n",
    "\n",
    "    ```bash\n",
    "    git diff --cached <커밋해시 또는 참조>\n",
    "    ```"
   ]
  },
  {
   "cell_type": "markdown",
   "id": "b36d4d73",
   "metadata": {},
   "source": [
    "## diff 대상 파일"
   ]
  },
  {
   "cell_type": "markdown",
   "id": "fbe84dee",
   "metadata": {},
   "source": [
    "## diff 출력 형식"
   ]
  },
  {
   "cell_type": "markdown",
   "id": "7e96c399",
   "metadata": {},
   "source": [
    "## 실습 1: 레포지토리 생성"
   ]
  },
  {
   "cell_type": "markdown",
   "id": "06820ecc",
   "metadata": {},
   "source": [
    "- 레포지토리 생성"
   ]
  },
  {
   "cell_type": "code",
   "execution_count": 2,
   "id": "cc2b6579",
   "metadata": {
    "vscode": {
     "languageId": "shellscript"
    }
   },
   "outputs": [
    {
     "name": "stdout",
     "output_type": "stream",
     "text": [
      "Initialized empty Git repository in /Users/joelkim/Work/personal/book_git/lab/test_diff_01/.git/\n"
     ]
    }
   ],
   "source": [
    "# | output: false\n",
    "cd $HOME/lab\n",
    "rm -rf test_diff_01\n",
    "git init test_diff_01\n",
    "cd test_diff_01"
   ]
  },
  {
   "cell_type": "markdown",
   "id": "a6d4023c",
   "metadata": {},
   "source": [
    ":::{.cell}\n",
    "::::{.cell-output .cell-output-stdout}\n",
    "Initialized empty Git repository in ~/lab/test_diff_01/.git/\n",
    "::::\n",
    ":::"
   ]
  },
  {
   "cell_type": "code",
   "execution_count": 3,
   "id": "ffd71101",
   "metadata": {
    "vscode": {
     "languageId": "shellscript"
    }
   },
   "outputs": [],
   "source": [
    "echo \"file1 line1\" >> file.txt"
   ]
  },
  {
   "cell_type": "code",
   "execution_count": 4,
   "id": "07db0296",
   "metadata": {
    "vscode": {
     "languageId": "shellscript"
    }
   },
   "outputs": [
    {
     "name": "stdout",
     "output_type": "stream",
     "text": [
      "On branch main\n",
      "\n",
      "No commits yet\n",
      "\n",
      "Untracked files:\n",
      "  (use \"git add <file>...\" to include in what will be committed)\n",
      "\tfile.txt\n",
      "\n",
      "nothing added to commit but untracked files present (use \"git add\" to track)\n"
     ]
    }
   ],
   "source": [
    "git status"
   ]
  },
  {
   "cell_type": "code",
   "execution_count": 5,
   "id": "dff609c2",
   "metadata": {
    "vscode": {
     "languageId": "shellscript"
    }
   },
   "outputs": [],
   "source": [
    "git diff"
   ]
  },
  {
   "cell_type": "code",
   "execution_count": 6,
   "id": "9eae7597",
   "metadata": {
    "vscode": {
     "languageId": "shellscript"
    }
   },
   "outputs": [],
   "source": [
    "git add file.txt"
   ]
  },
  {
   "cell_type": "code",
   "execution_count": 7,
   "id": "2473e136",
   "metadata": {
    "vscode": {
     "languageId": "shellscript"
    }
   },
   "outputs": [
    {
     "name": "stdout",
     "output_type": "stream",
     "text": [
      "On branch main\n",
      "\n",
      "No commits yet\n",
      "\n",
      "Changes to be committed:\n",
      "  (use \"git rm --cached <file>...\" to unstage)\n",
      "\tnew file:   file.txt\n",
      "\n"
     ]
    }
   ],
   "source": [
    "git status"
   ]
  },
  {
   "cell_type": "code",
   "execution_count": 8,
   "id": "1d603e55",
   "metadata": {
    "vscode": {
     "languageId": "shellscript"
    }
   },
   "outputs": [],
   "source": [
    "git diff"
   ]
  },
  {
   "cell_type": "code",
   "execution_count": 9,
   "id": "cdd5b5a9",
   "metadata": {
    "vscode": {
     "languageId": "shellscript"
    }
   },
   "outputs": [
    {
     "name": "stdout",
     "output_type": "stream",
     "text": [
      "diff --git a/file.txt b/file.txt\n",
      "new file mode 100644\n",
      "index 0000000..0b11cfc\n",
      "--- /dev/null\n",
      "+++ b/file.txt\n",
      "@@ -0,0 +1 @@\n",
      "+file1 line1\n"
     ]
    }
   ],
   "source": [
    "git diff --cached"
   ]
  },
  {
   "cell_type": "code",
   "execution_count": 10,
   "id": "d648c7c6",
   "metadata": {
    "vscode": {
     "languageId": "shellscript"
    }
   },
   "outputs": [
    {
     "name": "stdout",
     "output_type": "stream",
     "text": [
      "[main (root-commit) 0b2efa3] c1\n",
      " 1 file changed, 1 insertion(+)\n",
      " create mode 100644 file.txt\n"
     ]
    }
   ],
   "source": [
    "git commit -m c1"
   ]
  },
  {
   "cell_type": "code",
   "execution_count": 11,
   "id": "8a858db7",
   "metadata": {
    "vscode": {
     "languageId": "shellscript"
    }
   },
   "outputs": [
    {
     "name": "stdout",
     "output_type": "stream",
     "text": [
      "On branch main\n",
      "nothing to commit, working tree clean\n"
     ]
    }
   ],
   "source": [
    "git status"
   ]
  },
  {
   "cell_type": "code",
   "execution_count": 12,
   "id": "40d10ba5",
   "metadata": {
    "vscode": {
     "languageId": "shellscript"
    }
   },
   "outputs": [],
   "source": [
    "git diff"
   ]
  },
  {
   "cell_type": "code",
   "execution_count": 13,
   "id": "3b5259ab",
   "metadata": {
    "vscode": {
     "languageId": "shellscript"
    }
   },
   "outputs": [],
   "source": [
    "git diff --cached"
   ]
  },
  {
   "cell_type": "code",
   "execution_count": 14,
   "id": "3c3881c9",
   "metadata": {
    "vscode": {
     "languageId": "shellscript"
    }
   },
   "outputs": [],
   "source": [
    "echo \"file1 line2\" >> file.txt"
   ]
  },
  {
   "cell_type": "code",
   "execution_count": 15,
   "id": "39b35610",
   "metadata": {
    "vscode": {
     "languageId": "shellscript"
    }
   },
   "outputs": [
    {
     "name": "stdout",
     "output_type": "stream",
     "text": [
      "On branch main\n",
      "Changes not staged for commit:\n",
      "  (use \"git add <file>...\" to update what will be committed)\n",
      "  (use \"git restore <file>...\" to discard changes in working directory)\n",
      "\tmodified:   file.txt\n",
      "\n",
      "no changes added to commit (use \"git add\" and/or \"git commit -a\")\n"
     ]
    }
   ],
   "source": [
    "git status"
   ]
  },
  {
   "cell_type": "code",
   "execution_count": 16,
   "id": "243fd07d",
   "metadata": {
    "vscode": {
     "languageId": "shellscript"
    }
   },
   "outputs": [
    {
     "name": "stdout",
     "output_type": "stream",
     "text": [
      "diff --git a/file.txt b/file.txt\n",
      "index 0b11cfc..d037497 100644\n",
      "--- a/file.txt\n",
      "+++ b/file.txt\n",
      "@@ -1 +1,2 @@\n",
      " file1 line1\n",
      "+file1 line2\n"
     ]
    }
   ],
   "source": [
    "git diff"
   ]
  },
  {
   "cell_type": "code",
   "execution_count": 17,
   "id": "b13c545b",
   "metadata": {
    "vscode": {
     "languageId": "shellscript"
    }
   },
   "outputs": [],
   "source": [
    "git diff --cached"
   ]
  },
  {
   "cell_type": "code",
   "execution_count": 18,
   "id": "aeac0a10",
   "metadata": {
    "vscode": {
     "languageId": "shellscript"
    }
   },
   "outputs": [
    {
     "name": "stdout",
     "output_type": "stream",
     "text": [
      "diff --git a/file.txt b/file.txt\n",
      "index 0b11cfc..d037497 100644\n",
      "--- a/file.txt\n",
      "+++ b/file.txt\n",
      "@@ -1 +1,2 @@\n",
      " file1 line1\n",
      "+file1 line2\n"
     ]
    }
   ],
   "source": [
    "git diff HEAD"
   ]
  },
  {
   "cell_type": "code",
   "execution_count": 19,
   "id": "11d4c06a",
   "metadata": {
    "vscode": {
     "languageId": "shellscript"
    }
   },
   "outputs": [],
   "source": [
    "git add file.txt"
   ]
  },
  {
   "cell_type": "code",
   "execution_count": 20,
   "id": "d63f5b8a",
   "metadata": {
    "vscode": {
     "languageId": "shellscript"
    }
   },
   "outputs": [
    {
     "name": "stdout",
     "output_type": "stream",
     "text": [
      "On branch main\n",
      "Changes to be committed:\n",
      "  (use \"git restore --staged <file>...\" to unstage)\n",
      "\tmodified:   file.txt\n",
      "\n"
     ]
    }
   ],
   "source": [
    "git status"
   ]
  },
  {
   "cell_type": "code",
   "execution_count": 21,
   "id": "cc5fbb4a",
   "metadata": {
    "vscode": {
     "languageId": "shellscript"
    }
   },
   "outputs": [],
   "source": [
    "git diff"
   ]
  },
  {
   "cell_type": "code",
   "execution_count": 22,
   "id": "de9c47ce",
   "metadata": {
    "vscode": {
     "languageId": "shellscript"
    }
   },
   "outputs": [
    {
     "name": "stdout",
     "output_type": "stream",
     "text": [
      "diff --git a/file.txt b/file.txt\n",
      "index 0b11cfc..d037497 100644\n",
      "--- a/file.txt\n",
      "+++ b/file.txt\n",
      "@@ -1 +1,2 @@\n",
      " file1 line1\n",
      "+file1 line2\n"
     ]
    }
   ],
   "source": [
    "git diff --cached"
   ]
  },
  {
   "cell_type": "code",
   "execution_count": 23,
   "id": "9d4a2f7c",
   "metadata": {
    "vscode": {
     "languageId": "shellscript"
    }
   },
   "outputs": [
    {
     "name": "stdout",
     "output_type": "stream",
     "text": [
      "diff --git a/file.txt b/file.txt\n",
      "index 0b11cfc..d037497 100644\n",
      "--- a/file.txt\n",
      "+++ b/file.txt\n",
      "@@ -1 +1,2 @@\n",
      " file1 line1\n",
      "+file1 line2\n"
     ]
    }
   ],
   "source": [
    "git diff HEAD"
   ]
  },
  {
   "cell_type": "code",
   "execution_count": 24,
   "id": "04985b2a",
   "metadata": {
    "vscode": {
     "languageId": "shellscript"
    }
   },
   "outputs": [
    {
     "name": "stdout",
     "output_type": "stream",
     "text": [
      "[main 0135f95] c2\n",
      " 1 file changed, 1 insertion(+)\n"
     ]
    }
   ],
   "source": [
    "git commit -m c2"
   ]
  },
  {
   "cell_type": "code",
   "execution_count": 25,
   "id": "9723afb0",
   "metadata": {
    "vscode": {
     "languageId": "shellscript"
    }
   },
   "outputs": [],
   "source": [
    "git diff"
   ]
  },
  {
   "cell_type": "code",
   "execution_count": 26,
   "id": "8ce18ee9",
   "metadata": {
    "vscode": {
     "languageId": "shellscript"
    }
   },
   "outputs": [],
   "source": [
    "git diff --cached"
   ]
  },
  {
   "cell_type": "code",
   "execution_count": 27,
   "id": "b7670c68",
   "metadata": {
    "vscode": {
     "languageId": "shellscript"
    }
   },
   "outputs": [],
   "source": [
    "git diff HEAD"
   ]
  },
  {
   "cell_type": "code",
   "execution_count": 28,
   "id": "0c368721",
   "metadata": {
    "vscode": {
     "languageId": "shellscript"
    }
   },
   "outputs": [],
   "source": [
    "rm -f file.txt"
   ]
  },
  {
   "cell_type": "code",
   "execution_count": 29,
   "id": "5480012a",
   "metadata": {
    "vscode": {
     "languageId": "shellscript"
    }
   },
   "outputs": [
    {
     "name": "stdout",
     "output_type": "stream",
     "text": [
      "On branch main\n",
      "Changes not staged for commit:\n",
      "  (use \"git add/rm <file>...\" to update what will be committed)\n",
      "  (use \"git restore <file>...\" to discard changes in working directory)\n",
      "\tdeleted:    file.txt\n",
      "\n",
      "no changes added to commit (use \"git add\" and/or \"git commit -a\")\n"
     ]
    }
   ],
   "source": [
    "git status"
   ]
  },
  {
   "cell_type": "code",
   "execution_count": 30,
   "id": "4e72d3df",
   "metadata": {
    "vscode": {
     "languageId": "shellscript"
    }
   },
   "outputs": [
    {
     "name": "stdout",
     "output_type": "stream",
     "text": [
      "diff --git a/file.txt b/file.txt\n",
      "deleted file mode 100644\n",
      "index d037497..0000000\n",
      "--- a/file.txt\n",
      "+++ /dev/null\n",
      "@@ -1,2 +0,0 @@\n",
      "-file1 line1\n",
      "-file1 line2\n"
     ]
    }
   ],
   "source": [
    "git diff"
   ]
  },
  {
   "cell_type": "code",
   "execution_count": 31,
   "id": "a2730cce",
   "metadata": {
    "vscode": {
     "languageId": "shellscript"
    }
   },
   "outputs": [],
   "source": [
    "git diff --cached"
   ]
  },
  {
   "cell_type": "code",
   "execution_count": 32,
   "id": "b9fe31a4",
   "metadata": {
    "vscode": {
     "languageId": "shellscript"
    }
   },
   "outputs": [
    {
     "name": "stdout",
     "output_type": "stream",
     "text": [
      "diff --git a/file.txt b/file.txt\n",
      "deleted file mode 100644\n",
      "index d037497..0000000\n",
      "--- a/file.txt\n",
      "+++ /dev/null\n",
      "@@ -1,2 +0,0 @@\n",
      "-file1 line1\n",
      "-file1 line2\n"
     ]
    }
   ],
   "source": [
    "git diff HEAD"
   ]
  },
  {
   "cell_type": "code",
   "execution_count": 33,
   "id": "95fb2205",
   "metadata": {
    "vscode": {
     "languageId": "shellscript"
    }
   },
   "outputs": [],
   "source": [
    "git add ."
   ]
  },
  {
   "cell_type": "code",
   "execution_count": 34,
   "id": "c6eb4dc2",
   "metadata": {
    "vscode": {
     "languageId": "shellscript"
    }
   },
   "outputs": [],
   "source": [
    "git diff"
   ]
  },
  {
   "cell_type": "code",
   "execution_count": 35,
   "id": "38b489b5",
   "metadata": {
    "vscode": {
     "languageId": "shellscript"
    }
   },
   "outputs": [
    {
     "name": "stdout",
     "output_type": "stream",
     "text": [
      "diff --git a/file.txt b/file.txt\n",
      "deleted file mode 100644\n",
      "index d037497..0000000\n",
      "--- a/file.txt\n",
      "+++ /dev/null\n",
      "@@ -1,2 +0,0 @@\n",
      "-file1 line1\n",
      "-file1 line2\n"
     ]
    }
   ],
   "source": [
    "git diff --cached"
   ]
  },
  {
   "cell_type": "code",
   "execution_count": 36,
   "id": "6eccd17a",
   "metadata": {
    "vscode": {
     "languageId": "shellscript"
    }
   },
   "outputs": [
    {
     "name": "stdout",
     "output_type": "stream",
     "text": [
      "diff --git a/file.txt b/file.txt\n",
      "deleted file mode 100644\n",
      "index d037497..0000000\n",
      "--- a/file.txt\n",
      "+++ /dev/null\n",
      "@@ -1,2 +0,0 @@\n",
      "-file1 line1\n",
      "-file1 line2\n"
     ]
    }
   ],
   "source": [
    "git diff HEAD"
   ]
  },
  {
   "cell_type": "code",
   "execution_count": 37,
   "id": "7ac41637",
   "metadata": {
    "vscode": {
     "languageId": "shellscript"
    }
   },
   "outputs": [
    {
     "name": "stdout",
     "output_type": "stream",
     "text": [
      "[main 29ee36f] c3\n",
      " 1 file changed, 2 deletions(-)\n",
      " delete mode 100644 file.txt\n"
     ]
    }
   ],
   "source": [
    "git commit -m c3"
   ]
  },
  {
   "cell_type": "code",
   "execution_count": 38,
   "id": "77454c0f",
   "metadata": {
    "vscode": {
     "languageId": "shellscript"
    }
   },
   "outputs": [],
   "source": [
    "git diff"
   ]
  },
  {
   "cell_type": "code",
   "execution_count": 39,
   "id": "0f5d6c04",
   "metadata": {
    "vscode": {
     "languageId": "shellscript"
    }
   },
   "outputs": [],
   "source": [
    "git diff --cached"
   ]
  },
  {
   "cell_type": "code",
   "execution_count": 40,
   "id": "28121516",
   "metadata": {
    "vscode": {
     "languageId": "shellscript"
    }
   },
   "outputs": [],
   "source": [
    "git diff HEAD"
   ]
  },
  {
   "cell_type": "markdown",
   "id": "0916e82d",
   "metadata": {},
   "source": [
    "## 복사 탐지"
   ]
  },
  {
   "cell_type": "markdown",
   "id": "f2bc9a71",
   "metadata": {},
   "source": []
  }
 ],
 "metadata": {
  "kernelspec": {
   "display_name": "Bash",
   "language": "bash",
   "name": "bash"
  },
  "language_info": {
   "codemirror_mode": "shell",
   "file_extension": ".sh",
   "mimetype": "text/x-sh",
   "name": "bash"
  }
 },
 "nbformat": 4,
 "nbformat_minor": 5
}
