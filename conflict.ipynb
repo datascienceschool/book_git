{
 "cells": [
  {
   "cell_type": "markdown",
   "id": "ebfc9f9e",
   "metadata": {},
   "source": [
    "# 충돌"
   ]
  },
  {
   "cell_type": "markdown",
   "id": "39c852fd",
   "metadata": {},
   "source": [
    "::: {.hidden}\n",
    "\n",
    "## 참고 문헌\n",
    "\n",
    "- Building Git, Ch. 17 Basic Merging\n",
    "  - chrome-extension://oemmndcbldboiebfnladdacbdfmadadm/file:///Users/joelkim/Work/study/study_cs/book/DevOps/Coglan/2021%20-%20Coglan%20-%20Buliding%20Git.pdf\n",
    "  \n",
    ":::"
   ]
  }
 ],
 "metadata": {
  "language_info": {
   "name": "python"
  }
 },
 "nbformat": 4,
 "nbformat_minor": 5
}
