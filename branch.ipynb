{
 "cells": [
  {
   "cell_type": "markdown",
   "id": "b1e45dbb",
   "metadata": {},
   "source": [
    "# 브랜치"
   ]
  },
  {
   "cell_type": "markdown",
   "id": "41aa7f4e",
   "metadata": {},
   "source": [
    "::: {.hidden}\n",
    "\n",
    "## 참고 문헌\n",
    "\n",
    "- Building Git, Ch. 13 Branching Out\n",
    "  - chrome-extension://oemmndcbldboiebfnladdacbdfmadadm/file:///Users/joelkim/Work/study/study_cs/book/DevOps/Coglan/2021%20-%20Coglan%20-%20Buliding%20Git.pdf#%5B%7B%22num%22%3A1460%2C%22gen%22%3A0%7D%2C%7B%22name%22%3A%22XYZ%22%7D%2C72%2C769.889%2Cnull%5D\n",
    "  \n",
    ":::"
   ]
  },
  {
   "cell_type": "markdown",
   "id": "0656d7e2",
   "metadata": {},
   "source": [
    "## 브랜치"
   ]
  },
  {
   "cell_type": "markdown",
   "id": "d85e9f6b",
   "metadata": {},
   "source": [
    "- git에서는 하나의 부모 커밋 아래에 복수의 자식 커밋을 만들 수 있다. (분기=브랜치)\n",
    "- 반대의 경우도 존재한다. 하나의 자식 커밋의 두 개의 부모 커밋을 가질 수 있다. (병합=머지)\n",
    "- 커밋의 연결관계가 선형이 아닌 그래프(graph) 구조가 된다.\n"
   ]
  },
  {
   "cell_type": "markdown",
   "id": "8e2d15f9",
   "metadata": {},
   "source": [
    "```{mermaid}\n",
    "gitGraph\n",
    "  commit\n",
    "  commit\n",
    "  branch b1\n",
    "  commit\n",
    "  checkout main\n",
    "  commit\n",
    "  merge b1\n",
    "  checkout b1\n",
    "  branch b2\n",
    "  commit\n",
    "  checkout b1\n",
    "  commit\n",
    "  checkout main\n",
    "  commit\n",
    "```"
   ]
  },
  {
   "cell_type": "markdown",
   "id": "fa5defec",
   "metadata": {},
   "source": [
    "- 브랜치(branch)는 커밋 그래프의 가장 \"말단 커밋\"(leaf commit)으로부터 과거로 올라가면서 이어지는 하위 그래프(subgraph)를 말한다.\n",
    "- \"말단 커밋\"의 수만큼 브랜치가 존재한다.\n"
   ]
  },
  {
   "cell_type": "markdown",
   "id": "60af9b8e",
   "metadata": {},
   "source": [
    "## 브랜치 정보의 저장"
   ]
  },
  {
   "cell_type": "markdown",
   "id": "03c2d246",
   "metadata": {},
   "source": [
    "- 브랜치를 생성하면\n",
    "  - 해당 브랜치 정보는 `.git/refs/heads/` 디렉토리 아래에 브랜치 이름과 같은 이름의 파일로 저장된다.\n",
    "- 하나의 브랜치 정보는 하나의 브랜치 정보 파일로 저장된다.\n",
    "- 브랜치 정보 파일의 내용은 해당 브랜치의 마지막(최신) 커밋을 가리키는 해시값이다.\n"
   ]
  },
  {
   "cell_type": "markdown",
   "id": "7fdabc69",
   "metadata": {},
   "source": [
    "## 디폴트 브랜치"
   ]
  },
  {
   "cell_type": "markdown",
   "id": "ddeffaac",
   "metadata": {},
   "source": [
    "- 레포지토리 생성 직후에는 브랜치가 존재하지 않는다.\n",
    "- 최초로 하나의 커밋을 만들면 미리 정해진 이름으로 최초 커밋을 가리키는 브랜치가 생성된다. 이를 디폴트 브랜치라고 한다.\n",
    "- git 자체의 디폴트 브랜치 이름은 `master` 이다.\n",
    "- 여기에서는 디폴트 브랜치 이름으로 `main`을 사용한다.\n"
   ]
  },
  {
   "cell_type": "markdown",
   "id": "cb70b26f",
   "metadata": {},
   "source": [
    "### 디폴트 브랜치 이름 변경"
   ]
  },
  {
   "cell_type": "markdown",
   "id": "463bed2e",
   "metadata": {},
   "source": [
    "- 레포지토리 생성전에  `init.defaultBranch` 설정으로 디폴트 브랜치 이름을 미리 변경할 수 있다.\n",
    "\n",
    "   ```bash\n",
    "   git config init.defaultBranch \"<디폴트 브랜치 이름>\"\n",
    "   ```\n"
   ]
  },
  {
   "cell_type": "markdown",
   "id": "1145e63d",
   "metadata": {},
   "source": [
    "- 레포지토리 생성시에 `--initial-branch` 인수로 디폴트 브랜치 이름을 지정 가능 \n",
    "\n",
    "   ```bash\n",
    "   git init --initial-branch=\"<최초 브랜치 이름>\"\n",
    "   ```\n",
    "  - 일단 레포지토리가 생성되면 최초 커밋이 생성될 때 같이 생성되는 최초 브랜치 이름은 변경할 수 없다.\n",
    "  - 일단 브랜치 생성 후에 이름을 바꾸는 것은 가능"
   ]
  },
  {
   "cell_type": "markdown",
   "id": "14dd549e",
   "metadata": {},
   "source": [
    "```bash\n",
    "# 레포지토리 생성\n",
    "$ git init test_branch_01 \n",
    "Initialized empty Git repository in /Users/joelkim/Work/personal/book_git/temp/test_branch_01/.git/\n",
    "$ cd test_branch_01 \n",
    "$ ll .git/refs/heads \n",
    "total 0\n",
    "\n",
    "# 최초 커밋\n",
    "$ touch file.txt\n",
    "$ git add .\n",
    "$ git commit -m c1\n",
    "[main (root-commit) c441fbf] c1\n",
    " 1 file changed, 0 insertions(+), 0 deletions(-)\n",
    " create mode 100644 file.txt\n",
    "\n",
    "# 브랜치 정보 생성 확인\n",
    "$ ls -al .git/refs/heads\n",
    "total 8\n",
    "drwxr-xr-x@ 3 joelkim  staff   96 Jul 31 12:55 .\n",
    "drwxr-xr-x@ 4 joelkim  staff  128 Jul 31 12:54 ..\n",
    "-rw-r--r--@ 1 joelkim  staff   41 Jul 31 12:55 main\n",
    "$ cat .git/refs/heads/main \n",
    "c441fbf6fd1b6c67ee381f95ebb6fe8e8c7691fa\n",
    "```"
   ]
  },
  {
   "cell_type": "markdown",
   "id": "898e3241",
   "metadata": {},
   "source": [
    "## 브랜치 명령"
   ]
  },
  {
   "cell_type": "markdown",
   "id": "9ab045a7",
   "metadata": {},
   "source": [
    "| 목적 | 명령 | 설명 |\n",
    "|---|-----|---|\n",
    "| 브랜치 목록 조회 | `git branch` | 현재 브랜치 앞에 `*` 표시 |\n",
    "| 신규 브랜치 생성 | `git branch <생성할 브랜치 이름>` | - |\n",
    "| 브랜치 이동 | `git switch <이동할 브랜치 이름>` | 버전 2.23 이후 |\n",
    "| 브랜치 이동 | `git checkout <이동할 브랜치 이름>` | 버전 2.23 전 |\n",
    "| 신규 브랜치 생성하며 이동 | `git switch -c <생성하고 이동할 브랜치 이름>` |  버전 2.23 이후 |\n",
    "| 신규 브랜치 생성하며 이동 | `git checkout -b <생성하고 이동할 브랜치 이름>` |  버전 2.23 전 |\n",
    "| 기존 브랜치 이름 변경 | `git branch -m <기존 브랜치 이름> <변경 후 브랜치 이름>` | 변경 후 브랜치 이름과 같은 브랜치가 존재하면 실패 |\n",
    "| 기존 브랜치 이름 강제 변경 | `git branch -M <기존 브랜치 이름> <변경 후 브랜치 이름>` | 변경 후 브랜치 이름과 같은 브랜치가 존재해도 덮어씀 |\n",
    "| 브랜치 삭제 | `git branch -d <기존 브랜치 이름>` | 현재 브랜치가 아니고 삭제되지 않는 브랜치에 병햡되어 있어야 삭제 가능 |\n",
    "| 브랜치 강제 삭제 | `git branch -D <기존 브랜치 이름>` | 무조건 삭제 |\n"
   ]
  },
  {
   "cell_type": "markdown",
   "id": "3549208b",
   "metadata": {},
   "source": [
    "## 브랜치 생성"
   ]
  },
  {
   "cell_type": "markdown",
   "id": "84fb53a7",
   "metadata": {},
   "source": [
    "- 디폴트 브랜치는 레포지토리의 첫 커밋을 생성하는 순간 자동 생성된다.\n",
    "- 이후의 브랜치는 `git switch -c <브랜치이름>` 명령으로 생성한다."
   ]
  },
  {
   "cell_type": "markdown",
   "id": "d1346343",
   "metadata": {},
   "source": [
    "```bash\n",
    "\n",
    "# 브랜치 목록 조회\n",
    "$ git branch\n",
    "* main\n",
    "\n",
    "# 브랜치 생성\n",
    "$ git branch b1\n",
    "$ git branch\n",
    "  b1\n",
    "* main\n",
    "$ ls -al .git/refs/heads \n",
    "total 16\n",
    "drwxr-xr-x@ 4 joelkim  staff  128 Jul 31 13:07 .\n",
    "drwxr-xr-x@ 4 joelkim  staff  128 Jul 31 12:54 ..\n",
    "-rw-r--r--@ 1 joelkim  staff   41 Jul 31 13:07 b1\n",
    "-rw-r--r--@ 1 joelkim  staff   41 Jul 31 12:55 main\n",
    "\n",
    "# 브랜치 이동\n",
    "$ git switch b1\n",
    "Switched to branch 'b1'\n",
    "$ git branch\n",
    "* b1\n",
    "  main\n",
    "\n",
    "# 브랜치 생성 및 이동\n",
    "$ git switch -c b2\n",
    "Switched to a new branch 'b2'\n",
    "$ git branch\n",
    "  b1\n",
    "* b2\n",
    "  main\n",
    "\n",
    "# 참조  정보 확인  \n",
    "$ ls -al .git/refs/heads \n",
    "total 24\n",
    "drwxr-xr-x@ 5 joelkim  staff  160 Aug  2 12:00 .\n",
    "drwxr-xr-x@ 4 joelkim  staff  128 Jul 31 12:54 ..\n",
    "-rw-r--r--@ 1 joelkim  staff   41 Jul 31 13:07 b1\n",
    "-rw-r--r--@ 1 joelkim  staff   41 Aug  2 12:00 b2\n",
    "-rw-r--r--@ 1 joelkim  staff   41 Jul 31 12:55 main\n",
    "\n",
    "# 이름 변경\n",
    "$ git branch -m b3\n",
    "$ git branch \n",
    "  b1\n",
    "* b3\n",
    "  main\n",
    "\n",
    "# 참조 정보 확인\n",
    "(base) ➜  test_branch_01 git:(b3) ls -al .git/refs/heads\n",
    "total 24\n",
    "drwxr-xr-x@ 5 joelkim  staff  160 Aug  2 12:00 .\n",
    "drwxr-xr-x@ 4 joelkim  staff  128 Jul 31 12:54 ..\n",
    "-rw-r--r--@ 1 joelkim  staff   41 Jul 31 13:07 b1\n",
    "-rw-r--r--@ 1 joelkim  staff   41 Aug  2 12:00 b3\n",
    "-rw-r--r--@ 1 joelkim  staff   41 Jul 31 12:55 main\n",
    "```"
   ]
  },
  {
   "cell_type": "markdown",
   "id": "ccbbc6a4",
   "metadata": {},
   "source": []
  }
 ],
 "metadata": {
  "language_info": {
   "name": "python"
  }
 },
 "nbformat": 4,
 "nbformat_minor": 5
}
