{
 "cells": [
  {
   "cell_type": "markdown",
   "id": "b1e45dbb",
   "metadata": {},
   "source": [
    "# 브랜치"
   ]
  },
  {
   "cell_type": "markdown",
   "id": "fa5defec",
   "metadata": {},
   "source": [
    "- 브랜치(branch)는 두 가지 의미를 가진다.\n",
    "  1. 특정 커밋에 대한 참조\n",
    "     - 특정한 커밋을 가리키는 이름\n",
    "  1. 커밋들의 집합\n",
    "     - 해당 커밋부터 과거로 이어진 모든 커밋의 하위 그래프(subgraph)  \n"
   ]
  },
  {
   "cell_type": "markdown",
   "id": "60af9b8e",
   "metadata": {},
   "source": [
    "## 브랜치 정보의 저장"
   ]
  },
  {
   "cell_type": "markdown",
   "id": "03c2d246",
   "metadata": {},
   "source": [
    "- 브랜치 정보는 `.git/refs/heads/` 디렉토리 아래에 브랜치 이름과 같은 이름의 파일로 저장된다.\n",
    "- 하나의 브랜치 정보는 하나의 파일로 저장된다.\n"
   ]
  },
  {
   "cell_type": "markdown",
   "id": "7fdabc69",
   "metadata": {},
   "source": [
    "## 디폴트 브랜치 이름"
   ]
  },
  {
   "cell_type": "markdown",
   "id": "ddeffaac",
   "metadata": {},
   "source": [
    "- 레포지토리 생성 직후에는 브랜치가 존재하지 않는다.\n",
    "- 최초로 하나의 커밋을 만들면 미리 정해진 디폴트 브랜치 이름으로 브랜치가 생성되고 디플트 브랜치는 최초 생성된 커밋을 가리킨다.\n",
    "- git 자체의 디폴트 브랜치 이름은 `master` 이다.\n",
    "- 디폴트 브랜치 이름은 `init.defaultBranch` 설정으로 변경할 수 있다.\n",
    "- 여기에서는 디폴트 브랜치 이름으로 `main`을 사용한다.\n"
   ]
  },
  {
   "cell_type": "markdown",
   "id": "14dd549e",
   "metadata": {},
   "source": []
  }
 ],
 "metadata": {
  "language_info": {
   "name": "python"
  }
 },
 "nbformat": 4,
 "nbformat_minor": 5
}
