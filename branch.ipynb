{
 "cells": [
  {
   "cell_type": "code",
   "execution_count": 1,
   "id": "24744f54",
   "metadata": {},
   "outputs": [
    {
     "name": "stdout",
     "output_type": "stream",
     "text": [
      "env: LANG=en_US.UTF-8\n",
      "/Users/joelkim/Work/personal/book_git/temp\n"
     ]
    }
   ],
   "source": [
    "# | echo: false\n",
    "# | output: false\n",
    "%env LANG=en_US.UTF-8\n",
    "%cd /Users/joelkim/Work/personal/book_git/temp/"
   ]
  },
  {
   "cell_type": "markdown",
   "id": "b1e45dbb",
   "metadata": {},
   "source": [
    "# 브랜치"
   ]
  },
  {
   "cell_type": "markdown",
   "id": "41aa7f4e",
   "metadata": {},
   "source": [
    "::: {.hidden}\n",
    "\n",
    "## 참고 문헌\n",
    "\n",
    "- Building Git, Ch. 13 Branching Out\n",
    "  - chrome-extension://oemmndcbldboiebfnladdacbdfmadadm/file:///Users/joelkim/Work/study/study_cs/book/DevOps/Coglan/2021%20-%20Coglan%20-%20Buliding%20Git.pdf#%5B%7B%22num%22%3A1460%2C%22gen%22%3A0%7D%2C%7B%22name%22%3A%22XYZ%22%7D%2C72%2C769.889%2Cnull%5D\n",
    "  \n",
    ":::"
   ]
  },
  {
   "cell_type": "markdown",
   "id": "0656d7e2",
   "metadata": {},
   "source": [
    "## 브랜치"
   ]
  },
  {
   "cell_type": "markdown",
   "id": "d85e9f6b",
   "metadata": {},
   "source": [
    "- git에서는 하나의 부모 커밋 아래에 복수의 자식 커밋을 만들 수 있다. (분기=브랜치)\n",
    "- 반대의 경우도 존재한다. 하나의 자식 커밋의 두 개의 부모 커밋을 가질 수 있다. (병합=머지)\n",
    "- 커밋의 연결관계가 선형이 아닌 그래프(graph) 구조가 된다.\n",
    "- 브랜치(branch)는 커밋 그래프의 가장 \"말단(최신) 커밋\"(leaf commit)으로부터 과거로 올라가면서 이어지는 하위 그래프(subgraph)를 말한다.\n",
    "- \"말단(최신) 커밋\"의 수만큼 브랜치가 존재한다.\n"
   ]
  },
  {
   "cell_type": "markdown",
   "id": "8e2d15f9",
   "metadata": {},
   "source": [
    "```{mermaid}\n",
    "%%{\n",
    "init: {\n",
    "   \"gitGraph\": {\n",
    "      \"rotateCommitLabel\": false\n",
    "   },\n",
    "   \"themeVariables\": {\n",
    "      \"commitLabelColor\": '#000000',\n",
    "      \"commitLabelBackground\": '#ffffff',\n",
    "      \"commitLabelFontSize\": '15px'\n",
    "   }\n",
    "}}%%\n",
    "gitGraph\n",
    "  commit id: \"c1\"\n",
    "  commit id: \"c2\"\n",
    "  branch b1\n",
    "  commit id: \"c3\"\n",
    "  checkout main\n",
    "  commit id: \"c4\"\n",
    "  merge b1\n",
    "  checkout b1\n",
    "  branch b2\n",
    "  commit id: \"b2 브랜치 말단 커밋\"\n",
    "  checkout b1\n",
    "  commit id: \"b1 브랜치 말단 커밋\"\n",
    "  checkout main\n",
    "  commit id: \"main 브랜치 말단 커밋\"\n",
    "```"
   ]
  },
  {
   "cell_type": "markdown",
   "id": "60af9b8e",
   "metadata": {},
   "source": [
    "## 브랜치 정보의 저장"
   ]
  },
  {
   "cell_type": "markdown",
   "id": "03c2d246",
   "metadata": {},
   "source": [
    "- 브랜치를 생성하면 해당 브랜치 정보는 `.git/refs/heads/` 디렉토리 아래에 브랜치 이름과 같은 이름의 텍스트 파일로 저장된다.\n",
    "- 예를 들어 main 브랜치의 정보는 `.git/refs/heads/main` 파일로 저장된다.\n",
    "- 브랜치 정보 파일의 내용은 해당 브랜치의 마지막(최신) 커밋을 가리키는 해시값이다.\n"
   ]
  },
  {
   "cell_type": "markdown",
   "id": "7fdabc69",
   "metadata": {},
   "source": [
    "## 디폴트 브랜치"
   ]
  },
  {
   "cell_type": "markdown",
   "id": "ddeffaac",
   "metadata": {},
   "source": [
    "- 레포지토리 생성 직후에는 브랜치가 존재하지 않는다.\n",
    "- 최초로 하나의 커밋을 만들면 미리 정해진 이름으로 최초 커밋을 가리키는 브랜치가 생성된다. 이를 디폴트 브랜치라고 한다.\n",
    "- git 자체의 디폴트 브랜치 이름은 `master` 이다.\n",
    "- 여기에서는 디폴트 브랜치 이름으로 `main`을 사용한다.\n"
   ]
  },
  {
   "cell_type": "markdown",
   "id": "cb70b26f",
   "metadata": {},
   "source": [
    "### 디폴트 브랜치 이름 변경"
   ]
  },
  {
   "cell_type": "markdown",
   "id": "463bed2e",
   "metadata": {},
   "source": [
    "- 레포지토리 생성전에  `init.defaultBranch` 설정으로 디폴트 브랜치 이름을 미리 변경할 수 있다.\n",
    "\n",
    "   ```bash\n",
    "   git config init.defaultBranch \"<디폴트 브랜치 이름>\"\n",
    "   ```\n"
   ]
  },
  {
   "cell_type": "markdown",
   "id": "1145e63d",
   "metadata": {},
   "source": [
    "- 레포지토리 생성시에 `--initial-branch` 인수로 디폴트 브랜치 이름을 지정 가능 \n",
    "\n",
    "   ```bash\n",
    "   git init --initial-branch=\"<최초 브랜치 이름>\"\n",
    "   ```\n",
    "  - 일단 레포지토리가 생성되면 최초 커밋이 생성될 때 같이 생성되는 최초 브랜치 이름은 변경할 수 없다.\n",
    "  - 일단 브랜치 생성 후에 이름을 바꾸는 것은 가능"
   ]
  },
  {
   "cell_type": "markdown",
   "id": "2f95b9dc",
   "metadata": {},
   "source": [
    "## 실습"
   ]
  },
  {
   "cell_type": "markdown",
   "id": "1b364406",
   "metadata": {},
   "source": [
    "1. 레포지토리 생성"
   ]
  },
  {
   "cell_type": "code",
   "execution_count": 2,
   "id": "cfeacce7",
   "metadata": {},
   "outputs": [
    {
     "name": "stdout",
     "output_type": "stream",
     "text": [
      "Initialized empty Git repository in /Users/joelkim/Work/personal/book_git/temp/test_branch_01/.git/\n"
     ]
    }
   ],
   "source": [
    "# | output: false\n",
    "!rm -rf test_branch_01\n",
    "!mkdir test_branch_01\n",
    "!git init test_branch_01\n",
    "!cd test_branch_01"
   ]
  },
  {
   "cell_type": "markdown",
   "id": "e9e3a045",
   "metadata": {},
   "source": [
    ":::{.cell}\n",
    "::::{.cell-output .cell-output-stdout}\n",
    "Initialized empty Git repository in /test_branch_01/.git/\n",
    "::::\n",
    ":::"
   ]
  },
  {
   "cell_type": "code",
   "execution_count": 3,
   "id": "00e10ac5",
   "metadata": {},
   "outputs": [
    {
     "name": "stdout",
     "output_type": "stream",
     "text": [
      "/Users/joelkim/Work/personal/book_git/temp/test_branch_01\n"
     ]
    }
   ],
   "source": [
    "# | echo: false\n",
    "# | output: false\n",
    "%cd /Users/joelkim/Work/personal/book_git/temp/test_branch_01"
   ]
  },
  {
   "cell_type": "markdown",
   "id": "8755a9a5",
   "metadata": {},
   "source": [
    "2. 최초 커밋"
   ]
  },
  {
   "cell_type": "code",
   "execution_count": 4,
   "id": "1ed70ce4",
   "metadata": {},
   "outputs": [
    {
     "name": "stdout",
     "output_type": "stream",
     "text": [
      "[main (root-commit) d2fcaf7] c1\n",
      " 1 file changed, 1 insertion(+)\n",
      " create mode 100644 file.txt\n"
     ]
    }
   ],
   "source": [
    "!echo \"line 1\" >> file.txt\n",
    "!git add .\n",
    "!git commit -m c1"
   ]
  },
  {
   "cell_type": "markdown",
   "id": "38d37b73",
   "metadata": {},
   "source": [
    "3. 브랜치 정보 확인"
   ]
  },
  {
   "cell_type": "code",
   "execution_count": 5,
   "id": "9b9b06b2",
   "metadata": {},
   "outputs": [
    {
     "name": "stdout",
     "output_type": "stream",
     "text": [
      "/Users/joelkim/Work/personal/book_git/temp/test_branch_01\n",
      "total 8\n",
      "drwxr-xr-x@ 3 joelkim  staff   96 Aug  3 11:57 \u001b[1m\u001b[36m.\u001b[m\u001b[m\n",
      "drwxr-xr-x@ 4 joelkim  staff  128 Aug  3 11:57 \u001b[1m\u001b[36m..\u001b[m\u001b[m\n",
      "-rw-r--r--@ 1 joelkim  staff   41 Aug  3 11:57 main\n"
     ]
    }
   ],
   "source": [
    "!pwd\n",
    "!ls -al .git/refs/heads"
   ]
  },
  {
   "cell_type": "code",
   "execution_count": 6,
   "id": "f66b8ee1",
   "metadata": {},
   "outputs": [
    {
     "name": "stdout",
     "output_type": "stream",
     "text": [
      "d2fcaf76e7fd5681feabde24087654ff5dc36da4\n"
     ]
    }
   ],
   "source": [
    "!cat .git/refs/heads/main"
   ]
  },
  {
   "cell_type": "markdown",
   "id": "898e3241",
   "metadata": {},
   "source": [
    "## 브랜치 명령"
   ]
  },
  {
   "cell_type": "markdown",
   "id": "9ab045a7",
   "metadata": {},
   "source": [
    "| 목적 | 명령 | 설명 |\n",
    "|---|-----|---|\n",
    "| 브랜치 목록 조회 | `git branch` | 현재 브랜치 앞에 `*` 표시 |\n",
    "| 신규 브랜치 생성 | `git branch <생성할 브랜치 이름>` | - |\n",
    "| 브랜치 전환 | `git switch <전환할 브랜치 이름>` | 버전 2.23 이후 |\n",
    "| 브랜치 전환 | `git checkout <전환할 브랜치 이름>` | 버전 2.23 전 |\n",
    "| 신규 브랜치 생성하며 전환 | `git switch -c <생성하고 전환할 브랜치 이름>` |  버전 2.23 이후 |\n",
    "| 신규 브랜치 생성하며 전환 | `git checkout -b <생성하고 전환할 브랜치 이름>` |  버전 2.23 전 |\n",
    "| 기존 브랜치 이름 변경 | `git branch -m <기존 브랜치 이름> <변경 후 브랜치 이름>` | 변경 후 브랜치 이름과 같은 브랜치가 존재하면 실패 |\n",
    "| 기존 브랜치 이름 강제 변경 | `git branch -M <기존 브랜치 이름> <변경 후 브랜치 이름>` | 변경 후 브랜치 이름과 같은 브랜치가 존재해도 덮어씀 |\n",
    "| 브랜치 삭제 | `git branch -d <기존 브랜치 이름>` | 현재 브랜치가 아니고 삭제되지 않는 브랜치에 병햡되어 있어야 삭제 가능 |\n",
    "| 브랜치 강제 삭제 | `git branch -D <기존 브랜치 이름>` | 무조건 삭제 |\n"
   ]
  },
  {
   "cell_type": "markdown",
   "id": "99bf9d1b",
   "metadata": {},
   "source": [
    "## 헤드 정보"
   ]
  },
  {
   "cell_type": "markdown",
   "id": "cd2d4dfd",
   "metadata": {},
   "source": [
    "- 헤드(HEAD) 정보는 사용자가 현재 어떤 브랜치에 있는지를 알려주는 정보다.\n",
    "- `.git/HEAD` 텍스트 파일로 저장되어 관리된다.\n"
   ]
  },
  {
   "cell_type": "markdown",
   "id": "47a07afd",
   "metadata": {},
   "source": [
    "- 만약 현재 브랜치가 main 브랜치이면 `.git/HEAD` 파일의 내용은 다음과 같다. \n",
    "\n",
    "   ```txt\n",
    "   ref: refs/heads/main\n",
    "   ```"
   ]
  },
  {
   "cell_type": "markdown",
   "id": "3549208b",
   "metadata": {},
   "source": [
    "## 실습"
   ]
  },
  {
   "cell_type": "markdown",
   "id": "7bdfe3fb",
   "metadata": {},
   "source": [
    "- 현재 브랜치 목록 출력"
   ]
  },
  {
   "cell_type": "code",
   "execution_count": 7,
   "id": "7dc91551",
   "metadata": {},
   "outputs": [
    {
     "name": "stdout",
     "output_type": "stream",
     "text": [
      "* \u001b[32mmain\u001b[m\n"
     ]
    }
   ],
   "source": [
    "!git branch"
   ]
  },
  {
   "cell_type": "markdown",
   "id": "c588e2ca",
   "metadata": {},
   "source": [
    "- 브랜치 정보 디렉토리 확인"
   ]
  },
  {
   "cell_type": "code",
   "execution_count": 8,
   "id": "08be16af",
   "metadata": {},
   "outputs": [
    {
     "name": "stdout",
     "output_type": "stream",
     "text": [
      "total 8\n",
      "drwxr-xr-x@ 3 joelkim  staff   96 Aug  3 11:57 \u001b[1m\u001b[36m.\u001b[m\u001b[m\n",
      "drwxr-xr-x@ 4 joelkim  staff  128 Aug  3 11:57 \u001b[1m\u001b[36m..\u001b[m\u001b[m\n",
      "-rw-r--r--@ 1 joelkim  staff   41 Aug  3 11:57 main\n"
     ]
    }
   ],
   "source": [
    "!ls -al .git/refs/heads"
   ]
  },
  {
   "cell_type": "markdown",
   "id": "a6fafaac",
   "metadata": {},
   "source": [
    "- 현재 브랜치 정보를 담고 있는 `.git/HEAD` 파일의 내용 확인"
   ]
  },
  {
   "cell_type": "code",
   "execution_count": 9,
   "id": "fd8b19b8",
   "metadata": {},
   "outputs": [
    {
     "name": "stdout",
     "output_type": "stream",
     "text": [
      "ref: refs/heads/main\n"
     ]
    }
   ],
   "source": [
    "!cat .git/HEAD"
   ]
  },
  {
   "cell_type": "markdown",
   "id": "2a48cdd1",
   "metadata": {},
   "source": [
    "- `b1` 브랜치 생성"
   ]
  },
  {
   "cell_type": "code",
   "execution_count": 10,
   "id": "c11152d5",
   "metadata": {},
   "outputs": [],
   "source": [
    "!git branch b1"
   ]
  },
  {
   "cell_type": "markdown",
   "id": "69e3167e",
   "metadata": {},
   "source": [
    "- 현재 브랜치 목록 출력"
   ]
  },
  {
   "cell_type": "code",
   "execution_count": 11,
   "id": "9d72688a",
   "metadata": {},
   "outputs": [
    {
     "name": "stdout",
     "output_type": "stream",
     "text": [
      "  b1\u001b[m\n",
      "* \u001b[32mmain\u001b[m\n"
     ]
    }
   ],
   "source": [
    "!git branch"
   ]
  },
  {
   "cell_type": "markdown",
   "id": "432e4640",
   "metadata": {},
   "source": [
    "- 브랜치 정보 디렉토리 확인"
   ]
  },
  {
   "cell_type": "code",
   "execution_count": 12,
   "id": "17cf3d40",
   "metadata": {},
   "outputs": [
    {
     "name": "stdout",
     "output_type": "stream",
     "text": [
      "total 16\n",
      "drwxr-xr-x@ 4 joelkim  staff  128 Aug  3 11:57 \u001b[1m\u001b[36m.\u001b[m\u001b[m\n",
      "drwxr-xr-x@ 4 joelkim  staff  128 Aug  3 11:57 \u001b[1m\u001b[36m..\u001b[m\u001b[m\n",
      "-rw-r--r--@ 1 joelkim  staff   41 Aug  3 11:57 b1\n",
      "-rw-r--r--@ 1 joelkim  staff   41 Aug  3 11:57 main\n"
     ]
    }
   ],
   "source": [
    "!ls -al .git/refs/heads"
   ]
  },
  {
   "cell_type": "markdown",
   "id": "dcbdfb36",
   "metadata": {},
   "source": [
    "- 현재 브랜치 정보를 담고 있는 브랜치 파일의 내용 확인"
   ]
  },
  {
   "cell_type": "code",
   "execution_count": 13,
   "id": "847cafbf",
   "metadata": {},
   "outputs": [
    {
     "name": "stdout",
     "output_type": "stream",
     "text": [
      "d2fcaf76e7fd5681feabde24087654ff5dc36da4\n"
     ]
    }
   ],
   "source": [
    "!cat .git/refs/heads/main"
   ]
  },
  {
   "cell_type": "markdown",
   "id": "4edee282",
   "metadata": {},
   "source": [
    "- `b1` 브랜치로 전환 "
   ]
  },
  {
   "cell_type": "code",
   "execution_count": 14,
   "id": "c0034c99",
   "metadata": {},
   "outputs": [
    {
     "name": "stdout",
     "output_type": "stream",
     "text": [
      "Switched to branch 'b1'\n"
     ]
    }
   ],
   "source": [
    "!git switch b1"
   ]
  },
  {
   "cell_type": "markdown",
   "id": "dd928fdd",
   "metadata": {},
   "source": [
    "- 현재 브랜치 목록 출력"
   ]
  },
  {
   "cell_type": "code",
   "execution_count": 15,
   "id": "3d211af9",
   "metadata": {},
   "outputs": [
    {
     "name": "stdout",
     "output_type": "stream",
     "text": [
      "* \u001b[32mb1\u001b[m\n",
      "  main\u001b[m\n"
     ]
    }
   ],
   "source": [
    "!git branch"
   ]
  },
  {
   "cell_type": "markdown",
   "id": "2e8c1fb1",
   "metadata": {},
   "source": [
    "- 현재 브랜치 정보를 담고 있는 `.git/HEAD` 파일의 내용 확인"
   ]
  },
  {
   "cell_type": "code",
   "execution_count": 16,
   "id": "55a389fa",
   "metadata": {},
   "outputs": [
    {
     "name": "stdout",
     "output_type": "stream",
     "text": [
      "ref: refs/heads/b1\n"
     ]
    }
   ],
   "source": [
    "!cat .git/HEAD"
   ]
  },
  {
   "cell_type": "markdown",
   "id": "6a3bf30d",
   "metadata": {},
   "source": [
    "- 현재 브랜치 정보를 담고 있는 브랜치 파일의 내용 확인"
   ]
  },
  {
   "cell_type": "code",
   "execution_count": 17,
   "id": "4b1fc2c6",
   "metadata": {},
   "outputs": [
    {
     "name": "stdout",
     "output_type": "stream",
     "text": [
      "d2fcaf76e7fd5681feabde24087654ff5dc36da4\n"
     ]
    }
   ],
   "source": [
    "!cat .git/refs/heads/b1"
   ]
  },
  {
   "cell_type": "markdown",
   "id": "b1caf1ea",
   "metadata": {},
   "source": [
    "- 브랜치 생성하면서 전환"
   ]
  },
  {
   "cell_type": "code",
   "execution_count": 18,
   "id": "a31cf4c0",
   "metadata": {},
   "outputs": [
    {
     "name": "stdout",
     "output_type": "stream",
     "text": [
      "Switched to a new branch 'b2'\n"
     ]
    }
   ],
   "source": [
    "!git switch -c b2"
   ]
  },
  {
   "cell_type": "code",
   "execution_count": 19,
   "id": "0719655e",
   "metadata": {},
   "outputs": [
    {
     "name": "stdout",
     "output_type": "stream",
     "text": [
      "  b1\u001b[m\n",
      "* \u001b[32mb2\u001b[m\n",
      "  main\u001b[m\n"
     ]
    }
   ],
   "source": [
    "!git branch"
   ]
  },
  {
   "cell_type": "markdown",
   "id": "c97f70b7",
   "metadata": {},
   "source": [
    "- 파일 변경"
   ]
  },
  {
   "cell_type": "code",
   "execution_count": 20,
   "id": "aaa5e582",
   "metadata": {},
   "outputs": [
    {
     "name": "stdout",
     "output_type": "stream",
     "text": [
      "[b2 ead30cf] c2\n",
      " 1 file changed, 1 insertion(+)\n"
     ]
    }
   ],
   "source": [
    "!echo \"line 2\" >> file.txt\n",
    "!git add .\n",
    "!git commit -m c2"
   ]
  },
  {
   "cell_type": "markdown",
   "id": "87def7f4",
   "metadata": {},
   "source": [
    "- 다른 브랜치 생성 및 전환"
   ]
  },
  {
   "cell_type": "code",
   "execution_count": 21,
   "id": "b39c8068",
   "metadata": {},
   "outputs": [
    {
     "name": "stdout",
     "output_type": "stream",
     "text": [
      "Switched to a new branch 'b3'\n"
     ]
    }
   ],
   "source": [
    "!git switch -c b3"
   ]
  },
  {
   "cell_type": "code",
   "execution_count": 22,
   "id": "ca65a0a8",
   "metadata": {},
   "outputs": [
    {
     "name": "stdout",
     "output_type": "stream",
     "text": [
      "  b1\u001b[m\n",
      "  b2\u001b[m\n",
      "* \u001b[32mb3\u001b[m\n",
      "  main\u001b[m\n"
     ]
    }
   ],
   "source": [
    "!git branch"
   ]
  },
  {
   "cell_type": "markdown",
   "id": "02836d9d",
   "metadata": {},
   "source": [
    "- 파일 추가"
   ]
  },
  {
   "cell_type": "code",
   "execution_count": 23,
   "id": "7a2a64aa",
   "metadata": {},
   "outputs": [
    {
     "name": "stdout",
     "output_type": "stream",
     "text": [
      "[b3 62a2d0a] c3\n",
      " 1 file changed, 0 insertions(+), 0 deletions(-)\n",
      " create mode 100644 file2.txt\n"
     ]
    }
   ],
   "source": [
    "!touch file2.txt\n",
    "!git add .\n",
    "!git commit -m c3"
   ]
  },
  {
   "cell_type": "markdown",
   "id": "bcae1195",
   "metadata": {},
   "source": [
    "```{mermaid}\n",
    "%%{\n",
    "init: {\n",
    "   \"gitGraph\": {\n",
    "      \"rotateCommitLabel\": false\n",
    "   },\n",
    "   \"themeVariables\": {\n",
    "      \"commitLabelColor\": '#000000',\n",
    "      \"commitLabelBackground\": '#ffffff',\n",
    "      \"commitLabelFontSize\": '15px'\n",
    "   }\n",
    "}}%%\n",
    "gitGraph\n",
    "  commit id: \"c1\"\n",
    "  branch b1\n",
    "  branch b2\n",
    "  commit id: \"c2: file.txt 파일 변경\"\n",
    "  branch b3\n",
    "  commit id: \"c3: file2.txt 파일 추가\"\n",
    "```"
   ]
  },
  {
   "cell_type": "markdown",
   "id": "8a38ca02",
   "metadata": {},
   "source": [
    "## 브랜치 전환시의 파일 동작"
   ]
  },
  {
   "cell_type": "markdown",
   "id": "30ce1265",
   "metadata": {},
   "source": [
    "- 브랜치를 전환하면\n",
    "  - 기존 브랜치에서 tracked되고 있는 파일(레포지토리에 있는 파일)은 삭제된다.\n",
    "  - 기존 브랜치에서 tracked되지 않는 파일(레포지토리에 없는 파일)은 남아있는다."
   ]
  },
  {
   "cell_type": "markdown",
   "id": "16aa0917",
   "metadata": {},
   "source": [
    "## 브랜치 전환시의 충돌"
   ]
  },
  {
   "cell_type": "markdown",
   "id": "08167fec",
   "metadata": {},
   "source": [
    "- 브랜치를 전환하려면 현재 브랜치의 워크트리가 clean한 상황이어야 한다.\n",
    "- 이는 브랜치를 전환하면서 현재 워크트리의 변경사항이 전환할 브랜치 내용으로 덮어씌워지는 것을 방지하기 위함이다.\n",
    "- 다만 브랜치 이름만 다르고 실제로 가리키는 커밋은 같은 경우, 즉 브랜치를 새로 만든 직후로 아직 새로운 커밋을 하기 전에는 워크트리에 변경이 있어도 전환이 가능하다"
   ]
  },
  {
   "cell_type": "markdown",
   "id": "1685646d",
   "metadata": {},
   "source": [
    "### 브랜치 이름만 다르고 가리키는 커밋은 같은 경우"
   ]
  },
  {
   "cell_type": "markdown",
   "id": "76837a5c",
   "metadata": {},
   "source": [
    "- main 브랜치와 b1 브랜치는 브랜치 이름만 다를 뿐 실제로 가리키는 커밋이 같다.\n",
    "- 이 경우에는 브랜치 전환에 아무런 제약이 없다. "
   ]
  },
  {
   "cell_type": "code",
   "execution_count": 24,
   "id": "f6697431",
   "metadata": {},
   "outputs": [
    {
     "name": "stdout",
     "output_type": "stream",
     "text": [
      "d2fcaf76e7fd5681feabde24087654ff5dc36da4\n"
     ]
    }
   ],
   "source": [
    "!cat .git/refs/heads/main"
   ]
  },
  {
   "cell_type": "code",
   "execution_count": 25,
   "id": "d69bfca7",
   "metadata": {},
   "outputs": [
    {
     "name": "stdout",
     "output_type": "stream",
     "text": [
      "d2fcaf76e7fd5681feabde24087654ff5dc36da4\n"
     ]
    }
   ],
   "source": [
    "!cat .git/refs/heads/b1"
   ]
  },
  {
   "cell_type": "markdown",
   "id": "08e69a1c",
   "metadata": {},
   "source": [
    "- 이제 main 브랜치로 전환하여"
   ]
  },
  {
   "cell_type": "code",
   "execution_count": 26,
   "id": "5004c1b8",
   "metadata": {},
   "outputs": [
    {
     "name": "stdout",
     "output_type": "stream",
     "text": [
      "Switched to branch 'main'\n"
     ]
    }
   ],
   "source": [
    "!git switch main"
   ]
  },
  {
   "cell_type": "markdown",
   "id": "7823f8db",
   "metadata": {},
   "source": [
    "- file.txt 파일을 변경한다."
   ]
  },
  {
   "cell_type": "code",
   "execution_count": 27,
   "id": "7831fff0",
   "metadata": {},
   "outputs": [
    {
     "name": "stdout",
     "output_type": "stream",
     "text": [
      "On branch main\n",
      "Changes not staged for commit:\n",
      "  (use \"git add <file>...\" to update what will be committed)\n",
      "  (use \"git restore <file>...\" to discard changes in working directory)\n",
      "\t\u001b[31mmodified:   file.txt\u001b[m\n",
      "\n",
      "no changes added to commit (use \"git add\" and/or \"git commit -a\")\n"
     ]
    }
   ],
   "source": [
    "!echo \"line 2\" >> file.txt\n",
    "!git status"
   ]
  },
  {
   "cell_type": "markdown",
   "id": "444e31b2",
   "metadata": {},
   "source": [
    "- 그래도 b1 브랜치로 전환하는데 아무런 이상이 없다"
   ]
  },
  {
   "cell_type": "code",
   "execution_count": 28,
   "id": "7c83dab3",
   "metadata": {},
   "outputs": [
    {
     "name": "stdout",
     "output_type": "stream",
     "text": [
      "M\tfile.txt\n",
      "Switched to branch 'b1'\n"
     ]
    }
   ],
   "source": [
    "!git switch b1"
   ]
  },
  {
   "cell_type": "markdown",
   "id": "c5a02ce8",
   "metadata": {},
   "source": [
    "- b1 브랜치에서 수정한 경우에도 마찬가지로 main 브랜치로 문제없이 전환된다."
   ]
  },
  {
   "cell_type": "code",
   "execution_count": 29,
   "id": "7f90026f",
   "metadata": {},
   "outputs": [
    {
     "name": "stdout",
     "output_type": "stream",
     "text": [
      "M\tfile.txt\n",
      "Switched to branch 'main'\n"
     ]
    }
   ],
   "source": [
    "!echo \"line 3\" >> file.txt\n",
    "!git switch main"
   ]
  },
  {
   "cell_type": "markdown",
   "id": "b9fe5e42",
   "metadata": {},
   "source": [
    "### 두 브랜치가 같은 파일을 레포지토리에 가지고 있는 경우"
   ]
  },
  {
   "cell_type": "markdown",
   "id": "2d674aab",
   "metadata": {},
   "source": [
    "- 이제는 실질적으로 다른 브랜치인 main 브랜치과 b2 브랜치 간에서 전환해 본다."
   ]
  },
  {
   "cell_type": "markdown",
   "id": "e92eb47a",
   "metadata": {},
   "source": [
    "- 현재 main 브랜치이고 변경사항이 있는 상황이다."
   ]
  },
  {
   "cell_type": "code",
   "execution_count": 30,
   "id": "5c2c3c91",
   "metadata": {},
   "outputs": [
    {
     "name": "stdout",
     "output_type": "stream",
     "text": [
      "  b1\u001b[m\n",
      "  b2\u001b[m\n",
      "  b3\u001b[m\n",
      "* \u001b[32mmain\u001b[m\n"
     ]
    }
   ],
   "source": [
    "!git branch"
   ]
  },
  {
   "cell_type": "code",
   "execution_count": 31,
   "id": "159fd90a",
   "metadata": {},
   "outputs": [
    {
     "name": "stdout",
     "output_type": "stream",
     "text": [
      "On branch main\n",
      "Changes not staged for commit:\n",
      "  (use \"git add <file>...\" to update what will be committed)\n",
      "  (use \"git restore <file>...\" to discard changes in working directory)\n",
      "\t\u001b[31mmodified:   file.txt\u001b[m\n",
      "\n",
      "no changes added to commit (use \"git add\" and/or \"git commit -a\")\n"
     ]
    }
   ],
   "source": [
    "!git status"
   ]
  },
  {
   "cell_type": "markdown",
   "id": "e93f579f",
   "metadata": {},
   "source": [
    "- 이 때는 b2 브랜치로 전환이 불가능하다."
   ]
  },
  {
   "cell_type": "code",
   "execution_count": 32,
   "id": "f035231d",
   "metadata": {},
   "outputs": [
    {
     "name": "stdout",
     "output_type": "stream",
     "text": [
      "error: Your local changes to the following files would be overwritten by checkout:\n",
      "\tfile.txt\n",
      "Please commit your changes or stash them before you switch branches.\n",
      "Aborting\n"
     ]
    }
   ],
   "source": [
    "!git switch b2"
   ]
  },
  {
   "cell_type": "markdown",
   "id": "26a199f8",
   "metadata": {},
   "source": [
    "- file.txt 파일의 내용이 b2 브랜치의 file.txt 파일과 같아도 마찬가지다."
   ]
  },
  {
   "cell_type": "code",
   "execution_count": 33,
   "id": "2047e5ee",
   "metadata": {},
   "outputs": [
    {
     "name": "stdout",
     "output_type": "stream",
     "text": [
      "line 1\n",
      "line 2\n"
     ]
    }
   ],
   "source": [
    "!git restore --source=b2 -- file.txt\n",
    "!cat file.txt"
   ]
  },
  {
   "cell_type": "code",
   "execution_count": 34,
   "id": "1fa60753",
   "metadata": {},
   "outputs": [
    {
     "name": "stdout",
     "output_type": "stream",
     "text": [
      "error: Your local changes to the following files would be overwritten by checkout:\n",
      "\tfile.txt\n",
      "Please commit your changes or stash them before you switch branches.\n",
      "Aborting\n"
     ]
    }
   ],
   "source": [
    "!git switch b2"
   ]
  },
  {
   "cell_type": "markdown",
   "id": "57553fe9",
   "metadata": {},
   "source": [
    "- 반대의 경우도 마찬가지다. b2 브랜치에서 변경이 발생하면 main 브랜치로 전환할 수 없다."
   ]
  },
  {
   "cell_type": "code",
   "execution_count": 35,
   "id": "c42f9362",
   "metadata": {},
   "outputs": [
    {
     "name": "stdout",
     "output_type": "stream",
     "text": [
      "Switched to branch 'b2'\n"
     ]
    }
   ],
   "source": [
    "!git restore .\n",
    "!git switch b2"
   ]
  },
  {
   "cell_type": "markdown",
   "id": "4809ce2a",
   "metadata": {},
   "source": [
    "- 마찬가지로 파일 내용이 같아도 전환이 불가능하다."
   ]
  },
  {
   "cell_type": "code",
   "execution_count": 36,
   "id": "82c935e9",
   "metadata": {},
   "outputs": [
    {
     "name": "stdout",
     "output_type": "stream",
     "text": [
      "line 1\n"
     ]
    }
   ],
   "source": [
    "!git restore --source=main -- file.txt\n",
    "!cat file.txt"
   ]
  },
  {
   "cell_type": "code",
   "execution_count": 37,
   "id": "0e1404f8",
   "metadata": {},
   "outputs": [
    {
     "name": "stdout",
     "output_type": "stream",
     "text": [
      "error: Your local changes to the following files would be overwritten by checkout:\n",
      "\tfile.txt\n",
      "Please commit your changes or stash them before you switch branches.\n",
      "Aborting\n"
     ]
    }
   ],
   "source": [
    "!git switch main"
   ]
  },
  {
   "cell_type": "markdown",
   "id": "e51ef7bd",
   "metadata": {},
   "source": [
    "### 두 브랜치 중 하나의 브랜치만 파일을 레포지토리에 가지고 있는 경우"
   ]
  },
  {
   "cell_type": "markdown",
   "id": "fbced092",
   "metadata": {},
   "source": [
    "- 전환하려는 브랜치에 변경된 파일이 존재하지 않으면 브랜치 전환시 파일이 삭제되며 변경사항이 사라질 수 있기 때문에 앞의 경우와 마찬가지로 전환은 불가능하다."
   ]
  },
  {
   "cell_type": "code",
   "execution_count": 38,
   "id": "ae40d9e7",
   "metadata": {},
   "outputs": [
    {
     "name": "stdout",
     "output_type": "stream",
     "text": [
      "file.txt\n"
     ]
    }
   ],
   "source": [
    "!git ls-tree --name-only main"
   ]
  },
  {
   "cell_type": "code",
   "execution_count": 39,
   "id": "b0f5181a",
   "metadata": {},
   "outputs": [
    {
     "name": "stdout",
     "output_type": "stream",
     "text": [
      "file.txt\n",
      "file2.txt\n"
     ]
    }
   ],
   "source": [
    "!git ls-tree --name-only b3"
   ]
  },
  {
   "cell_type": "code",
   "execution_count": 40,
   "id": "4f3520ea",
   "metadata": {},
   "outputs": [
    {
     "name": "stdout",
     "output_type": "stream",
     "text": [
      "Switched to branch 'main'\n"
     ]
    }
   ],
   "source": [
    "!git restore .\n",
    "!git switch main"
   ]
  },
  {
   "cell_type": "code",
   "execution_count": 41,
   "id": "1659538a",
   "metadata": {},
   "outputs": [],
   "source": [
    "!git restore --source=b3 -- file2.txt"
   ]
  },
  {
   "cell_type": "code",
   "execution_count": 42,
   "id": "abc44f90",
   "metadata": {},
   "outputs": [
    {
     "name": "stdout",
     "output_type": "stream",
     "text": [
      "On branch main\n",
      "Untracked files:\n",
      "  (use \"git add <file>...\" to include in what will be committed)\n",
      "\t\u001b[31mfile2.txt\u001b[m\n",
      "\n",
      "nothing added to commit but untracked files present (use \"git add\" to track)\n"
     ]
    }
   ],
   "source": [
    "!git status"
   ]
  },
  {
   "cell_type": "code",
   "execution_count": 43,
   "id": "fdea0035",
   "metadata": {},
   "outputs": [
    {
     "name": "stdout",
     "output_type": "stream",
     "text": [
      "error: The following untracked working tree files would be overwritten by checkout:\n",
      "\tfile2.txt\n",
      "Please move or remove them before you switch branches.\n",
      "Aborting\n"
     ]
    }
   ],
   "source": [
    "!git switch b3"
   ]
  },
  {
   "cell_type": "code",
   "execution_count": 44,
   "id": "1ee2ffc3",
   "metadata": {},
   "outputs": [
    {
     "name": "stdout",
     "output_type": "stream",
     "text": [
      "Switched to branch 'b3'\n"
     ]
    }
   ],
   "source": [
    "!rm file2.txt\n",
    "!git switch b3"
   ]
  },
  {
   "cell_type": "code",
   "execution_count": 45,
   "id": "0835177a",
   "metadata": {},
   "outputs": [
    {
     "name": "stdout",
     "output_type": "stream",
     "text": [
      "On branch b3\n",
      "Changes not staged for commit:\n",
      "  (use \"git add <file>...\" to update what will be committed)\n",
      "  (use \"git restore <file>...\" to discard changes in working directory)\n",
      "\t\u001b[31mmodified:   file2.txt\u001b[m\n",
      "\n",
      "no changes added to commit (use \"git add\" and/or \"git commit -a\")\n"
     ]
    }
   ],
   "source": [
    "!echo \"line 1\" >> file2.txt\n",
    "!git status"
   ]
  }
 ],
 "metadata": {
  "kernelspec": {
   "display_name": "base",
   "language": "python",
   "name": "python3"
  },
  "language_info": {
   "codemirror_mode": {
    "name": "ipython",
    "version": 3
   },
   "file_extension": ".py",
   "mimetype": "text/x-python",
   "name": "python",
   "nbconvert_exporter": "python",
   "pygments_lexer": "ipython3",
   "version": "3.12.8"
  }
 },
 "nbformat": 4,
 "nbformat_minor": 5
}
