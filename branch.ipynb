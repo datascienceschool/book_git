{
 "cells": [
  {
   "cell_type": "markdown",
   "id": "b1e45dbb",
   "metadata": {},
   "source": [
    "# 브랜치"
   ]
  },
  {
   "cell_type": "markdown",
   "id": "fa5defec",
   "metadata": {},
   "source": []
  }
 ],
 "metadata": {
  "language_info": {
   "name": "python"
  }
 },
 "nbformat": 4,
 "nbformat_minor": 5
}
