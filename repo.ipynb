{
 "cells": [
  {
   "cell_type": "markdown",
   "id": "eeac0868",
   "metadata": {},
   "source": [
    "# 레포지토리 "
   ]
  },
  {
   "cell_type": "markdown",
   "id": "cf0b235c",
   "metadata": {},
   "source": [
    "## 레포지토리 생성"
   ]
  },
  {
   "cell_type": "markdown",
   "id": "39d5484f",
   "metadata": {},
   "source": [
    "- 레포지토리 정보 등은 체크아웃 디렉렉토리 아래의 `.git` 디렉토리에 저장된다."
   ]
  },
  {
   "cell_type": "markdown",
   "id": "04de4f11",
   "metadata": {},
   "source": [
    "## `.git` 디렉토리의 구조"
   ]
  },
  {
   "cell_type": "markdown",
   "id": "ab716877",
   "metadata": {},
   "source": [
    "- 디렉토리\n",
    "  - `objects` 디렉토리: 객체 정보 저장 디렉토리. 커밋 등 영구 정보를 저장\n",
    "  - `refs` 디렉토리: 참조 정보 저장 디렉토리. 브랜치 등 임시 정보를 저장\n",
    "  - `logs` 디렉토리:\n",
    "  - `info` 디렉토리:\n",
    "  - `hooks` 디렉토리: 훅 파일 저장\n",
    "- 파일\n",
    "  - 텍스트 파일\n",
    "    - `config` 파일: 레포지토리 설정 파일 \n",
    "    - `description` 파일: 레포지토리 설명 파일\n",
    "    - `COMMIT_EDITMSG` 파일: 커밋 메세지 작성용 임시 파일\n",
    "  - 바이너리 파일\n",
    "    - `index` 파일: 스테이지 정보 저장\n",
    "    - `HEAD` 파일: 현재 체크아웃 위치 정보\n",
    "  "
   ]
  },
  {
   "cell_type": "markdown",
   "id": "18d874ea",
   "metadata": {},
   "source": [
    "## 레포지토리 설정"
   ]
  },
  {
   "cell_type": "markdown",
   "id": "bc505f1a",
   "metadata": {},
   "source": [
    "## 객체 정보"
   ]
  },
  {
   "cell_type": "markdown",
   "id": "38dc4485",
   "metadata": {},
   "source": [
    "## 참조 정보"
   ]
  },
  {
   "cell_type": "markdown",
   "id": "dc121185",
   "metadata": {},
   "source": [
    "## 로그 정보"
   ]
  },
  {
   "cell_type": "markdown",
   "id": "0ca8782c",
   "metadata": {},
   "source": []
  }
 ],
 "metadata": {
  "language_info": {
   "name": "python"
  }
 },
 "nbformat": 4,
 "nbformat_minor": 5
}
