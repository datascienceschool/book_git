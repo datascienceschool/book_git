{
 "cells": [
  {
   "cell_type": "code",
   "execution_count": 1,
   "id": "24744f54",
   "metadata": {
    "vscode": {
     "languageId": "shellscript"
    }
   },
   "outputs": [],
   "source": [
    "# | echo: false\n",
    "# | output: false\n",
    "export LANG=en_US.UTF-8\n",
    "export HOME=/Users/joelkim/Work/personal/book_git\n",
    "cd $HOME"
   ]
  },
  {
   "cell_type": "markdown",
   "id": "c5cde10e",
   "metadata": {},
   "source": [
    "# 커밋 그래프"
   ]
  },
  {
   "cell_type": "raw",
   "id": "41aa7f4e",
   "metadata": {
    "vscode": {
     "languageId": "raw"
    }
   },
   "source": [
    "::: {.hidden}\n",
    "\n",
    "## 참고 문헌\n",
    "\n",
    "- Building Git, Ch. 13 Branching Out\n",
    "  - chrome-extension://oemmndcbldboiebfnladdacbdfmadadm/file:///Users/joelkim/Work/study/study_cs/book/DevOps/Coglan/2021%20-%20Coglan%20-%20Buliding%20Git.pdf#%5B%7B%22num%22%3A1460%2C%22gen%22%3A0%7D%2C%7B%22name%22%3A%22XYZ%22%7D%2C72%2C769.889%2Cnull%5D\n",
    "\n",
    ":::"
   ]
  },
  {
   "cell_type": "markdown",
   "id": "5c850dc0",
   "metadata": {},
   "source": [
    "- 커밋 객체는 부모 커밋을 가리키므로 커밋을 계속하면 사슬 형태의 커밋 연결관계가 생긴다."
   ]
  },
  {
   "cell_type": "markdown",
   "id": "cb6a5e8e",
   "metadata": {},
   "source": [
    "![그림: 커밋 그래프의 예](figs/fig_graph_01.png)"
   ]
  },
  {
   "cell_type": "markdown",
   "id": "f37f51bd",
   "metadata": {},
   "source": [
    "- 브랜치 기능을 사용하면 하나의 부모 커밋이 여러개의 자식 커밋을 가질 수도 있다."
   ]
  },
  {
   "cell_type": "markdown",
   "id": "1a9a3222",
   "metadata": {},
   "source": [
    "![그림: 브랜치가 있는 커밋 그래프의 예](figs/fig_graph_02.png)"
   ]
  },
  {
   "cell_type": "markdown",
   "id": "aaebcb0b",
   "metadata": {},
   "source": [
    "- 머지 기능을 사용하면 하나의 자식 커밋이 2개의 부모 커밋을 가질 수도 있다."
   ]
  },
  {
   "cell_type": "markdown",
   "id": "84ede038",
   "metadata": {},
   "source": [
    "![그림: 머지가 있는 커밋 그래프의 예](figs/fig_graph_03.png)"
   ]
  },
  {
   "cell_type": "markdown",
   "id": "e07df430",
   "metadata": {},
   "source": [
    "- 따라서 일반적인 경우에 커밋 객체들은 컴퓨터 과학에서 말하는 그래프(graph) 구조를 가진다. "
   ]
  },
  {
   "cell_type": "markdown",
   "id": "6a7b0453",
   "metadata": {},
   "source": [
    "## 말단 커밋과 브랜치"
   ]
  },
  {
   "cell_type": "markdown",
   "id": "3f01548e",
   "metadata": {},
   "source": [
    "- 말단 커밋(leaf commit)\n",
    "  - 자신을 가리키는 자식 커밋이 없는 커밋\n",
    "- 브랜치(branch)\n",
    "  - 말단 커밋에 대한 참조 이름\n",
    "  - 하나의 말단 커밋이 여러개의 브랜치(참조 이름)를 가질 수 있다."
   ]
  },
  {
   "cell_type": "markdown",
   "id": "9944a47e",
   "metadata": {},
   "source": [
    "![그림: 하나의 브랜치를 가지는 커밋 그래프](figs/fig_graph_04.png)"
   ]
  },
  {
   "cell_type": "markdown",
   "id": "4d9ee238",
   "metadata": {},
   "source": [
    "![그림: 하나의 커밋에 두개의 브랜치가 있는 커밋 그래프](figs/fig_graph_05.png)"
   ]
  },
  {
   "cell_type": "markdown",
   "id": "44fb7baf",
   "metadata": {},
   "source": [
    "![그림: 복수의 브랜치를 가지는 커밋 그래프](figs/fig_graph_06.png)"
   ]
  },
  {
   "cell_type": "markdown",
   "id": "bb1f7cc1",
   "metadata": {},
   "source": [
    "## 커밋 기록을 살피기 위한 명령"
   ]
  },
  {
   "cell_type": "markdown",
   "id": "5b3df735",
   "metadata": {},
   "source": [
    "| 명령 | 설명 |\n",
    "|-|-|\n",
    "| `git log` | 과거부터 현재까지의 모든 커밋 기록 보기 |\n",
    "| `git ls-tree` | 특정 커밋의 스냅샷 파일 목록 보기 |\n",
    "| `git cat-file` | 특정 커밋의 파일 내용 보기 |\n",
    "| `git show` | 특정 커밋의 변경 내역 보기 |\n",
    "| `git diff` | 커밋간의 차이 보기 |\n"
   ]
  },
  {
   "cell_type": "markdown",
   "id": "2f95b9dc",
   "metadata": {},
   "source": [
    "#### 실습"
   ]
  },
  {
   "cell_type": "markdown",
   "id": "05951637",
   "metadata": {},
   "source": [
    "1. 레포지토리 생성"
   ]
  },
  {
   "cell_type": "code",
   "execution_count": 2,
   "id": "99e36ff3",
   "metadata": {
    "vscode": {
     "languageId": "shellscript"
    }
   },
   "outputs": [
    {
     "name": "stdout",
     "output_type": "stream",
     "text": [
      "Initialized empty Git repository in /Users/joelkim/Work/personal/book_git/lab/test_graph_01/.git/\n"
     ]
    }
   ],
   "source": [
    "# | output: false\n",
    "cd $HOME/lab\n",
    "rm -rf test_graph_01\n",
    "git init test_graph_01\n",
    "cd test_graph_01"
   ]
  },
  {
   "cell_type": "markdown",
   "id": "f6b9ec67",
   "metadata": {},
   "source": [
    ":::{.cell}\n",
    "::::{.cell-output .cell-output-stdout}\n",
    "Initialized empty Git repository in /test_graph_01/.git/\n",
    "::::\n",
    ":::"
   ]
  },
  {
   "cell_type": "markdown",
   "id": "b05cb6f4",
   "metadata": {},
   "source": [
    "2. 최초 커밋"
   ]
  },
  {
   "cell_type": "code",
   "execution_count": 3,
   "id": "7e9ef126",
   "metadata": {
    "vscode": {
     "languageId": "shellscript"
    }
   },
   "outputs": [
    {
     "name": "stdout",
     "output_type": "stream",
     "text": [
      "[main (root-commit) 66192b6] c1\n",
      " 1 file changed, 1 insertion(+)\n",
      " create mode 100644 file1.txt\n"
     ]
    }
   ],
   "source": [
    "echo \"file1 line 1\" >> file1.txt\n",
    "git add .\n",
    "git commit -m c1"
   ]
  },
  {
   "cell_type": "code",
   "execution_count": 4,
   "id": "df32ca0d",
   "metadata": {
    "vscode": {
     "languageId": "shellscript"
    }
   },
   "outputs": [
    {
     "name": "stdout",
     "output_type": "stream",
     "text": [
      "[main 9b748fe] c2\n",
      " 2 files changed, 2 insertions(+)\n",
      " create mode 100644 file2.txt\n"
     ]
    }
   ],
   "source": [
    "echo \"file1 line 2\" >> file1.txt\n",
    "echo \"file2 line 1\" >> file2.txt\n",
    "git add .\n",
    "git commit -m c2"
   ]
  },
  {
   "cell_type": "code",
   "execution_count": 5,
   "id": "bdfd3ca7",
   "metadata": {
    "vscode": {
     "languageId": "shellscript"
    }
   },
   "outputs": [
    {
     "name": "stdout",
     "output_type": "stream",
     "text": [
      "rm 'file1.txt'\n",
      "[main 562697b] c3\n",
      " 2 files changed, 1 insertion(+), 2 deletions(-)\n",
      " delete mode 100644 file1.txt\n",
      " create mode 100644 sub/file3.txt\n"
     ]
    }
   ],
   "source": [
    "git rm file1.txt\n",
    "mkdir sub\n",
    "echo \"file3 line 1\" >> sub/file3.txt\n",
    "git add .\n",
    "git commit -m c3"
   ]
  },
  {
   "cell_type": "markdown",
   "id": "94678dbb",
   "metadata": {},
   "source": [
    "![그림: 예제 커밋 상황](figs/fig_log_01.png){width=400px}"
   ]
  },
  {
   "cell_type": "markdown",
   "id": "18370661",
   "metadata": {},
   "source": [
    "## 상대 참조 표기"
   ]
  },
  {
   "cell_type": "markdown",
   "id": "7eab416b",
   "metadata": {},
   "source": [
    "- 특정 커밋 위치로부터 N번 앞(과거)의 커밋은 `~N`을 커밋 해시값 뒤에 붙여서 상대 참조 표기로 나타낼 수 있다.\n",
    "- 현재의 커밋은 커밋 해시값 대신 `HEAD`를 사용할 수 있다. 따라서\n",
    "- 현재 커밋 바로 앞의 커밋(부모 커밋)은 `HEAD~1`\n",
    "- 현재 커밋 2번재 앞 커밋(조부모 커밋)은 `HEAD~2`\n",
    "- 앞(과거)이 아닌 뒤(미래)의 커밋은 복수가 있는 경우가 있어 상대 참조 표기를 사용하지 않는다.\n"
   ]
  },
  {
   "cell_type": "markdown",
   "id": "54488025",
   "metadata": {},
   "source": [
    "## `git log` 명령"
   ]
  },
  {
   "cell_type": "markdown",
   "id": "02f518de",
   "metadata": {},
   "source": [
    "- 과거부터 현재까지의 모든 커밋 기록 보기"
   ]
  },
  {
   "cell_type": "code",
   "execution_count": 6,
   "id": "24ad38d7",
   "metadata": {
    "vscode": {
     "languageId": "shellscript"
    }
   },
   "outputs": [
    {
     "name": "stdout",
     "output_type": "stream",
     "text": [
      "commit 562697bad755c97bee1883b1bb425ed69c1dddc3 (HEAD -> main)\n",
      "Author: user <user@company.com>\n",
      "Date:   Tue Aug 19 17:23:43 2025 +0900\n",
      "\n",
      "    c3\n",
      "\n",
      "commit 9b748feb74b0e675e066a6ba5326d78b26e66c01\n",
      "Author: user <user@company.com>\n",
      "Date:   Tue Aug 19 17:23:43 2025 +0900\n",
      "\n",
      "    c2\n",
      "\n",
      "commit 66192b6dad54c4a0d0addf2de724cc03b0f94f70\n",
      "Author: user <user@company.com>\n",
      "Date:   Tue Aug 19 17:23:42 2025 +0900\n",
      "\n",
      "    c1\n"
     ]
    }
   ],
   "source": [
    "git log"
   ]
  },
  {
   "cell_type": "markdown",
   "id": "ac8a7dd9",
   "metadata": {},
   "source": [
    "### git log 명령의 옵션"
   ]
  },
  {
   "cell_type": "markdown",
   "id": "4f5a830a",
   "metadata": {},
   "source": [
    "#### 출력 형식"
   ]
  },
  {
   "cell_type": "markdown",
   "id": "ec3c9706",
   "metadata": {},
   "source": [
    "- 출력형식은 `--pretty` 옵션으로 제어\n",
    "  - `git log --pretty=medium`:  기본값 (해시 + 작성자 + 날짜 + 메시지)\n",
    "  - `git log --pretty=short`:   간단한 정보 (해시 + 작성자 + 메시지)\n",
    "  - `git log --pretty=oneline`: 한 줄 출력 (해시 + 메시지)\n",
    "  - `git log --oneline`: 한 줄 출력 (단축해시 + 메시지)\n",
    "  - `git log --pretty=format:` 사용자 정의 형식 출력\n"
   ]
  },
  {
   "cell_type": "code",
   "execution_count": 7,
   "id": "a52d5828",
   "metadata": {
    "vscode": {
     "languageId": "shellscript"
    }
   },
   "outputs": [
    {
     "name": "stdout",
     "output_type": "stream",
     "text": [
      "commit 562697bad755c97bee1883b1bb425ed69c1dddc3 (HEAD -> main)\n",
      "Author: user <user@company.com>\n",
      "\n",
      "    c3\n",
      "\n",
      "commit 9b748feb74b0e675e066a6ba5326d78b26e66c01\n",
      "Author: user <user@company.com>\n",
      "\n",
      "    c2\n",
      "\n",
      "commit 66192b6dad54c4a0d0addf2de724cc03b0f94f70\n",
      "Author: user <user@company.com>\n",
      "\n",
      "    c1\n"
     ]
    }
   ],
   "source": [
    "git log --pretty=short"
   ]
  },
  {
   "cell_type": "code",
   "execution_count": 8,
   "id": "3637b9e1",
   "metadata": {
    "vscode": {
     "languageId": "shellscript"
    }
   },
   "outputs": [
    {
     "name": "stdout",
     "output_type": "stream",
     "text": [
      "562697bad755c97bee1883b1bb425ed69c1dddc3 (HEAD -> main) c3\n",
      "9b748feb74b0e675e066a6ba5326d78b26e66c01 c2\n",
      "66192b6dad54c4a0d0addf2de724cc03b0f94f70 c1\n"
     ]
    }
   ],
   "source": [
    "git log --pretty=oneline"
   ]
  },
  {
   "cell_type": "code",
   "execution_count": 9,
   "id": "0ba5a768",
   "metadata": {
    "vscode": {
     "languageId": "shellscript"
    }
   },
   "outputs": [
    {
     "name": "stdout",
     "output_type": "stream",
     "text": [
      "562697b (HEAD -> main) c3\n",
      "9b748fe c2\n",
      "66192b6 c1\n"
     ]
    }
   ],
   "source": [
    "git log --oneline"
   ]
  },
  {
   "cell_type": "code",
   "execution_count": 10,
   "id": "5fd5bc6a",
   "metadata": {
    "vscode": {
     "languageId": "shellscript"
    }
   },
   "outputs": [
    {
     "name": "stdout",
     "output_type": "stream",
     "text": [
      "562697b c3\n",
      "9b748fe c2\n",
      "66192b6 c1\n"
     ]
    }
   ],
   "source": [
    "git log --pretty=format:\"%h %s\""
   ]
  },
  {
   "cell_type": "markdown",
   "id": "61cfaa20",
   "metadata": {},
   "source": [
    "#### 출력 내용"
   ]
  },
  {
   "cell_type": "markdown",
   "id": "bfb3c779",
   "metadata": {},
   "source": [
    "- `--stat`: 변경 파일 목록 및 간단한 통계"
   ]
  },
  {
   "cell_type": "code",
   "execution_count": 11,
   "id": "01c906ba",
   "metadata": {
    "vscode": {
     "languageId": "shellscript"
    }
   },
   "outputs": [
    {
     "name": "stdout",
     "output_type": "stream",
     "text": [
      "562697b (HEAD -> main) c3\n",
      " file1.txt     | 2 --\n",
      " sub/file3.txt | 1 +\n",
      " 2 files changed, 1 insertion(+), 2 deletions(-)\n",
      "9b748fe c2\n",
      " file1.txt | 1 +\n",
      " file2.txt | 1 +\n",
      " 2 files changed, 2 insertions(+)\n",
      "66192b6 c1\n",
      " file1.txt | 1 +\n",
      " 1 file changed, 1 insertion(+)\n"
     ]
    }
   ],
   "source": [
    "git log --oneline --stat"
   ]
  },
  {
   "cell_type": "code",
   "execution_count": 12,
   "id": "003d7800",
   "metadata": {
    "vscode": {
     "languageId": "shellscript"
    }
   },
   "outputs": [
    {
     "name": "stdout",
     "output_type": "stream",
     "text": [
      "562697b (HEAD -> main) c3\n",
      "0\t2\tfile1.txt\n",
      "1\t0\tsub/file3.txt\n",
      "9b748fe c2\n",
      "1\t0\tfile1.txt\n",
      "1\t0\tfile2.txt\n",
      "66192b6 c1\n",
      "1\t0\tfile1.txt\n"
     ]
    }
   ],
   "source": [
    "git log --oneline --numstat"
   ]
  },
  {
   "cell_type": "markdown",
   "id": "0337ebf6",
   "metadata": {},
   "source": [
    "#### 출력 필터링"
   ]
  },
  {
   "cell_type": "markdown",
   "id": "53f71d93",
   "metadata": {},
   "source": [
    "- `git log <파일>`: 특정 파일/경로에 대한 변경만 출력.\n",
    "- `git log --author=\"이름\"`: 특정 작성자(committer/author)의 커밋만 출력.\n",
    "- `git log --grep=\"키워드\"`: 커밋 메시지에 키워드가 포함된 것만 검색.\n",
    "- `git log --since=\"2024-01-01\"`: 특정 날짜 이후 커밋만 출력.\n",
    "- `git log --until=\"2024-08-01\"`: 특정 날짜 이전 커밋만 출력.\n",
    "- `git log <commit1>..<commit2>`: "
   ]
  },
  {
   "cell_type": "code",
   "execution_count": 13,
   "id": "95f9675a",
   "metadata": {
    "vscode": {
     "languageId": "shellscript"
    }
   },
   "outputs": [
    {
     "name": "stdout",
     "output_type": "stream",
     "text": [
      "9b748fe c2\n"
     ]
    }
   ],
   "source": [
    "git log --oneline file2.txt"
   ]
  },
  {
   "cell_type": "code",
   "execution_count": 14,
   "id": "776e4af2",
   "metadata": {
    "vscode": {
     "languageId": "shellscript"
    }
   },
   "outputs": [
    {
     "name": "stdout",
     "output_type": "stream",
     "text": [
      "562697b (HEAD -> main) c3\n",
      "9b748fe c2\n",
      "66192b6 c1\n"
     ]
    }
   ],
   "source": [
    "git log --all --oneline -- file1.txt"
   ]
  },
  {
   "cell_type": "markdown",
   "id": "23bd67fb",
   "metadata": {},
   "source": [
    "## `git ls-tree` 명령"
   ]
  },
  {
   "cell_type": "markdown",
   "id": "38d785a9",
   "metadata": {},
   "source": [
    "- 특정 커밋의 스냅샷 보기"
   ]
  },
  {
   "cell_type": "code",
   "execution_count": 15,
   "id": "7b3c3573",
   "metadata": {
    "vscode": {
     "languageId": "shellscript"
    }
   },
   "outputs": [
    {
     "name": "stdout",
     "output_type": "stream",
     "text": [
      "file1.txt\n"
     ]
    }
   ],
   "source": [
    "git ls-tree -r --name-only HEAD~2"
   ]
  },
  {
   "cell_type": "code",
   "execution_count": 16,
   "id": "3fa0cc8a",
   "metadata": {
    "vscode": {
     "languageId": "shellscript"
    }
   },
   "outputs": [
    {
     "name": "stdout",
     "output_type": "stream",
     "text": [
      "file1.txt\n",
      "file2.txt\n"
     ]
    }
   ],
   "source": [
    "git ls-tree -r --name-only HEAD~1"
   ]
  },
  {
   "cell_type": "code",
   "execution_count": 17,
   "id": "fd7a6156",
   "metadata": {
    "vscode": {
     "languageId": "shellscript"
    }
   },
   "outputs": [
    {
     "name": "stdout",
     "output_type": "stream",
     "text": [
      "file2.txt\n",
      "sub/file3.txt\n"
     ]
    }
   ],
   "source": [
    "git ls-tree -r --name-only HEAD"
   ]
  },
  {
   "cell_type": "markdown",
   "id": "c22c56a0",
   "metadata": {},
   "source": [
    "## `git cat-file` 명령"
   ]
  },
  {
   "cell_type": "code",
   "execution_count": 18,
   "id": "3788817e",
   "metadata": {
    "vscode": {
     "languageId": "shellscript"
    }
   },
   "outputs": [
    {
     "name": "stdout",
     "output_type": "stream",
     "text": [
      "file1 line 1\n"
     ]
    }
   ],
   "source": [
    "git cat-file -p HEAD~2:file1.txt"
   ]
  },
  {
   "cell_type": "code",
   "execution_count": 19,
   "id": "728e6239",
   "metadata": {
    "vscode": {
     "languageId": "shellscript"
    }
   },
   "outputs": [
    {
     "name": "stdout",
     "output_type": "stream",
     "text": [
      "file1 line 1\n",
      "file1 line 2\n"
     ]
    }
   ],
   "source": [
    "git cat-file -p HEAD~1:file1.txt"
   ]
  },
  {
   "cell_type": "code",
   "execution_count": 20,
   "id": "4207cb94",
   "metadata": {
    "vscode": {
     "languageId": "shellscript"
    }
   },
   "outputs": [
    {
     "name": "stdout",
     "output_type": "stream",
     "text": [
      "file2 line 1\n"
     ]
    }
   ],
   "source": [
    "git cat-file -p HEAD~1:file2.txt"
   ]
  },
  {
   "cell_type": "code",
   "execution_count": 21,
   "id": "7e42b8d5",
   "metadata": {
    "vscode": {
     "languageId": "shellscript"
    }
   },
   "outputs": [
    {
     "name": "stdout",
     "output_type": "stream",
     "text": [
      "file2 line 1\n"
     ]
    }
   ],
   "source": [
    "git cat-file -p HEAD:file2.txt"
   ]
  },
  {
   "cell_type": "code",
   "execution_count": 22,
   "id": "8fb3c6b9",
   "metadata": {
    "vscode": {
     "languageId": "shellscript"
    }
   },
   "outputs": [
    {
     "name": "stdout",
     "output_type": "stream",
     "text": [
      "file3 line 1\n"
     ]
    }
   ],
   "source": [
    "git cat-file -p HEAD:sub/file3.txt"
   ]
  },
  {
   "cell_type": "markdown",
   "id": "9a23a486",
   "metadata": {},
   "source": [
    "## `git show` 명령"
   ]
  },
  {
   "cell_type": "markdown",
   "id": "8acab246",
   "metadata": {},
   "source": [
    "- 특정 커밋의 변경 내역 보기"
   ]
  },
  {
   "cell_type": "code",
   "execution_count": 23,
   "id": "a6383ff4",
   "metadata": {
    "vscode": {
     "languageId": "shellscript"
    }
   },
   "outputs": [
    {
     "name": "stdout",
     "output_type": "stream",
     "text": [
      "commit 66192b6dad54c4a0d0addf2de724cc03b0f94f70\n",
      "Author: user <user@company.com>\n",
      "Date:   Tue Aug 19 17:23:42 2025 +0900\n",
      "\n",
      "    c1\n",
      "\n",
      "A\tfile1.txt\n"
     ]
    }
   ],
   "source": [
    "git show --name-status HEAD~2"
   ]
  },
  {
   "cell_type": "code",
   "execution_count": 24,
   "id": "f8e90e84",
   "metadata": {
    "vscode": {
     "languageId": "shellscript"
    }
   },
   "outputs": [
    {
     "name": "stdout",
     "output_type": "stream",
     "text": [
      "commit 9b748feb74b0e675e066a6ba5326d78b26e66c01\n",
      "Author: user <user@company.com>\n",
      "Date:   Tue Aug 19 17:23:43 2025 +0900\n",
      "\n",
      "    c2\n",
      "\n",
      "M\tfile1.txt\n",
      "A\tfile2.txt\n"
     ]
    }
   ],
   "source": [
    "git show --name-status HEAD~1"
   ]
  },
  {
   "cell_type": "code",
   "execution_count": 25,
   "id": "6901ca73",
   "metadata": {
    "vscode": {
     "languageId": "shellscript"
    }
   },
   "outputs": [
    {
     "name": "stdout",
     "output_type": "stream",
     "text": [
      "commit 562697bad755c97bee1883b1bb425ed69c1dddc3 (HEAD -> main)\n",
      "Author: user <user@company.com>\n",
      "Date:   Tue Aug 19 17:23:43 2025 +0900\n",
      "\n",
      "    c3\n",
      "\n",
      "D\tfile1.txt\n",
      "A\tsub/file3.txt\n"
     ]
    }
   ],
   "source": [
    "git show --name-status HEAD"
   ]
  },
  {
   "cell_type": "markdown",
   "id": "36715465",
   "metadata": {},
   "source": [
    "## `git diff` 명령"
   ]
  },
  {
   "cell_type": "markdown",
   "id": "93baecbe",
   "metadata": {},
   "source": [
    "- 커밋과 커밋간의 차이를 보기"
   ]
  },
  {
   "cell_type": "code",
   "execution_count": null,
   "id": "955642a2",
   "metadata": {
    "vscode": {
     "languageId": "shellscript"
    }
   },
   "outputs": [],
   "source": []
  }
 ],
 "metadata": {
  "kernelspec": {
   "display_name": "Bash",
   "language": "bash",
   "name": "bash"
  },
  "language_info": {
   "codemirror_mode": "shell",
   "file_extension": ".sh",
   "mimetype": "text/x-sh",
   "name": "bash"
  }
 },
 "nbformat": 4,
 "nbformat_minor": 5
}
