{
 "cells": [
  {
   "cell_type": "markdown",
   "id": "ec17531b",
   "metadata": {},
   "source": [
    "# 원격 분기 상태"
   ]
  },
  {
   "cell_type": "markdown",
   "id": "657a64ec",
   "metadata": {},
   "source": [
    "## 원격 분기 상태 (remote diverged)"
   ]
  },
  {
   "cell_type": "markdown",
   "id": "9799c187",
   "metadata": {},
   "source": [
    "- 같은 브랜치의 로컬 버전과 원격 버전에 서로 다른 커밋이 들어가서 분기된 상태\n",
    "- 원격 브랜치에 다른 사람이 커밋 또는 머지를 했는데 이를 로컬에 반영하지 않은 상태에서 커밋을 해 버려서 발생"
   ]
  },
  {
   "cell_type": "markdown",
   "id": "6ca685c9",
   "metadata": {},
   "source": [
    "```{mermaid}\n",
    "%%{\n",
    "init: {\n",
    "   \"gitGraph\": {\n",
    "      \"mainBranchName\": \"origin/main\",\n",
    "      \"rotateCommitLabel\": false\n",
    "   },\n",
    "   \"themeVariables\": {\n",
    "      \"commitLabelColor\": '#000000',\n",
    "      \"commitLabelBackground\": '#ffffff',\n",
    "      \"commitLabelFontSize\": '15px'\n",
    "   }\n",
    "}}%%\n",
    "gitGraph\n",
    "  commit id:\"c0\"\n",
    "  branch \"main\"\n",
    "  checkout \"main\"\n",
    "  commit id:\"c1\"\n",
    "  checkout \"origin/main\"\n",
    "  commit id:\"c2\"\n",
    "```\n"
   ]
  },
  {
   "cell_type": "markdown",
   "id": "4678a693",
   "metadata": {},
   "source": [
    "## 원격 분기 상태의 예방"
   ]
  },
  {
   "cell_type": "markdown",
   "id": "2db6a2c9",
   "metadata": {},
   "source": [
    "- 로컬 브랜치에 커밋하기 전에 원격 브랜치를 로컬에 반영하는 작업을 하면 발생 확률을 줄일 수 있음\n"
   ]
  },
  {
   "cell_type": "markdown",
   "id": "47c821b0",
   "metadata": {},
   "source": [
    "## 원격 분기 상태의 해결"
   ]
  },
  {
   "cell_type": "markdown",
   "id": "4a5c97b6",
   "metadata": {},
   "source": [
    "- 해결 방법\n",
    "  1. 로컬 브랜치의 작업을 백업한 후 로컬 브랜치에서 없애고 원격 브랜치 내용을 그대로 반영\n",
    "  2. 로컬 브랜치에서 원격 브랜치를 머지하여 다시 원격 브랜치에 반영\n",
    "  3. 로컬 브랜치에서 원격 브랜치를 리베이스하여 다시 원격 브랜치에 반영 "
   ]
  },
  {
   "cell_type": "markdown",
   "id": "fcd4a4e2",
   "metadata": {},
   "source": [
    "- 재분기\n",
    "  - 어떤 해결 방법을 사용하더라도 해결 작업을 하는 사이에 원격 브랜치에 새 커밋이 들어오면 다시 해야 함"
   ]
  },
  {
   "cell_type": "markdown",
   "id": "e5d26799",
   "metadata": {},
   "source": [
    "## 분기 상태 재발생"
   ]
  },
  {
   "cell_type": "markdown",
   "id": "3777bc89",
   "metadata": {},
   "source": [
    "- 어떤 예방 또는 해결 방법을 사용해도 분기 상태는 재발생할 수 있음\n",
    "  - 예방 또는 해결 작업을 하는 그 짧은 시간동안 다른 사람이 원격 브랜치에 다시 새 커밋을 하면 다시 분기 상태가 됨\n",
    "  - 근본적으로는 개발자간 커뮤니케이션을 통해 해결해야 함\n"
   ]
  },
  {
   "cell_type": "markdown",
   "id": "b429ef9c",
   "metadata": {},
   "source": []
  }
 ],
 "metadata": {
  "language_info": {
   "name": "python"
  }
 },
 "nbformat": 4,
 "nbformat_minor": 5
}
