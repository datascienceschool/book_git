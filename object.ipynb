{
 "cells": [
  {
   "cell_type": "markdown",
   "id": "4e03d0f0",
   "metadata": {},
   "source": [
    "# 객체"
   ]
  },
  {
   "cell_type": "markdown",
   "id": "5e89c204",
   "metadata": {},
   "source": [
    "::: {.hidden}\n",
    "\n",
    "## 참고 문헌\n",
    "\n",
    "- [Pro Git, Git Internels, Git Objects](chrome-extension://oemmndcbldboiebfnladdacbdfmadadm/file:///Users/joelkim/Work/study/study_cs/book/DevOps/Progit/progit.pdf#%5B%7B%22num%22%3A2221%2C%22gen%22%3A0%7D%2C%7B%22name%22%3A%22XYZ%22%7D%2C0%2C510.57%2Cnull%5D)\n",
    "- [Mastering Git, Ch10 Keeping History Clean, An introduction to Git internals](chrome-extension://oemmndcbldboiebfnladdacbdfmadadm/file:///Users/joelkim/Work/study/study_cs/book/DevOps/Narebski/2024%20-%20Narebski%20-%20Mastering%20Git,%202nd%20Edition.pdf#p263)\n",
    "\n",
    ":::"
   ]
  },
  {
   "cell_type": "markdown",
   "id": "20426e48",
   "metadata": {},
   "source": [
    "## 객체"
   ]
  },
  {
   "cell_type": "markdown",
   "id": "fcd4bfac",
   "metadata": {},
   "source": [
    "- git의 모든 정보는 객체(object) 형태로 저장\n",
    "- `commit` 명령으로 레포지토리에 정식 저장된 정보 뿐 아니라 `add` 명령으로 스테이지에 저장된 파일도 객체로 저장됨"
   ]
  },
  {
   "cell_type": "markdown",
   "id": "ddb1bcf8",
   "metadata": {},
   "source": [
    "## 해시값"
   ]
  },
  {
   "cell_type": "markdown",
   "id": "d465ca99",
   "metadata": {},
   "source": [
    "- 모든 객체는 이름(아이디)로 sha1 해시값 40글자를 가짐\n",
    "- 해시값은 객체의 내부정보 뿐 아니라 작성자 정보, 작성 시간 정보 등을 통합하여 계산하므로 동일한 해시가 발생할 가능성이 매우 적음"
   ]
  },
  {
   "cell_type": "markdown",
   "id": "d60c29c8",
   "metadata": {},
   "source": [
    "```bash\n",
    "echo 'test content' | git hash-object -w --stdin\n",
    "```"
   ]
  },
  {
   "cell_type": "markdown",
   "id": "f4b77ad7",
   "metadata": {},
   "source": [
    "## 객체 저장 위치"
   ]
  },
  {
   "cell_type": "markdown",
   "id": "d74feb36",
   "metadata": {},
   "source": [
    "- 객체는 `.git/objects` 디렉토리 아래에 서브디렉토리로 나뉘어서 파일형태로 저장\n",
    "- 40글자 sha1 해시값 중 첫 2글자를 디렉토리 이름으로 하고 나머지 38글자를 파일이름으로 저장\n",
    "- 추가 디렉토리\n",
    "  - `.git/objects/info`\n",
    "  - `.git/objects/pack`"
   ]
  },
  {
   "cell_type": "markdown",
   "id": "56ee979c",
   "metadata": {},
   "source": [
    "```bash\n",
    "find .git/objects -type f\n",
    "```"
   ]
  },
  {
   "cell_type": "markdown",
   "id": "a9fcef9d",
   "metadata": {},
   "source": [
    "## 객체의 종류"
   ]
  },
  {
   "cell_type": "markdown",
   "id": "7e3265b0",
   "metadata": {},
   "source": [
    "- blob 객체: 한 순간의 파일 하나의 스냅샷 정보\n",
    "- tree 객체: 한 순간의 디렉토리 트리 구조 정보\n",
    "- commit 객체: 하나의 커밋 정보"
   ]
  },
  {
   "cell_type": "markdown",
   "id": "5e017bfe",
   "metadata": {},
   "source": [
    "## 객체를 보는 명령"
   ]
  },
  {
   "cell_type": "markdown",
   "id": "742993a1",
   "metadata": {},
   "source": [
    "- 저장소 전체의 객체 목록을 보는 법\n",
    "\n",
    "```bash\n",
    "git cat-file --batch-check --batch-all-objects --unordered\n",
    "```"
   ]
  },
  {
   "cell_type": "markdown",
   "id": "17ae3f6c",
   "metadata": {},
   "source": [
    "- 현재 커밋을 구성하는 객체 목록을 보는 법\n",
    "\n",
    "```bash\n",
    "git rev-list --objects --all\n",
    "```"
   ]
  },
  {
   "cell_type": "markdown",
   "id": "1b4b3d48",
   "metadata": {},
   "source": [
    "- 객체 하나의 유형을 보는 법\n",
    "\n",
    "```bash\n",
    "git cat-file -t 해시값\n",
    "```"
   ]
  },
  {
   "cell_type": "markdown",
   "id": "8002abab",
   "metadata": {},
   "source": [
    "- 객체 하나의 정보를 보는 법\n",
    "\n",
    "```bash\n",
    "git cat-file -p 해시값\n",
    "```"
   ]
  },
  {
   "cell_type": "markdown",
   "id": "294a7aec",
   "metadata": {},
   "source": [
    "## blob 객체"
   ]
  },
  {
   "cell_type": "markdown",
   "id": "1e003846",
   "metadata": {},
   "source": [
    "## tree 객체"
   ]
  },
  {
   "cell_type": "markdown",
   "id": "10e98d5e",
   "metadata": {},
   "source": [
    "## commit 객체"
   ]
  },
  {
   "cell_type": "markdown",
   "id": "346ab5b3",
   "metadata": {},
   "source": []
  }
 ],
 "metadata": {
  "language_info": {
   "name": "python"
  }
 },
 "nbformat": 4,
 "nbformat_minor": 5
}
