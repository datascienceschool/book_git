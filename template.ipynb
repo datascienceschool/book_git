{
 "cells": [
  {
   "cell_type": "code",
   "execution_count": 1,
   "id": "24744f54",
   "metadata": {},
   "outputs": [
    {
     "name": "stdout",
     "output_type": "stream",
     "text": [
      "env: LANG=en_US.UTF-8\n",
      "/Users/joelkim/Work/personal/book_git/temp\n"
     ]
    }
   ],
   "source": [
    "# | echo: false\n",
    "# | output: false\n",
    "%env LANG=en_US.UTF-8\n",
    "%cd /Users/joelkim/Work/personal/book_git/temp/"
   ]
  },
  {
   "cell_type": "markdown",
   "id": "b1e45dbb",
   "metadata": {},
   "source": [
    "# 장 제목"
   ]
  },
  {
   "cell_type": "markdown",
   "id": "41aa7f4e",
   "metadata": {},
   "source": [
    "::: {.hidden}\n",
    "\n",
    "## 참고 문헌\n",
    "\n",
    "- Building Git, Ch. 13 Branching Out\n",
    "  - chrome-extension://oemmndcbldboiebfnladdacbdfmadadm/file:///Users/joelkim/Work/study/study_cs/book/DevOps/Coglan/2021%20-%20Coglan%20-%20Buliding%20Git.pdf#%5B%7B%22num%22%3A1460%2C%22gen%22%3A0%7D%2C%7B%22name%22%3A%22XYZ%22%7D%2C72%2C769.889%2Cnull%5D\n",
    "  \n",
    ":::"
   ]
  },
  {
   "cell_type": "markdown",
   "id": "132284c9",
   "metadata": {},
   "source": [
    "```{mermaid}\n",
    "%%{\n",
    "init: {\n",
    "   \"gitGraph\": {\n",
    "      \"rotateCommitLabel\": false\n",
    "   },\n",
    "   \"themeVariables\": {\n",
    "      \"commitLabelColor\": '#000000',\n",
    "      \"commitLabelBackground\": '#ffffff',\n",
    "      \"commitLabelFontSize\": '15px'\n",
    "   }\n",
    "}}%%\n",
    "gitGraph\n",
    "  commit id: \"c1\"\n",
    "  commit id: \"c2\"\n",
    "  branch b1\n",
    "  commit id: \"c3\"\n",
    "  checkout main\n",
    "  commit id: \"c4\"\n",
    "  merge b1\n",
    "  checkout b1\n",
    "  branch b2\n",
    "  commit id: \"b2 브랜치 말단 커밋\"\n",
    "  checkout b1\n",
    "  commit id: \"b1 브랜치 말단 커밋\"\n",
    "  checkout main\n",
    "  commit id: \"main 브랜치 말단 커밋\"\n",
    "```"
   ]
  },
  {
   "cell_type": "markdown",
   "id": "2f95b9dc",
   "metadata": {},
   "source": [
    "## 실습"
   ]
  },
  {
   "cell_type": "code",
   "execution_count": 2,
   "id": "cfeacce7",
   "metadata": {},
   "outputs": [
    {
     "name": "stdout",
     "output_type": "stream",
     "text": [
      "Initialized empty Git repository in /Users/joelkim/Work/personal/book_git/temp/test_template_01/.git/\n"
     ]
    }
   ],
   "source": [
    "# | output: false\n",
    "!rm -rf test_template_01\n",
    "!mkdir test_template_01\n",
    "!git init test_template_01\n",
    "!cd test_template_01"
   ]
  },
  {
   "cell_type": "markdown",
   "id": "e9e3a045",
   "metadata": {},
   "source": [
    ":::{.cell}\n",
    "::::{.cell-output .cell-output-stdout}\n",
    "Initialized empty Git repository in /test_template_01/.git/\n",
    "::::\n",
    ":::"
   ]
  },
  {
   "cell_type": "code",
   "execution_count": 3,
   "id": "00e10ac5",
   "metadata": {},
   "outputs": [
    {
     "name": "stdout",
     "output_type": "stream",
     "text": [
      "/Users/joelkim/Work/personal/book_git/temp/test_template_01\n"
     ]
    }
   ],
   "source": [
    "# | echo: false\n",
    "# | output: false\n",
    "%cd /Users/joelkim/Work/personal/book_git/temp/test_template_01"
   ]
  },
  {
   "cell_type": "code",
   "execution_count": 4,
   "id": "31f7657e",
   "metadata": {},
   "outputs": [
    {
     "name": "stdout",
     "output_type": "stream",
     "text": [
      "/Users/joelkim/Work/personal/book_git/temp\n"
     ]
    }
   ],
   "source": [
    "# | output: false\n",
    "%cd /Users/joelkim/Work/personal/book_git/temp\n",
    "!rm -rf test_template_01"
   ]
  }
 ],
 "metadata": {
  "kernelspec": {
   "display_name": "base",
   "language": "python",
   "name": "python3"
  },
  "language_info": {
   "codemirror_mode": {
    "name": "ipython",
    "version": 3
   },
   "file_extension": ".py",
   "mimetype": "text/x-python",
   "name": "python",
   "nbconvert_exporter": "python",
   "pygments_lexer": "ipython3",
   "version": "3.12.8"
  }
 },
 "nbformat": 4,
 "nbformat_minor": 5
}
