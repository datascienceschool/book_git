{
 "cells": [
  {
   "cell_type": "markdown",
   "id": "ab22d5ad",
   "metadata": {},
   "source": [
    "# 기본 동작"
   ]
  },
  {
   "cell_type": "markdown",
   "id": "7545043c",
   "metadata": {},
   "source": [
    "## 파일의 위치"
   ]
  },
  {
   "cell_type": "markdown",
   "id": "864e527a",
   "metadata": {},
   "source": [
    "- git에는 파일의 \"위치\"라는 개념이 존재함"
   ]
  },
  {
   "cell_type": "markdown",
   "id": "0aa95c1c",
   "metadata": {},
   "source": [
    "| 이름 | 의미 | 실제 위치 |\n",
    "|-|-|-|\n",
    "| 워크트리(worktree) | 일반적인 디렉토리 | 체크아웃 디렉토리 |\n",
    "| 스테이지(stage) 또는 스테이징 영역(staging area) | 레포지토리에 들어가기전의 임시 위치 | `.git` 디렉토리의 `objects` 서브디렉토리와 `.git` 디렉토리의 `index` 파일 |\n",
    "| 레포지토리(repository) 또는 인덱스(index) | 버전 기록이 저장되는 위치 | `.git` 디렉토리의 `objects` 서브디렉토리 |\n"
   ]
  },
  {
   "cell_type": "markdown",
   "id": "367c5e93",
   "metadata": {},
   "source": [
    "## 기본 동작"
   ]
  },
  {
   "cell_type": "markdown",
   "id": "0961a7da",
   "metadata": {},
   "source": [
    "- git의 기본 동작은 파일의 위치를 조작하는 `add` 동작과 `commit` 동작이 있음 "
   ]
  },
  {
   "cell_type": "markdown",
   "id": "a972b350",
   "metadata": {},
   "source": [
    "| 동작 | 설명 |\n",
    "|-|-|\n",
    "| add | 워크트리의 파일을 스테이지로 **복사** |\n",
    "| commit | 스테이지의 파일을 레포지토리로 **이동** |"
   ]
  },
  {
   "cell_type": "markdown",
   "id": "00846f87",
   "metadata": {},
   "source": [
    "## 파일의 상태"
   ]
  },
  {
   "cell_type": "markdown",
   "id": "18a32f7f",
   "metadata": {},
   "source": [
    "| 위치 | 상태 | 설명 |\n",
    "|-|--|--------|\n",
    "| 워크트리 | untracked | 레포지토리에 기록되지 않거나 스테이지에 올라가지 않은 파일 |\n",
    "| - | clean | 레포지토리에 기록된 파일로 레포지토리와 파일 내용이 같은 상태  |\n",
    "| - | modified | 레포지토리에 기록된 파일로 레포지토리와 파일 내용이 다른 상태 |\n",
    "| - | deleted | 레포지토리에 기록된 파일인데 삭제된 상태 |\n",
    "| - | renamed | 레포지토리에 기록된 파일인데 이름이 바뀐 상태 |\n",
    "| 스테이지 | new | 처음으로 기록되어 스테이지에 들어온 상태 |\n",
    "| - | modified | 예전에 기록된 파일인데 변경되어 스테이지에 들어온 상태 |\n",
    "| - | deleted | 예전에 기록된 파일인데 삭제되어 스테이지에 들어온 상태 |\n",
    "| - | renamed | 예전에 기록된 파일인데 변경되어 이름이 바뀌어 스테이지에 들어온 상태 |\n",
    "| 레포지토리 | commited | 레포지토리에 정식 기록된 상태 |\n"
   ]
  },
  {
   "cell_type": "markdown",
   "id": "45ed0eab",
   "metadata": {},
   "source": [
    "## `status` 명령"
   ]
  },
  {
   "cell_type": "markdown",
   "id": "3efb62a1",
   "metadata": {},
   "source": [
    "- `status` 명령을 사용하면 파일의 위치 및 상태를 볼 수 있음"
   ]
  },
  {
   "cell_type": "markdown",
   "id": "be77082f",
   "metadata": {},
   "source": [
    "## 행위"
   ]
  },
  {
   "cell_type": "markdown",
   "id": "c209de95",
   "metadata": {},
   "source": [
    "| 이름 | 내용 | 설명 |\n",
    "|-|--|----|\n",
    "| 스테이징(staging) | 워크트리의 파일을 스테이지로 **복사** | 스테이지에 워트크리 파일의 복사본이 생기고 워크트리의 파일은 **그대로 유지** |\n",
    "| 커밋(commit) | 스테이지의 파일을 레포지토리로 **이동** | 레포지토리에 스테이지 파일의 복사본이 생기고 스테이지의 파일은 **없어짐** |\n",
    "| 스테이징 취소(unstaging) | 스테이지의 파일을 없앰 | 스테이지에 레포지토리 파일을 복사하면서 스테이지 파일이 없어지고 워크트리는 그대로 유지 |\n",
    "| 워크트리 원복(restore) | 워크트리의 파일을 레포지토리의 파일로 원복 | 워크트리에 레포지토리 파일을 복사하면서 워크트리의 파일의 변화가 없어짐 |\n"
   ]
  },
  {
   "cell_type": "markdown",
   "id": "0343bed3",
   "metadata": {},
   "source": [
    "## `add`, `commit` 명령"
   ]
  },
  {
   "cell_type": "markdown",
   "id": "f0755808",
   "metadata": {},
   "source": [
    "- `add`, `commit` 명령을 이용하면 스테이지 또는 레포지토리에 파일을 생성할 수 있음\n",
    "- `add` 명령은 워크트리의 파일을 스테이지로 복사하고 워크트리의 파일은 그대로 유지 (워크트리 -> 스테이지)\n",
    "- `commit` 명령은 스테이지의 파일을 레포지토리로 복사하고 스테이지의 파일을 삭제 (스테이지 -> 레포지토리)"
   ]
  },
  {
   "cell_type": "markdown",
   "id": "4e9e53a6",
   "metadata": {},
   "source": [
    "| 행위 | 워크트리 | 스테이지 | 레포지토리 | 명령 | 설명 | \n",
    "|-|--|--|--|--|--|\n",
    "| 스테이징 | (1) 워크트리 파일 내용을 이용하여 | (2) 스테이지 파일 추가(갱신)  | - | `git add` | 스테이지에 워크트리 파일 추가(갱신) |\n",
    "| 커밋 | - | (1) 스테이지 파일 내용을 이용하여 | (2) 레포 파일 추가(갱신) | `git commit` | 레포에 스테이지 파일 추가(갱신) |   \n"
   ]
  },
  {
   "cell_type": "markdown",
   "id": "e8154950",
   "metadata": {},
   "source": [
    "### `add` 명령과 `commit` 명령이 분리된 이유"
   ]
  },
  {
   "cell_type": "markdown",
   "id": "154952d4",
   "metadata": {},
   "source": [
    "- `commit` 명령에 파일 또는 디렉토리 경로를 붙여서 바로 레포지토리로 넣으면 스테이지 단계가 필요하지 않다.\n",
    "- 그러나 이렇게 명령의 인수로 사용하는 경우 오타나 실수로 잘못된 파일을 레포지토리에 넣거나 넣어야 할 파일을 누락할 가능성이 있다.\n",
    "- 한 번 레포지토리에 들어가면 이후 두번째 커밋으로 해당 파일으르 삭제하더라도 기록이 남는다.\n",
    "- 따라서 `add` 명령으로 `commit` 명령의 인수가 될 파일 목록을 편집(추가 또는 수정, 삭제)할 기회를 제공한다. "
   ]
  },
  {
   "cell_type": "markdown",
   "id": "a0ab8a33",
   "metadata": {},
   "source": [
    "### 추가적인 사용법"
   ]
  },
  {
   "cell_type": "markdown",
   "id": "f6cab1ae",
   "metadata": {},
   "source": [
    "- `commit 파일_또는_디렉토리_경로` 형식으로 파일이나 디렉토리의 경로를 지정하면 스테이지의 파일 전체 목록을 무시하고 해당 파일만 레포지토리로 복사함 (일단 `add` 명령으로 스테이지에 존재하고 있어야 하며 스테이지의 다른 파일들은 스테이지에 그대로 남아 있게 됨)\n",
    "- `commit -a 파일_또는_디렉토리_경로` 형식으로 `-a` 옵션을 사용하면 `add` 단계를 자체적으로 실행하므로 별도의 `git add` 없이 바로 스테이지를 거쳐 레포지토리에 커밋됨 (커밋 후에는 스테이지에서 삭제됨)"
   ]
  },
  {
   "cell_type": "markdown",
   "id": "dc4f593b",
   "metadata": {},
   "source": [
    "```{mermaid}\n",
    "flowchart TB\n",
    "  subgraph 워크트리\n",
    "    start([\" \"])\n",
    "    untracked\n",
    "    clean\n",
    "    modified\n",
    "    renamed\n",
    "    deleted\n",
    "  end\n",
    "\n",
    "  subgraph 스테이지\n",
    "    new_in_stage[\"new\"]\n",
    "    modified_in_stage[\"modified\"]\n",
    "    renamed_in_stage[\"renamed\"]\n",
    "    deleted_in_stage[\"deleted\"]\n",
    "  end\n",
    "\n",
    "  subgraph 레포지토리\n",
    "    committed\n",
    "\n",
    "  end\n",
    "\n",
    "  start -- \"파일 생성\" --> untracked -- \"git add\" --> new_in_stage -- \"git commit\" --> committed\n",
    "  untracked -- \"git commit 까지 완료하면\" --> clean\n",
    "  clean -- \"파일 수정\" --> modified -- \"git add\" --> modified_in_stage -- \"git commit\" --> committed\n",
    "  clean -- \"파일 이름변경\" --> renamed -- \"git add\" --> renamed_in_stage -- \"git commit\" --> committed\n",
    "  clean -- \"파일 삭제\" --> deleted -- \"git add\" --> deleted_in_stage -- \"git commit\" --> committed\n",
    "\n",
    "    \n",
    "```"
   ]
  },
  {
   "cell_type": "markdown",
   "id": "c441915c",
   "metadata": {},
   "source": [
    "## `restore` 명령\n"
   ]
  },
  {
   "cell_type": "markdown",
   "id": "369b360e",
   "metadata": {},
   "source": [
    "- `restore` 명령을 이용하면 스테이지 또는 레포지토리에 파일을 원복할 수 있음\n",
    "- `restore --staged` 명령은 레포지토리의 파일을 스테이지로 복사함으로써 스테이지의 파일을 삭제하고 워크트리의 파일은 그대로 유지 (`git add` 명령의 취소)\n",
    "- 인수가 없는 `restore` 명령은 레포지토리의 파일을 워크트리로 복사함으로써 워크트리의 파일을 원복시키고 스테이지의 파일은 그대로 유지 (파일 편집 취소)\n",
    "- 만약 워크트리도 원복하고 스테이지에 add된 파일도 없애려면 `restore --staged` 명령과 `restore` 명령을 각각 실행해야 하며 한번에 두 가지 작업을 할 수는 없음\n",
    "- 이미 레포지토리에 commit된 파일을 없애는 것은 불가능 (`git rm` 명령으로 추가적인 삭제 commit을 하는 수 밖에 없음)\n"
   ]
  },
  {
   "cell_type": "markdown",
   "id": "d4f914f8",
   "metadata": {},
   "source": [
    "| 행위 | 워크트리 | 스테이지 | 레포지토리 | 명령 | 설명 | \n",
    "|-|--|--|--|--|--|\n",
    "| 스테이징 취소 | - | (2) 스테이지 파일 추가(갱신) | (1) 레포 파일 내용을 이용하여 | `git restore --staged` | 스테이지 파일이 있으면 스테이지 파일 삭제, 없으면 아무 일도 일어나지 않는다. 즉, 커밋될 예정인 파일 목록에서 파일을 없앤다  |\n",
    "| 워크트리 원복 | (2) 워크트리 파일 갱신 | - | (1) 레포 파일 내용을 이용하여  | `git restore` | 워크트리의 변경된 파일을 마지막 커밋된 상태로 되돌린다. |\n"
   ]
  },
  {
   "cell_type": "markdown",
   "id": "98731016",
   "metadata": {},
   "source": [
    "```{mermaid}\n",
    "flowchart BT\n",
    "  subgraph 워크트리\n",
    "    untracked\n",
    "    clean\n",
    "    modified\n",
    "    renamed\n",
    "    deleted\n",
    "  end\n",
    "\n",
    "  subgraph 스테이지\n",
    "    new_in_stage[\"new\"]\n",
    "    modified_in_stage[\"modified\"]\n",
    "    renamed_in_stage[\"renamed\"]\n",
    "    deleted_in_stage[\"deleted\"]\n",
    "  end\n",
    "\n",
    "\n",
    "  modified -- \"git restore\" --> clean\n",
    "  renamed -- \"git restore\" --> clean\n",
    "  deleted -- \"git restore\" --> clean\n",
    "  new_in_stage -- \"git restore --staged\" --> untracked\n",
    "  modified_in_stage -- \"git restore --staged\" --> modified\n",
    "  renamed_in_stage -- \"git restore --staged\" --> renamed\n",
    "  deleted_in_stage -- \"git restore --staged\" --> deleted\n",
    "\n",
    "    \n",
    "```"
   ]
  },
  {
   "cell_type": "markdown",
   "id": "5c155bab",
   "metadata": {},
   "source": [
    "### 스테이징"
   ]
  },
  {
   "cell_type": "markdown",
   "id": "c8118053",
   "metadata": {},
   "source": [
    "```bash\n",
    "$ touch file.txt # 파일을 새로 생성\n",
    "$ git status    # 현재 상태 조회\n",
    "On branch main\n",
    "\n",
    "No commits yet\n",
    "\n",
    "Untracked files:  --> 아직 레포지토리에 기록\n",
    "  (use \"git add <file>...\" to include in what will be committed)\n",
    "        file.txt\n",
    "\n",
    "nothing added to commit but untracked files present (use \"git add\" to track)\n",
    "$ git add file.txt \n",
    "$ git status\n",
    "On branch main\n",
    "\n",
    "No commits yet\n",
    "\n",
    "Changes to be committed:\n",
    "  (use \"git rm --cached <file>...\" to unstage)\n",
    "        new file:   file.txt\n",
    "```"
   ]
  },
  {
   "cell_type": "markdown",
   "id": "f48b0cf7",
   "metadata": {},
   "source": [
    "### 커밋"
   ]
  },
  {
   "cell_type": "markdown",
   "id": "63cc66d2",
   "metadata": {},
   "source": [
    "```bash\n",
    "$ git commit -m \"add file.txt\"\n",
    "[main (root-commit) 0604058] add file.txt\n",
    " 1 file changed, 0 insertions(+), 0 deletions(-)\n",
    " create mode 100644 file.txt\n",
    "$ git log\n",
    "commit 0604058e2e84c04ce1a02e9b52408e58ec68b578 (HEAD -> main)\n",
    "Author: joelkim <kim.dohhyoung@gmail.com>\n",
    "Date:   Sun Jul 27 11:52:14 2025 +0900\n",
    "\n",
    "    add file.txt\n",
    "```"
   ]
  },
  {
   "cell_type": "markdown",
   "id": "7cf6c261",
   "metadata": {},
   "source": [
    "### 스테이징 취소"
   ]
  },
  {
   "cell_type": "markdown",
   "id": "92f1dfd3",
   "metadata": {},
   "source": [
    "```bash\n",
    "$ echo \"line 1\" >> file.txt    \n",
    "$ git status\n",
    "On branch main\n",
    "Changes not staged for commit:\n",
    "  (use \"git add <file>...\" to update what will be committed)\n",
    "  (use \"git restore <file>...\" to discard changes in working directory)\n",
    "        modified:   file.txt\n",
    "\n",
    "no changes added to commit (use \"git add\" and/or \"git commit -a\")\n",
    "$ git add file.txt\n",
    "$ git status\n",
    "On branch main\n",
    "Changes to be committed:\n",
    "  (use \"git restore --staged <file>...\" to unstage)\n",
    "        modified:   file.txt\n",
    "\n",
    "$ git restore --staged file.txt \n",
    "$ git status\n",
    "On branch main\n",
    "Changes not staged for commit:\n",
    "  (use \"git add <file>...\" to update what will be committed)\n",
    "  (use \"git restore <file>...\" to discard changes in working directory)\n",
    "        modified:   file.txt\n",
    "\n",
    "no changes added to commit (use \"git add\" and/or \"git commit -a\")\n",
    "```"
   ]
  },
  {
   "cell_type": "markdown",
   "id": "eaaa5b64",
   "metadata": {},
   "source": [
    "### 워크트리 원복"
   ]
  },
  {
   "cell_type": "markdown",
   "id": "716ff015",
   "metadata": {},
   "source": [
    "```bash\n",
    "$ echo \"line 1\" >> file.txt\n",
    "$ git status\n",
    "On branch main\n",
    "Changes not staged for commit:\n",
    "  (use \"git add <file>...\" to update what will be committed)\n",
    "  (use \"git restore <file>...\" to discard changes in working directory)\n",
    "        modified:   file.txt\n",
    "\n",
    "no changes added to commit (use \"git add\" and/or \"git commit -a\")\n",
    "$ git diff\n",
    "diff --git a/file.txt b/file.txt\n",
    "index e69de29..89b24ec 100644\n",
    "--- a/file.txt\n",
    "+++ b/file.txt\n",
    "@@ -0,0 +1 @@\n",
    "+line 1\n",
    "$ git restore file.txt \n",
    "$ git status\n",
    "On branch main\n",
    "nothing to commit, working tree clean\n",
    "```"
   ]
  },
  {
   "cell_type": "markdown",
   "id": "e63c8059",
   "metadata": {},
   "source": [
    "### 복잡한 경우"
   ]
  },
  {
   "cell_type": "markdown",
   "id": "387fd874",
   "metadata": {},
   "source": [
    "- 파일을 변경후 스테이징하고, 다시 워크트리에서 변경한 상태\n",
    "- 워크트리와 스테이지와 레포지토리에 있는 파일이 모두 다름"
   ]
  },
  {
   "cell_type": "markdown",
   "id": "ab261835",
   "metadata": {},
   "source": [
    "```bash\n",
    "$ echo \"line 1\" >> file.txt\n",
    "$ git add file.txt \n",
    "$ echo \"line 2\" >> file.txt\n",
    "$ git status\n",
    "On branch main\n",
    "Changes to be committed:\n",
    "  (use \"git restore --staged <file>...\" to unstage)\n",
    "        modified:   file.txt\n",
    "\n",
    "Changes not staged for commit:\n",
    "  (use \"git add <file>...\" to update what will be committed)\n",
    "  (use \"git restore <file>...\" to discard changes in working directory)\n",
    "        modified:   file.txt\n",
    "\n",
    "$ git show HEAD:file.txt\n",
    "$ git show :file.txt\n",
    "line 1\n",
    "$ cat file.txt \n",
    "line 1\n",
    "line 2\n",
    "```"
   ]
  },
  {
   "cell_type": "markdown",
   "id": "b81ed858",
   "metadata": {},
   "source": [
    "- 만약 이 상태에서 언스테이징만 하면, 스테이지의 파일은 없어지지만, 워크트리는 그대로 유지"
   ]
  },
  {
   "cell_type": "markdown",
   "id": "aead240e",
   "metadata": {},
   "source": [
    "```bash\n",
    "$ git restore --staged file.txt \n",
    "$ git status\n",
    "On branch main\n",
    "Changes not staged for commit:\n",
    "  (use \"git add <file>...\" to update what will be committed)\n",
    "  (use \"git restore <file>...\" to discard changes in working directory)\n",
    "        modified:   file.txt\n",
    "\n",
    "no changes added to commit (use \"git add\" and/or \"git commit -a\")\n",
    "$ cat file.txt\n",
    "line 1\n",
    "line 2\n",
    "```"
   ]
  },
  {
   "cell_type": "markdown",
   "id": "71b54190",
   "metadata": {},
   "source": [
    "- 만약 동일한 상태에서 언스테이징하지 않고 워크트리 원복만 하면 스테이징된 파일은 그대로고 워크트리의 변동사항만 사라짐"
   ]
  },
  {
   "cell_type": "markdown",
   "id": "95df8903",
   "metadata": {},
   "source": [
    "```bash\n",
    "$ git restore file.txt  # 워크트리까지 원복\n",
    "$ git status\n",
    "On branch main\n",
    "nothing to commit, working tree clean\n",
    "$ echo \"line 1\" >> file.txt  # 같은 상태로 만들기 시작\n",
    "$ git add file.txt \n",
    "$ echo \"line 2\" >> file.txt\n",
    "$ git status # 같은 상태임\n",
    "On branch main\n",
    "Changes to be committed:\n",
    "  (use \"git restore --staged <file>...\" to unstage)\n",
    "        modified:   file.txt\n",
    "\n",
    "Changes not staged for commit:\n",
    "  (use \"git add <file>...\" to update what will be committed)\n",
    "  (use \"git restore <file>...\" to discard changes in working directory)\n",
    "        modified:   file.txt\n",
    "\n",
    "$ git show HEAD:file.txt\n",
    "$ git show :file.txt\n",
    "line 1\n",
    "$ cat file.txt\n",
    "line 1\n",
    "line 2\n",
    "$ git restore file.txt\n",
    "$ git status          \n",
    "On branch main\n",
    "Changes to be committed:\n",
    "  (use \"git restore --staged <file>...\" to unstage)\n",
    "        modified:   file.txt\n",
    "\n",
    "$ git show :file.txt  \n",
    "line 1\n",
    "$ cat file.txt      \n",
    "line 1\n",
    "```"
   ]
  },
  {
   "cell_type": "markdown",
   "id": "ab7e4daf",
   "metadata": {},
   "source": []
  }
 ],
 "metadata": {
  "language_info": {
   "name": "python"
  }
 },
 "nbformat": 4,
 "nbformat_minor": 5
}
