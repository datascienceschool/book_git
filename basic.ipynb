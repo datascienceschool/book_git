{
 "cells": [
  {
   "cell_type": "code",
   "execution_count": 1,
   "id": "5096d5d7",
   "metadata": {
    "vscode": {
     "languageId": "shellscript"
    }
   },
   "outputs": [],
   "source": [
    "# | echo: false\n",
    "# | output: false\n",
    "export LANG=en_US.UTF-8\n",
    "export HOME=/Users/joelkim/Work/personal/book_git\n",
    "cd $HOME"
   ]
  },
  {
   "cell_type": "markdown",
   "id": "ab22d5ad",
   "metadata": {},
   "source": [
    "# 기본 동작"
   ]
  },
  {
   "cell_type": "markdown",
   "id": "7545043c",
   "metadata": {},
   "source": [
    "## 파일의 위치"
   ]
  },
  {
   "cell_type": "markdown",
   "id": "864e527a",
   "metadata": {},
   "source": [
    "- git의 파일 상태를 이해하기 위해서는 파일의 \"위치\"라는 개념을 상상하면 이해가 쉬움\n",
    "- \"위치\" 개념은 git의 공식 설명은 아니며 이해를 돕기 위한 것임"
   ]
  },
  {
   "cell_type": "markdown",
   "id": "0aa95c1c",
   "metadata": {},
   "source": [
    "| 이름 | 의미 | 실제 위치 |\n",
    "|-|-|-|\n",
    "| 워크트리(worktree) | 일반적인 디렉토리 | 체크아웃 디렉토리 |\n",
    "| 스테이징 영역(staging area), 스테이지(stage) 또는 인덱스(index) | 레포지토리에 들어가기전의 임시 위치 | `.git` 디렉토리의 `objects` 서브디렉토리와 `.git` 디렉토리의 `index` 파일 |\n",
    "| 레포지토리(repository) | 버전 기록이 저장되는 위치 | `.git` 디렉토리의 `objects` 서브디렉토리 |\n"
   ]
  },
  {
   "cell_type": "markdown",
   "id": "5e8ab4c7",
   "metadata": {},
   "source": [
    "![그림: 파일의 위치](figs/fig_basic_01.png){width=100%}"
   ]
  },
  {
   "cell_type": "markdown",
   "id": "8d6c39f9",
   "metadata": {},
   "source": [
    "## 비추적(untracked) 파일과 추적(tracked) 파일"
   ]
  },
  {
   "cell_type": "markdown",
   "id": "5db491dc",
   "metadata": {},
   "source": [
    "- untracked: 레포지토리에 기록되지 않은 상태\n",
    "- tracked: 레포지토리에 기록된 상태"
   ]
  },
  {
   "cell_type": "markdown",
   "id": "00846f87",
   "metadata": {},
   "source": [
    "## 파일의 상태"
   ]
  },
  {
   "cell_type": "markdown",
   "id": "3cd77de7",
   "metadata": {},
   "source": [
    "- 워크트리와 스테이지에 있는 파일은 상태(status)를 가진다.\n",
    "- 2글자로 표시되며 글자의 위치가 파일의 위치를 가리킨다.\n",
    "- 글자가 뒤에 있고 앞가 공백이면 위크트리에 존재하는 파일\n",
    "- 글자가 앞에 있고 뒤가 공백이면 스테이지에 존재하는 파일\n"
   ]
  },
  {
   "cell_type": "markdown",
   "id": "18a32f7f",
   "metadata": {},
   "source": [
    "| 위치 | 추적/비추적 | 상태 | 표시 | 설명 |\n",
    "|--|--|--|--|--------|\n",
    "| 워크트리 | untracked | new | \"`??`\" | 레포지토리에 기록되지 않거나 스테이지에 올라가지 않은 파일 |\n",
    "| &nbsp; | tracked | clean | 미표시 | 레포지토리에 기록된 파일로 레포지토리와 파일 내용이 같은 상태  |\n",
    "| &nbsp; | tracked | modified | \"`␣M`\" | 레포지토리에 기록된 파일로 레포지토리와 파일 내용이 다른 상태 |\n",
    "| &nbsp; | tracked | deleted | \"`␣D`\" | 레포지토리에 기록된 파일로 삭제된 상태 |\n",
    "| &nbsp; | tracked | renamed | \"`␣R`\" | 레포지토리에 기록된 파일로 이름이 바뀐 상태 |\n",
    "| 스테이지 | untracked | added | \"`A␣`\" | 처음으로 기록되어 스테이지에 들어온 상태 |\n",
    "| &nbsp; | tracked | modified | \"`M␣`\" | 예전에 기록된 파일로 변경되어 스테이지에 들어온 상태 |\n",
    "| &nbsp; | tracked | deleted | \"`D␣`\" | 예전에 기록된 파일로 삭제되어 스테이지에 들어온 상태 |\n",
    "| &nbsp; | tracked | renamed | \"`R␣`\" | 예전에 기록된 파일로 이름이 바뀌어 스테이지에 들어온 상태 |\n"
   ]
  },
  {
   "cell_type": "markdown",
   "id": "45ed0eab",
   "metadata": {},
   "source": [
    "## `status` 명령"
   ]
  },
  {
   "cell_type": "markdown",
   "id": "3efb62a1",
   "metadata": {},
   "source": [
    "- `status` 명령을 사용하면 파일의 위치 및 상태를 볼 수 있음"
   ]
  },
  {
   "cell_type": "markdown",
   "id": "15201161",
   "metadata": {},
   "source": [
    "#### 실습"
   ]
  },
  {
   "cell_type": "markdown",
   "id": "2eebc11b",
   "metadata": {},
   "source": [
    "- 레포지토리 생성"
   ]
  },
  {
   "cell_type": "code",
   "execution_count": 2,
   "id": "67b61b4a",
   "metadata": {
    "vscode": {
     "languageId": "shellscript"
    }
   },
   "outputs": [
    {
     "name": "stdout",
     "output_type": "stream",
     "text": [
      "Initialized empty Git repository in /Users/joelkim/Work/personal/book_git/lab/test_basic_01/.git/\n"
     ]
    }
   ],
   "source": [
    "# | output: false\n",
    "cd $HOME/lab\n",
    "rm -rf test_basic_01\n",
    "git init test_basic_01"
   ]
  },
  {
   "cell_type": "markdown",
   "id": "22b96452",
   "metadata": {},
   "source": [
    ":::{.cell}\n",
    "::::{.cell-output .cell-output-stdout}\n",
    "Initialized empty Git repository in ~/lab/test_basic_01/.git/\n",
    "::::\n",
    ":::"
   ]
  },
  {
   "cell_type": "markdown",
   "id": "705c7a39",
   "metadata": {},
   "source": [
    "- 상태 확인"
   ]
  },
  {
   "cell_type": "code",
   "execution_count": 3,
   "id": "f83d5544",
   "metadata": {
    "vscode": {
     "languageId": "shellscript"
    }
   },
   "outputs": [
    {
     "name": "stdout",
     "output_type": "stream",
     "text": [
      "On branch main\n",
      "\n",
      "No commits yet\n",
      "\n",
      "nothing to commit (create/copy files and use \"git add\" to track)\n"
     ]
    }
   ],
   "source": [
    "cd test_basic_01\n",
    "git status"
   ]
  },
  {
   "cell_type": "markdown",
   "id": "4bb2f126",
   "metadata": {},
   "source": [
    "## 기본 동작"
   ]
  },
  {
   "cell_type": "markdown",
   "id": "c209de95",
   "metadata": {},
   "source": [
    "| 동작 | 명령 | 내용 | 설명 |\n",
    "|-|-|--|----|\n",
    "| 스테이징(staging) | add | 워크트리의 파일을 스테이지로 **복사** | 스테이지에 워트크리 파일의 복사본이 생기고 워크트리의 파일은 **그대로 유지** |\n",
    "| 커밋(commit) | commit | 스테이지의 파일을 레포지토리로 **이동** | 레포지토리에 스테이지 파일의 복사본이 생기고 스테이지의 파일은 **없어짐** |\n",
    "| 스테이징 취소(unstaging) | restore --staged | 스테이지의 파일을 없앰 | 스테이지에 레포지토리 파일을 복사하면서 스테이지 파일이 없어지고 워크트리는 그대로 유지 |\n",
    "| 워크트리 원복(restore) | restore | 워크트리의 파일을 레포지토리의 파일로 원복 | 워크트리에 스테이지 파일을 복사하면서 워크트리의 파일의 변화가 없어짐 |\n"
   ]
  },
  {
   "cell_type": "markdown",
   "id": "0343bed3",
   "metadata": {},
   "source": [
    "## `add`, `commit` 명령"
   ]
  },
  {
   "cell_type": "markdown",
   "id": "f0755808",
   "metadata": {},
   "source": [
    "- `add`, `commit` 명령을 이용하면 스테이지 또는 레포지토리에 파일을 생성할 수 있음\n",
    "- `add` 명령은 워크트리의 파일을 스테이지로 복사하고 워크트리의 파일은 그대로 유지 (워크트리 -> 스테이지)\n",
    "- `commit` 명령은 스테이지의 파일을 레포지토리로 복사하고 스테이지의 파일을 삭제 (스테이지 -> 레포지토리)"
   ]
  },
  {
   "cell_type": "markdown",
   "id": "4e9e53a6",
   "metadata": {},
   "source": [
    "| 행위 | 워크트리 | 스테이지 | 레포지토리 | 명령 | 설명 | \n",
    "|-|--|--|--|--|--|\n",
    "| 스테이징 | (1) 워크트리 파일 내용을 이용하여 | (2) 스테이지 파일 추가(갱신)  | - | `git add` | 스테이지에 워크트리 파일 추가(갱신) |\n",
    "| 커밋 | - | (1) 스테이지 파일 내용을 이용하여 | (2) 레포 파일 추가(갱신) | `git commit` | 레포에 스테이지 파일 추가(갱신) |   \n"
   ]
  },
  {
   "cell_type": "markdown",
   "id": "e7121c6f",
   "metadata": {},
   "source": [
    "#### 실습 1: add, commit"
   ]
  },
  {
   "cell_type": "markdown",
   "id": "913b8552",
   "metadata": {},
   "source": [
    "- (1) 파일 생성"
   ]
  },
  {
   "cell_type": "code",
   "execution_count": 4,
   "id": "5c72496e",
   "metadata": {
    "vscode": {
     "languageId": "shellscript"
    }
   },
   "outputs": [
    {
     "name": "stdout",
     "output_type": "stream",
     "text": [
      "total 8\n",
      "-rw-r--r--@ 1 joelkim  staff  7 Aug 18 23:03 file.txt\n"
     ]
    }
   ],
   "source": [
    "echo \"line 1\" >> file.txt\n",
    "ls -l"
   ]
  },
  {
   "cell_type": "code",
   "execution_count": 5,
   "id": "99c2328a",
   "metadata": {
    "vscode": {
     "languageId": "shellscript"
    }
   },
   "outputs": [
    {
     "name": "stdout",
     "output_type": "stream",
     "text": [
      "On branch main\n",
      "\n",
      "No commits yet\n",
      "\n",
      "Untracked files:\n",
      "  (use \"git add <file>...\" to include in what will be committed)\n",
      "\tfile.txt\n",
      "\n",
      "nothing added to commit but untracked files present (use \"git add\" to track)\n"
     ]
    }
   ],
   "source": [
    "git status    # 현재 상태 조회"
   ]
  },
  {
   "cell_type": "code",
   "execution_count": 6,
   "id": "ad23d1a4",
   "metadata": {
    "vscode": {
     "languageId": "shellscript"
    }
   },
   "outputs": [
    {
     "name": "stdout",
     "output_type": "stream",
     "text": [
      "?? file.txt\n"
     ]
    }
   ],
   "source": [
    "git status -s"
   ]
  },
  {
   "cell_type": "markdown",
   "id": "c0157178",
   "metadata": {},
   "source": [
    "![그림: add 명령](figs/fig_basic_02.png){width=100%}"
   ]
  },
  {
   "cell_type": "markdown",
   "id": "dfe8060f",
   "metadata": {},
   "source": [
    "- (2) 파일 add"
   ]
  },
  {
   "cell_type": "code",
   "execution_count": 7,
   "id": "2357c796",
   "metadata": {
    "vscode": {
     "languageId": "shellscript"
    }
   },
   "outputs": [],
   "source": [
    "git add file.txt"
   ]
  },
  {
   "cell_type": "code",
   "execution_count": 8,
   "id": "0f976971",
   "metadata": {
    "vscode": {
     "languageId": "shellscript"
    }
   },
   "outputs": [
    {
     "name": "stdout",
     "output_type": "stream",
     "text": [
      "On branch main\n",
      "\n",
      "No commits yet\n",
      "\n",
      "Changes to be committed:\n",
      "  (use \"git rm --cached <file>...\" to unstage)\n",
      "\tnew file:   file.txt\n",
      "\n"
     ]
    }
   ],
   "source": [
    "git status"
   ]
  },
  {
   "cell_type": "code",
   "execution_count": 9,
   "id": "a93ff761",
   "metadata": {
    "vscode": {
     "languageId": "shellscript"
    }
   },
   "outputs": [
    {
     "name": "stdout",
     "output_type": "stream",
     "text": [
      "A  file.txt\n"
     ]
    }
   ],
   "source": [
    "git status -s"
   ]
  },
  {
   "cell_type": "markdown",
   "id": "81db61cb",
   "metadata": {},
   "source": [
    "![그림: add 명령](figs/fig_basic_03.png){width=100%}"
   ]
  },
  {
   "cell_type": "markdown",
   "id": "518bcc64",
   "metadata": {},
   "source": [
    "- (3) 파일 커밋"
   ]
  },
  {
   "cell_type": "code",
   "execution_count": 10,
   "id": "dd8c52d8",
   "metadata": {
    "vscode": {
     "languageId": "shellscript"
    }
   },
   "outputs": [
    {
     "name": "stdout",
     "output_type": "stream",
     "text": [
      "[main (root-commit) 6b884f4] add file.txt\n",
      " 1 file changed, 1 insertion(+)\n",
      " create mode 100644 file.txt\n"
     ]
    }
   ],
   "source": [
    "git commit -m \"add file.txt\""
   ]
  },
  {
   "cell_type": "code",
   "execution_count": 11,
   "id": "b9baa1c2",
   "metadata": {
    "vscode": {
     "languageId": "shellscript"
    }
   },
   "outputs": [
    {
     "name": "stdout",
     "output_type": "stream",
     "text": [
      "On branch main\n",
      "nothing to commit, working tree clean\n"
     ]
    }
   ],
   "source": [
    "git status"
   ]
  },
  {
   "cell_type": "code",
   "execution_count": 12,
   "id": "805ce669",
   "metadata": {
    "vscode": {
     "languageId": "shellscript"
    }
   },
   "outputs": [],
   "source": [
    "git status -s"
   ]
  },
  {
   "cell_type": "markdown",
   "id": "0c2f73bc",
   "metadata": {},
   "source": [
    "![그림: commit 명령](figs/fig_basic_04.png){width=100%}"
   ]
  },
  {
   "cell_type": "markdown",
   "id": "2fcea75d",
   "metadata": {},
   "source": [
    "- (4) 파일 수정"
   ]
  },
  {
   "cell_type": "code",
   "execution_count": 13,
   "id": "da608565",
   "metadata": {
    "vscode": {
     "languageId": "shellscript"
    }
   },
   "outputs": [],
   "source": [
    "echo \"line 2\" >> file.txt"
   ]
  },
  {
   "cell_type": "code",
   "execution_count": 14,
   "id": "bbd1561c",
   "metadata": {
    "vscode": {
     "languageId": "shellscript"
    }
   },
   "outputs": [
    {
     "name": "stdout",
     "output_type": "stream",
     "text": [
      "On branch main\n",
      "Changes not staged for commit:\n",
      "  (use \"git add <file>...\" to update what will be committed)\n",
      "  (use \"git restore <file>...\" to discard changes in working directory)\n",
      "\tmodified:   file.txt\n",
      "\n",
      "no changes added to commit (use \"git add\" and/or \"git commit -a\")\n"
     ]
    }
   ],
   "source": [
    "git status"
   ]
  },
  {
   "cell_type": "code",
   "execution_count": 15,
   "id": "571c46c2",
   "metadata": {
    "vscode": {
     "languageId": "shellscript"
    }
   },
   "outputs": [
    {
     "name": "stdout",
     "output_type": "stream",
     "text": [
      " M file.txt\n"
     ]
    }
   ],
   "source": [
    "git status -s"
   ]
  },
  {
   "cell_type": "markdown",
   "id": "f24099be",
   "metadata": {},
   "source": [
    "![그림: tracked 파일 변경](figs/fig_basic_05.png){width=100%}"
   ]
  },
  {
   "cell_type": "markdown",
   "id": "cf4f578e",
   "metadata": {},
   "source": [
    "- (5) 수정 파일 add"
   ]
  },
  {
   "cell_type": "code",
   "execution_count": 16,
   "id": "f8fc06ab",
   "metadata": {
    "vscode": {
     "languageId": "shellscript"
    }
   },
   "outputs": [],
   "source": [
    "git add file.txt"
   ]
  },
  {
   "cell_type": "code",
   "execution_count": 17,
   "id": "cb375768",
   "metadata": {
    "vscode": {
     "languageId": "shellscript"
    }
   },
   "outputs": [
    {
     "name": "stdout",
     "output_type": "stream",
     "text": [
      "On branch main\n",
      "Changes to be committed:\n",
      "  (use \"git restore --staged <file>...\" to unstage)\n",
      "\tmodified:   file.txt\n",
      "\n"
     ]
    }
   ],
   "source": [
    "git status"
   ]
  },
  {
   "cell_type": "code",
   "execution_count": 18,
   "id": "2ef9fa07",
   "metadata": {
    "vscode": {
     "languageId": "shellscript"
    }
   },
   "outputs": [
    {
     "name": "stdout",
     "output_type": "stream",
     "text": [
      "M  file.txt\n"
     ]
    }
   ],
   "source": [
    "git status -s"
   ]
  },
  {
   "cell_type": "markdown",
   "id": "de6811ea",
   "metadata": {},
   "source": [
    "![그림: tracked 파일 add](figs/fig_basic_06.png){width=100%}"
   ]
  },
  {
   "cell_type": "markdown",
   "id": "0822bc73",
   "metadata": {},
   "source": [
    "- (6) 수정 파일 commit"
   ]
  },
  {
   "cell_type": "code",
   "execution_count": 19,
   "id": "30bc32a8",
   "metadata": {
    "vscode": {
     "languageId": "shellscript"
    }
   },
   "outputs": [
    {
     "name": "stdout",
     "output_type": "stream",
     "text": [
      "[main 4f088be] modify file.txt\n",
      " 1 file changed, 1 insertion(+)\n"
     ]
    }
   ],
   "source": [
    "git commit -m \"modify file.txt\""
   ]
  },
  {
   "cell_type": "code",
   "execution_count": 20,
   "id": "6d8946bf",
   "metadata": {
    "vscode": {
     "languageId": "shellscript"
    }
   },
   "outputs": [
    {
     "name": "stdout",
     "output_type": "stream",
     "text": [
      "On branch main\n",
      "nothing to commit, working tree clean\n"
     ]
    }
   ],
   "source": [
    "git status"
   ]
  },
  {
   "cell_type": "code",
   "execution_count": 21,
   "id": "eb73996c",
   "metadata": {
    "vscode": {
     "languageId": "shellscript"
    }
   },
   "outputs": [],
   "source": [
    "git status -s"
   ]
  },
  {
   "cell_type": "markdown",
   "id": "1aa087fa",
   "metadata": {},
   "source": [
    "![그림: tracked 파일 comit](figs/fig_basic_07.png){width=100%}"
   ]
  },
  {
   "cell_type": "markdown",
   "id": "e8154950",
   "metadata": {},
   "source": [
    "### `add` 명령과 `commit` 명령이 분리된 이유"
   ]
  },
  {
   "cell_type": "markdown",
   "id": "154952d4",
   "metadata": {},
   "source": [
    "- `commit` 명령에 파일 또는 디렉토리 경로를 붙여서 바로 레포지토리로 넣으면 스테이지 단계가 필요하지 않다.\n",
    "- 그러나 이렇게 명령의 인수로 사용하는 경우 오타나 실수로 잘못된 파일을 레포지토리에 넣거나 넣어야 할 파일을 누락할 가능성이 있다.\n",
    "- 한 번 레포지토리에 들어가면 이후 두번째 커밋으로 해당 파일으르 삭제하더라도 기록이 남는다.\n",
    "- 따라서 `add` 명령으로 `commit` 명령의 인수가 될 파일 목록을 편집(추가 또는 수정, 삭제)할 기회를 제공한다. "
   ]
  },
  {
   "cell_type": "markdown",
   "id": "a0ab8a33",
   "metadata": {},
   "source": [
    "### 추가적인 사용법"
   ]
  },
  {
   "cell_type": "markdown",
   "id": "f6cab1ae",
   "metadata": {},
   "source": [
    "- `commit 파일_또는_디렉토리_경로` 형식으로 파일이나 디렉토리의 경로를 지정하면 스테이지의 파일 전체 목록을 무시하고 해당 파일만 레포지토리로 복사함 (일단 `add` 명령으로 스테이지에 존재하고 있어야 하며 스테이지의 다른 파일들은 스테이지에 그대로 남아 있게 됨)\n",
    "- `commit -a 파일_또는_디렉토리_경로` 형식으로 `-a` 옵션을 사용하면 `add` 단계를 자체적으로 실행하므로 별도의 `git add` 없이 바로 스테이지를 거쳐 레포지토리에 커밋됨 (커밋 후에는 스테이지에서 삭제됨)"
   ]
  },
  {
   "cell_type": "markdown",
   "id": "dc4f593b",
   "metadata": {},
   "source": [
    "```{mermaid}\n",
    "flowchart TB\n",
    "  subgraph 워크트리\n",
    "    start([\" \"])\n",
    "    untracked[\"untracked, new\"]\n",
    "    clean[\"tracked, clean\"]\n",
    "    modified[\"tracked, modified\"]\n",
    "    renamed[\"tracked, renamed\"]\n",
    "    deleted[\"tracked, deleted\"]\n",
    "  end\n",
    "\n",
    "  subgraph 스테이지\n",
    "    add_in_stage[\"untracked, add\"]\n",
    "    modified_in_stage[\"tracked, modified\"]\n",
    "    renamed_in_stage[\"tracked, renamed\"]\n",
    "    deleted_in_stage[\"tracked, deleted\"]\n",
    "  end\n",
    "\n",
    "  subgraph 레포지토리\n",
    "    committed\n",
    "\n",
    "  end\n",
    "\n",
    "  start -- \"(1) 파일 생성\" --> untracked -- \"(2) git add\" --> add_in_stage -- \"(3) git commit\" --> committed\n",
    "  untracked -- \"(3) git commit\" --> clean\n",
    "  clean -- \"(4) 파일 수정\" --> modified -- \"(5) git add\" --> modified_in_stage -- \"(6) git commit\" --> committed\n",
    "  clean -- \"파일 이름변경\" --> renamed -- \"git add\" --> renamed_in_stage -- \"git commit\" --> committed\n",
    "  clean -- \"파일 삭제\" --> deleted -- \"git add\" --> deleted_in_stage -- \"git commit\" --> committed\n",
    "\n",
    "    \n",
    "```"
   ]
  },
  {
   "cell_type": "markdown",
   "id": "c441915c",
   "metadata": {},
   "source": [
    "## `restore` 명령\n"
   ]
  },
  {
   "cell_type": "markdown",
   "id": "369b360e",
   "metadata": {},
   "source": [
    "- `restore` 명령을 이용하면 스테이지 또는 레포지토리에 파일을 원복할 수 있음\n",
    "- `--staged` 인수가 있는 `restore --staged` 명령은 레포지토리의 파일을 스테이지로 복사함으로써 스테이지의 파일을 삭제하고 워크트리의 파일은 그대로 유지 (`git add` 명령의 취소)\n",
    "- 인수가 없는 `restore` 명령은 레포지토리 또는 스테이지의 파일을 워크트리로 복사함으로써 워크트리의 파일을 원복시킨다. (파일 편집 취소)\n",
    "  - 만약 스테이지에 들어간 내용이 없으면 레포지토리의 내용으로 덮어쓴다.\n",
    "  - 만약 변경되어 스테이지에 들어간 내용이 있으면 레포지토리가 아닌 스테이지의 내용으로 덮어쓴다.\n",
    "- 만약 워크트리도 원복하고 스테이지에 add된 파일도 없애려면 `restore --staged` 명령과 `restore` 명령을 순차적으로 (순서가 중요함!) 실행해야 함 \n",
    "- 워크트리/스테이지 동시 원복은 `reset --hard HEAD` 명령으로 한번에 가능하지만 권장하지 않음\n"
   ]
  },
  {
   "cell_type": "markdown",
   "id": "d4f914f8",
   "metadata": {},
   "source": [
    "| 행위 | 워크트리 | 스테이지 | 레포지토리 | 명령 | 설명 | \n",
    "|-|--|--|--|--|--|\n",
    "| 스테이징 취소 | - | (2) 스테이지 파일 삭제 | (1) 레포 파일 내용을 이용하여 | `git restore --staged` | 스테이지 파일이 있으면 스테이지 파일 삭제, 없으면 아무 일도 일어나지 않는다. 즉, 커밋될 예정인 파일 목록에서 파일을 없앤다  |\n",
    "| 워크트리 원복 | (2) 워크트리 파일 원복 | (1) 스테이지 파일 내용을 이용하여 | -  | `git restore` | 워크트리의 변경된 파일을 마지막 스테이징된 상태로 되돌린다. |\n"
   ]
  },
  {
   "cell_type": "markdown",
   "id": "98731016",
   "metadata": {},
   "source": [
    "```{mermaid}\n",
    "flowchart BT\n",
    "  subgraph 워크트리\n",
    "    untracked\n",
    "    clean\n",
    "    modified\n",
    "    renamed\n",
    "    deleted\n",
    "  end\n",
    "\n",
    "  subgraph 스테이지\n",
    "    new_in_stage[\"new\"]\n",
    "    modified_in_stage[\"modified\"]\n",
    "    renamed_in_stage[\"renamed\"]\n",
    "    deleted_in_stage[\"deleted\"]\n",
    "  end\n",
    "\n",
    "\n",
    "  modified -- \"git restore\" --> clean\n",
    "  renamed -- \"git restore\" --> clean\n",
    "  deleted -- \"git restore\" --> clean\n",
    "  new_in_stage -- \"git restore --staged\" --> untracked\n",
    "  modified_in_stage -- \"git restore --staged\" --> modified\n",
    "  renamed_in_stage -- \"git restore --staged\" --> renamed\n",
    "  deleted_in_stage -- \"git restore --staged\" --> deleted\n",
    "\n",
    "    \n",
    "```"
   ]
  },
  {
   "cell_type": "markdown",
   "id": "7c8dd84c",
   "metadata": {},
   "source": [
    "#### 실습 2: restore"
   ]
  },
  {
   "cell_type": "code",
   "execution_count": 22,
   "id": "f1b5f14d",
   "metadata": {
    "vscode": {
     "languageId": "shellscript"
    }
   },
   "outputs": [
    {
     "name": "stdout",
     "output_type": "stream",
     "text": [
      "On branch main\n",
      "nothing to commit, working tree clean\n"
     ]
    }
   ],
   "source": [
    "git status"
   ]
  },
  {
   "cell_type": "markdown",
   "id": "6fbc6016",
   "metadata": {},
   "source": [
    "- 파일 변경 "
   ]
  },
  {
   "cell_type": "code",
   "execution_count": 23,
   "id": "06a09515",
   "metadata": {
    "vscode": {
     "languageId": "shellscript"
    }
   },
   "outputs": [
    {
     "name": "stdout",
     "output_type": "stream",
     "text": [
      "On branch main\n",
      "Changes not staged for commit:\n",
      "  (use \"git add <file>...\" to update what will be committed)\n",
      "  (use \"git restore <file>...\" to discard changes in working directory)\n",
      "\tmodified:   file.txt\n",
      "\n",
      "no changes added to commit (use \"git add\" and/or \"git commit -a\")\n"
     ]
    }
   ],
   "source": [
    "echo \"line 3\" >> file.txt\n",
    "git status"
   ]
  },
  {
   "cell_type": "markdown",
   "id": "57726e73",
   "metadata": {},
   "source": [
    "- 스테이징 하기 전에 `git restore` 명령을 사용하면 레포지토리 버전으로 원복"
   ]
  },
  {
   "cell_type": "code",
   "execution_count": 24,
   "id": "3394c03b",
   "metadata": {
    "vscode": {
     "languageId": "shellscript"
    }
   },
   "outputs": [
    {
     "name": "stdout",
     "output_type": "stream",
     "text": [
      "On branch main\n",
      "nothing to commit, working tree clean\n"
     ]
    }
   ],
   "source": [
    "git restore file.txt\n",
    "git status"
   ]
  },
  {
   "cell_type": "markdown",
   "id": "9f93a1c5",
   "metadata": {},
   "source": [
    "![그림: git restore](figs/fig_basic_08.png){width=100%}"
   ]
  },
  {
   "cell_type": "markdown",
   "id": "6676f0a1",
   "metadata": {},
   "source": [
    "- 다시 변경 후 add 명령으로 스테이징"
   ]
  },
  {
   "cell_type": "code",
   "execution_count": 25,
   "id": "e29cdf00",
   "metadata": {
    "vscode": {
     "languageId": "shellscript"
    }
   },
   "outputs": [],
   "source": [
    "echo \"line 3\" >> file.txt\n",
    "git add file.txt"
   ]
  },
  {
   "cell_type": "markdown",
   "id": "abed356c",
   "metadata": {},
   "source": [
    "- `git restore --staged` 명령을 사용하면 레포지토리 버전으로 스테이지를 덮어 쓴다. 즉 add 명령을 취소한 셈이 된다. 워크트리의 변경사항은 그대로 유지된다."
   ]
  },
  {
   "cell_type": "code",
   "execution_count": 26,
   "id": "9308538d",
   "metadata": {
    "vscode": {
     "languageId": "shellscript"
    }
   },
   "outputs": [
    {
     "name": "stdout",
     "output_type": "stream",
     "text": [
      "On branch main\n",
      "Changes not staged for commit:\n",
      "  (use \"git add <file>...\" to update what will be committed)\n",
      "  (use \"git restore <file>...\" to discard changes in working directory)\n",
      "\tmodified:   file.txt\n",
      "\n",
      "no changes added to commit (use \"git add\" and/or \"git commit -a\")\n"
     ]
    }
   ],
   "source": [
    "git restore --staged file.txt\n",
    "git status"
   ]
  },
  {
   "cell_type": "markdown",
   "id": "c006cebb",
   "metadata": {},
   "source": [
    "![그림: git restore --staged](figs/fig_basic_09.png){width=100%}"
   ]
  },
  {
   "cell_type": "markdown",
   "id": "52b8f6ef",
   "metadata": {},
   "source": [
    "- 이번에는 스테이에 add 한 후에 다시 워크트리의 파일을 변경"
   ]
  },
  {
   "cell_type": "code",
   "execution_count": 27,
   "id": "c273fda1",
   "metadata": {
    "vscode": {
     "languageId": "shellscript"
    }
   },
   "outputs": [
    {
     "name": "stdout",
     "output_type": "stream",
     "text": [
      "On branch main\n",
      "Changes to be committed:\n",
      "  (use \"git restore --staged <file>...\" to unstage)\n",
      "\tmodified:   file.txt\n",
      "\n"
     ]
    }
   ],
   "source": [
    "git add file.txt\n",
    "git status"
   ]
  },
  {
   "cell_type": "code",
   "execution_count": 28,
   "id": "63d7dd51",
   "metadata": {
    "vscode": {
     "languageId": "shellscript"
    }
   },
   "outputs": [
    {
     "name": "stdout",
     "output_type": "stream",
     "text": [
      "line 1\n",
      "line 2\n",
      "line 3\n"
     ]
    }
   ],
   "source": [
    "cat file.txt"
   ]
  },
  {
   "cell_type": "markdown",
   "id": "74bfa958",
   "metadata": {},
   "source": [
    "- 스테이지에 add 한 파일이 있는 경우 git restore를 하면 레포지토리가 아닌 스테이지의 파일로 워크트리를 덮어쓰므로 워크트리(와 스테이지 모두)에는 아무런 변화가 없다."
   ]
  },
  {
   "cell_type": "code",
   "execution_count": 29,
   "id": "e4125a32",
   "metadata": {
    "vscode": {
     "languageId": "shellscript"
    }
   },
   "outputs": [
    {
     "name": "stdout",
     "output_type": "stream",
     "text": [
      "On branch main\n",
      "Changes to be committed:\n",
      "  (use \"git restore --staged <file>...\" to unstage)\n",
      "\tmodified:   file.txt\n",
      "\n"
     ]
    }
   ],
   "source": [
    "git restore file.txt\n",
    "git status"
   ]
  },
  {
   "cell_type": "code",
   "execution_count": 30,
   "id": "e9422229",
   "metadata": {
    "vscode": {
     "languageId": "shellscript"
    }
   },
   "outputs": [
    {
     "name": "stdout",
     "output_type": "stream",
     "text": [
      "line 1\n",
      "line 2\n",
      "line 3\n"
     ]
    }
   ],
   "source": [
    "cat file.txt"
   ]
  },
  {
   "cell_type": "markdown",
   "id": "1d5432a9",
   "metadata": {},
   "source": [
    "![그림: 스테이지에 파일이 있는 경우 git restore](figs/fig_basic_10.png){width=100%}"
   ]
  },
  {
   "cell_type": "markdown",
   "id": "44092a75",
   "metadata": {},
   "source": [
    "- 이제는 스테이지에 파알을 add 한 이후에 다시 워크트리 파일을 수정한다."
   ]
  },
  {
   "cell_type": "code",
   "execution_count": 31,
   "id": "64121d2c",
   "metadata": {
    "vscode": {
     "languageId": "shellscript"
    }
   },
   "outputs": [],
   "source": [
    "echo \"line 4\" >> file.txt"
   ]
  },
  {
   "cell_type": "markdown",
   "id": "5ee1a593",
   "metadata": {},
   "source": [
    "- 이렇게 하면 레포지토리, 스테이지, 워크트리의 파일이 모두 다름"
   ]
  },
  {
   "cell_type": "code",
   "execution_count": 32,
   "id": "ade1f8b0",
   "metadata": {
    "vscode": {
     "languageId": "shellscript"
    }
   },
   "outputs": [
    {
     "name": "stdout",
     "output_type": "stream",
     "text": [
      "On branch main\n",
      "Changes to be committed:\n",
      "  (use \"git restore --staged <file>...\" to unstage)\n",
      "\tmodified:   file.txt\n",
      "\n",
      "Changes not staged for commit:\n",
      "  (use \"git add <file>...\" to update what will be committed)\n",
      "  (use \"git restore <file>...\" to discard changes in working directory)\n",
      "\tmodified:   file.txt\n",
      "\n"
     ]
    }
   ],
   "source": [
    "git status"
   ]
  },
  {
   "cell_type": "markdown",
   "id": "06638565",
   "metadata": {},
   "source": [
    "- 레포지토리 버전"
   ]
  },
  {
   "cell_type": "code",
   "execution_count": 33,
   "id": "189027de",
   "metadata": {
    "vscode": {
     "languageId": "shellscript"
    }
   },
   "outputs": [
    {
     "name": "stdout",
     "output_type": "stream",
     "text": [
      "line 1\n",
      "line 2\n"
     ]
    }
   ],
   "source": [
    "git show HEAD:file.txt"
   ]
  },
  {
   "cell_type": "markdown",
   "id": "4a00344f",
   "metadata": {},
   "source": [
    "- 스테이지 버전"
   ]
  },
  {
   "cell_type": "code",
   "execution_count": 34,
   "id": "8b1c5858",
   "metadata": {
    "vscode": {
     "languageId": "shellscript"
    }
   },
   "outputs": [
    {
     "name": "stdout",
     "output_type": "stream",
     "text": [
      "line 1\n",
      "line 2\n",
      "line 3\n"
     ]
    }
   ],
   "source": [
    "git show :file.txt"
   ]
  },
  {
   "cell_type": "markdown",
   "id": "9f33a93e",
   "metadata": {},
   "source": [
    "- 워크트리 버전"
   ]
  },
  {
   "cell_type": "code",
   "execution_count": 35,
   "id": "035e3a84",
   "metadata": {
    "vscode": {
     "languageId": "shellscript"
    }
   },
   "outputs": [
    {
     "name": "stdout",
     "output_type": "stream",
     "text": [
      "line 1\n",
      "line 2\n",
      "line 3\n",
      "line 4\n"
     ]
    }
   ],
   "source": [
    "cat file.txt"
   ]
  },
  {
   "cell_type": "markdown",
   "id": "6d9b87f5",
   "metadata": {},
   "source": [
    "- 이 때 `git restore` 명령을 실행하면 스테이지에 파일이 있으므로 스테이지 버전으로 워크트리를 덮어쓴다."
   ]
  },
  {
   "cell_type": "code",
   "execution_count": 36,
   "id": "86876dea",
   "metadata": {
    "vscode": {
     "languageId": "shellscript"
    }
   },
   "outputs": [],
   "source": [
    "git restore file.txt"
   ]
  },
  {
   "cell_type": "markdown",
   "id": "c5a99d14",
   "metadata": {},
   "source": [
    "- 따라서 마지막 워크트리 변경사항만 없어지고 스테이징한 변경사항은 그대로 남는다."
   ]
  },
  {
   "cell_type": "code",
   "execution_count": 37,
   "id": "37c27497",
   "metadata": {
    "vscode": {
     "languageId": "shellscript"
    }
   },
   "outputs": [
    {
     "name": "stdout",
     "output_type": "stream",
     "text": [
      "On branch main\n",
      "Changes to be committed:\n",
      "  (use \"git restore --staged <file>...\" to unstage)\n",
      "\tmodified:   file.txt\n",
      "\n"
     ]
    }
   ],
   "source": [
    "git status"
   ]
  },
  {
   "cell_type": "code",
   "execution_count": 38,
   "id": "dcd60051",
   "metadata": {
    "vscode": {
     "languageId": "shellscript"
    }
   },
   "outputs": [
    {
     "name": "stdout",
     "output_type": "stream",
     "text": [
      "line 1\n",
      "line 2\n",
      "line 3\n"
     ]
    }
   ],
   "source": [
    "cat file.txt"
   ]
  },
  {
   "cell_type": "markdown",
   "id": "c25cc1bc",
   "metadata": {},
   "source": [
    "![그림: 스테이지 파일이 있는 경우의 git restore](figs/fig_basic_11.png){width=100%}"
   ]
  },
  {
   "cell_type": "markdown",
   "id": "885d5cb8",
   "metadata": {},
   "source": [
    "- `git restore --staged` 명령은 레포지토리 버전으로 스테이지 파일을 원복한다."
   ]
  },
  {
   "cell_type": "code",
   "execution_count": 39,
   "id": "69f6ddbc",
   "metadata": {
    "vscode": {
     "languageId": "shellscript"
    }
   },
   "outputs": [
    {
     "name": "stdout",
     "output_type": "stream",
     "text": [
      "On branch main\n",
      "Changes not staged for commit:\n",
      "  (use \"git add <file>...\" to update what will be committed)\n",
      "  (use \"git restore <file>...\" to discard changes in working directory)\n",
      "\tmodified:   file.txt\n",
      "\n",
      "no changes added to commit (use \"git add\" and/or \"git commit -a\")\n"
     ]
    }
   ],
   "source": [
    "git restore --staged file.txt\n",
    "git status"
   ]
  },
  {
   "cell_type": "markdown",
   "id": "672f5edf",
   "metadata": {},
   "source": [
    "![그림: git restore --staged](figs/fig_basic_09.png){width=100%}"
   ]
  },
  {
   "cell_type": "markdown",
   "id": "8f03e44e",
   "metadata": {},
   "source": [
    "- 다시 `git restore` 명령을 하면 워크트리의 파일을 원복"
   ]
  },
  {
   "cell_type": "markdown",
   "id": "4bcaf389",
   "metadata": {},
   "source": [
    "![그림: git restore](figs/fig_basic_08.png){width=100%}"
   ]
  },
  {
   "cell_type": "code",
   "execution_count": 40,
   "id": "87f2a755",
   "metadata": {
    "vscode": {
     "languageId": "shellscript"
    }
   },
   "outputs": [
    {
     "name": "stdout",
     "output_type": "stream",
     "text": [
      "On branch main\n",
      "nothing to commit, working tree clean\n"
     ]
    }
   ],
   "source": [
    "git restore file.txt\n",
    "git status"
   ]
  },
  {
   "cell_type": "markdown",
   "id": "43d8772b",
   "metadata": {},
   "source": [
    "## `rm` 명령"
   ]
  },
  {
   "cell_type": "markdown",
   "id": "6e302e3b",
   "metadata": {},
   "source": [
    "- rm 명령을 사용하면 레포지토리의 파일을 삭제하는데 사용하는 명령\n",
    "- rm 명령 자체로 레포지토리의 파일 삭제가 발생하는 것이 아님\n",
    "- rm 명령은 파일을 삭제하겠다는 변경사항을 스테이지에 추가하는 것일 뿐임\n",
    "- 실제로 삭제가 발생하려면 추가적으로 commit 명령까지 수행 해야 함"
   ]
  },
  {
   "cell_type": "markdown",
   "id": "9ed325e5",
   "metadata": {},
   "source": [
    "| 행위 | 워크트리 | 스테이지 | 레포지토리 | 명령 |\n",
    "|----|-|-|-|--|\n",
    "| 스테이지에 삭제 상태 추가 | 워크트리의 해당 파일 유지 | 삭제 상태 추가 | 커밋 이후에 삭제됨 | `git rm --cached` |   |\n",
    "| 스테이지에 삭제 상태 추가하고 워크트리의 파일도 삭제 | 워크트리의 해당 파일 삭제 | 삭제 상태 추가 | 커밋 이후에 삭제됨 | `git rm` | "
   ]
  },
  {
   "cell_type": "markdown",
   "id": "a055a04b",
   "metadata": {},
   "source": [
    "#### 실습 3: rm"
   ]
  },
  {
   "cell_type": "markdown",
   "id": "7c07638d",
   "metadata": {},
   "source": [
    "- 일반적 삭제 과정은 다음 순서를 따른다.\n",
    "  1. 워크트리에서 삭제\n",
    "  2. 삭제 정보를 스테이지에 add\n",
    "  3. commit 명령으로 삭제 확정"
   ]
  },
  {
   "cell_type": "code",
   "execution_count": 41,
   "id": "fd20e15f",
   "metadata": {
    "vscode": {
     "languageId": "shellscript"
    }
   },
   "outputs": [
    {
     "name": "stdout",
     "output_type": "stream",
     "text": [
      "total 8\n",
      "-rw-r--r--@ 1 joelkim  staff  14 Aug 18 23:04 file.txt\n"
     ]
    }
   ],
   "source": [
    "ls -l"
   ]
  },
  {
   "cell_type": "markdown",
   "id": "d6d388e2",
   "metadata": {},
   "source": [
    "- 파일 삭제"
   ]
  },
  {
   "cell_type": "code",
   "execution_count": 42,
   "id": "53bb91c6",
   "metadata": {
    "vscode": {
     "languageId": "shellscript"
    }
   },
   "outputs": [],
   "source": [
    "rm -f file.txt"
   ]
  },
  {
   "cell_type": "code",
   "execution_count": 43,
   "id": "6874c7cd",
   "metadata": {
    "vscode": {
     "languageId": "shellscript"
    }
   },
   "outputs": [
    {
     "name": "stdout",
     "output_type": "stream",
     "text": [
      "total 0\n"
     ]
    }
   ],
   "source": [
    "ls -l"
   ]
  },
  {
   "cell_type": "markdown",
   "id": "13f26f01",
   "metadata": {},
   "source": [
    "![그림: 삭제 상태](figs/fig_basic_12.png){width=100%}"
   ]
  },
  {
   "cell_type": "markdown",
   "id": "35f2d36a",
   "metadata": {},
   "source": [
    "- add 명령으로 스테이징. 이 때 파일이 삭제되어 파일명 인수를 사용하지 못하므로 현재 디렉토리 사용"
   ]
  },
  {
   "cell_type": "code",
   "execution_count": 44,
   "id": "61f6c4a3",
   "metadata": {
    "vscode": {
     "languageId": "shellscript"
    }
   },
   "outputs": [],
   "source": [
    "git add ."
   ]
  },
  {
   "cell_type": "code",
   "execution_count": 45,
   "id": "f8a5c6e1",
   "metadata": {
    "vscode": {
     "languageId": "shellscript"
    }
   },
   "outputs": [
    {
     "name": "stdout",
     "output_type": "stream",
     "text": [
      "On branch main\n",
      "Changes to be committed:\n",
      "  (use \"git restore --staged <file>...\" to unstage)\n",
      "\tdeleted:    file.txt\n",
      "\n"
     ]
    }
   ],
   "source": [
    "git status"
   ]
  },
  {
   "cell_type": "markdown",
   "id": "5e0f3290",
   "metadata": {},
   "source": [
    "![그림: 삭제 add 상태](figs/fig_basic_13.png){width=100%}"
   ]
  },
  {
   "cell_type": "markdown",
   "id": "a9d1c516",
   "metadata": {},
   "source": [
    "- commit 명령으로 삭제 확정"
   ]
  },
  {
   "cell_type": "code",
   "execution_count": 46,
   "id": "3797748e",
   "metadata": {
    "vscode": {
     "languageId": "shellscript"
    }
   },
   "outputs": [
    {
     "name": "stdout",
     "output_type": "stream",
     "text": [
      "[main 8af94bc] delete file.txt\n",
      " 1 file changed, 2 deletions(-)\n",
      " delete mode 100644 file.txt\n"
     ]
    }
   ],
   "source": [
    "git commit -m \"delete file.txt\""
   ]
  },
  {
   "cell_type": "code",
   "execution_count": 47,
   "id": "2ae404e3",
   "metadata": {
    "vscode": {
     "languageId": "shellscript"
    }
   },
   "outputs": [
    {
     "name": "stdout",
     "output_type": "stream",
     "text": [
      "On branch main\n",
      "nothing to commit, working tree clean\n"
     ]
    }
   ],
   "source": [
    "git status"
   ]
  },
  {
   "cell_type": "markdown",
   "id": "0fcbfb6b",
   "metadata": {},
   "source": [
    "![그림: 삭제 확정 상태](figs/fig_basic_14.png){width=100%}"
   ]
  },
  {
   "cell_type": "markdown",
   "id": "20200d1e",
   "metadata": {},
   "source": [
    "- git rm 명령을 실습하기 위해 git reset 명령으로 방금한 커밋을 취소하고 되돌아간다."
   ]
  },
  {
   "cell_type": "code",
   "execution_count": 48,
   "id": "68ffca67",
   "metadata": {
    "vscode": {
     "languageId": "shellscript"
    }
   },
   "outputs": [
    {
     "name": "stdout",
     "output_type": "stream",
     "text": [
      "HEAD is now at 4f088be modify file.txt\n"
     ]
    }
   ],
   "source": [
    "git reset --hard HEAD~1"
   ]
  },
  {
   "cell_type": "markdown",
   "id": "3cb34c73",
   "metadata": {},
   "source": [
    "- git rm 명령을 실행하면 1번과 2번 단계를 한 번에 실행한다. 즉, 워크트리에서 파일이 삭제되며 스테이지에 삭제 정보가 올라간다."
   ]
  },
  {
   "cell_type": "code",
   "execution_count": 49,
   "id": "fd85b3c3",
   "metadata": {
    "vscode": {
     "languageId": "shellscript"
    }
   },
   "outputs": [
    {
     "name": "stdout",
     "output_type": "stream",
     "text": [
      "total 8\n",
      "-rw-r--r--@ 1 joelkim  staff  14 Aug 18 23:04 file.txt\n"
     ]
    }
   ],
   "source": [
    "ls -l"
   ]
  },
  {
   "cell_type": "code",
   "execution_count": 50,
   "id": "27a9f746",
   "metadata": {
    "vscode": {
     "languageId": "shellscript"
    }
   },
   "outputs": [
    {
     "name": "stdout",
     "output_type": "stream",
     "text": [
      "rm 'file.txt'\n"
     ]
    }
   ],
   "source": [
    "git rm file.txt"
   ]
  },
  {
   "cell_type": "code",
   "execution_count": 51,
   "id": "31d2c34a",
   "metadata": {
    "vscode": {
     "languageId": "shellscript"
    }
   },
   "outputs": [
    {
     "name": "stdout",
     "output_type": "stream",
     "text": [
      "total 0\n"
     ]
    }
   ],
   "source": [
    "ls -l"
   ]
  },
  {
   "cell_type": "code",
   "execution_count": 52,
   "id": "dbd88944",
   "metadata": {
    "vscode": {
     "languageId": "shellscript"
    }
   },
   "outputs": [
    {
     "name": "stdout",
     "output_type": "stream",
     "text": [
      "On branch main\n",
      "Changes to be committed:\n",
      "  (use \"git restore --staged <file>...\" to unstage)\n",
      "\tdeleted:    file.txt\n",
      "\n"
     ]
    }
   ],
   "source": [
    "git status"
   ]
  },
  {
   "cell_type": "markdown",
   "id": "9f62d183",
   "metadata": {},
   "source": [
    "- 이 상태에서 커밋을 하면 스테이지의 삭제 정보가 레포지토리로 들어가서 삭제가 확정된다."
   ]
  },
  {
   "cell_type": "code",
   "execution_count": 53,
   "id": "db34773e",
   "metadata": {
    "vscode": {
     "languageId": "shellscript"
    }
   },
   "outputs": [
    {
     "name": "stdout",
     "output_type": "stream",
     "text": [
      "[main 8af94bc] delete file.txt\n",
      " 1 file changed, 2 deletions(-)\n",
      " delete mode 100644 file.txt\n"
     ]
    }
   ],
   "source": [
    "git commit -m \"delete file.txt\""
   ]
  },
  {
   "cell_type": "code",
   "execution_count": 54,
   "id": "92b2b4e9",
   "metadata": {
    "vscode": {
     "languageId": "shellscript"
    }
   },
   "outputs": [
    {
     "name": "stdout",
     "output_type": "stream",
     "text": [
      "On branch main\n",
      "nothing to commit, working tree clean\n"
     ]
    }
   ],
   "source": [
    "git status"
   ]
  },
  {
   "cell_type": "markdown",
   "id": "dd5bc972",
   "metadata": {},
   "source": [
    "- 이번에는 git rm --cached 를 실습하기 위해 git reset 명령으로 방금한 커밋을 취소하고 되돌아간다."
   ]
  },
  {
   "cell_type": "code",
   "execution_count": 55,
   "id": "a61ffe43",
   "metadata": {
    "vscode": {
     "languageId": "shellscript"
    }
   },
   "outputs": [
    {
     "name": "stdout",
     "output_type": "stream",
     "text": [
      "HEAD is now at 4f088be modify file.txt\n"
     ]
    }
   ],
   "source": [
    "git reset --hard HEAD~1"
   ]
  },
  {
   "cell_type": "markdown",
   "id": "16ccdeb6",
   "metadata": {},
   "source": [
    "- git rm --cached 명령을 실행하면 스테이지에 삭제 정보는 올라가지만 워크트리에는 그대로 남는다."
   ]
  },
  {
   "cell_type": "code",
   "execution_count": 56,
   "id": "fa8e3174",
   "metadata": {
    "vscode": {
     "languageId": "shellscript"
    }
   },
   "outputs": [
    {
     "name": "stdout",
     "output_type": "stream",
     "text": [
      "total 8\n",
      "-rw-r--r--@ 1 joelkim  staff  14 Aug 18 23:04 file.txt\n"
     ]
    }
   ],
   "source": [
    "ls -l"
   ]
  },
  {
   "cell_type": "code",
   "execution_count": 57,
   "id": "b60a844a",
   "metadata": {
    "vscode": {
     "languageId": "shellscript"
    }
   },
   "outputs": [
    {
     "name": "stdout",
     "output_type": "stream",
     "text": [
      "rm 'file.txt'\n"
     ]
    }
   ],
   "source": [
    "git rm --cached file.txt"
   ]
  },
  {
   "cell_type": "code",
   "execution_count": 58,
   "id": "ce398f90",
   "metadata": {
    "vscode": {
     "languageId": "shellscript"
    }
   },
   "outputs": [
    {
     "name": "stdout",
     "output_type": "stream",
     "text": [
      "total 8\n",
      "-rw-r--r--@ 1 joelkim  staff  14 Aug 18 23:04 file.txt\n"
     ]
    }
   ],
   "source": [
    "ls -l"
   ]
  },
  {
   "cell_type": "code",
   "execution_count": 59,
   "id": "c068d5f6",
   "metadata": {
    "vscode": {
     "languageId": "shellscript"
    }
   },
   "outputs": [
    {
     "name": "stdout",
     "output_type": "stream",
     "text": [
      "On branch main\n",
      "Changes to be committed:\n",
      "  (use \"git restore --staged <file>...\" to unstage)\n",
      "\tdeleted:    file.txt\n",
      "\n",
      "Untracked files:\n",
      "  (use \"git add <file>...\" to include in what will be committed)\n",
      "\tfile.txt\n",
      "\n"
     ]
    }
   ],
   "source": [
    "git status"
   ]
  },
  {
   "cell_type": "markdown",
   "id": "7c2e603f",
   "metadata": {},
   "source": [
    "- 따라서 삭제 후에는 워크트리에 untracked 파일로 인식된다."
   ]
  },
  {
   "cell_type": "code",
   "execution_count": 60,
   "id": "8442ec87",
   "metadata": {
    "vscode": {
     "languageId": "shellscript"
    }
   },
   "outputs": [
    {
     "name": "stdout",
     "output_type": "stream",
     "text": [
      "[main f3e905b] delete file.txt\n",
      " 1 file changed, 2 deletions(-)\n",
      " delete mode 100644 file.txt\n"
     ]
    }
   ],
   "source": [
    "git commit -m \"delete file.txt\""
   ]
  },
  {
   "cell_type": "code",
   "execution_count": 61,
   "id": "cd8ed86b",
   "metadata": {
    "vscode": {
     "languageId": "shellscript"
    }
   },
   "outputs": [
    {
     "name": "stdout",
     "output_type": "stream",
     "text": [
      "On branch main\n",
      "Untracked files:\n",
      "  (use \"git add <file>...\" to include in what will be committed)\n",
      "\tfile.txt\n",
      "\n",
      "nothing added to commit but untracked files present (use \"git add\" to track)\n"
     ]
    }
   ],
   "source": [
    "git status"
   ]
  }
 ],
 "metadata": {
  "kernelspec": {
   "display_name": "Bash",
   "language": "bash",
   "name": "bash"
  },
  "language_info": {
   "codemirror_mode": "shell",
   "file_extension": ".sh",
   "mimetype": "text/x-sh",
   "name": "bash"
  }
 },
 "nbformat": 4,
 "nbformat_minor": 5
}
