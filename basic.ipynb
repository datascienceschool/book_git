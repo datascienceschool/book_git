{
 "cells": [
  {
   "cell_type": "code",
   "execution_count": 1,
   "id": "5096d5d7",
   "metadata": {
    "vscode": {
     "languageId": "shellscript"
    }
   },
   "outputs": [],
   "source": [
    "# | echo: false\n",
    "# | output: false\n",
    "export LANG=en_US.UTF-8\n",
    "export HOME=/Users/joelkim/Work/personal/book_git\n",
    "cd $HOME"
   ]
  },
  {
   "cell_type": "markdown",
   "id": "ab22d5ad",
   "metadata": {},
   "source": [
    "# 기본 동작"
   ]
  },
  {
   "cell_type": "markdown",
   "id": "7545043c",
   "metadata": {},
   "source": [
    "## 파일의 위치"
   ]
  },
  {
   "cell_type": "markdown",
   "id": "864e527a",
   "metadata": {},
   "source": [
    "- git의 파일 상태를 이해하기 위해서는 파일의 \"위치\"라는 개념을 상상하면 이해가 쉬움\n",
    "- \"위치\" 개념은 git의 공식 설명은 아니며 이해를 돕기 위한 것임"
   ]
  },
  {
   "cell_type": "markdown",
   "id": "0aa95c1c",
   "metadata": {},
   "source": [
    "| 이름 | 의미 | 실제 위치 |\n",
    "|-|-|-|\n",
    "| 워크트리(worktree) | 일반적인 디렉토리 | 체크아웃 디렉토리 |\n",
    "| 스테이징 영역(staging area), 스테이지(stage) 또는 인덱스(index) | 레포지토리에 들어가기전의 임시 위치 | `.git` 디렉토리의 `objects` 서브디렉토리와 `.git` 디렉토리의 `index` 파일 |\n",
    "| 레포지토리(repository) | 버전 기록이 저장되는 위치 | `.git` 디렉토리의 `objects` 서브디렉토리 |\n"
   ]
  },
  {
   "cell_type": "markdown",
   "id": "5e8ab4c7",
   "metadata": {},
   "source": [
    "![그림: 파일의 위치](figs/fig_basic_01.png){width=100%}"
   ]
  },
  {
   "cell_type": "markdown",
   "id": "8d6c39f9",
   "metadata": {},
   "source": [
    "## 비추적(untracked) 파일과 추적(tracked) 파일"
   ]
  },
  {
   "cell_type": "markdown",
   "id": "5db491dc",
   "metadata": {},
   "source": [
    "- untracked: 레포지토리에 기록되지 않은 상태\n",
    "- tracked: 레포지토리에 기록된 상태"
   ]
  },
  {
   "cell_type": "markdown",
   "id": "00846f87",
   "metadata": {},
   "source": [
    "## 파일의 상태"
   ]
  },
  {
   "cell_type": "markdown",
   "id": "3cd77de7",
   "metadata": {},
   "source": [
    "- 워크트리와 스테이지에 있는 파일은 상태(status)를 가진다.\n",
    "- 2글자로 표시되며 글자의 위치가 파일의 위치를 가리킨다.\n",
    "- 글자가 뒤에 있고 앞가 공백이면 위크트리에 존재하는 파일\n",
    "- 글자가 앞에 있고 뒤가 공백이면 스테이지에 존재하는 파일\n"
   ]
  },
  {
   "cell_type": "markdown",
   "id": "18a32f7f",
   "metadata": {},
   "source": [
    "| 위치 | 추적/비추적 | 상태 | 표시 | 설명 |\n",
    "|--|--|--|--|--------|\n",
    "| 워크트리 | untracked | new | \"`??`\" | 레포지토리에 기록되지 않거나 스테이지에 올라가지 않은 파일 |\n",
    "| &nbsp; | tracked | clean | 미표시 | 레포지토리에 기록된 파일로 레포지토리와 파일 내용이 같은 상태  |\n",
    "| &nbsp; | tracked | modified | \"`␣M`\" | 레포지토리에 기록된 파일로 레포지토리와 파일 내용이 다른 상태 |\n",
    "| &nbsp; | tracked | deleted | \"`␣D`\" | 레포지토리에 기록된 파일로 삭제된 상태 |\n",
    "| &nbsp; | tracked | renamed | \"`␣R`\" | 레포지토리에 기록된 파일로 이름이 바뀐 상태 |\n",
    "| 스테이지 | untracked | added | \"`A␣`\" | 처음으로 기록되어 스테이지에 들어온 상태 |\n",
    "| &nbsp; | tracked | modified | \"`M␣`\" | 예전에 기록된 파일로 변경되어 스테이지에 들어온 상태 |\n",
    "| &nbsp; | tracked | deleted | \"`D␣`\" | 예전에 기록된 파일로 삭제되어 스테이지에 들어온 상태 |\n",
    "| &nbsp; | tracked | renamed | \"`R␣`\" | 예전에 기록된 파일로 이름이 바뀌어 스테이지에 들어온 상태 |\n"
   ]
  },
  {
   "cell_type": "markdown",
   "id": "45ed0eab",
   "metadata": {},
   "source": [
    "## `status` 명령"
   ]
  },
  {
   "cell_type": "markdown",
   "id": "3efb62a1",
   "metadata": {},
   "source": [
    "- `status` 명령을 사용하면 파일의 위치 및 상태를 볼 수 있음"
   ]
  },
  {
   "cell_type": "markdown",
   "id": "15201161",
   "metadata": {},
   "source": [
    "#### 실습"
   ]
  },
  {
   "cell_type": "markdown",
   "id": "2eebc11b",
   "metadata": {},
   "source": [
    "- 레포지토리 생성"
   ]
  },
  {
   "cell_type": "code",
   "execution_count": 2,
   "id": "67b61b4a",
   "metadata": {
    "vscode": {
     "languageId": "shellscript"
    }
   },
   "outputs": [
    {
     "name": "stdout",
     "output_type": "stream",
     "text": [
      "Initialized empty Git repository in /Users/joelkim/Work/personal/book_git/lab/test_basic_01/.git/\n"
     ]
    }
   ],
   "source": [
    "# | output: false\n",
    "cd $HOME/lab\n",
    "rm -rf test_basic_01\n",
    "git init test_basic_01"
   ]
  },
  {
   "cell_type": "markdown",
   "id": "22b96452",
   "metadata": {},
   "source": [
    ":::{.cell}\n",
    "::::{.cell-output .cell-output-stdout}\n",
    "Initialized empty Git repository in ~/lab/test_basic_01/.git/\n",
    "::::\n",
    ":::"
   ]
  },
  {
   "cell_type": "markdown",
   "id": "705c7a39",
   "metadata": {},
   "source": [
    "- 상태 확인"
   ]
  },
  {
   "cell_type": "code",
   "execution_count": 3,
   "id": "f83d5544",
   "metadata": {
    "vscode": {
     "languageId": "shellscript"
    }
   },
   "outputs": [
    {
     "name": "stdout",
     "output_type": "stream",
     "text": [
      "On branch main\n",
      "\n",
      "No commits yet\n",
      "\n",
      "nothing to commit (create/copy files and use \"git add\" to track)\n"
     ]
    }
   ],
   "source": [
    "cd test_basic_01\n",
    "git status"
   ]
  },
  {
   "cell_type": "markdown",
   "id": "4bb2f126",
   "metadata": {},
   "source": [
    "## 기본 동작"
   ]
  },
  {
   "cell_type": "markdown",
   "id": "c209de95",
   "metadata": {},
   "source": [
    "| 동작 | 명령 | 내용 | 설명 |\n",
    "|-|-|--|----|\n",
    "| 스테이징(staging) | add | 워크트리의 파일을 스테이지로 **복사** | 스테이지에 워트크리 파일의 복사본이 생기고 워크트리의 파일은 **그대로 유지** |\n",
    "| 커밋(commit) | commit | 스테이지의 파일을 레포지토리로 **이동** | 레포지토리에 스테이지 파일의 복사본이 생기고 스테이지의 파일은 **없어짐** |\n",
    "| 스테이징 취소(unstaging) | restore --staged | 스테이지의 파일을 없앰 | 스테이지에 레포지토리 파일을 복사하면서 스테이지 파일이 없어지고 워크트리는 그대로 유지 |\n",
    "| 워크트리 원복(restore) | restore | 워크트리의 파일을 레포지토리의 파일로 원복 | 워크트리에 스테이지 파일을 복사하면서 워크트리의 파일의 변화가 없어짐 |\n"
   ]
  },
  {
   "cell_type": "markdown",
   "id": "0343bed3",
   "metadata": {},
   "source": [
    "## `add`, `commit` 명령"
   ]
  },
  {
   "cell_type": "markdown",
   "id": "f0755808",
   "metadata": {},
   "source": [
    "- `add`, `commit` 명령을 이용하면 스테이지 또는 레포지토리에 파일을 생성할 수 있음\n",
    "- `add` 명령은 워크트리의 파일을 스테이지로 복사하고 워크트리의 파일은 그대로 유지 (워크트리 -> 스테이지)\n",
    "- `commit` 명령은 스테이지의 파일을 레포지토리로 복사하고 스테이지의 파일을 삭제 (스테이지 -> 레포지토리)"
   ]
  },
  {
   "cell_type": "markdown",
   "id": "4e9e53a6",
   "metadata": {},
   "source": [
    "| 행위 | 워크트리 | 스테이지 | 레포지토리 | 명령 | 설명 | \n",
    "|-|--|--|--|--|--|\n",
    "| 스테이징 | (1) 워크트리 파일 내용을 이용하여 | (2) 스테이지 파일 추가(갱신)  | - | `git add` | 스테이지에 워크트리 파일 추가(갱신) |\n",
    "| 커밋 | - | (1) 스테이지 파일 내용을 이용하여 | (2) 레포 파일 추가(갱신) | `git commit` | 레포에 스테이지 파일 추가(갱신) |   \n"
   ]
  },
  {
   "cell_type": "markdown",
   "id": "e7f5f2f4",
   "metadata": {},
   "source": [
    "![그림: add 명령](figs/fig_basic_02.png){width=100%}"
   ]
  },
  {
   "cell_type": "markdown",
   "id": "9ecd1579",
   "metadata": {},
   "source": [
    "![그림: commit 명령](figs/fig_basic_03.png){width=100%}"
   ]
  },
  {
   "cell_type": "markdown",
   "id": "e7121c6f",
   "metadata": {},
   "source": [
    "#### 실습"
   ]
  },
  {
   "cell_type": "markdown",
   "id": "913b8552",
   "metadata": {},
   "source": [
    "- (1) 파일 생성"
   ]
  },
  {
   "cell_type": "code",
   "execution_count": 4,
   "id": "5c72496e",
   "metadata": {
    "vscode": {
     "languageId": "shellscript"
    }
   },
   "outputs": [
    {
     "name": "stdout",
     "output_type": "stream",
     "text": [
      "total 8\n",
      "-rw-r--r--@ 1 joelkim  staff  7 Aug 17 15:19 file.txt\n"
     ]
    }
   ],
   "source": [
    "echo \"line 1\" >> file.txt\n",
    "ls -l"
   ]
  },
  {
   "cell_type": "code",
   "execution_count": 5,
   "id": "99c2328a",
   "metadata": {
    "vscode": {
     "languageId": "shellscript"
    }
   },
   "outputs": [
    {
     "name": "stdout",
     "output_type": "stream",
     "text": [
      "On branch main\n",
      "\n",
      "No commits yet\n",
      "\n",
      "Untracked files:\n",
      "  (use \"git add <file>...\" to include in what will be committed)\n",
      "\tfile.txt\n",
      "\n",
      "nothing added to commit but untracked files present (use \"git add\" to track)\n"
     ]
    }
   ],
   "source": [
    "git status    # 현재 상태 조회"
   ]
  },
  {
   "cell_type": "code",
   "execution_count": 6,
   "id": "ad23d1a4",
   "metadata": {
    "vscode": {
     "languageId": "shellscript"
    }
   },
   "outputs": [
    {
     "name": "stdout",
     "output_type": "stream",
     "text": [
      "?? file.txt\n"
     ]
    }
   ],
   "source": [
    "git status -s"
   ]
  },
  {
   "cell_type": "markdown",
   "id": "dfe8060f",
   "metadata": {},
   "source": [
    "- (2) 파일 add"
   ]
  },
  {
   "cell_type": "code",
   "execution_count": 7,
   "id": "2357c796",
   "metadata": {
    "vscode": {
     "languageId": "shellscript"
    }
   },
   "outputs": [],
   "source": [
    "git add file.txt"
   ]
  },
  {
   "cell_type": "code",
   "execution_count": 8,
   "id": "0f976971",
   "metadata": {
    "vscode": {
     "languageId": "shellscript"
    }
   },
   "outputs": [
    {
     "name": "stdout",
     "output_type": "stream",
     "text": [
      "On branch main\n",
      "\n",
      "No commits yet\n",
      "\n",
      "Changes to be committed:\n",
      "  (use \"git rm --cached <file>...\" to unstage)\n",
      "\tnew file:   file.txt\n",
      "\n"
     ]
    }
   ],
   "source": [
    "git status"
   ]
  },
  {
   "cell_type": "code",
   "execution_count": 9,
   "id": "a93ff761",
   "metadata": {
    "vscode": {
     "languageId": "shellscript"
    }
   },
   "outputs": [
    {
     "name": "stdout",
     "output_type": "stream",
     "text": [
      "A  file.txt\n"
     ]
    }
   ],
   "source": [
    "git status -s"
   ]
  },
  {
   "cell_type": "markdown",
   "id": "518bcc64",
   "metadata": {},
   "source": [
    "- (3) 파일 커밋"
   ]
  },
  {
   "cell_type": "code",
   "execution_count": 10,
   "id": "dd8c52d8",
   "metadata": {
    "vscode": {
     "languageId": "shellscript"
    }
   },
   "outputs": [
    {
     "name": "stdout",
     "output_type": "stream",
     "text": [
      "[main (root-commit) ee82664] add file.txt\n",
      " 1 file changed, 1 insertion(+)\n",
      " create mode 100644 file.txt\n"
     ]
    }
   ],
   "source": [
    "git commit -m \"add file.txt\""
   ]
  },
  {
   "cell_type": "code",
   "execution_count": 11,
   "id": "b9baa1c2",
   "metadata": {
    "vscode": {
     "languageId": "shellscript"
    }
   },
   "outputs": [
    {
     "name": "stdout",
     "output_type": "stream",
     "text": [
      "On branch main\n",
      "nothing to commit, working tree clean\n"
     ]
    }
   ],
   "source": [
    "git status"
   ]
  },
  {
   "cell_type": "code",
   "execution_count": 12,
   "id": "805ce669",
   "metadata": {
    "vscode": {
     "languageId": "shellscript"
    }
   },
   "outputs": [],
   "source": [
    "git status -s"
   ]
  },
  {
   "cell_type": "markdown",
   "id": "2fcea75d",
   "metadata": {},
   "source": [
    "- (4) 파일 수정"
   ]
  },
  {
   "cell_type": "code",
   "execution_count": 13,
   "id": "da608565",
   "metadata": {
    "vscode": {
     "languageId": "shellscript"
    }
   },
   "outputs": [],
   "source": [
    "echo \"line 2\" >> file.txt"
   ]
  },
  {
   "cell_type": "code",
   "execution_count": 14,
   "id": "bbd1561c",
   "metadata": {
    "vscode": {
     "languageId": "shellscript"
    }
   },
   "outputs": [
    {
     "name": "stdout",
     "output_type": "stream",
     "text": [
      "On branch main\n",
      "Changes not staged for commit:\n",
      "  (use \"git add <file>...\" to update what will be committed)\n",
      "  (use \"git restore <file>...\" to discard changes in working directory)\n",
      "\tmodified:   file.txt\n",
      "\n",
      "no changes added to commit (use \"git add\" and/or \"git commit -a\")\n"
     ]
    }
   ],
   "source": [
    "git status"
   ]
  },
  {
   "cell_type": "code",
   "execution_count": 15,
   "id": "571c46c2",
   "metadata": {
    "vscode": {
     "languageId": "shellscript"
    }
   },
   "outputs": [
    {
     "name": "stdout",
     "output_type": "stream",
     "text": [
      " M file.txt\n"
     ]
    }
   ],
   "source": [
    "git status -s"
   ]
  },
  {
   "cell_type": "markdown",
   "id": "cf4f578e",
   "metadata": {},
   "source": [
    "- (5) 수정 파일 add"
   ]
  },
  {
   "cell_type": "code",
   "execution_count": 16,
   "id": "f8fc06ab",
   "metadata": {
    "vscode": {
     "languageId": "shellscript"
    }
   },
   "outputs": [],
   "source": [
    "git add file.txt"
   ]
  },
  {
   "cell_type": "code",
   "execution_count": 17,
   "id": "cb375768",
   "metadata": {
    "vscode": {
     "languageId": "shellscript"
    }
   },
   "outputs": [
    {
     "name": "stdout",
     "output_type": "stream",
     "text": [
      "On branch main\n",
      "Changes to be committed:\n",
      "  (use \"git restore --staged <file>...\" to unstage)\n",
      "\tmodified:   file.txt\n",
      "\n"
     ]
    }
   ],
   "source": [
    "git status"
   ]
  },
  {
   "cell_type": "code",
   "execution_count": 18,
   "id": "2ef9fa07",
   "metadata": {
    "vscode": {
     "languageId": "shellscript"
    }
   },
   "outputs": [
    {
     "name": "stdout",
     "output_type": "stream",
     "text": [
      "M  file.txt\n"
     ]
    }
   ],
   "source": [
    "git status -s"
   ]
  },
  {
   "cell_type": "markdown",
   "id": "0822bc73",
   "metadata": {},
   "source": [
    "- (6) 수정 파일 commit"
   ]
  },
  {
   "cell_type": "code",
   "execution_count": 19,
   "id": "30bc32a8",
   "metadata": {
    "vscode": {
     "languageId": "shellscript"
    }
   },
   "outputs": [
    {
     "name": "stdout",
     "output_type": "stream",
     "text": [
      "[main 4d0fd7b] modify file.txt\n",
      " 1 file changed, 1 insertion(+)\n"
     ]
    }
   ],
   "source": [
    "git commit -m \"modify file.txt\""
   ]
  },
  {
   "cell_type": "code",
   "execution_count": 20,
   "id": "6d8946bf",
   "metadata": {
    "vscode": {
     "languageId": "shellscript"
    }
   },
   "outputs": [
    {
     "name": "stdout",
     "output_type": "stream",
     "text": [
      "On branch main\n",
      "nothing to commit, working tree clean\n"
     ]
    }
   ],
   "source": [
    "git status"
   ]
  },
  {
   "cell_type": "code",
   "execution_count": 21,
   "id": "eb73996c",
   "metadata": {
    "vscode": {
     "languageId": "shellscript"
    }
   },
   "outputs": [],
   "source": [
    "git status -s"
   ]
  },
  {
   "cell_type": "markdown",
   "id": "e8154950",
   "metadata": {},
   "source": [
    "### `add` 명령과 `commit` 명령이 분리된 이유"
   ]
  },
  {
   "cell_type": "markdown",
   "id": "154952d4",
   "metadata": {},
   "source": [
    "- `commit` 명령에 파일 또는 디렉토리 경로를 붙여서 바로 레포지토리로 넣으면 스테이지 단계가 필요하지 않다.\n",
    "- 그러나 이렇게 명령의 인수로 사용하는 경우 오타나 실수로 잘못된 파일을 레포지토리에 넣거나 넣어야 할 파일을 누락할 가능성이 있다.\n",
    "- 한 번 레포지토리에 들어가면 이후 두번째 커밋으로 해당 파일으르 삭제하더라도 기록이 남는다.\n",
    "- 따라서 `add` 명령으로 `commit` 명령의 인수가 될 파일 목록을 편집(추가 또는 수정, 삭제)할 기회를 제공한다. "
   ]
  },
  {
   "cell_type": "markdown",
   "id": "a0ab8a33",
   "metadata": {},
   "source": [
    "### 추가적인 사용법"
   ]
  },
  {
   "cell_type": "markdown",
   "id": "f6cab1ae",
   "metadata": {},
   "source": [
    "- `commit 파일_또는_디렉토리_경로` 형식으로 파일이나 디렉토리의 경로를 지정하면 스테이지의 파일 전체 목록을 무시하고 해당 파일만 레포지토리로 복사함 (일단 `add` 명령으로 스테이지에 존재하고 있어야 하며 스테이지의 다른 파일들은 스테이지에 그대로 남아 있게 됨)\n",
    "- `commit -a 파일_또는_디렉토리_경로` 형식으로 `-a` 옵션을 사용하면 `add` 단계를 자체적으로 실행하므로 별도의 `git add` 없이 바로 스테이지를 거쳐 레포지토리에 커밋됨 (커밋 후에는 스테이지에서 삭제됨)"
   ]
  },
  {
   "cell_type": "markdown",
   "id": "dc4f593b",
   "metadata": {},
   "source": [
    "```{mermaid}\n",
    "flowchart TB\n",
    "  subgraph 워크트리\n",
    "    start([\" \"])\n",
    "    untracked[\"untracked, new\"]\n",
    "    clean[\"tracked, clean\"]\n",
    "    modified[\"tracked, modified\"]\n",
    "    renamed[\"tracked, renamed\"]\n",
    "    deleted[\"tracked, deleted\"]\n",
    "  end\n",
    "\n",
    "  subgraph 스테이지\n",
    "    add_in_stage[\"untracked, add\"]\n",
    "    modified_in_stage[\"tracked, modified\"]\n",
    "    renamed_in_stage[\"tracked, renamed\"]\n",
    "    deleted_in_stage[\"tracked, deleted\"]\n",
    "  end\n",
    "\n",
    "  subgraph 레포지토리\n",
    "    committed\n",
    "\n",
    "  end\n",
    "\n",
    "  start -- \"(1) 파일 생성\" --> untracked -- \"(2) git add\" --> add_in_stage -- \"(3) git commit\" --> committed\n",
    "  untracked -- \"(3) git commit\" --> clean\n",
    "  clean -- \"(4) 파일 수정\" --> modified -- \"(5) git add\" --> modified_in_stage -- \"(6) git commit\" --> committed\n",
    "  clean -- \"파일 이름변경\" --> renamed -- \"git add\" --> renamed_in_stage -- \"git commit\" --> committed\n",
    "  clean -- \"파일 삭제\" --> deleted -- \"git add\" --> deleted_in_stage -- \"git commit\" --> committed\n",
    "\n",
    "    \n",
    "```"
   ]
  },
  {
   "cell_type": "markdown",
   "id": "c441915c",
   "metadata": {},
   "source": [
    "## `restore` 명령\n"
   ]
  },
  {
   "cell_type": "markdown",
   "id": "369b360e",
   "metadata": {},
   "source": [
    "- `restore` 명령을 이용하면 스테이지 또는 레포지토리에 파일을 원복할 수 있음\n",
    "- `--staged` 인수가 있는 `restore --staged` 명령은 레포지토리의 파일을 스테이지로 복사함으로써 스테이지의 파일을 삭제하고 워크트리의 파일은 그대로 유지 (`git add` 명령의 취소)\n",
    "- 인수가 없는 `restore` 명령은 스테이지의 파일을 워크트리로 복사함으로써 워크트리의 파일을 원복시킨다. (파일 편집 취소)\n",
    "- 만약 워크트리도 원복하고 스테이지에 add된 파일도 없애려면 `restore --staged` 명령과 `restore` 명령을 순차적으로 (순서가 중요함!) 실행해야 함 \n",
    "- 워크트리/스테이지 동시 원복은 `reset --hard HEAD` 명령으로 한번에 가능하지만 권장하지 않음\n"
   ]
  },
  {
   "cell_type": "markdown",
   "id": "d4f914f8",
   "metadata": {},
   "source": [
    "| 행위 | 워크트리 | 스테이지 | 레포지토리 | 명령 | 설명 | \n",
    "|-|--|--|--|--|--|\n",
    "| 스테이징 취소 | - | (2) 스테이지 파일 추가(갱신) | (1) 레포 파일 내용을 이용하여 | `git restore --staged` | 스테이지 파일이 있으면 스테이지 파일 삭제, 없으면 아무 일도 일어나지 않는다. 즉, 커밋될 예정인 파일 목록에서 파일을 없앤다  |\n",
    "| 워크트리 원복 | (2) 워크트리 파일 갱신 | (1) 스테이지 파일 내용을 이용하여 | -  | `git restore` | 워크트리의 변경된 파일을 마지막 스테이징된 상태로 되돌린다. |\n"
   ]
  },
  {
   "cell_type": "markdown",
   "id": "98731016",
   "metadata": {},
   "source": [
    "```{mermaid}\n",
    "flowchart BT\n",
    "  subgraph 워크트리\n",
    "    untracked\n",
    "    clean\n",
    "    modified\n",
    "    renamed\n",
    "    deleted\n",
    "  end\n",
    "\n",
    "  subgraph 스테이지\n",
    "    new_in_stage[\"new\"]\n",
    "    modified_in_stage[\"modified\"]\n",
    "    renamed_in_stage[\"renamed\"]\n",
    "    deleted_in_stage[\"deleted\"]\n",
    "  end\n",
    "\n",
    "\n",
    "  modified -- \"git restore\" --> clean\n",
    "  renamed -- \"git restore\" --> clean\n",
    "  deleted -- \"git restore\" --> clean\n",
    "  new_in_stage -- \"git restore --staged\" --> untracked\n",
    "  modified_in_stage -- \"git restore --staged\" --> modified\n",
    "  renamed_in_stage -- \"git restore --staged\" --> renamed\n",
    "  deleted_in_stage -- \"git restore --staged\" --> deleted\n",
    "\n",
    "    \n",
    "```"
   ]
  },
  {
   "cell_type": "markdown",
   "id": "885d5cb8",
   "metadata": {},
   "source": [
    "- 스테이지 파일 원복"
   ]
  },
  {
   "cell_type": "code",
   "execution_count": null,
   "id": "69f6ddbc",
   "metadata": {
    "vscode": {
     "languageId": "shellscript"
    }
   },
   "outputs": [],
   "source": [
    "git restore --staged file.txt\n",
    "git status"
   ]
  },
  {
   "cell_type": "markdown",
   "id": "8f03e44e",
   "metadata": {},
   "source": [
    "- 워크트리의 파일을 원복"
   ]
  },
  {
   "cell_type": "code",
   "execution_count": null,
   "id": "87f2a755",
   "metadata": {
    "vscode": {
     "languageId": "shellscript"
    }
   },
   "outputs": [],
   "source": [
    "git restore file.txt\n",
    "git status"
   ]
  },
  {
   "cell_type": "markdown",
   "id": "de43af99",
   "metadata": {},
   "source": [
    "- 복잡한 경우: 파일을 변경후 스테이징하고, 다시 워크트리에서 변경한 상태\n",
    "  - 워크트리와 스테이지와 레포지토리에 있는 파일이 모두 다름\n",
    "  - 만약 이 상태에서 언스테이징만 하면, 스테이지의 파일은 없어지지만, 워크트리는 그대로 유지"
   ]
  },
  {
   "cell_type": "markdown",
   "id": "fd64efe1",
   "metadata": {},
   "source": [
    "- 파일 변경 후 상태 확인"
   ]
  },
  {
   "cell_type": "code",
   "execution_count": null,
   "id": "11cd96f1",
   "metadata": {
    "vscode": {
     "languageId": "shellscript"
    }
   },
   "outputs": [],
   "source": [
    "echo \"line 2\" >> file.txt\n",
    "git status"
   ]
  },
  {
   "cell_type": "markdown",
   "id": "964f9f9c",
   "metadata": {},
   "source": [
    "- 파일 스테이징 후 상태 확인"
   ]
  },
  {
   "cell_type": "code",
   "execution_count": null,
   "id": "29c6a229",
   "metadata": {
    "vscode": {
     "languageId": "shellscript"
    }
   },
   "outputs": [],
   "source": [
    "git add file.txt\n",
    "git status"
   ]
  },
  {
   "cell_type": "markdown",
   "id": "9152fa9b",
   "metadata": {},
   "source": [
    "- 파일을 다시 변경"
   ]
  },
  {
   "cell_type": "code",
   "execution_count": null,
   "id": "be9639a0",
   "metadata": {
    "vscode": {
     "languageId": "shellscript"
    }
   },
   "outputs": [],
   "source": [
    "echo \"line 3\" >> file.txt\n",
    "git status"
   ]
  },
  {
   "cell_type": "markdown",
   "id": "85937a15",
   "metadata": {},
   "source": [
    "- 레포지토리의 파일 내용"
   ]
  },
  {
   "cell_type": "code",
   "execution_count": null,
   "id": "e61046f6",
   "metadata": {
    "vscode": {
     "languageId": "shellscript"
    }
   },
   "outputs": [],
   "source": [
    "git show HEAD:file.txt"
   ]
  },
  {
   "cell_type": "markdown",
   "id": "4afcac97",
   "metadata": {},
   "source": [
    "- 스테이지의 파일 내용"
   ]
  },
  {
   "cell_type": "code",
   "execution_count": null,
   "id": "510b01e8",
   "metadata": {
    "vscode": {
     "languageId": "shellscript"
    }
   },
   "outputs": [],
   "source": [
    "git show :file.txt"
   ]
  },
  {
   "cell_type": "markdown",
   "id": "91b28680",
   "metadata": {},
   "source": [
    "- 워크트리의 파일 내용"
   ]
  },
  {
   "cell_type": "code",
   "execution_count": null,
   "id": "0857d24a",
   "metadata": {
    "vscode": {
     "languageId": "shellscript"
    }
   },
   "outputs": [],
   "source": [
    "cat file.txt"
   ]
  },
  {
   "cell_type": "markdown",
   "id": "d0ef346e",
   "metadata": {},
   "source": [
    "- 워크트리를 스테이지 내용으로 원복"
   ]
  },
  {
   "cell_type": "code",
   "execution_count": null,
   "id": "5ccb8a13",
   "metadata": {
    "vscode": {
     "languageId": "shellscript"
    }
   },
   "outputs": [],
   "source": [
    "git restore file.txt\n",
    "git status"
   ]
  },
  {
   "cell_type": "code",
   "execution_count": null,
   "id": "9bde8f0c",
   "metadata": {
    "vscode": {
     "languageId": "shellscript"
    }
   },
   "outputs": [],
   "source": [
    "cat file.txt"
   ]
  },
  {
   "cell_type": "markdown",
   "id": "ce30e824",
   "metadata": {},
   "source": [
    "- 레포지토리 내용으로 스테이지 원복"
   ]
  },
  {
   "cell_type": "code",
   "execution_count": null,
   "id": "9e468df3",
   "metadata": {
    "vscode": {
     "languageId": "shellscript"
    }
   },
   "outputs": [],
   "source": [
    "git restore --staged file.txt\n",
    "git status"
   ]
  },
  {
   "cell_type": "code",
   "execution_count": null,
   "id": "3d68ad0b",
   "metadata": {
    "vscode": {
     "languageId": "shellscript"
    }
   },
   "outputs": [],
   "source": [
    "git show :file.txt"
   ]
  },
  {
   "cell_type": "markdown",
   "id": "5807bd7f",
   "metadata": {},
   "source": [
    "- 현재 상태는 워크트리 파일이 처음 스테이징한 내용으로 변경되어 있음\n",
    "- 따라서 최초 상태로 돌리려면 다시 restore 명령 필요"
   ]
  },
  {
   "cell_type": "code",
   "execution_count": null,
   "id": "ff898adf",
   "metadata": {
    "vscode": {
     "languageId": "shellscript"
    }
   },
   "outputs": [],
   "source": [
    "git restore file.txt\n",
    "git status"
   ]
  },
  {
   "cell_type": "markdown",
   "id": "43d8772b",
   "metadata": {},
   "source": [
    "## `rm` 명령"
   ]
  },
  {
   "cell_type": "markdown",
   "id": "6e302e3b",
   "metadata": {},
   "source": [
    "- rm 명령을 사용하면 레포지토리의 파일을 삭제하는데 사용하는 명령\n",
    "- rm 명령 자체로 레포지토리의 파일 삭제가 발생하는 것이 아님\n",
    "- rm 명령은 파일을 삭제하겠다는 변경사항을 스테이지에 추가하는 것일 뿐임\n",
    "- 실제로 삭제가 발생하려면 추가적으로 commit 명령까지 수행 해야 함"
   ]
  },
  {
   "cell_type": "markdown",
   "id": "9ed325e5",
   "metadata": {},
   "source": [
    "| 행위 | 워크트리 | 스테이지 | 레포지토리 | 명령 |\n",
    "|----|-|-|-|--|\n",
    "| 스테이지에 삭제 상태 추가 | 워크트리의 해당 파일 유지 | 삭제 상태 추가 | 커밋 이후에 삭제됨 | `git rm --cached` |   |\n",
    "| 스테이지에 삭제 상태 추가하고 워크트리의 파일도 삭제 | 워크트리의 해당 파일 삭제 | 삭제 상태 추가 | 커밋 이후에 삭제됨 | `git rm` | "
   ]
  },
  {
   "cell_type": "markdown",
   "id": "ab7e4daf",
   "metadata": {},
   "source": []
  }
 ],
 "metadata": {
  "kernelspec": {
   "display_name": "Bash",
   "language": "bash",
   "name": "bash"
  },
  "language_info": {
   "codemirror_mode": "shell",
   "file_extension": ".sh",
   "mimetype": "text/x-sh",
   "name": "bash"
  }
 },
 "nbformat": 4,
 "nbformat_minor": 5
}
