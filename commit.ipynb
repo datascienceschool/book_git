{
 "cells": [
  {
   "cell_type": "markdown",
   "id": "d76b0ede",
   "metadata": {},
   "source": [
    "# 커밋"
   ]
  },
  {
   "cell_type": "markdown",
   "id": "7e8224df",
   "metadata": {},
   "source": [
    "## 커밋 객체의 내부 구조"
   ]
  },
  {
   "cell_type": "markdown",
   "id": "3c4f5184",
   "metadata": {},
   "source": []
  }
 ],
 "metadata": {
  "language_info": {
   "name": "python"
  }
 },
 "nbformat": 4,
 "nbformat_minor": 5
}
