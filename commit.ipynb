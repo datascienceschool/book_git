{
 "cells": [
  {
   "cell_type": "code",
   "execution_count": 1,
   "id": "24744f54",
   "metadata": {
    "vscode": {
     "languageId": "shellscript"
    }
   },
   "outputs": [],
   "source": [
    "# | echo: false\n",
    "# | output: false\n",
    "export LANG=en_US.UTF-8\n",
    "export HOME=/Users/joelkim/Work/personal/book_git\n",
    "cd $HOME"
   ]
  },
  {
   "cell_type": "markdown",
   "id": "c5cde10e",
   "metadata": {},
   "source": [
    "# 커밋"
   ]
  },
  {
   "cell_type": "raw",
   "id": "41aa7f4e",
   "metadata": {
    "vscode": {
     "languageId": "raw"
    }
   },
   "source": [
    "::: {.hidden}\n",
    "\n",
    "## 참고 문헌\n",
    "\n",
    "- Building Git, Ch. 13 Branching Out\n",
    "  - chrome-extension://oemmndcbldboiebfnladdacbdfmadadm/file:///Users/joelkim/Work/study/study_cs/book/DevOps/Coglan/2021%20-%20Coglan%20-%20Buliding%20Git.pdf#%5B%7B%22num%22%3A1460%2C%22gen%22%3A0%7D%2C%7B%22name%22%3A%22XYZ%22%7D%2C72%2C769.889%2Cnull%5D\n",
    "\n",
    ":::"
   ]
  },
  {
   "cell_type": "markdown",
   "id": "bb1f7cc1",
   "metadata": {},
   "source": [
    "## 커밋 기록을 살피기 위한 명령"
   ]
  },
  {
   "cell_type": "markdown",
   "id": "be05230a",
   "metadata": {},
   "source": [
    "- 다음은 커밋 기록을 살피기 위한 명령\n",
    "- 모두 커밋의 해시값 또는 상대참조 이름을 인수로 받음 "
   ]
  },
  {
   "cell_type": "markdown",
   "id": "5b3df735",
   "metadata": {},
   "source": [
    "| 명령 | 설명 |\n",
    "|-|-|\n",
    "| `git log` | 과거부터 현재까지의 모든 커밋 기록 보기 |\n",
    "| `git ls-tree` | 특정 커밋의 스냅샷 파일 목록 보기 |\n",
    "| `git cat-file` | 특정 커밋의 객체 정보 보기 |\n",
    "| `git show` | 특정 커밋의 변경 내역 및 파일 내용 보기 |\n",
    "| `git diff` | 커밋간의 차이 보기 |\n"
   ]
  },
  {
   "cell_type": "markdown",
   "id": "2f95b9dc",
   "metadata": {},
   "source": [
    "## 실습 1: 레포지토리 생성"
   ]
  },
  {
   "cell_type": "markdown",
   "id": "05951637",
   "metadata": {},
   "source": [
    "1. 레포지토리 생성"
   ]
  },
  {
   "cell_type": "code",
   "execution_count": 2,
   "id": "99e36ff3",
   "metadata": {
    "vscode": {
     "languageId": "shellscript"
    }
   },
   "outputs": [
    {
     "name": "stdout",
     "output_type": "stream",
     "text": [
      "Initialized empty Git repository in /Users/joelkim/Work/personal/book_git/lab/test_commit_01/.git/\n"
     ]
    }
   ],
   "source": [
    "# | output: false\n",
    "cd $HOME/lab\n",
    "rm -rf test_commit_01\n",
    "git init test_commit_01\n",
    "cd test_commit_01"
   ]
  },
  {
   "cell_type": "markdown",
   "id": "f6b9ec67",
   "metadata": {},
   "source": [
    ":::{.cell}\n",
    "::::{.cell-output .cell-output-stdout}\n",
    "Initialized empty Git repository in /test_commit_01/.git/\n",
    "::::\n",
    ":::"
   ]
  },
  {
   "cell_type": "markdown",
   "id": "b05cb6f4",
   "metadata": {},
   "source": [
    "2. 최초 커밋"
   ]
  },
  {
   "cell_type": "code",
   "execution_count": 3,
   "id": "7e9ef126",
   "metadata": {
    "vscode": {
     "languageId": "shellscript"
    }
   },
   "outputs": [
    {
     "name": "stdout",
     "output_type": "stream",
     "text": [
      "[main (root-commit) 5441c9e] c1\n",
      " 1 file changed, 1 insertion(+)\n",
      " create mode 100644 file1.txt\n"
     ]
    }
   ],
   "source": [
    "echo \"file1 line 1\" >> file1.txt\n",
    "git add .\n",
    "git commit -m c1"
   ]
  },
  {
   "cell_type": "code",
   "execution_count": 4,
   "id": "df32ca0d",
   "metadata": {
    "vscode": {
     "languageId": "shellscript"
    }
   },
   "outputs": [
    {
     "name": "stdout",
     "output_type": "stream",
     "text": [
      "[main 58be87b] c2\n",
      " 2 files changed, 2 insertions(+)\n",
      " create mode 100644 file2.txt\n"
     ]
    }
   ],
   "source": [
    "echo \"file1 line 2\" >> file1.txt\n",
    "echo \"file2 line 1\" >> file2.txt\n",
    "git add .\n",
    "git commit -m c2"
   ]
  },
  {
   "cell_type": "code",
   "execution_count": 5,
   "id": "bdfd3ca7",
   "metadata": {
    "vscode": {
     "languageId": "shellscript"
    }
   },
   "outputs": [
    {
     "name": "stdout",
     "output_type": "stream",
     "text": [
      "rm 'file1.txt'\n",
      "[main 318e319] c3\n",
      " 2 files changed, 1 insertion(+), 2 deletions(-)\n",
      " delete mode 100644 file1.txt\n",
      " create mode 100644 sub/file3.txt\n"
     ]
    }
   ],
   "source": [
    "git rm file1.txt\n",
    "mkdir sub\n",
    "echo \"file3 line 1\" >> sub/file3.txt\n",
    "git add .\n",
    "git commit -m c3"
   ]
  },
  {
   "cell_type": "markdown",
   "id": "94678dbb",
   "metadata": {},
   "source": [
    "![그림: 예제 커밋 상황](figs/fig_log_01.png){width=400px}"
   ]
  },
  {
   "cell_type": "markdown",
   "id": "18370661",
   "metadata": {},
   "source": [
    "## 상대 참조 표기"
   ]
  },
  {
   "cell_type": "markdown",
   "id": "7eab416b",
   "metadata": {},
   "source": [
    "- 커밋을 지시하기 위해 해시값이 아닌 상대 참조를 사용할 수 있다.\n",
    "  - `HEAD`: 현재 체크아웃되어 있는 커밋\n",
    "  - `~N`: 특정 커밋 위치로부터 N번 앞(과거)의 커밋\n",
    "    - 현재 커밋 바로 앞의 커밋(부모 커밋)은 `HEAD~1`\n",
    "    - 현재 커밋 2번재 앞 커밋(조부모 커밋)은 `HEAD~2`\n",
    "  - 앞(과거)이 아닌 뒤(미래)의 커밋은 복수가 있는 경우가 있어 상대 참조 표기를 사용하지 않는다.\n",
    "\n"
   ]
  },
  {
   "cell_type": "markdown",
   "id": "54488025",
   "metadata": {},
   "source": [
    "## log 명령"
   ]
  },
  {
   "cell_type": "markdown",
   "id": "02f518de",
   "metadata": {},
   "source": [
    "- 과거부터 현재까지의 모든 커밋 기록 보기"
   ]
  },
  {
   "cell_type": "markdown",
   "id": "513e3878",
   "metadata": {},
   "source": [
    "### log 명령의 옵션"
   ]
  },
  {
   "cell_type": "markdown",
   "id": "e29aebbc",
   "metadata": {},
   "source": [
    "#### 출력 형식"
   ]
  },
  {
   "cell_type": "markdown",
   "id": "6c6731de",
   "metadata": {},
   "source": [
    "- 출력형식은 `--pretty` 옵션으로 제어\n",
    "  - `git log --pretty=medium`:  기본값 (해시 + 작성자 + 날짜 + 메시지)\n",
    "  - `git log --pretty=short`:   간단한 정보 (해시 + 작성자 + 메시지)\n",
    "  - `git log --pretty=oneline`: 한 줄 출력 (해시 + 메시지)\n",
    "  - `git log --oneline`: 한 줄 출력 (단축해시 + 메시지)\n",
    "  - `git log --pretty=format:` 사용자 정의 형식 출력\n"
   ]
  },
  {
   "cell_type": "markdown",
   "id": "23d29efb",
   "metadata": {},
   "source": [
    "#### 출력 내용"
   ]
  },
  {
   "cell_type": "markdown",
   "id": "b052ba28",
   "metadata": {},
   "source": [
    "- `--stat`: 변경 파일 목록 및 간단한 통계"
   ]
  },
  {
   "cell_type": "markdown",
   "id": "f2d73ec9",
   "metadata": {},
   "source": [
    "#### 출력 필터링"
   ]
  },
  {
   "cell_type": "markdown",
   "id": "29324a91",
   "metadata": {},
   "source": [
    "- `git log <파일>`: 특정 파일/경로에 대한 변경만 출력.\n",
    "- `git log --author=\"이름\"`: 특정 작성자(committer/author)의 커밋만 출력.\n",
    "- `git log --grep=\"키워드\"`: 커밋 메시지에 키워드가 포함된 것만 검색.\n",
    "- `git log --since=\"2024-01-01\"`: 특정 날짜 이후 커밋만 출력.\n",
    "- `git log --until=\"2024-08-01\"`: 특정 날짜 이전 커밋만 출력.\n",
    "- `git log <commit1>..<commit2>`: "
   ]
  },
  {
   "cell_type": "markdown",
   "id": "587fb17a",
   "metadata": {},
   "source": [
    "## 실습 2: log 명령"
   ]
  },
  {
   "cell_type": "code",
   "execution_count": 6,
   "id": "24ad38d7",
   "metadata": {
    "vscode": {
     "languageId": "shellscript"
    }
   },
   "outputs": [
    {
     "name": "stdout",
     "output_type": "stream",
     "text": [
      "commit 318e3197fa05b23f0de5500d925e541abe4df29f (HEAD -> main)\n",
      "Author: user <user@company.com>\n",
      "Date:   Tue Sep 2 13:47:34 2025 +0900\n",
      "\n",
      "    c3\n",
      "\n",
      "commit 58be87b57b749d8989886d5adcc0949a817812a1\n",
      "Author: user <user@company.com>\n",
      "Date:   Tue Sep 2 13:47:34 2025 +0900\n",
      "\n",
      "    c2\n",
      "\n",
      "commit 5441c9e26e7001a49bb0d3c031e22f7ff9c895a4\n",
      "Author: user <user@company.com>\n",
      "Date:   Tue Sep 2 13:47:32 2025 +0900\n",
      "\n",
      "    c1\n"
     ]
    }
   ],
   "source": [
    "git log"
   ]
  },
  {
   "cell_type": "code",
   "execution_count": 7,
   "id": "a52d5828",
   "metadata": {
    "vscode": {
     "languageId": "shellscript"
    }
   },
   "outputs": [
    {
     "name": "stdout",
     "output_type": "stream",
     "text": [
      "commit 318e3197fa05b23f0de5500d925e541abe4df29f (HEAD -> main)\n",
      "Author: user <user@company.com>\n",
      "\n",
      "    c3\n",
      "\n",
      "commit 58be87b57b749d8989886d5adcc0949a817812a1\n",
      "Author: user <user@company.com>\n",
      "\n",
      "    c2\n",
      "\n",
      "commit 5441c9e26e7001a49bb0d3c031e22f7ff9c895a4\n",
      "Author: user <user@company.com>\n",
      "\n",
      "    c1\n"
     ]
    }
   ],
   "source": [
    "git log --pretty=short"
   ]
  },
  {
   "cell_type": "code",
   "execution_count": 8,
   "id": "3637b9e1",
   "metadata": {
    "vscode": {
     "languageId": "shellscript"
    }
   },
   "outputs": [
    {
     "name": "stdout",
     "output_type": "stream",
     "text": [
      "318e3197fa05b23f0de5500d925e541abe4df29f (HEAD -> main) c3\n",
      "58be87b57b749d8989886d5adcc0949a817812a1 c2\n",
      "5441c9e26e7001a49bb0d3c031e22f7ff9c895a4 c1\n"
     ]
    }
   ],
   "source": [
    "git log --pretty=oneline"
   ]
  },
  {
   "cell_type": "code",
   "execution_count": 9,
   "id": "0ba5a768",
   "metadata": {
    "vscode": {
     "languageId": "shellscript"
    }
   },
   "outputs": [
    {
     "name": "stdout",
     "output_type": "stream",
     "text": [
      "318e319 (HEAD -> main) c3\n",
      "58be87b c2\n",
      "5441c9e c1\n"
     ]
    }
   ],
   "source": [
    "git log --oneline"
   ]
  },
  {
   "cell_type": "code",
   "execution_count": 10,
   "id": "5fd5bc6a",
   "metadata": {
    "vscode": {
     "languageId": "shellscript"
    }
   },
   "outputs": [
    {
     "name": "stdout",
     "output_type": "stream",
     "text": [
      "318e319 c3\n",
      "58be87b c2\n",
      "5441c9e c1\n"
     ]
    }
   ],
   "source": [
    "git log --pretty=format:\"%h %s\""
   ]
  },
  {
   "cell_type": "code",
   "execution_count": 11,
   "id": "01c906ba",
   "metadata": {
    "vscode": {
     "languageId": "shellscript"
    }
   },
   "outputs": [
    {
     "name": "stdout",
     "output_type": "stream",
     "text": [
      "318e319 (HEAD -> main) c3\n",
      " file1.txt     | 2 --\n",
      " sub/file3.txt | 1 +\n",
      " 2 files changed, 1 insertion(+), 2 deletions(-)\n",
      "58be87b c2\n",
      " file1.txt | 1 +\n",
      " file2.txt | 1 +\n",
      " 2 files changed, 2 insertions(+)\n",
      "5441c9e c1\n",
      " file1.txt | 1 +\n",
      " 1 file changed, 1 insertion(+)\n"
     ]
    }
   ],
   "source": [
    "git log --oneline --stat"
   ]
  },
  {
   "cell_type": "code",
   "execution_count": 12,
   "id": "003d7800",
   "metadata": {
    "vscode": {
     "languageId": "shellscript"
    }
   },
   "outputs": [
    {
     "name": "stdout",
     "output_type": "stream",
     "text": [
      "318e319 (HEAD -> main) c3\n",
      "0\t2\tfile1.txt\n",
      "1\t0\tsub/file3.txt\n",
      "58be87b c2\n",
      "1\t0\tfile1.txt\n",
      "1\t0\tfile2.txt\n",
      "5441c9e c1\n",
      "1\t0\tfile1.txt\n"
     ]
    }
   ],
   "source": [
    "git log --oneline --numstat"
   ]
  },
  {
   "cell_type": "code",
   "execution_count": 13,
   "id": "95f9675a",
   "metadata": {
    "vscode": {
     "languageId": "shellscript"
    }
   },
   "outputs": [
    {
     "name": "stdout",
     "output_type": "stream",
     "text": [
      "58be87b c2\n"
     ]
    }
   ],
   "source": [
    "git log --oneline file2.txt"
   ]
  },
  {
   "cell_type": "code",
   "execution_count": 14,
   "id": "776e4af2",
   "metadata": {
    "vscode": {
     "languageId": "shellscript"
    }
   },
   "outputs": [
    {
     "name": "stdout",
     "output_type": "stream",
     "text": [
      "318e319 (HEAD -> main) c3\n",
      "58be87b c2\n",
      "5441c9e c1\n"
     ]
    }
   ],
   "source": [
    "git log --all --oneline -- file1.txt"
   ]
  },
  {
   "cell_type": "markdown",
   "id": "23bd67fb",
   "metadata": {},
   "source": [
    "## ls-tree 명령"
   ]
  },
  {
   "cell_type": "markdown",
   "id": "38d785a9",
   "metadata": {},
   "source": [
    "- 특정 커밋에 포함된 파일 목록 출력"
   ]
  },
  {
   "cell_type": "markdown",
   "id": "7448d13c",
   "metadata": {},
   "source": [
    "### ls-tree 명령의 옵션"
   ]
  },
  {
   "cell_type": "markdown",
   "id": "99edb0ef",
   "metadata": {},
   "source": [
    "- `--name-only` <유형>\n",
    "  - 파일 이름만 출력\n",
    "  - 생략하면 모드, 객체 유형 및 해시값도 출력"
   ]
  },
  {
   "cell_type": "markdown",
   "id": "f56e8fd0",
   "metadata": {},
   "source": [
    "- `-r` <유형>\n",
    "  - 트리 객체는 생략하고 파일만 하위 디렉토리의 파일까지 출력\n",
    "  - 생략하면 최상위 디렉토리의 내용만 출력"
   ]
  },
  {
   "cell_type": "code",
   "execution_count": 17,
   "id": "10ebf67d",
   "metadata": {
    "vscode": {
     "languageId": "shellscript"
    }
   },
   "outputs": [
    {
     "name": "stdout",
     "output_type": "stream",
     "text": [
      "100644 blob 7a04146eee55f77a1af94221961598f3f9495edc\tfile2.txt\n",
      "040000 tree f3460eff5961a211a218462d0b22335667b2da63\tsub\n"
     ]
    }
   ],
   "source": [
    "git ls-tree HEAD"
   ]
  },
  {
   "cell_type": "code",
   "execution_count": 18,
   "id": "22ac7ba4",
   "metadata": {
    "vscode": {
     "languageId": "shellscript"
    }
   },
   "outputs": [
    {
     "name": "stdout",
     "output_type": "stream",
     "text": [
      "file2.txt\n",
      "sub\n"
     ]
    }
   ],
   "source": [
    "git ls-tree --name-only HEAD"
   ]
  },
  {
   "cell_type": "code",
   "execution_count": 19,
   "id": "30da23b2",
   "metadata": {
    "vscode": {
     "languageId": "shellscript"
    }
   },
   "outputs": [
    {
     "name": "stdout",
     "output_type": "stream",
     "text": [
      "100644 blob 7a04146eee55f77a1af94221961598f3f9495edc\tfile2.txt\n",
      "100644 blob 4abff1731a6775f4113f6397bb7d51582c1fae59\tsub/file3.txt\n"
     ]
    }
   ],
   "source": [
    "git ls-tree -r HEAD"
   ]
  },
  {
   "cell_type": "code",
   "execution_count": 20,
   "id": "7b3c3573",
   "metadata": {
    "vscode": {
     "languageId": "shellscript"
    }
   },
   "outputs": [
    {
     "name": "stdout",
     "output_type": "stream",
     "text": [
      "file1.txt\n",
      "file2.txt\n"
     ]
    }
   ],
   "source": [
    "git ls-tree -r --name-only HEAD~1"
   ]
  },
  {
   "cell_type": "code",
   "execution_count": 21,
   "id": "3fa0cc8a",
   "metadata": {
    "vscode": {
     "languageId": "shellscript"
    }
   },
   "outputs": [
    {
     "name": "stdout",
     "output_type": "stream",
     "text": [
      "file1.txt\n"
     ]
    }
   ],
   "source": [
    "git ls-tree -r --name-only HEAD~2"
   ]
  },
  {
   "cell_type": "markdown",
   "id": "c22c56a0",
   "metadata": {},
   "source": [
    "## cat-file 명령"
   ]
  },
  {
   "cell_type": "markdown",
   "id": "4ea17fe5",
   "metadata": {},
   "source": [
    "- 커밋에 포함된 객체 정보 출력"
   ]
  },
  {
   "cell_type": "markdown",
   "id": "e7c669e6",
   "metadata": {},
   "source": [
    "### cat-file 명령의 옵션"
   ]
  },
  {
   "cell_type": "markdown",
   "id": "2ac73a7b",
   "metadata": {},
   "source": [
    "- `-p`\n",
    "  - 사람이 읽을 수 있게 파싱하여 출력"
   ]
  },
  {
   "cell_type": "code",
   "execution_count": 22,
   "id": "076b21bb",
   "metadata": {
    "vscode": {
     "languageId": "shellscript"
    }
   },
   "outputs": [
    {
     "name": "stdout",
     "output_type": "stream",
     "text": [
      "fatal: only two arguments allowed in <type> <object> mode, not 1\n",
      "\n",
      "usage: git cat-file <type> <object>\n",
      "   or: git cat-file (-e | -p | -t | -s) <object>\n",
      "   or: git cat-file (--textconv | --filters)\n",
      "                    [<rev>:<path|tree-ish> | --path=<path|tree-ish> <rev>]\n",
      "   or: git cat-file (--batch | --batch-check | --batch-command) [--batch-all-objects]\n",
      "                    [--buffer] [--follow-symlinks] [--unordered]\n",
      "                    [--textconv | --filters] [-Z]\n",
      "\n",
      "Check object existence or emit object contents\n",
      "    -e                    check if <object> exists\n",
      "    -p                    pretty-print <object> content\n",
      "\n",
      "Emit [broken] object attributes\n",
      "    -t                    show object type (one of 'blob', 'tree', 'commit', 'tag', ...)\n",
      "    -s                    show object size\n",
      "    --[no-]use-mailmap    use mail map file\n",
      "    --[no-]mailmap ...    alias of --use-mailmap\n",
      "\n",
      "Batch objects requested on stdin (or --batch-all-objects)\n",
      "    --batch[=<format>]    show full <object> or <rev> contents\n",
      "    --batch-check[=<format>]\n",
      "                          like --batch, but don't emit <contents>\n",
      "    -Z                    stdin and stdout is NUL-terminated\n",
      "    --batch-command[=<format>]\n",
      "                          read commands from stdin\n",
      "    --batch-all-objects   with --batch[-check]: ignores stdin, batches all known objects\n",
      "\n",
      "Change or optimize batch output\n",
      "    --[no-]buffer         buffer --batch output\n",
      "    --[no-]follow-symlinks\n",
      "                          follow in-tree symlinks\n",
      "    --[no-]unordered      do not order objects before emitting them\n",
      "\n",
      "Emit object (blob or tree) with conversion or filter (stand-alone, or with batch)\n",
      "    --textconv            run textconv on object's content\n",
      "    --filters             run filters on object's content\n",
      "    --[no-]path blob|tree use a <path> for (--textconv | --filters); Not with 'batch'\n",
      "    --[no-]filter <args>  object filtering\n",
      "\n"
     ]
    },
    {
     "ename": "",
     "evalue": "129",
     "output_type": "error",
     "traceback": []
    }
   ],
   "source": [
    "git cat-file file2.txt"
   ]
  },
  {
   "cell_type": "code",
   "execution_count": null,
   "id": "3788817e",
   "metadata": {
    "vscode": {
     "languageId": "shellscript"
    }
   },
   "outputs": [],
   "source": [
    "git cat-file -p HEAD~2:file1.txt"
   ]
  },
  {
   "cell_type": "code",
   "execution_count": null,
   "id": "728e6239",
   "metadata": {
    "vscode": {
     "languageId": "shellscript"
    }
   },
   "outputs": [],
   "source": [
    "git cat-file -p HEAD~1:file1.txt"
   ]
  },
  {
   "cell_type": "code",
   "execution_count": null,
   "id": "4207cb94",
   "metadata": {
    "vscode": {
     "languageId": "shellscript"
    }
   },
   "outputs": [],
   "source": [
    "git cat-file -p HEAD~1:file2.txt"
   ]
  },
  {
   "cell_type": "code",
   "execution_count": null,
   "id": "7e42b8d5",
   "metadata": {
    "vscode": {
     "languageId": "shellscript"
    }
   },
   "outputs": [],
   "source": [
    "git cat-file -p HEAD:file2.txt"
   ]
  },
  {
   "cell_type": "code",
   "execution_count": null,
   "id": "8fb3c6b9",
   "metadata": {
    "vscode": {
     "languageId": "shellscript"
    }
   },
   "outputs": [],
   "source": [
    "git cat-file -p HEAD:sub/file3.txt"
   ]
  },
  {
   "cell_type": "markdown",
   "id": "9a23a486",
   "metadata": {},
   "source": [
    "## `git show` 명령"
   ]
  },
  {
   "cell_type": "markdown",
   "id": "8acab246",
   "metadata": {},
   "source": [
    "- 특정 커밋의 변경 내역 보기"
   ]
  },
  {
   "cell_type": "code",
   "execution_count": null,
   "id": "a6383ff4",
   "metadata": {
    "vscode": {
     "languageId": "shellscript"
    }
   },
   "outputs": [],
   "source": [
    "git show --name-status HEAD~2"
   ]
  },
  {
   "cell_type": "code",
   "execution_count": null,
   "id": "f8e90e84",
   "metadata": {
    "vscode": {
     "languageId": "shellscript"
    }
   },
   "outputs": [],
   "source": [
    "git show --name-status HEAD~1"
   ]
  },
  {
   "cell_type": "code",
   "execution_count": null,
   "id": "6901ca73",
   "metadata": {
    "vscode": {
     "languageId": "shellscript"
    }
   },
   "outputs": [],
   "source": [
    "git show --name-status HEAD"
   ]
  },
  {
   "cell_type": "markdown",
   "id": "45f2240c",
   "metadata": {},
   "source": [
    "## `diff` 명령"
   ]
  },
  {
   "cell_type": "markdown",
   "id": "849e6d0a",
   "metadata": {},
   "source": [
    "- diff 명령은 커밋과 커밋간의 차이를 비교\n",
    "\n",
    "    ```bash\n",
    "    git diff <커밋해시 또는 참조> <커밋해시 또는 참조>\n",
    "    ```"
   ]
  },
  {
   "cell_type": "markdown",
   "id": "d9c39cea",
   "metadata": {},
   "source": [
    "- 첫번째 인수를 생략하면 워크트리과 커밋을 비교\n",
    "\n",
    "\n",
    "    ```bash\n",
    "    git diff <커밋해시 또는 참조>\n",
    "    ```"
   ]
  },
  {
   "cell_type": "markdown",
   "id": "c5f3b93f",
   "metadata": {},
   "source": [
    "- 첫번째 인수를 생략하고 `--cached` 옵션을 주면 스테이지과 커밋을 비교\n",
    "\n",
    "\n",
    "    ```bash\n",
    "    git diff --cached <커밋해시 또는 참조>\n",
    "    ```"
   ]
  },
  {
   "cell_type": "markdown",
   "id": "8775a11a",
   "metadata": {},
   "source": [
    "## diff 대상 파일"
   ]
  },
  {
   "cell_type": "markdown",
   "id": "ecb37060",
   "metadata": {},
   "source": [
    "## diff 출력 형식"
   ]
  },
  {
   "cell_type": "markdown",
   "id": "e90f3541",
   "metadata": {},
   "source": [
    "## 실습 1: 레포지토리 생성"
   ]
  },
  {
   "cell_type": "markdown",
   "id": "feeda549",
   "metadata": {},
   "source": [
    "- 레포지토리 생성"
   ]
  },
  {
   "cell_type": "code",
   "execution_count": null,
   "id": "0b01bd20",
   "metadata": {
    "vscode": {
     "languageId": "shellscript"
    }
   },
   "outputs": [],
   "source": [
    "# | output: false\n",
    "cd $HOME/lab\n",
    "rm -rf test_diff_01\n",
    "git init test_diff_01\n",
    "cd test_diff_01"
   ]
  },
  {
   "cell_type": "markdown",
   "id": "b511ae18",
   "metadata": {},
   "source": [
    ":::{.cell}\n",
    "::::{.cell-output .cell-output-stdout}\n",
    "Initialized empty Git repository in ~/lab/test_diff_01/.git/\n",
    "::::\n",
    ":::"
   ]
  },
  {
   "cell_type": "code",
   "execution_count": null,
   "id": "21592389",
   "metadata": {
    "vscode": {
     "languageId": "shellscript"
    }
   },
   "outputs": [],
   "source": [
    "echo \"file1 line1\" >> file.txt"
   ]
  },
  {
   "cell_type": "code",
   "execution_count": null,
   "id": "5fabfcdd",
   "metadata": {
    "vscode": {
     "languageId": "shellscript"
    }
   },
   "outputs": [],
   "source": [
    "git status"
   ]
  },
  {
   "cell_type": "code",
   "execution_count": null,
   "id": "145b56ce",
   "metadata": {
    "vscode": {
     "languageId": "shellscript"
    }
   },
   "outputs": [],
   "source": [
    "git diff"
   ]
  },
  {
   "cell_type": "code",
   "execution_count": null,
   "id": "d7524566",
   "metadata": {
    "vscode": {
     "languageId": "shellscript"
    }
   },
   "outputs": [],
   "source": [
    "git add file.txt"
   ]
  },
  {
   "cell_type": "code",
   "execution_count": null,
   "id": "a5c8cd20",
   "metadata": {
    "vscode": {
     "languageId": "shellscript"
    }
   },
   "outputs": [],
   "source": [
    "git status"
   ]
  },
  {
   "cell_type": "code",
   "execution_count": null,
   "id": "4e69df32",
   "metadata": {
    "vscode": {
     "languageId": "shellscript"
    }
   },
   "outputs": [],
   "source": [
    "git diff"
   ]
  },
  {
   "cell_type": "code",
   "execution_count": null,
   "id": "162a5a36",
   "metadata": {
    "vscode": {
     "languageId": "shellscript"
    }
   },
   "outputs": [],
   "source": [
    "git diff --cached"
   ]
  },
  {
   "cell_type": "code",
   "execution_count": null,
   "id": "c0789c19",
   "metadata": {
    "vscode": {
     "languageId": "shellscript"
    }
   },
   "outputs": [],
   "source": [
    "git commit -m c1"
   ]
  },
  {
   "cell_type": "code",
   "execution_count": null,
   "id": "cc75d861",
   "metadata": {
    "vscode": {
     "languageId": "shellscript"
    }
   },
   "outputs": [],
   "source": [
    "git status"
   ]
  },
  {
   "cell_type": "code",
   "execution_count": null,
   "id": "adf7ca92",
   "metadata": {
    "vscode": {
     "languageId": "shellscript"
    }
   },
   "outputs": [],
   "source": [
    "git diff"
   ]
  },
  {
   "cell_type": "code",
   "execution_count": null,
   "id": "d4463ba5",
   "metadata": {
    "vscode": {
     "languageId": "shellscript"
    }
   },
   "outputs": [],
   "source": [
    "git diff --cached"
   ]
  },
  {
   "cell_type": "code",
   "execution_count": null,
   "id": "e58404e6",
   "metadata": {
    "vscode": {
     "languageId": "shellscript"
    }
   },
   "outputs": [],
   "source": [
    "echo \"file1 line2\" >> file.txt"
   ]
  },
  {
   "cell_type": "code",
   "execution_count": null,
   "id": "916b37ee",
   "metadata": {
    "vscode": {
     "languageId": "shellscript"
    }
   },
   "outputs": [],
   "source": [
    "git status"
   ]
  },
  {
   "cell_type": "code",
   "execution_count": null,
   "id": "317ecc99",
   "metadata": {
    "vscode": {
     "languageId": "shellscript"
    }
   },
   "outputs": [],
   "source": [
    "git diff"
   ]
  },
  {
   "cell_type": "code",
   "execution_count": null,
   "id": "ef491a83",
   "metadata": {
    "vscode": {
     "languageId": "shellscript"
    }
   },
   "outputs": [],
   "source": [
    "git diff --cached"
   ]
  },
  {
   "cell_type": "code",
   "execution_count": null,
   "id": "d6914810",
   "metadata": {
    "vscode": {
     "languageId": "shellscript"
    }
   },
   "outputs": [],
   "source": [
    "git diff HEAD"
   ]
  },
  {
   "cell_type": "code",
   "execution_count": null,
   "id": "795ee699",
   "metadata": {
    "vscode": {
     "languageId": "shellscript"
    }
   },
   "outputs": [],
   "source": [
    "git add file.txt"
   ]
  },
  {
   "cell_type": "code",
   "execution_count": null,
   "id": "d5f77882",
   "metadata": {
    "vscode": {
     "languageId": "shellscript"
    }
   },
   "outputs": [],
   "source": [
    "git status"
   ]
  },
  {
   "cell_type": "code",
   "execution_count": null,
   "id": "5915b6d2",
   "metadata": {
    "vscode": {
     "languageId": "shellscript"
    }
   },
   "outputs": [],
   "source": [
    "git diff"
   ]
  },
  {
   "cell_type": "code",
   "execution_count": null,
   "id": "37cc0b43",
   "metadata": {
    "vscode": {
     "languageId": "shellscript"
    }
   },
   "outputs": [],
   "source": [
    "git diff --cached"
   ]
  },
  {
   "cell_type": "code",
   "execution_count": null,
   "id": "031287d1",
   "metadata": {
    "vscode": {
     "languageId": "shellscript"
    }
   },
   "outputs": [],
   "source": [
    "git diff HEAD"
   ]
  },
  {
   "cell_type": "code",
   "execution_count": null,
   "id": "4d146b17",
   "metadata": {
    "vscode": {
     "languageId": "shellscript"
    }
   },
   "outputs": [],
   "source": [
    "git commit -m c2"
   ]
  },
  {
   "cell_type": "code",
   "execution_count": null,
   "id": "63833ee9",
   "metadata": {
    "vscode": {
     "languageId": "shellscript"
    }
   },
   "outputs": [],
   "source": [
    "git diff"
   ]
  },
  {
   "cell_type": "code",
   "execution_count": null,
   "id": "cdcf2f53",
   "metadata": {
    "vscode": {
     "languageId": "shellscript"
    }
   },
   "outputs": [],
   "source": [
    "git diff --cached"
   ]
  },
  {
   "cell_type": "code",
   "execution_count": null,
   "id": "571aef97",
   "metadata": {
    "vscode": {
     "languageId": "shellscript"
    }
   },
   "outputs": [],
   "source": [
    "git diff HEAD"
   ]
  },
  {
   "cell_type": "code",
   "execution_count": null,
   "id": "3ebc24d0",
   "metadata": {
    "vscode": {
     "languageId": "shellscript"
    }
   },
   "outputs": [],
   "source": [
    "rm -f file.txt"
   ]
  },
  {
   "cell_type": "code",
   "execution_count": null,
   "id": "ec1adaba",
   "metadata": {
    "vscode": {
     "languageId": "shellscript"
    }
   },
   "outputs": [],
   "source": [
    "git status"
   ]
  },
  {
   "cell_type": "code",
   "execution_count": null,
   "id": "41351f97",
   "metadata": {
    "vscode": {
     "languageId": "shellscript"
    }
   },
   "outputs": [],
   "source": [
    "git diff"
   ]
  },
  {
   "cell_type": "code",
   "execution_count": null,
   "id": "960fa187",
   "metadata": {
    "vscode": {
     "languageId": "shellscript"
    }
   },
   "outputs": [],
   "source": [
    "git diff --cached"
   ]
  },
  {
   "cell_type": "code",
   "execution_count": null,
   "id": "05c287bc",
   "metadata": {
    "vscode": {
     "languageId": "shellscript"
    }
   },
   "outputs": [],
   "source": [
    "git diff HEAD"
   ]
  },
  {
   "cell_type": "code",
   "execution_count": null,
   "id": "ff9d7a4d",
   "metadata": {
    "vscode": {
     "languageId": "shellscript"
    }
   },
   "outputs": [],
   "source": [
    "git add ."
   ]
  },
  {
   "cell_type": "code",
   "execution_count": null,
   "id": "b06fbc95",
   "metadata": {
    "vscode": {
     "languageId": "shellscript"
    }
   },
   "outputs": [],
   "source": [
    "git diff"
   ]
  },
  {
   "cell_type": "code",
   "execution_count": null,
   "id": "ec33c5e3",
   "metadata": {
    "vscode": {
     "languageId": "shellscript"
    }
   },
   "outputs": [],
   "source": [
    "git diff --cached"
   ]
  },
  {
   "cell_type": "code",
   "execution_count": null,
   "id": "babdc5a5",
   "metadata": {
    "vscode": {
     "languageId": "shellscript"
    }
   },
   "outputs": [],
   "source": [
    "git diff HEAD"
   ]
  },
  {
   "cell_type": "code",
   "execution_count": null,
   "id": "ae764680",
   "metadata": {
    "vscode": {
     "languageId": "shellscript"
    }
   },
   "outputs": [],
   "source": [
    "git commit -m c3"
   ]
  },
  {
   "cell_type": "code",
   "execution_count": null,
   "id": "55b31cf9",
   "metadata": {
    "vscode": {
     "languageId": "shellscript"
    }
   },
   "outputs": [],
   "source": [
    "git diff"
   ]
  },
  {
   "cell_type": "code",
   "execution_count": null,
   "id": "e49fabc4",
   "metadata": {
    "vscode": {
     "languageId": "shellscript"
    }
   },
   "outputs": [],
   "source": [
    "git diff --cached"
   ]
  },
  {
   "cell_type": "code",
   "execution_count": null,
   "id": "4406af01",
   "metadata": {
    "vscode": {
     "languageId": "shellscript"
    }
   },
   "outputs": [],
   "source": [
    "git diff HEAD"
   ]
  },
  {
   "cell_type": "markdown",
   "id": "0f7a1c45",
   "metadata": {},
   "source": [
    "## 복사 탐지"
   ]
  },
  {
   "cell_type": "code",
   "execution_count": null,
   "id": "955642a2",
   "metadata": {
    "vscode": {
     "languageId": "shellscript"
    }
   },
   "outputs": [],
   "source": []
  }
 ],
 "metadata": {
  "kernelspec": {
   "display_name": "Bash",
   "language": "bash",
   "name": "bash"
  },
  "language_info": {
   "codemirror_mode": "shell",
   "file_extension": ".sh",
   "mimetype": "text/x-sh",
   "name": "bash"
  }
 },
 "nbformat": 4,
 "nbformat_minor": 5
}
