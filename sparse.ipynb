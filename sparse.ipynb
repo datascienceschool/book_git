{
 "cells": [
  {
   "cell_type": "code",
   "execution_count": 1,
   "id": "24744f54",
   "metadata": {
    "vscode": {
     "languageId": "shellscript"
    }
   },
   "outputs": [],
   "source": [
    "# | echo: false\n",
    "# | output: false\n",
    "export LANG=en_US.UTF-8\n",
    "export HOME=/Users/joelkim/Work/personal/book_git\n",
    "cd $HOME"
   ]
  },
  {
   "cell_type": "markdown",
   "id": "b1e45dbb",
   "metadata": {},
   "source": [
    "# 스파스"
   ]
  },
  {
   "cell_type": "raw",
   "id": "41aa7f4e",
   "metadata": {
    "vscode": {
     "languageId": "raw"
    }
   },
   "source": [
    "::: {.hidden}\n",
    "\n",
    "## 참고 문헌\n",
    "\n",
    "- Building Git, Ch. 13 Branching Out\n",
    "  - chrome-extension://oemmndcbldboiebfnladdacbdfmadadm/file:///Users/joelkim/Work/study/study_cs/book/DevOps/Coglan/2021%20-%20Coglan%20-%20Buliding%20Git.pdf#%5B%7B%22num%22%3A1460%2C%22gen%22%3A0%7D%2C%7B%22name%22%3A%22XYZ%22%7D%2C72%2C769.889%2Cnull%5D\n",
    "\n",
    ":::"
   ]
  },
  {
   "cell_type": "code",
   "execution_count": 2,
   "id": "cfeacce7",
   "metadata": {
    "vscode": {
     "languageId": "shellscript"
    }
   },
   "outputs": [
    {
     "name": "stdout",
     "output_type": "stream",
     "text": [
      "Initialized empty Git repository in /Users/joelkim/Work/personal/book_git/lab/test_sparse_01/.git/\n"
     ]
    }
   ],
   "source": [
    "# | output: false\n",
    "cd $HOME/lab\n",
    "rm -rf test_sparse_01\n",
    "git init test_sparse_01\n",
    "cd test_sparse_01"
   ]
  },
  {
   "cell_type": "code",
   "execution_count": 3,
   "id": "64b5a65c",
   "metadata": {
    "vscode": {
     "languageId": "shellscript"
    }
   },
   "outputs": [
    {
     "name": "stdout",
     "output_type": "stream",
     "text": [
      "[core]\n",
      "\trepositoryformatversion = 0\n",
      "\tfilemode = true\n",
      "\tbare = false\n",
      "\tlogallrefupdates = true\n",
      "\tignorecase = true\n",
      "\tprecomposeunicode = true\n"
     ]
    }
   ],
   "source": [
    "cat .git/config"
   ]
  },
  {
   "cell_type": "code",
   "execution_count": 4,
   "id": "820dd76f",
   "metadata": {
    "vscode": {
     "languageId": "shellscript"
    }
   },
   "outputs": [
    {
     "name": "stdout",
     "output_type": "stream",
     "text": [
      "실패\n"
     ]
    }
   ],
   "source": [
    "if result=$(git config --get core.sparseCheckout); then\n",
    "  echo result\n",
    "else\n",
    "  echo \"실패\"\n",
    "fi"
   ]
  },
  {
   "cell_type": "code",
   "execution_count": 5,
   "id": "b2f9837c",
   "metadata": {
    "vscode": {
     "languageId": "shellscript"
    }
   },
   "outputs": [],
   "source": [
    "git sparse-checkout init --no-cone"
   ]
  },
  {
   "cell_type": "code",
   "execution_count": 6,
   "id": "07f7e43b",
   "metadata": {
    "vscode": {
     "languageId": "shellscript"
    }
   },
   "outputs": [
    {
     "name": "stdout",
     "output_type": "stream",
     "text": [
      "[core]\n",
      "\trepositoryformatversion = 0\n",
      "\tfilemode = true\n",
      "\tbare = false\n",
      "\tlogallrefupdates = true\n",
      "\tignorecase = true\n",
      "\tprecomposeunicode = true\n",
      "[extensions]\n",
      "\tworktreeConfig = true\n"
     ]
    }
   ],
   "source": [
    "cat .git/config"
   ]
  },
  {
   "cell_type": "code",
   "execution_count": 7,
   "id": "b7e27d32",
   "metadata": {
    "vscode": {
     "languageId": "shellscript"
    }
   },
   "outputs": [
    {
     "name": "stdout",
     "output_type": "stream",
     "text": [
      "true\n"
     ]
    }
   ],
   "source": [
    "if result=$(git config --get core.sparseCheckout); then\n",
    "  echo $result\n",
    "else\n",
    "  echo \"실패\"\n",
    "fi"
   ]
  },
  {
   "cell_type": "code",
   "execution_count": 8,
   "id": "148a6962",
   "metadata": {
    "vscode": {
     "languageId": "shellscript"
    }
   },
   "outputs": [],
   "source": [
    "rm -rf .git/config.worktree"
   ]
  },
  {
   "cell_type": "code",
   "execution_count": 9,
   "id": "7da3d5b2",
   "metadata": {
    "vscode": {
     "languageId": "shellscript"
    }
   },
   "outputs": [
    {
     "name": "stdout",
     "output_type": "stream",
     "text": [
      "실패\n"
     ]
    }
   ],
   "source": [
    "if result=$(git config --get core.sparseCheckout); then\n",
    "  echo $result\n",
    "else\n",
    "  echo \"실패\"\n",
    "fi"
   ]
  },
  {
   "cell_type": "code",
   "execution_count": 10,
   "id": "c96ef0d7",
   "metadata": {
    "vscode": {
     "languageId": "shellscript"
    }
   },
   "outputs": [],
   "source": [
    "git sparse-checkout init --no-cone"
   ]
  },
  {
   "cell_type": "code",
   "execution_count": 11,
   "id": "50c521ef",
   "metadata": {
    "vscode": {
     "languageId": "shellscript"
    }
   },
   "outputs": [
    {
     "name": "stdout",
     "output_type": "stream",
     "text": [
      "[core]\n",
      "\tsparseCheckout = true\n",
      "\tsparseCheckoutCone = false\n"
     ]
    }
   ],
   "source": [
    "cat .git/config.worktree"
   ]
  },
  {
   "cell_type": "code",
   "execution_count": 12,
   "id": "cfd721e7",
   "metadata": {
    "vscode": {
     "languageId": "shellscript"
    }
   },
   "outputs": [
    {
     "name": "stdout",
     "output_type": "stream",
     "text": [
      "/*\n",
      "!/*/\n"
     ]
    }
   ],
   "source": [
    "git sparse-checkout list"
   ]
  },
  {
   "cell_type": "code",
   "execution_count": 13,
   "id": "d6a90061",
   "metadata": {
    "vscode": {
     "languageId": "shellscript"
    }
   },
   "outputs": [],
   "source": [
    "rm -rf .git/info/sparse-checkout"
   ]
  },
  {
   "cell_type": "code",
   "execution_count": 14,
   "id": "b8c35353",
   "metadata": {
    "vscode": {
     "languageId": "shellscript"
    }
   },
   "outputs": [
    {
     "name": "stdout",
     "output_type": "stream",
     "text": [
      "true\n"
     ]
    }
   ],
   "source": [
    "if result=$(git config --get core.sparseCheckout); then\n",
    "  echo $result\n",
    "else\n",
    "  echo \"실패\"\n",
    "fi"
   ]
  },
  {
   "cell_type": "code",
   "execution_count": 15,
   "id": "e671caf3",
   "metadata": {
    "vscode": {
     "languageId": "shellscript"
    }
   },
   "outputs": [
    {
     "name": "stdout",
     "output_type": "stream",
     "text": [
      "/*\n"
     ]
    }
   ],
   "source": [
    "git sparse-checkout set \"/*\"\n",
    "git sparse-checkout list"
   ]
  },
  {
   "cell_type": "code",
   "execution_count": 16,
   "id": "79c5d581",
   "metadata": {
    "vscode": {
     "languageId": "shellscript"
    }
   },
   "outputs": [
    {
     "name": "stdout",
     "output_type": "stream",
     "text": [
      "[main (root-commit) b00470b] c1\n",
      " 5 files changed, 0 insertions(+), 0 deletions(-)\n",
      " create mode 100644 file1.txt\n",
      " create mode 100644 file2.txt\n",
      " create mode 100644 file3.txt\n",
      " create mode 100644 file4.txt\n",
      " create mode 100644 file5.txt\n"
     ]
    }
   ],
   "source": [
    "touch file1.txt\n",
    "touch file2.txt\n",
    "touch file3.txt\n",
    "touch file4.txt\n",
    "touch file5.txt\n",
    "git add .\n",
    "git commit -m \"c1\""
   ]
  },
  {
   "cell_type": "code",
   "execution_count": 17,
   "id": "639bdcdd",
   "metadata": {
    "vscode": {
     "languageId": "shellscript"
    }
   },
   "outputs": [
    {
     "name": "stdout",
     "output_type": "stream",
     "text": [
      "file1.txt\tfile2.txt\tfile3.txt\tfile4.txt\tfile5.txt\n"
     ]
    }
   ],
   "source": [
    "git checkout\n",
    "ls"
   ]
  },
  {
   "cell_type": "code",
   "execution_count": 18,
   "id": "4521b191",
   "metadata": {
    "vscode": {
     "languageId": "shellscript"
    }
   },
   "outputs": [
    {
     "name": "stdout",
     "output_type": "stream",
     "text": [
      "/*\n"
     ]
    }
   ],
   "source": [
    "git sparse-checkout list"
   ]
  },
  {
   "cell_type": "code",
   "execution_count": 19,
   "id": "e014707f",
   "metadata": {
    "vscode": {
     "languageId": "shellscript"
    }
   },
   "outputs": [],
   "source": [
    "git sparse-checkout set \"\"\n",
    "git sparse-checkout list"
   ]
  },
  {
   "cell_type": "code",
   "execution_count": 20,
   "id": "a053e1cf",
   "metadata": {
    "vscode": {
     "languageId": "shellscript"
    }
   },
   "outputs": [
    {
     "name": "stdout",
     "output_type": "stream",
     "text": [
      "total 0\n",
      "drwxr-xr-x@  3 joelkim  staff   96 Sep  3 22:34 .\n",
      "drwxr-xr-x@ 13 joelkim  staff  416 Sep  3 22:34 ..\n",
      "drwxr-xr-x@ 13 joelkim  staff  416 Sep  3 22:34 .git\n"
     ]
    }
   ],
   "source": [
    "git checkout\n",
    "ls -al"
   ]
  },
  {
   "cell_type": "code",
   "execution_count": 21,
   "id": "a793fad5",
   "metadata": {
    "vscode": {
     "languageId": "shellscript"
    }
   },
   "outputs": [
    {
     "name": "stdout",
     "output_type": "stream",
     "text": [
      "/file1.txt\n",
      "/file2.txt\n"
     ]
    }
   ],
   "source": [
    "git sparse-checkout set \"\"\n",
    "git sparse-checkout add \"/file1.txt\"\n",
    "git sparse-checkout add \"/file2.txt\"\n",
    "git sparse-checkout list"
   ]
  },
  {
   "cell_type": "code",
   "execution_count": 22,
   "id": "2e2b640a",
   "metadata": {
    "vscode": {
     "languageId": "shellscript"
    }
   },
   "outputs": [
    {
     "name": "stdout",
     "output_type": "stream",
     "text": [
      "total 0\n",
      "drwxr-xr-x@  5 joelkim  staff  160 Sep  3 22:34 .\n",
      "drwxr-xr-x@ 13 joelkim  staff  416 Sep  3 22:34 ..\n",
      "drwxr-xr-x@ 13 joelkim  staff  416 Sep  3 22:34 .git\n",
      "-rw-r--r--@  1 joelkim  staff    0 Sep  3 22:34 file1.txt\n",
      "-rw-r--r--@  1 joelkim  staff    0 Sep  3 22:34 file2.txt\n"
     ]
    }
   ],
   "source": [
    "git checkout\n",
    "ls -al"
   ]
  },
  {
   "cell_type": "code",
   "execution_count": 23,
   "id": "89bf8541",
   "metadata": {
    "vscode": {
     "languageId": "shellscript"
    }
   },
   "outputs": [
    {
     "name": "stdout",
     "output_type": "stream",
     "text": [
      "[main 02b2ddb] c2\n",
      " 4 files changed, 0 insertions(+), 0 deletions(-)\n",
      " create mode 100644 file6.txt\n",
      " create mode 100644 file7.txt\n",
      " create mode 100644 file8.txt\n",
      " create mode 100644 file9.txt\n"
     ]
    }
   ],
   "source": [
    "touch file6.txt\n",
    "touch file7.txt\n",
    "touch file8.txt\n",
    "touch file9.txt\n",
    "git add --sparse .\n",
    "git commit -m \"c2\"\n"
   ]
  },
  {
   "cell_type": "code",
   "execution_count": 24,
   "id": "d0f401f8",
   "metadata": {
    "vscode": {
     "languageId": "shellscript"
    }
   },
   "outputs": [
    {
     "name": "stdout",
     "output_type": "stream",
     "text": [
      "/file1.txt\n",
      "/file2.txt\n"
     ]
    }
   ],
   "source": [
    "git sparse-checkout list"
   ]
  },
  {
   "cell_type": "code",
   "execution_count": 25,
   "id": "92deadb6",
   "metadata": {
    "vscode": {
     "languageId": "shellscript"
    }
   },
   "outputs": [
    {
     "name": "stdout",
     "output_type": "stream",
     "text": [
      "total 0\n",
      "drwxr-xr-x@  9 joelkim  staff  288 Sep  3 22:34 .\n",
      "drwxr-xr-x@ 13 joelkim  staff  416 Sep  3 22:34 ..\n",
      "drwxr-xr-x@ 13 joelkim  staff  416 Sep  3 22:34 .git\n",
      "-rw-r--r--@  1 joelkim  staff    0 Sep  3 22:34 file1.txt\n",
      "-rw-r--r--@  1 joelkim  staff    0 Sep  3 22:34 file2.txt\n",
      "-rw-r--r--@  1 joelkim  staff    0 Sep  3 22:34 file6.txt\n",
      "-rw-r--r--@  1 joelkim  staff    0 Sep  3 22:34 file7.txt\n",
      "-rw-r--r--@  1 joelkim  staff    0 Sep  3 22:34 file8.txt\n",
      "-rw-r--r--@  1 joelkim  staff    0 Sep  3 22:34 file9.txt\n"
     ]
    }
   ],
   "source": [
    "ls -al"
   ]
  },
  {
   "cell_type": "code",
   "execution_count": 26,
   "id": "7d7a2f6b",
   "metadata": {
    "vscode": {
     "languageId": "shellscript"
    }
   },
   "outputs": [
    {
     "name": "stdout",
     "output_type": "stream",
     "text": [
      "total 0\n",
      "drwxr-xr-x@  5 joelkim  staff  160 Sep  3 22:34 .\n",
      "drwxr-xr-x@ 13 joelkim  staff  416 Sep  3 22:34 ..\n",
      "drwxr-xr-x@ 13 joelkim  staff  416 Sep  3 22:34 .git\n",
      "-rw-r--r--@  1 joelkim  staff    0 Sep  3 22:34 file1.txt\n",
      "-rw-r--r--@  1 joelkim  staff    0 Sep  3 22:34 file2.txt\n"
     ]
    }
   ],
   "source": [
    "git checkout\n",
    "ls -al"
   ]
  },
  {
   "cell_type": "code",
   "execution_count": 27,
   "id": "7b7dfbe4",
   "metadata": {
    "vscode": {
     "languageId": "shellscript"
    }
   },
   "outputs": [],
   "source": [
    "git sparse-checkout add \"/file6.txt\"\n",
    "git sparse-checkout add \"/file7.txt\"\n",
    "git sparse-checkout add \"/file8.txt\"\n",
    "git sparse-checkout add \"/file9.txt\""
   ]
  },
  {
   "cell_type": "code",
   "execution_count": 28,
   "id": "d344ef06",
   "metadata": {
    "vscode": {
     "languageId": "shellscript"
    }
   },
   "outputs": [
    {
     "name": "stdout",
     "output_type": "stream",
     "text": [
      "/file1.txt\n",
      "/file2.txt\n",
      "/file6.txt\n",
      "/file7.txt\n",
      "/file8.txt\n",
      "/file9.txt\n"
     ]
    }
   ],
   "source": [
    "git sparse-checkout list"
   ]
  },
  {
   "cell_type": "code",
   "execution_count": 29,
   "id": "f6f9f65e",
   "metadata": {
    "vscode": {
     "languageId": "shellscript"
    }
   },
   "outputs": [
    {
     "name": "stdout",
     "output_type": "stream",
     "text": [
      "total 0\n",
      "drwxr-xr-x@  9 joelkim  staff  288 Sep  3 22:34 .\n",
      "drwxr-xr-x@ 13 joelkim  staff  416 Sep  3 22:34 ..\n",
      "drwxr-xr-x@ 13 joelkim  staff  416 Sep  3 22:34 .git\n",
      "-rw-r--r--@  1 joelkim  staff    0 Sep  3 22:34 file1.txt\n",
      "-rw-r--r--@  1 joelkim  staff    0 Sep  3 22:34 file2.txt\n",
      "-rw-r--r--@  1 joelkim  staff    0 Sep  3 22:34 file6.txt\n",
      "-rw-r--r--@  1 joelkim  staff    0 Sep  3 22:34 file7.txt\n",
      "-rw-r--r--@  1 joelkim  staff    0 Sep  3 22:34 file8.txt\n",
      "-rw-r--r--@  1 joelkim  staff    0 Sep  3 22:34 file9.txt\n"
     ]
    }
   ],
   "source": [
    "git checkout\n",
    "ls -al"
   ]
  },
  {
   "cell_type": "code",
   "execution_count": 30,
   "id": "2382e578",
   "metadata": {
    "vscode": {
     "languageId": "shellscript"
    }
   },
   "outputs": [],
   "source": [
    "git sparse-checkout add \"/file10.txt\""
   ]
  },
  {
   "cell_type": "code",
   "execution_count": 31,
   "id": "9cf5dc09",
   "metadata": {
    "vscode": {
     "languageId": "shellscript"
    }
   },
   "outputs": [],
   "source": [
    "git checkout"
   ]
  },
  {
   "cell_type": "code",
   "execution_count": 32,
   "id": "0c6a4361",
   "metadata": {
    "vscode": {
     "languageId": "shellscript"
    }
   },
   "outputs": [
    {
     "name": "stdout",
     "output_type": "stream",
     "text": [
      "/file1.txt\n",
      "/file2.txt\n",
      "/file6.txt\n",
      "/file7.txt\n",
      "/file8.txt\n",
      "/file9.txt\n",
      "/file10.txt\n"
     ]
    }
   ],
   "source": [
    "git sparse-checkout list"
   ]
  },
  {
   "cell_type": "code",
   "execution_count": 33,
   "id": "04bf76a8",
   "metadata": {
    "vscode": {
     "languageId": "shellscript"
    }
   },
   "outputs": [
    {
     "name": "stdout",
     "output_type": "stream",
     "text": [
      "total 0\n",
      "drwxr-xr-x@  9 joelkim  staff  288 Sep  3 22:34 .\n",
      "drwxr-xr-x@ 13 joelkim  staff  416 Sep  3 22:34 ..\n",
      "drwxr-xr-x@ 13 joelkim  staff  416 Sep  3 22:34 .git\n",
      "-rw-r--r--@  1 joelkim  staff    0 Sep  3 22:34 file1.txt\n",
      "-rw-r--r--@  1 joelkim  staff    0 Sep  3 22:34 file2.txt\n",
      "-rw-r--r--@  1 joelkim  staff    0 Sep  3 22:34 file6.txt\n",
      "-rw-r--r--@  1 joelkim  staff    0 Sep  3 22:34 file7.txt\n",
      "-rw-r--r--@  1 joelkim  staff    0 Sep  3 22:34 file8.txt\n",
      "-rw-r--r--@  1 joelkim  staff    0 Sep  3 22:34 file9.txt\n"
     ]
    }
   ],
   "source": [
    "ls -al"
   ]
  },
  {
   "cell_type": "code",
   "execution_count": null,
   "id": "a840ba77",
   "metadata": {
    "vscode": {
     "languageId": "shellscript"
    }
   },
   "outputs": [],
   "source": []
  },
  {
   "cell_type": "code",
   "execution_count": null,
   "id": "5d8e6fa7",
   "metadata": {
    "vscode": {
     "languageId": "shellscript"
    }
   },
   "outputs": [],
   "source": []
  }
 ],
 "metadata": {
  "kernelspec": {
   "display_name": "Bash",
   "language": "bash",
   "name": "bash"
  },
  "language_info": {
   "codemirror_mode": "shell",
   "file_extension": ".sh",
   "mimetype": "text/x-sh",
   "name": "bash"
  }
 },
 "nbformat": 4,
 "nbformat_minor": 5
}
