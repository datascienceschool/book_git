{
 "cells": [
  {
   "cell_type": "markdown",
   "id": "080e1d87",
   "metadata": {},
   "source": [
    "# 리셋"
   ]
  },
  {
   "cell_type": "markdown",
   "id": "271f800b",
   "metadata": {},
   "source": []
  }
 ],
 "metadata": {
  "language_info": {
   "name": "python"
  }
 },
 "nbformat": 4,
 "nbformat_minor": 5
}
