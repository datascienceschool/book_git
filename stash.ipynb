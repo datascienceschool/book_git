{
 "cells": [
  {
   "cell_type": "markdown",
   "id": "ab708981",
   "metadata": {},
   "source": [
    "# 임시 저장"
   ]
  },
  {
   "cell_type": "markdown",
   "id": "9d7d9767",
   "metadata": {},
   "source": []
  }
 ],
 "metadata": {
  "language_info": {
   "name": "python"
  }
 },
 "nbformat": 4,
 "nbformat_minor": 5
}
