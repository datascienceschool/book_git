{
 "cells": [
  {
   "cell_type": "markdown",
   "id": "3af44198",
   "metadata": {},
   "source": [
    "# 무시"
   ]
  },
  {
   "cell_type": "markdown",
   "id": "a9c880d6",
   "metadata": {},
   "source": []
  }
 ],
 "metadata": {
  "language_info": {
   "name": "python"
  }
 },
 "nbformat": 4,
 "nbformat_minor": 5
}
