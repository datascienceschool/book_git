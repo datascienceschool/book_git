{
 "cells": [
  {
   "cell_type": "code",
   "execution_count": 1,
   "id": "1e184d24",
   "metadata": {
    "vscode": {
     "languageId": "shellscript"
    }
   },
   "outputs": [],
   "source": [
    "# | echo: false\n",
    "# | output: false\n",
    "export LANG=en_US.UTF-8\n",
    "export HOME=/Users/joelkim/Work/personal/book_git\n",
    "cd $HOME"
   ]
  },
  {
   "cell_type": "markdown",
   "id": "4e03d0f0",
   "metadata": {},
   "source": [
    "# 내부 구조"
   ]
  },
  {
   "cell_type": "markdown",
   "id": "5e89c204",
   "metadata": {},
   "source": [
    "::: {.hidden}\n",
    "\n",
    "## 참고 문헌\n",
    "\n",
    "- Pro Git, Git Internels, Git Objects\n",
    "  - chrome-extension://oemmndcbldboiebfnladdacbdfmadadm/file:///Users/joelkim/Work/study/study_cs/book/DevOps/Progit/progit.pdf#%5B%7B%22num%22%3A2221%2C%22gen%22%3A0%7D%2C%7B%22name%22%3A%22XYZ%22%7D%2C0%2C510.57%2Cnull%5D\n",
    "- Mastering Git, Ch10 Keeping History Clean, An introduction to Git internals\n",
    "  - chrome-extension://oemmndcbldboiebfnladdacbdfmadadm/file:///Users/joelkim/Work/study/study_cs/book/DevOps/Narebski/2024%20-%20Narebski%20-%20Mastering%20Git,%202nd%20Edition.pdf#p263\n",
    "\n",
    ":::"
   ]
  },
  {
   "cell_type": "markdown",
   "id": "f86df408",
   "metadata": {},
   "source": [
    "## git 기본 명령의 내부 구조"
   ]
  },
  {
   "cell_type": "markdown",
   "id": "3890b0e0",
   "metadata": {},
   "source": [
    "- add, commit 등의 명령으로 파일이 등록되는 과정은 내부적으로 다음 과정을 따른다."
   ]
  },
  {
   "cell_type": "markdown",
   "id": "cde5fad8",
   "metadata": {},
   "source": [
    "| 순번 | git 명령 | 내부 동작 | 설명 |\n",
    "|-|--|---|------------|\n",
    "| 1 | git add | 블롭 객체 생성\t| `git hash-object` 명령으로 블롭 객체 생성 |\n",
    "| 2 | - | 인덱스 등록\t| `git update-index` 명령으로 인덱스 파일에 스테이징 정보 등록 |\n",
    "| 3 | git commit | 트리 객체 생성\t| `git write-tree` 명령으로 인덱스 파일정보를 이용하여 트리 객체 생성 |\n",
    "| 4 | - | commit 객체 생성 | `git commit-tree` 명령으로 커밋 객체 생성 |\n",
    "| 5 | - | 브랜치 갱신 | `git update-ref` 명령으로 브랜치 정보 갱신 |"
   ]
  },
  {
   "cell_type": "markdown",
   "id": "1c0da253",
   "metadata": {},
   "source": [
    "## 정보 저장 위치"
   ]
  },
  {
   "cell_type": "markdown",
   "id": "52fc5727",
   "metadata": {},
   "source": [
    "- 스테이지와 레포지토리 내의 정보는 다음 두 가지 형태로 저장된다.\n",
    "  - 인덱스(index): 스테이지의 정보 목록을 저장하는 하나의 파일\n",
    "  - 객체(object): 스테이지 및 레포지토리의 파일과 디렉토리 내용을 저장하는 복수의 파일들"
   ]
  },
  {
   "cell_type": "markdown",
   "id": "ab3e0e0e",
   "metadata": {},
   "source": [
    "![그림: 정보 저장 위치](figs/fig_internal_01.png){width=100%}"
   ]
  },
  {
   "cell_type": "markdown",
   "id": "24d12702",
   "metadata": {},
   "source": [
    "## 인덱스"
   ]
  },
  {
   "cell_type": "markdown",
   "id": "5a6aaee2",
   "metadata": {},
   "source": [
    "- 인덱스는 `.git` 디렉토리 아래에 `index`라는 이름으로 저장되는 바이너리 파일이다.\n",
    "- 저장할 파일이 add 명령으로 스테이지에 들어가면 \n",
    "  - 우선 파일의 내용을 블롭 객체라는 형태로 저장하고\n",
    "  - 해당 파일에 대한 포인터 정보를 인덱스 엔트리(index entry)라는 형식으로 인덱스 파일에 저장한다.\n",
    "- 커밋된 이후에도 인덱스 파일내의 엔트리 정보는 사라지지 않는다."
   ]
  },
  {
   "cell_type": "markdown",
   "id": "c6de40ad",
   "metadata": {},
   "source": [
    "### 인덱스 엔트리"
   ]
  },
  {
   "cell_type": "markdown",
   "id": "85d95b8a",
   "metadata": {},
   "source": [
    "- 인덱스 엔트리는 다음과 같은 정보를 포함한다.\n",
    "  - 워크트리에 있는 실제 파일에 대한 정보\n",
    "  - 객체로 저장된 파일내용에 대한 포인터(해시값) 정보"
   ]
  },
  {
   "cell_type": "markdown",
   "id": "20426e48",
   "metadata": {},
   "source": [
    "## 객체"
   ]
  },
  {
   "cell_type": "markdown",
   "id": "fcd4bfac",
   "metadata": {},
   "source": [
    "- 객체 파일은 파일의 내용 자체 또는 디렉토리의 구조(파일/서브디렉토리 목록) 등을 저장하는 '.git/objects' 디렉토리 아래의 바이너리 파일이다.\n",
    "- 객체 파일의 종류에는 블롭 객체, 트리 객체, 커밋 객체가 있다.\n",
    "- 파일이 add 명령으로 스테이지에 들어가면 파일의 내용은 블롭(blob) 객체 파일에, 디렉토리의 내용은 트리(tree) 객체 파일에 저장된다. \n",
    "- 파일이 commit 명령으로 레포지토리에 기록되면 \n",
    "  - 해당 커밋에 포함되는 디렉토리들의 정보를 저장하는 트리 객체들을 만들고\n",
    "  - 이 트리 객체들과 블롭 객체들을 가리키는 포인터(해시) 정보를 포함하는 커밋(commit) 객체가 만들어진다.\n"
   ]
  },
  {
   "cell_type": "markdown",
   "id": "ddb1bcf8",
   "metadata": {},
   "source": [
    "### 객체 파일의 해시값"
   ]
  },
  {
   "cell_type": "markdown",
   "id": "d465ca99",
   "metadata": {},
   "source": [
    "- 모든 객체는 이름(아이디)으로 sha1 해시값 40글자를 가짐\n",
    "- git에서 객체를 가리키는 포인터 정보라고 함은 이 해시값을 말한다.\n",
    "- 객체의 종류에 따라 해시 계산 방법이 다름\n",
    "  - 블롭 객체의 해시값은 파일의 내용만(파일 이름도 사용하지 않음!) 사용하여 계산하므로 파일 내용이 같으면 해시값도 같음\n",
    "  - 트리 객체의 해시값은 해당 디렉토리에 있는 파일/서브디렉토리 이름/속성 정보를 사용하여 계산하므로 이 내용이 같으면 해시값도 같음\n",
    "  - 커밋 객체의 해시값은 작성자 정보, 작성 시간 정보 등을 통합하여 계산하므로 커밋 내용이 같아도 해시값이 달라질 수 있음\n"
   ]
  },
  {
   "cell_type": "markdown",
   "id": "f4b77ad7",
   "metadata": {},
   "source": [
    "### 객체 파일의 저장 위치"
   ]
  },
  {
   "cell_type": "markdown",
   "id": "d74feb36",
   "metadata": {},
   "source": [
    "- 객체는 `.git/objects` 디렉토리 아래에 서브디렉토리로 나뉘어서 파일형태로 저장\n",
    "- 디렉토리를 분산하기 위해 40글자 sha1 해시값 중 첫 2글자를 디렉토리 이름으로 하고 나머지 38글자를 파일이름으로 저장"
   ]
  },
  {
   "cell_type": "markdown",
   "id": "05f6186d",
   "metadata": {},
   "source": [
    "### 객체의 저장 형식"
   ]
  },
  {
   "cell_type": "markdown",
   "id": "8865f86a",
   "metadata": {},
   "source": [
    "- zlib으로 압축된 바이너리 파일\n",
    "- 객체를 hex 에디터로 보면 앞부분이 zlib DEFLATE 형식(0x78 0x9C)으로 시작함"
   ]
  },
  {
   "cell_type": "markdown",
   "id": "5b4303ac",
   "metadata": {},
   "source": [
    "## 객체 관련 명령"
   ]
  },
  {
   "cell_type": "markdown",
   "id": "486621d2",
   "metadata": {},
   "source": [
    "- 저장소 전체의 객체 목록을 보는 법\n",
    "\n",
    "    ```bash\n",
    "    git cat-file --batch-check --batch-all-objects --unordered\n",
    "    ```"
   ]
  },
  {
   "cell_type": "markdown",
   "id": "26dd9cbb",
   "metadata": {},
   "source": [
    "- 객체 하나의 유형을 보는 법\n",
    "\n",
    "    ```bash\n",
    "    git cat-file -t 해시값\n",
    "    ```"
   ]
  },
  {
   "cell_type": "markdown",
   "id": "0e620759",
   "metadata": {},
   "source": [
    "- 객체 하나의 파싱 정보를 보는 법\n",
    "\n",
    "    ```bash\n",
    "    git cat-file -p 해시값\n",
    "    ```"
   ]
  },
  {
   "cell_type": "markdown",
   "id": "1ec94629",
   "metadata": {},
   "source": [
    "- 객체의 내용 정보를 원 바이트열 그대로 보고 싶을 때는 zlib 압축을 풀 수 있는 도구가 있어야 한다.\n",
    "  - 예를 들어 \"qpdf\" 애플리케이션을 설치하면 `zlib-flate -uncompress` 명령으로 객체 내용을 볼 수 있다.\n",
    "  - 단, 이 경우에는 바이너리 바이트열을 그대로 보여주므로 콘솔에서 문자로 잘 표시되지 않을 수 있다. \n"
   ]
  },
  {
   "cell_type": "markdown",
   "id": "ab5815df",
   "metadata": {},
   "source": [
    "## 실습 1"
   ]
  },
  {
   "cell_type": "markdown",
   "id": "1993e26f",
   "metadata": {},
   "source": [
    "- 레포지토리 생성"
   ]
  },
  {
   "cell_type": "code",
   "execution_count": 2,
   "id": "ee6c50f1",
   "metadata": {
    "vscode": {
     "languageId": "shellscript"
    }
   },
   "outputs": [
    {
     "name": "stdout",
     "output_type": "stream",
     "text": [
      "Initialized empty Git repository in /Users/joelkim/Work/personal/book_git/lab/test_internal_01/.git/\n"
     ]
    }
   ],
   "source": [
    "# | output: false\n",
    "cd $HOME/lab\n",
    "rm -rf test_internal_01\n",
    "git init test_internal_01\n",
    "cd test_internal_01"
   ]
  },
  {
   "cell_type": "markdown",
   "id": "d5b829c5",
   "metadata": {},
   "source": [
    ":::{.cell}\n",
    "::::{.cell-output .cell-output-stdout}\n",
    "Initialized empty Git repository in ~/lab/test_internal_01/.git/\n",
    "::::\n",
    ":::"
   ]
  },
  {
   "cell_type": "code",
   "execution_count": 3,
   "id": "8271dc61",
   "metadata": {
    "vscode": {
     "languageId": "shellscript"
    }
   },
   "outputs": [
    {
     "name": "stdout",
     "output_type": "stream",
     "text": [
      ".git\n",
      "├── config\n",
      "├── description\n",
      "├── HEAD\n",
      "├── hooks\n",
      "│   ├── applypatch-msg.sample\n",
      "│   ├── commit-msg.sample\n",
      "│   ├── fsmonitor-watchman.sample\n",
      "│   ├── post-update.sample\n",
      "│   ├── pre-applypatch.sample\n",
      "│   ├── pre-commit.sample\n",
      "│   ├── pre-merge-commit.sample\n",
      "│   ├── pre-push.sample\n",
      "│   ├── pre-rebase.sample\n",
      "│   ├── pre-receive.sample\n",
      "│   ├── prepare-commit-msg.sample\n",
      "│   ├── push-to-checkout.sample\n",
      "│   ├── sendemail-validate.sample\n",
      "│   └── update.sample\n",
      "├── info\n",
      "│   └── exclude\n",
      "├── objects\n",
      "│   ├── info\n",
      "│   └── pack\n",
      "└── refs\n",
      "    ├── heads\n",
      "    └── tags\n",
      "\n",
      "9 directories, 18 files\n"
     ]
    }
   ],
   "source": [
    "tree .git"
   ]
  },
  {
   "cell_type": "code",
   "execution_count": 4,
   "id": "0b1d9325",
   "metadata": {
    "vscode": {
     "languageId": "shellscript"
    }
   },
   "outputs": [],
   "source": [
    "echo \"file1 line1\" > file1.txt"
   ]
  },
  {
   "cell_type": "code",
   "execution_count": 5,
   "id": "12a43fd9",
   "metadata": {
    "vscode": {
     "languageId": "shellscript"
    }
   },
   "outputs": [
    {
     "name": "stdout",
     "output_type": "stream",
     "text": [
      "On branch main\n",
      "\n",
      "No commits yet\n",
      "\n",
      "Untracked files:\n",
      "  (use \"git add <file>...\" to include in what will be committed)\n",
      "\tfile1.txt\n",
      "\n",
      "nothing added to commit but untracked files present (use \"git add\" to track)\n"
     ]
    }
   ],
   "source": [
    "git status -uall"
   ]
  },
  {
   "cell_type": "markdown",
   "id": "38d607a2",
   "metadata": {},
   "source": [
    "![그림: 비추적 파일 생성](figs/fig_internal_02.png){width=100%}"
   ]
  },
  {
   "cell_type": "code",
   "execution_count": 6,
   "id": "bd769699",
   "metadata": {
    "vscode": {
     "languageId": "shellscript"
    }
   },
   "outputs": [],
   "source": [
    "git add file1.txt"
   ]
  },
  {
   "cell_type": "code",
   "execution_count": 7,
   "id": "ed2a8f33",
   "metadata": {
    "vscode": {
     "languageId": "shellscript"
    }
   },
   "outputs": [
    {
     "name": "stdout",
     "output_type": "stream",
     "text": [
      ".git\n",
      "├── config\n",
      "├── description\n",
      "├── HEAD\n",
      "├── hooks\n",
      "│   ├── applypatch-msg.sample\n",
      "│   ├── commit-msg.sample\n",
      "│   ├── fsmonitor-watchman.sample\n",
      "│   ├── post-update.sample\n",
      "│   ├── pre-applypatch.sample\n",
      "│   ├── pre-commit.sample\n",
      "│   ├── pre-merge-commit.sample\n",
      "│   ├── pre-push.sample\n",
      "│   ├── pre-rebase.sample\n",
      "│   ├── pre-receive.sample\n",
      "│   ├── prepare-commit-msg.sample\n",
      "│   ├── push-to-checkout.sample\n",
      "│   ├── sendemail-validate.sample\n",
      "│   └── update.sample\n",
      "├── index\n",
      "├── info\n",
      "│   └── exclude\n",
      "├── objects\n",
      "│   ├── 0b\n",
      "│   │   └── 11cfca50e35a4865e8505f1a108bd23a3f9401\n",
      "│   ├── info\n",
      "│   └── pack\n",
      "└── refs\n",
      "    ├── heads\n",
      "    └── tags\n",
      "\n",
      "10 directories, 20 files\n"
     ]
    }
   ],
   "source": [
    "tree .git"
   ]
  },
  {
   "cell_type": "markdown",
   "id": "169759dc",
   "metadata": {},
   "source": [
    "![그림: 파일 스테이징](figs/fig_internal_03.png){width=100%}"
   ]
  },
  {
   "cell_type": "markdown",
   "id": "13fe4478",
   "metadata": {},
   "source": [
    "## 블롭 객체"
   ]
  },
  {
   "cell_type": "markdown",
   "id": "98376e04",
   "metadata": {},
   "source": [
    "### 블롭 객체의 내용"
   ]
  },
  {
   "cell_type": "markdown",
   "id": "9b997dfc",
   "metadata": {},
   "source": [
    "- 파일의 내용(바이트 스트림)만 저장\n",
    "- 커밋이 아닌 스테이징 시점에 생성되고 커밋되면 트리 객체에서 참조하게 됨\n",
    "- 파일명, 모드, 권한, 타임스탬프 등의 메타데이터 포함하지 않음\n",
    "- 파일명과 모드는 블롭 객체가 아닌 트리 객체에 저장됨"
   ]
  },
  {
   "cell_type": "markdown",
   "id": "396b7989",
   "metadata": {},
   "source": [
    "### 블롭 객체의 해시값"
   ]
  },
  {
   "cell_type": "markdown",
   "id": "e8c7c7a7",
   "metadata": {},
   "source": [
    "- \"blob <바이트길이>\\0<데이터바이트>\" 형식의 바이트열을 sha1 계산\n"
   ]
  },
  {
   "cell_type": "markdown",
   "id": "4ba8b2f5",
   "metadata": {},
   "source": [
    "### 미참조 블롭 (dangling blob)"
   ]
  },
  {
   "cell_type": "markdown",
   "id": "347d006e",
   "metadata": {},
   "source": [
    "- 파일이 스테이징되어 블롭 객체가 생성되었는데 커밋되지 않고 취소가 되면 해당 파일의 블롭 객체는 인덱스 파일이나 다른 객체에게 참조되지 않고 남아있음\n",
    "- 이렇게 아무도 참조하지 않는 블롭 객체를 미참조 블롭(dangling blob)이라고 함\n",
    "- 미참조 블롭 객체가 많으면 디스크 용량을 많이 차지함\n",
    "- 시간이 지나면 자동으로 지워지지만 `git gc` 명령으로 명시적 삭제 가능"
   ]
  },
  {
   "cell_type": "markdown",
   "id": "89a82e9e",
   "metadata": {},
   "source": [
    "## 실습 2: 블롭 객체 조사"
   ]
  },
  {
   "cell_type": "code",
   "execution_count": 8,
   "id": "be7def6c",
   "metadata": {
    "vscode": {
     "languageId": "shellscript"
    }
   },
   "outputs": [
    {
     "name": "stdout",
     "output_type": "stream",
     "text": [
      "0b11cfca50e35a4865e8505f1a108bd23a3f9401 blob 12\n"
     ]
    }
   ],
   "source": [
    "git cat-file --batch-check --batch-all-objects --unordered"
   ]
  },
  {
   "cell_type": "code",
   "execution_count": 9,
   "id": "3e072386",
   "metadata": {
    "vscode": {
     "languageId": "shellscript"
    }
   },
   "outputs": [
    {
     "name": "stdout",
     "output_type": "stream",
     "text": [
      "blob\n"
     ]
    }
   ],
   "source": [
    "git cat-file -t 0b11cfca50e35a4865e8505f1a108bd23a3f9401"
   ]
  },
  {
   "cell_type": "code",
   "execution_count": 10,
   "id": "82a54804",
   "metadata": {
    "vscode": {
     "languageId": "shellscript"
    }
   },
   "outputs": [
    {
     "name": "stdout",
     "output_type": "stream",
     "text": [
      "file1 line1\n"
     ]
    }
   ],
   "source": [
    "git cat-file -p 0b11cfca50e35a4865e8505f1a108bd23a3f9401"
   ]
  },
  {
   "cell_type": "code",
   "execution_count": 11,
   "id": "f3dab6f3",
   "metadata": {
    "vscode": {
     "languageId": "shellscript"
    }
   },
   "outputs": [
    {
     "name": "stdout",
     "output_type": "stream",
     "text": [
      "blob 12\u0000file1 line1\n"
     ]
    }
   ],
   "source": [
    "zlib-flate -uncompress < \".git/objects/0b/11cfca50e35a4865e8505f1a108bd23a3f9401\""
   ]
  },
  {
   "cell_type": "code",
   "execution_count": 12,
   "id": "e8086d94",
   "metadata": {
    "vscode": {
     "languageId": "shellscript"
    }
   },
   "outputs": [
    {
     "name": "stdout",
     "output_type": "stream",
     "text": [
      "0b11cfca50e35a4865e8505f1a108bd23a3f9401\n"
     ]
    }
   ],
   "source": [
    "printf \"file1 line1\\n\" | git hash-object -t blob --stdin"
   ]
  },
  {
   "cell_type": "code",
   "execution_count": 13,
   "id": "4bc11be4",
   "metadata": {
    "vscode": {
     "languageId": "shellscript"
    }
   },
   "outputs": [
    {
     "name": "stdout",
     "output_type": "stream",
     "text": [
      "0b11cfca50e35a4865e8505f1a108bd23a3f9401  -\n"
     ]
    }
   ],
   "source": [
    "printf \"blob 12\\0file1 line1\\n\" | sha1sum"
   ]
  },
  {
   "cell_type": "markdown",
   "id": "1e003846",
   "metadata": {},
   "source": [
    "## tree 객체"
   ]
  },
  {
   "cell_type": "markdown",
   "id": "24b448a9",
   "metadata": {},
   "source": [
    "- 트리 객체는 하나의 디렉토리(서브디렉토리 미포함)에 포함된 파일과 서브디렉토리에 대한 해시값 정보\n",
    "- 서브디렉토리가 존재하면 그에 해당하는 트리 객체가 추가적으로 존재\n"
   ]
  },
  {
   "cell_type": "markdown",
   "id": "82a509cb",
   "metadata": {},
   "source": [
    "### 트리 객체의 내용"
   ]
  },
  {
   "cell_type": "markdown",
   "id": "20487492",
   "metadata": {},
   "source": [
    "- 트리 객체의 내용은 엔트리 열로 구성됨\n",
    "- 엔트리(entry)\n",
    "  - 하나의 파일 또는 서브디렉토리를 대표하는 정보\n",
    "  - 하나의 엔트리 내용은 \"`<mode> <파일명>\\0<해시값>`\"\n",
    "- 엔트리 열\n",
    "  - 엔트리 정보를 이어붙인 \"`<entry><entry><entry>...`\" 형식\n",
    "- 하나의 트리 객체 내용은 \"`tree <크기>\\0<엔트리 열>`\" 형식"
   ]
  },
  {
   "cell_type": "markdown",
   "id": "d13374f2",
   "metadata": {},
   "source": [
    "- 콘솔에서 정상 표시되지 않는 바이트열을 보고 싶으면 다음 파이썬 코드를 사용한다."
   ]
  },
  {
   "cell_type": "code",
   "execution_count": 14,
   "id": "738b56d9",
   "metadata": {
    "vscode": {
     "languageId": "shellscript"
    }
   },
   "outputs": [
    {
     "name": "stdout",
     "output_type": "stream",
     "text": [
      "import zlib\n",
      "import sys\n",
      "from pathlib import Path\n",
      "\n",
      "\n",
      "def get_tree_object_content(data: bytes) -> bytes:\n",
      "    output = bytearray()\n",
      "\n",
      "    # 기존 헤더 (\"tree <size>\\x00\") 그대로 복사\n",
      "    header_end = data.find(b\"\\x00\")\n",
      "    output += data[: header_end + 1]\n",
      "    i = header_end + 1\n",
      "\n",
      "    # 각 엔트리 파싱 및 SHA를 .hex()로 변환\n",
      "    while i < len(data):\n",
      "        mode_end = data.find(b\" \", i)\n",
      "        name_end = data.find(b\"\\x00\", mode_end)\n",
      "        mode = data[i:mode_end]\n",
      "        name = data[mode_end + 1 : name_end]\n",
      "\n",
      "        sha_start = name_end + 1\n",
      "        sha_end = sha_start + 20\n",
      "        sha = data[sha_start:sha_end]\n",
      "        sha_hex = sha.hex().encode(\"ascii\")\n",
      "\n",
      "        # 기존 구조 유지\n",
      "        output += b\" \" + mode + b\" \" + name + r\"\\0\".encode() + sha_hex\n",
      "\n",
      "        i = sha_end\n",
      "\n",
      "    return bytes(output)\n",
      "\n",
      "\n",
      "# .git/objects/xx/yyyyyy 에서 Git object 읽기\n",
      "path = Path(\".git\", \"objects\", sys.argv[1][:2], sys.argv[1][2:])\n",
      "with open(path, \"rb\") as f:\n",
      "    compressed = f.read()\n",
      "    raw = zlib.decompress(compressed)\n",
      "\n",
      "    result = get_tree_object_content(raw) + b\"\\n\"\n",
      "    sys.stdout.buffer.write(result)\n"
     ]
    }
   ],
   "source": [
    "cat $HOME/get_tree_object_content.py"
   ]
  },
  {
   "cell_type": "markdown",
   "id": "8d5b9023",
   "metadata": {},
   "source": [
    "### 트리 객체의 해시값"
   ]
  },
  {
   "cell_type": "markdown",
   "id": "8162faf4",
   "metadata": {},
   "source": [
    "- tree 객체의 내용에 대해 SHA-1을 계산"
   ]
  },
  {
   "cell_type": "markdown",
   "id": "e868be4f",
   "metadata": {},
   "source": [
    "## 커밋 객체"
   ]
  },
  {
   "cell_type": "markdown",
   "id": "bb28b489",
   "metadata": {},
   "source": [
    "- 커밋 객체는 커밋 전체의 정보를 저장하는 객체\n",
    "- 해당 커밋 시점의 전체 디렉토리 스냅샷을 저장\n",
    "- 구성 요소\n",
    "  - 1개의 전역 트리 객체에 대한 해시값 정보\n",
    "  - 1개 이상의 부모 커밋 객체에 대한 해시값 정보\n",
    "  - 저자 정보 (커밋 시간 정보 포함)\n",
    "  - 커미터 정보 (커밋 시간 정보 포함)\n",
    "  - 커밋 메시지 정보\n",
    "- 시간 정보의 경우 일반적으로는 저자의 커밋 시간과 커미터의 커밋 기간은 동일함\n",
    "  - 패치 파일을 사용하거나 리베이스, 체리픽 등을 한 경우 달라짐"
   ]
  },
  {
   "cell_type": "markdown",
   "id": "ded21556",
   "metadata": {},
   "source": [
    "## 실습 3: 커밋 객체와 트리 객체 생성"
   ]
  },
  {
   "cell_type": "code",
   "execution_count": 15,
   "id": "13a250cf",
   "metadata": {
    "vscode": {
     "languageId": "shellscript"
    }
   },
   "outputs": [
    {
     "name": "stdout",
     "output_type": "stream",
     "text": [
      "[main (root-commit) 4199a82] c1\n",
      " 1 file changed, 1 insertion(+)\n",
      " create mode 100644 file1.txt\n"
     ]
    }
   ],
   "source": [
    "git commit -m c1"
   ]
  },
  {
   "cell_type": "code",
   "execution_count": 16,
   "id": "7ffdc77b",
   "metadata": {
    "vscode": {
     "languageId": "shellscript"
    }
   },
   "outputs": [
    {
     "name": "stdout",
     "output_type": "stream",
     "text": [
      "0b11cfca50e35a4865e8505f1a108bd23a3f9401 blob 12\n",
      "4199a828ee48b82acef1032616332e4646f50af7 commit 149\n",
      "d6a665ff13b175d407fb943c946c4022017d4dd0 tree 37\n"
     ]
    }
   ],
   "source": [
    "git cat-file --batch-check --batch-all-objects --unordered"
   ]
  },
  {
   "cell_type": "code",
   "execution_count": 17,
   "id": "374b540f",
   "metadata": {
    "vscode": {
     "languageId": "shellscript"
    }
   },
   "outputs": [
    {
     "name": "stdout",
     "output_type": "stream",
     "text": [
      "tree\n"
     ]
    }
   ],
   "source": [
    "git cat-file -t d6a665ff13b175d407fb943c946c4022017d4dd0"
   ]
  },
  {
   "cell_type": "code",
   "execution_count": 18,
   "id": "891bb619",
   "metadata": {
    "vscode": {
     "languageId": "shellscript"
    }
   },
   "outputs": [
    {
     "name": "stdout",
     "output_type": "stream",
     "text": [
      "100644 blob 0b11cfca50e35a4865e8505f1a108bd23a3f9401\tfile1.txt\n"
     ]
    }
   ],
   "source": [
    "git cat-file -p d6a665ff13b175d407fb943c946c4022017d4dd0"
   ]
  },
  {
   "cell_type": "code",
   "execution_count": 19,
   "id": "a7c63c42",
   "metadata": {
    "vscode": {
     "languageId": "shellscript"
    }
   },
   "outputs": [
    {
     "name": "stdout",
     "output_type": "stream",
     "text": [
      "tree 37\u0000100644 file1.txt\u0000\u000b\u0011��P�ZHe�P_\u001a\u0010��:?�\u0001\n"
     ]
    }
   ],
   "source": [
    "zlib-flate -uncompress < \".git/objects/d6/a665ff13b175d407fb943c946c4022017d4dd0\""
   ]
  },
  {
   "cell_type": "code",
   "execution_count": 20,
   "id": "7872d4c7",
   "metadata": {
    "vscode": {
     "languageId": "shellscript"
    }
   },
   "outputs": [
    {
     "name": "stdout",
     "output_type": "stream",
     "text": [
      "tree 37\u0000 100644 file1.txt\\00b11cfca50e35a4865e8505f1a108bd23a3f9401\n"
     ]
    }
   ],
   "source": [
    "python $HOME/get_tree_object_content.py d6a665ff13b175d407fb943c946c4022017d4dd0"
   ]
  },
  {
   "cell_type": "code",
   "execution_count": 21,
   "id": "18108950",
   "metadata": {
    "vscode": {
     "languageId": "shellscript"
    }
   },
   "outputs": [
    {
     "name": "stdout",
     "output_type": "stream",
     "text": [
      "4199a828ee48b82acef1032616332e4646f50af7\n"
     ]
    }
   ],
   "source": [
    "c1=$(git rev-parse HEAD)\n",
    "echo $c1"
   ]
  },
  {
   "cell_type": "code",
   "execution_count": 22,
   "id": "10038668",
   "metadata": {
    "vscode": {
     "languageId": "shellscript"
    }
   },
   "outputs": [
    {
     "name": "stdout",
     "output_type": "stream",
     "text": [
      "commit\n"
     ]
    }
   ],
   "source": [
    "git cat-file -t $c1"
   ]
  },
  {
   "cell_type": "code",
   "execution_count": 23,
   "id": "6736c650",
   "metadata": {
    "vscode": {
     "languageId": "shellscript"
    }
   },
   "outputs": [
    {
     "name": "stdout",
     "output_type": "stream",
     "text": [
      "tree d6a665ff13b175d407fb943c946c4022017d4dd0\n",
      "author user <user@company.com> 1755584213 +0900\n",
      "committer user <user@company.com> 1755584213 +0900\n",
      "\n",
      "c1\n"
     ]
    }
   ],
   "source": [
    "git cat-file -p $c1"
   ]
  },
  {
   "cell_type": "markdown",
   "id": "524a7d2c",
   "metadata": {},
   "source": [
    "![그림: 커밋](figs/fig_internal_04.png){width=100%}"
   ]
  },
  {
   "cell_type": "code",
   "execution_count": 24,
   "id": "46eb1403",
   "metadata": {
    "vscode": {
     "languageId": "shellscript"
    }
   },
   "outputs": [],
   "source": [
    "mkdir -p sub\n",
    "echo \"file2 line1\" > sub/file2.txt\n",
    "git add ."
   ]
  },
  {
   "cell_type": "code",
   "execution_count": 25,
   "id": "06ef6cf5",
   "metadata": {
    "vscode": {
     "languageId": "shellscript"
    }
   },
   "outputs": [
    {
     "name": "stdout",
     "output_type": "stream",
     "text": [
      "On branch main\n",
      "Changes to be committed:\n",
      "  (use \"git restore --staged <file>...\" to unstage)\n",
      "\tnew file:   sub/file2.txt\n",
      "\n"
     ]
    }
   ],
   "source": [
    "git status"
   ]
  },
  {
   "cell_type": "code",
   "execution_count": 26,
   "id": "ede9ecc5",
   "metadata": {
    "vscode": {
     "languageId": "shellscript"
    }
   },
   "outputs": [
    {
     "name": "stdout",
     "output_type": "stream",
     "text": [
      "0b11cfca50e35a4865e8505f1a108bd23a3f9401 blob 12\n",
      "4199a828ee48b82acef1032616332e4646f50af7 commit 149\n",
      "4a8d995103b41f561e547ce3b32e1983d424da22 blob 12\n",
      "d6a665ff13b175d407fb943c946c4022017d4dd0 tree 37\n"
     ]
    }
   ],
   "source": [
    "git cat-file --batch-check --batch-all-objects --unordered"
   ]
  },
  {
   "cell_type": "markdown",
   "id": "f94851f7",
   "metadata": {},
   "source": [
    "![그림: 추가 파일 add](figs/fig_internal_05.png){width=100%}"
   ]
  },
  {
   "cell_type": "code",
   "execution_count": 27,
   "id": "d93b655f",
   "metadata": {
    "vscode": {
     "languageId": "shellscript"
    }
   },
   "outputs": [
    {
     "name": "stdout",
     "output_type": "stream",
     "text": [
      "[main c6c762a] c2\n",
      " 1 file changed, 1 insertion(+)\n",
      " create mode 100644 sub/file2.txt\n"
     ]
    }
   ],
   "source": [
    "git commit -m c2"
   ]
  },
  {
   "cell_type": "code",
   "execution_count": 28,
   "id": "047d48cc",
   "metadata": {
    "vscode": {
     "languageId": "shellscript"
    }
   },
   "outputs": [
    {
     "name": "stdout",
     "output_type": "stream",
     "text": [
      "0b11cfca50e35a4865e8505f1a108bd23a3f9401 blob 12\n",
      "4199a828ee48b82acef1032616332e4646f50af7 commit 149\n",
      "4a8d995103b41f561e547ce3b32e1983d424da22 blob 12\n",
      "4c2cf5eb3d8af11e9fe5f56cb6c853e1559d7166 tree 67\n",
      "c6c762a824788dd896d9de6f71135f482d881a00 commit 197\n",
      "d6a665ff13b175d407fb943c946c4022017d4dd0 tree 37\n",
      "dd62677237dce0946aeffef97910ffc4ec32c3e7 tree 37\n"
     ]
    }
   ],
   "source": [
    "git cat-file --batch-check --batch-all-objects --unordered"
   ]
  },
  {
   "cell_type": "code",
   "execution_count": 29,
   "id": "9dd8bd98",
   "metadata": {
    "vscode": {
     "languageId": "shellscript"
    }
   },
   "outputs": [
    {
     "name": "stdout",
     "output_type": "stream",
     "text": [
      "tree 4c2cf5eb3d8af11e9fe5f56cb6c853e1559d7166\n",
      "parent 4199a828ee48b82acef1032616332e4646f50af7\n",
      "author user <user@company.com> 1755584215 +0900\n",
      "committer user <user@company.com> 1755584215 +0900\n",
      "\n",
      "c2\n"
     ]
    }
   ],
   "source": [
    "git cat-file -p $(git rev-parse HEAD)"
   ]
  },
  {
   "cell_type": "code",
   "execution_count": 30,
   "id": "80afe0ac",
   "metadata": {
    "vscode": {
     "languageId": "shellscript"
    }
   },
   "outputs": [
    {
     "name": "stdout",
     "output_type": "stream",
     "text": [
      "100644 blob 0b11cfca50e35a4865e8505f1a108bd23a3f9401\tfile1.txt\n",
      "040000 tree dd62677237dce0946aeffef97910ffc4ec32c3e7\tsub\n"
     ]
    }
   ],
   "source": [
    "git cat-file -p 4c2cf5eb3d8af11e9fe5f56cb6c853e1559d7166"
   ]
  },
  {
   "cell_type": "code",
   "execution_count": 31,
   "id": "c1430230",
   "metadata": {
    "vscode": {
     "languageId": "shellscript"
    }
   },
   "outputs": [
    {
     "name": "stdout",
     "output_type": "stream",
     "text": [
      "100644 blob 4a8d995103b41f561e547ce3b32e1983d424da22\tfile2.txt\n"
     ]
    }
   ],
   "source": [
    "git cat-file -p dd62677237dce0946aeffef97910ffc4ec32c3e7"
   ]
  },
  {
   "cell_type": "markdown",
   "id": "1080fb14",
   "metadata": {},
   "source": [
    "![그림: 두번째 commit](figs/fig_internal_06.png){width=100%}"
   ]
  }
 ],
 "metadata": {
  "kernelspec": {
   "display_name": "Bash",
   "language": "bash",
   "name": "bash"
  },
  "language_info": {
   "codemirror_mode": "shell",
   "file_extension": ".sh",
   "mimetype": "text/x-sh",
   "name": "bash"
  }
 },
 "nbformat": 4,
 "nbformat_minor": 5
}
