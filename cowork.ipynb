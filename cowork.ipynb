{
 "cells": [
  {
   "cell_type": "markdown",
   "id": "ebfc9f9e",
   "metadata": {},
   "source": [
    "# 공동 작업"
   ]
  },
  {
   "cell_type": "markdown",
   "id": "751f776a",
   "metadata": {},
   "source": [
    "## 기준 브랜치 반영 작업"
   ]
  },
  {
   "cell_type": "markdown",
   "id": "feffd84c",
   "metadata": {},
   "source": [
    "- 기준 브랜치를 여러 사람이 공동으로 사용하는 경우, \n",
    "- 개발자 A가 기준 브랜치에 작업 브랜치를 반영하는 시점에 이미 다른 사람인 B가 기준 브랜치에 먼저 반영한 내용이 있을 수 있다. \n",
    "- 이 때는 작업 내용에 따라 A가 기준 브랜치에 작업 브랜치를 반영하는 작업이 충돌할 수 있다.\n",
    "- 기준 브랜치에 작업 브랜치를 반영하기 전에 먼저 기준 브랜치를 작업 브랜치에 반영하는 작업을 하면  "
   ]
  },
  {
   "cell_type": "markdown",
   "id": "34789598",
   "metadata": {},
   "source": [
    "### 경우 1: 충돌이 발생하지 않는 경우"
   ]
  },
  {
   "cell_type": "markdown",
   "id": "2b4e6ba5",
   "metadata": {},
   "source": [
    "- 설명\n",
    "  - 기준 브랜치를 혼자서 사용하는 경우\n",
    "  - 또는 공동으로 사용하지만 작업 빈도가 적어서 내가 모르는 사이에 기준 브랜치에 새 커밋이 올라오지 않는 경우"
   ]
  },
  {
   "cell_type": "markdown",
   "id": "5dc0ea9f",
   "metadata": {},
   "source": [
    "- 작업\n",
    "  1. 기준 브랜치에서 b 브랜치 생성\n",
    "  2. b 브랜치에 c1 커밋 추가\n",
    "  3. 기준 브랜치에서 b1 브랜치 머지\n"
   ]
  },
  {
   "cell_type": "markdown",
   "id": "80d9791f",
   "metadata": {},
   "source": [
    "```bash\n",
    "$ git init test_merge_1\n",
    "Initialized empty Git repository in test_merge_1/.git/\n",
    "$ cd test_merge_1 \n",
    "\n",
    "$ echo \"line 1\" >> file1.txt\n",
    "$ git add .\n",
    "$ git commit -m c0\n",
    "[main (root-commit) f36cdc2] c0\n",
    " 1 file changed, 1 insertion(+)\n",
    " create mode 100644 file1.txt\n",
    "\n",
    "$ git switch -c a\n",
    "Switched to a new branch 'a'\n",
    "\n",
    "$ echo \"line 2\" >> file1.txt\n",
    "$ git add .\n",
    "$ git commit -m c1\n",
    "[a 68971af] c1\n",
    " 1 file changed, 1 insertion(+)\n",
    "\n",
    "$ git switch main\n",
    "Switched to branch 'main'\n",
    "$ git merge a -m \"merge a\"\n",
    "Updating f36cdc2..68971af\n",
    "Fast-forward (no commit created; -m option ignored)\n",
    " file1.txt | 1 +\n",
    " 1 file changed, 1 insertion(+)\n",
    "```"
   ]
  },
  {
   "cell_type": "markdown",
   "id": "d3cee3a6",
   "metadata": {},
   "source": [
    "### 경우 3: 백머지를 하지 않아서 충돌이 발생하는 경우"
   ]
  },
  {
   "cell_type": "markdown",
   "id": "30b77253",
   "metadata": {},
   "source": [
    "- 작업 순서\n",
    "  1. 기준 브랜치에서 b 브랜치 생성\n",
    "  2. b 브랜치에 c1 커밋 추가 -> 다른 사람이 먼저 머지\n",
    "  3. 기준 브랜치에 c2 커밋 추가\n",
    "  4. 기준 브랜치에서 b1 브랜치 머지 -> 충돌\n",
    "      - 만약 다른 사람이 기준 브랜치 머지를 하지 않으면 (2번이 없는 경우) 충돌이 발생하지 않음\n",
    "  5. 기준 브랜치에서 머지 취소 (`merge --abort`)\n",
    "  6. b 브랜치에서 기준 브랜치 머지 -> 충돌\n",
    "  7. 충돌 해결\n",
    "  8. 기준 브랜치에서 b1 브랜치 머지 -> 성공\n"
   ]
  },
  {
   "cell_type": "markdown",
   "id": "b7b12c8b",
   "metadata": {},
   "source": [
    "### 경우 2: 백-머지로 충돌을 줄인 경우"
   ]
  },
  {
   "cell_type": "markdown",
   "id": "334c607f",
   "metadata": {},
   "source": [
    "- 설명\n",
    "  - 레포를 공동으로 사용하는 경우\n",
    "  - 기준 브랜치에 내가 모르는 사이에 커밋이 올라올 수 있다는 가정\n",
    "  - 규칙: 작업 브랜치에 커밋하기 전에 항상 기준 브랜치를 백-머지(back-merge)해 주어야 함\n",
    "  - 위 규칙을 지키면 충돌 가능성이 적어짐\n",
    "  - 위 규칙을 지켜도 기준 브랜치에 머지 직전 다른 사람이 기준 브랜치에 커밋을 올릴 수도 있으므로 충돌 가능성은 존재\n",
    "  - 공동 사용하는 사람이 적어서 기준 브랜치 머지 간격이 길면 충돌 가능성이 적어진다."
   ]
  },
  {
   "cell_type": "markdown",
   "id": "61d6ce9b",
   "metadata": {},
   "source": [
    "- 작업 순서\n",
    "  1. 기준 브랜치에서 a 브랜치 생성\n",
    "  2. 기준 브랜치에 c2 커밋 추가 -> 다른 사람이 먼저 머지\n",
    "  3. a 브랜치에서 기준 브랜치 머지\n",
    "  4. a 브랜치에 c1 커밋 추가\n",
    "  5. 기준 브랜치에서 b1 브랜치 머지"
   ]
  },
  {
   "cell_type": "markdown",
   "id": "5ee165f6",
   "metadata": {},
   "source": [
    "### 경우 4: 백머지를 했지만 충돌이 발생하는 경우"
   ]
  },
  {
   "cell_type": "markdown",
   "id": "10174c50",
   "metadata": {},
   "source": [
    "- 설명\n",
    "  - 레포를 공동으로 사용하는 경우\n",
    "  - 작업 브랜치에 커밋하기 전에 백-머지(back-merge)를 했는데 그 이전에 다른 사람이 먼저 기준 브랜치에 커밋을 올린 경우\n",
    "  - 백-머지시 충돌 발생\n",
    "  - 충돌을 해결하고 커밋\n",
    "  - 커밋 이후에 기준 브랜치에 머지\n",
    "  - 이렇게 해도 백-머지와 기준 브랜치 머지 사이에 다른 사람이 먼저 먼저 기준 브랜치에 커밋을 올리면 충돌이 발생한다.\n",
    "  - 많은 사람이 공동 사용해서 기준 브랜치 머지 간격이 아주 짧으면 충돌이 무한 반복될 수 있다."
   ]
  },
  {
   "cell_type": "markdown",
   "id": "21faafaa",
   "metadata": {},
   "source": [
    "- 작업 순서\n",
    "  1. 기준 브랜치에서 b 브랜치 생성\n",
    "  2. 기준 브랜치에 c2 커밋 추가 -> 다른 사람이 먼저 머지\n",
    "  3. b 브랜치에 c1 커밋 추가\n",
    "  4. b 브랜치에서 기준 브랜치 머지 -> 충돌\n",
    "  5. 충돌 해결\n",
    "  6. 기준 브랜치에서 b1 브랜치 머지\n",
    "     - 만약 5번과 6번 사이에 다른 사람이 기준 브랜치 머지하면 또 충돌 발생"
   ]
  },
  {
   "cell_type": "markdown",
   "id": "cbf05634",
   "metadata": {},
   "source": [
    "```bash\n",
    "$ git init test_merge_4\n",
    "Initialized empty Git repository in test_merge_4/.git/\n",
    "$ cd test_merge_2\n",
    "\n",
    "$ echo \"line 1\" >> file1.txt\n",
    "$ git add .\n",
    "$ git commit -m c0\n",
    "[main (root-commit) f36cdc2] c0\n",
    " 1 file changed, 1 insertion(+)\n",
    " create mode 100644 file1.txt\n",
    "\n",
    "$ git switch -c a\n",
    "Switched to a new branch 'a'\n",
    "\n",
    "$ echo \"line 2\" >> file1.txt\n",
    "$ git add .\n",
    "$ git commit -m c1\n",
    "[a fb6bd2c] c1\n",
    " 1 file changed, 1 insertion(+)\n",
    "\n",
    "$ git switch main\n",
    "Switched to branch 'main'\n",
    "\n",
    "\n",
    "$ echo \"line 3\" >> file1.txt\n",
    "$ git add .\n",
    "$ git commit -m c1\n",
    "[main 7d13172] c2\n",
    " 1 file changed, 1 insertion(+)\n",
    "\n",
    "$ git merge a -m \"merge a\"\n",
    "Auto-merging file1.txt\n",
    "CONFLICT (content): Merge conflict in file1.txt\n",
    "Automatic merge failed; fix conflicts and then commit the result.\n",
    "\n",
    "$ git status\n",
    "On branch main\n",
    "You have unmerged paths.\n",
    "  (fix conflicts and run \"git commit\")\n",
    "  (use \"git merge --abort\" to abort the merge)\n",
    "\n",
    "Unmerged paths:\n",
    "  (use \"git add <file>...\" to mark resolution)\n",
    "        both modified:   file1.txt\n",
    "\n",
    "no changes added to commit (use \"git add\" and/or \"git commit -a\")\n",
    "```"
   ]
  },
  {
   "cell_type": "markdown",
   "id": "83355d02",
   "metadata": {},
   "source": [
    "```txt\n",
    "line 1\n",
    "<<<<<<< HEAD\n",
    "line 3\n",
    "=======\n",
    "line 2\n",
    ">>>>>>> a\n",
    "```"
   ]
  },
  {
   "cell_type": "markdown",
   "id": "01453c3c",
   "metadata": {},
   "source": []
  }
 ],
 "metadata": {
  "language_info": {
   "name": "python"
  }
 },
 "nbformat": 4,
 "nbformat_minor": 5
}
