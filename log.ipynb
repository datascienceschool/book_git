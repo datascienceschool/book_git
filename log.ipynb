{
 "cells": [
  {
   "cell_type": "code",
   "execution_count": 1,
   "id": "24744f54",
   "metadata": {},
   "outputs": [
    {
     "name": "stdout",
     "output_type": "stream",
     "text": [
      "env: LANG=en_US.UTF-8\n",
      "/Users/joelkim/Work/personal/book_git/temp\n"
     ]
    }
   ],
   "source": [
    "# | echo: false\n",
    "# | output: false\n",
    "%env LANG=en_US.UTF-8\n",
    "%cd /Users/joelkim/Work/personal/book_git/temp/"
   ]
  },
  {
   "cell_type": "markdown",
   "id": "c5cde10e",
   "metadata": {},
   "source": [
    "# 조회"
   ]
  },
  {
   "cell_type": "markdown",
   "id": "41aa7f4e",
   "metadata": {},
   "source": [
    "::: {.hidden}\n",
    "\n",
    "## 참고 문헌\n",
    "\n",
    "- Building Git, Ch. 13 Branching Out\n",
    "  - chrome-extension://oemmndcbldboiebfnladdacbdfmadadm/file:///Users/joelkim/Work/study/study_cs/book/DevOps/Coglan/2021%20-%20Coglan%20-%20Buliding%20Git.pdf#%5B%7B%22num%22%3A1460%2C%22gen%22%3A0%7D%2C%7B%22name%22%3A%22XYZ%22%7D%2C72%2C769.889%2Cnull%5D\n",
    "  \n",
    ":::"
   ]
  },
  {
   "cell_type": "markdown",
   "id": "bb1f7cc1",
   "metadata": {},
   "source": [
    "## 커밋 기록을 살피기 위한 명령"
   ]
  },
  {
   "cell_type": "markdown",
   "id": "5b3df735",
   "metadata": {},
   "source": [
    "| 명령 | 설명 |\n",
    "|-|-|\n",
    "| `git log` | 과거부터 현재까지의 모든 커밋 기록 보기 |\n",
    "| `git show` | 특정 커밋의 변경 파일 목록 및 내용 보기 |\n",
    "| `git ls-tree` | 특정 커밋의 스냅샷 파일 목록 보기 |\n",
    "| `git diff` | 커밋간의 차이 보기 |\n"
   ]
  },
  {
   "cell_type": "markdown",
   "id": "fd98cde9",
   "metadata": {},
   "source": [
    "## `git log` 명령"
   ]
  },
  {
   "cell_type": "markdown",
   "id": "d5e146b7",
   "metadata": {},
   "source": [
    "- 과거부터 현재까지의 모든 커밋 기록 보기"
   ]
  },
  {
   "cell_type": "markdown",
   "id": "2f95b9dc",
   "metadata": {},
   "source": [
    "## 실습"
   ]
  },
  {
   "cell_type": "markdown",
   "id": "f00fc626",
   "metadata": {},
   "source": [
    "```mermaid\n",
    "gitGraph TB:\n",
    "  commit id: \"c1\"\n",
    "```"
   ]
  },
  {
   "cell_type": "code",
   "execution_count": 2,
   "id": "99e36ff3",
   "metadata": {},
   "outputs": [
    {
     "name": "stdout",
     "output_type": "stream",
     "text": [
      "Initialized empty Git repository in /Users/joelkim/Work/personal/book_git/temp/test_log_01/.git/\n"
     ]
    }
   ],
   "source": [
    "# | output: false\n",
    "!rm -rf test_log_01\n",
    "!mkdir test_log_01\n",
    "!git init test_log_01\n",
    "!cd test_log_01"
   ]
  },
  {
   "cell_type": "markdown",
   "id": "f6b9ec67",
   "metadata": {},
   "source": [
    ":::{.cell}\n",
    "::::{.cell-output .cell-output-stdout}\n",
    "Initialized empty Git repository in /test_log_01/.git/\n",
    "::::\n",
    ":::"
   ]
  },
  {
   "cell_type": "code",
   "execution_count": 3,
   "id": "f1ebd2ae",
   "metadata": {},
   "outputs": [
    {
     "name": "stdout",
     "output_type": "stream",
     "text": [
      "[Errno 2] No such file or directory: '/Users/joelkim/Work/personal/book_git/temp/test_template_01/test_log_01'\n",
      "/Users/joelkim/Work/personal/book_git/temp\n"
     ]
    }
   ],
   "source": [
    "# | echo: false\n",
    "# | output: false\n",
    "%cd /Users/joelkim/Work/personal/book_git/temp/test_template_01/test_log_01"
   ]
  },
  {
   "cell_type": "markdown",
   "id": "c22c56a0",
   "metadata": {},
   "source": [
    "## `git show` 명령"
   ]
  },
  {
   "cell_type": "markdown",
   "id": "8acab246",
   "metadata": {},
   "source": [
    "- 특정 커밋의 변경 파일 목록 및 내용 보기"
   ]
  },
  {
   "cell_type": "markdown",
   "id": "36715465",
   "metadata": {},
   "source": [
    "## `git diff` 명령"
   ]
  },
  {
   "cell_type": "markdown",
   "id": "93baecbe",
   "metadata": {},
   "source": [
    "- 커밋과 커밋간의 차이를 보기"
   ]
  },
  {
   "cell_type": "markdown",
   "id": "640f6e78",
   "metadata": {},
   "source": [
    "## `git ls-tree` 명령"
   ]
  },
  {
   "cell_type": "markdown",
   "id": "79c887c5",
   "metadata": {},
   "source": [
    "- 과거의 특정 커밋의 스냅샷 보기"
   ]
  },
  {
   "cell_type": "code",
   "execution_count": 4,
   "id": "31f7657e",
   "metadata": {},
   "outputs": [
    {
     "name": "stdout",
     "output_type": "stream",
     "text": [
      "/Users/joelkim/Work/personal/book_git/temp\n"
     ]
    }
   ],
   "source": [
    "# | echo: false\n",
    "# | output: false\n",
    "%cd /Users/joelkim/Work/personal/book_git/temp\n",
    "!rm -rf test_template_01"
   ]
  },
  {
   "cell_type": "code",
   "execution_count": null,
   "id": "955642a2",
   "metadata": {},
   "outputs": [],
   "source": []
  }
 ],
 "metadata": {
  "kernelspec": {
   "display_name": "base",
   "language": "python",
   "name": "python3"
  },
  "language_info": {
   "codemirror_mode": {
    "name": "ipython",
    "version": 3
   },
   "file_extension": ".py",
   "mimetype": "text/x-python",
   "name": "python",
   "nbconvert_exporter": "python",
   "pygments_lexer": "ipython3",
   "version": "3.12.8"
  }
 },
 "nbformat": 4,
 "nbformat_minor": 5
}
