{
 "cells": [
  {
   "cell_type": "code",
   "execution_count": 1,
   "id": "24744f54",
   "metadata": {
    "vscode": {
     "languageId": "shellscript"
    }
   },
   "outputs": [],
   "source": [
    "# | echo: false\n",
    "# | output: false\n",
    "export LANG=en_US.UTF-8\n",
    "export HOME=/Users/joelkim/Work/personal/book_git\n",
    "cd $HOME"
   ]
  },
  {
   "cell_type": "markdown",
   "id": "c5cde10e",
   "metadata": {},
   "source": [
    "# 조회"
   ]
  },
  {
   "cell_type": "raw",
   "id": "41aa7f4e",
   "metadata": {
    "vscode": {
     "languageId": "raw"
    }
   },
   "source": [
    "::: {.hidden}\n",
    "\n",
    "## 참고 문헌\n",
    "\n",
    "- Building Git, Ch. 13 Branching Out\n",
    "  - chrome-extension://oemmndcbldboiebfnladdacbdfmadadm/file:///Users/joelkim/Work/study/study_cs/book/DevOps/Coglan/2021%20-%20Coglan%20-%20Buliding%20Git.pdf#%5B%7B%22num%22%3A1460%2C%22gen%22%3A0%7D%2C%7B%22name%22%3A%22XYZ%22%7D%2C72%2C769.889%2Cnull%5D\n",
    "\n",
    ":::"
   ]
  },
  {
   "cell_type": "markdown",
   "id": "bb1f7cc1",
   "metadata": {},
   "source": [
    "## 커밋 기록을 살피기 위한 명령"
   ]
  },
  {
   "cell_type": "markdown",
   "id": "5b3df735",
   "metadata": {},
   "source": [
    "| 명령 | 설명 |\n",
    "|-|-|\n",
    "| `git log` | 과거부터 현재까지의 모든 커밋 기록 보기 |\n",
    "| `git ls-tree` | 특정 커밋의 스냅샷 파일 목록 보기 |\n",
    "| `git cat-file` | 특정 커밋의 파일 내용 보기 |\n",
    "| `git show` | 특정 커밋의 변경 내역 보기 |\n",
    "| `git diff` | 커밋간의 차이 보기 |\n"
   ]
  },
  {
   "cell_type": "markdown",
   "id": "2f95b9dc",
   "metadata": {},
   "source": [
    "#### 실습"
   ]
  },
  {
   "cell_type": "markdown",
   "id": "05951637",
   "metadata": {},
   "source": [
    "1. 레포지토리 생성"
   ]
  },
  {
   "cell_type": "code",
   "execution_count": 2,
   "id": "99e36ff3",
   "metadata": {
    "vscode": {
     "languageId": "shellscript"
    }
   },
   "outputs": [
    {
     "name": "stdout",
     "output_type": "stream",
     "text": [
      "Initialized empty Git repository in /Users/joelkim/Work/personal/book_git/lab/test_log_01/.git/\n"
     ]
    }
   ],
   "source": [
    "# | output: false\n",
    "cd $HOME/lab\n",
    "rm -rf test_log_01\n",
    "git init test_log_01\n",
    "cd test_log_01"
   ]
  },
  {
   "cell_type": "markdown",
   "id": "f6b9ec67",
   "metadata": {},
   "source": [
    ":::{.cell}\n",
    "::::{.cell-output .cell-output-stdout}\n",
    "Initialized empty Git repository in /test_log_01/.git/\n",
    "::::\n",
    ":::"
   ]
  },
  {
   "cell_type": "markdown",
   "id": "b05cb6f4",
   "metadata": {},
   "source": [
    "2. 최초 커밋"
   ]
  },
  {
   "cell_type": "code",
   "execution_count": 3,
   "id": "7e9ef126",
   "metadata": {
    "vscode": {
     "languageId": "shellscript"
    }
   },
   "outputs": [
    {
     "name": "stdout",
     "output_type": "stream",
     "text": [
      "[main (root-commit) 7d76be2] c1\n",
      " 1 file changed, 1 insertion(+)\n",
      " create mode 100644 file1.txt\n"
     ]
    }
   ],
   "source": [
    "echo \"file1 line 1\" >> file1.txt\n",
    "git add .\n",
    "git commit -m c1"
   ]
  },
  {
   "cell_type": "code",
   "execution_count": 4,
   "id": "df32ca0d",
   "metadata": {
    "vscode": {
     "languageId": "shellscript"
    }
   },
   "outputs": [
    {
     "name": "stdout",
     "output_type": "stream",
     "text": [
      "[main fe45667] c2\n",
      " 2 files changed, 2 insertions(+)\n",
      " create mode 100644 file2.txt\n"
     ]
    }
   ],
   "source": [
    "echo \"file1 line 2\" >> file1.txt\n",
    "echo \"file2 line 1\" >> file2.txt\n",
    "git add .\n",
    "git commit -m c2"
   ]
  },
  {
   "cell_type": "code",
   "execution_count": 5,
   "id": "bdfd3ca7",
   "metadata": {
    "vscode": {
     "languageId": "shellscript"
    }
   },
   "outputs": [
    {
     "name": "stdout",
     "output_type": "stream",
     "text": [
      "rm 'file1.txt'\n",
      "[main 6c39b88] c3\n",
      " 2 files changed, 1 insertion(+), 2 deletions(-)\n",
      " delete mode 100644 file1.txt\n",
      " create mode 100644 sub/file3.txt\n"
     ]
    }
   ],
   "source": [
    "git rm file1.txt\n",
    "mkdir sub\n",
    "echo \"file3 line 1\" >> sub/file3.txt\n",
    "git add .\n",
    "git commit -m c3"
   ]
  },
  {
   "cell_type": "markdown",
   "id": "94678dbb",
   "metadata": {},
   "source": [
    "![그림: 예제 커밋 상황](figs/fig_log_01.png){width=400px}"
   ]
  },
  {
   "cell_type": "markdown",
   "id": "54488025",
   "metadata": {},
   "source": [
    "## `git log` 명령"
   ]
  },
  {
   "cell_type": "markdown",
   "id": "02f518de",
   "metadata": {},
   "source": [
    "- 과거부터 현재까지의 모든 커밋 기록 보기"
   ]
  },
  {
   "cell_type": "code",
   "execution_count": 6,
   "id": "24ad38d7",
   "metadata": {
    "vscode": {
     "languageId": "shellscript"
    }
   },
   "outputs": [
    {
     "name": "stdout",
     "output_type": "stream",
     "text": [
      "commit 6c39b88a449fd38831e87e33aaec8c4910643a2d (HEAD -> main)\n",
      "Author: user <user@company.com>\n",
      "Date:   Fri Aug 15 21:41:04 2025 +0900\n",
      "\n",
      "    c3\n",
      "\n",
      "commit fe456673c2f940be6272771d12abc5cdb2d4c5c3\n",
      "Author: user <user@company.com>\n",
      "Date:   Fri Aug 15 21:41:04 2025 +0900\n",
      "\n",
      "    c2\n",
      "\n",
      "commit 7d76be2ec9a8b7377c63cf7e9dc2a6315690985a\n",
      "Author: user <user@company.com>\n",
      "Date:   Fri Aug 15 21:41:03 2025 +0900\n",
      "\n",
      "    c1\n"
     ]
    }
   ],
   "source": [
    "git log"
   ]
  },
  {
   "cell_type": "markdown",
   "id": "23bd67fb",
   "metadata": {},
   "source": [
    "## `git ls-tree` 명령"
   ]
  },
  {
   "cell_type": "markdown",
   "id": "38d785a9",
   "metadata": {},
   "source": [
    "- 특정 커밋의 스냅샷 보기"
   ]
  },
  {
   "cell_type": "code",
   "execution_count": 7,
   "id": "7b3c3573",
   "metadata": {
    "vscode": {
     "languageId": "shellscript"
    }
   },
   "outputs": [
    {
     "name": "stdout",
     "output_type": "stream",
     "text": [
      "file1.txt\n"
     ]
    }
   ],
   "source": [
    "git ls-tree -r --name-only HEAD~2"
   ]
  },
  {
   "cell_type": "code",
   "execution_count": 8,
   "id": "3fa0cc8a",
   "metadata": {
    "vscode": {
     "languageId": "shellscript"
    }
   },
   "outputs": [
    {
     "name": "stdout",
     "output_type": "stream",
     "text": [
      "file1.txt\n",
      "file2.txt\n"
     ]
    }
   ],
   "source": [
    "git ls-tree -r --name-only HEAD~1"
   ]
  },
  {
   "cell_type": "code",
   "execution_count": 9,
   "id": "fd7a6156",
   "metadata": {
    "vscode": {
     "languageId": "shellscript"
    }
   },
   "outputs": [
    {
     "name": "stdout",
     "output_type": "stream",
     "text": [
      "file2.txt\n",
      "sub/file3.txt\n"
     ]
    }
   ],
   "source": [
    "git ls-tree -r --name-only HEAD"
   ]
  },
  {
   "cell_type": "markdown",
   "id": "c22c56a0",
   "metadata": {},
   "source": [
    "## `git cat-file` 명령"
   ]
  },
  {
   "cell_type": "code",
   "execution_count": 10,
   "id": "3788817e",
   "metadata": {
    "vscode": {
     "languageId": "shellscript"
    }
   },
   "outputs": [
    {
     "name": "stdout",
     "output_type": "stream",
     "text": [
      "file1 line 1\n"
     ]
    }
   ],
   "source": [
    "git cat-file -p HEAD~2:file1.txt"
   ]
  },
  {
   "cell_type": "code",
   "execution_count": 11,
   "id": "728e6239",
   "metadata": {
    "vscode": {
     "languageId": "shellscript"
    }
   },
   "outputs": [
    {
     "name": "stdout",
     "output_type": "stream",
     "text": [
      "file1 line 1\n",
      "file1 line 2\n"
     ]
    }
   ],
   "source": [
    "git cat-file -p HEAD~1:file1.txt"
   ]
  },
  {
   "cell_type": "code",
   "execution_count": 12,
   "id": "4207cb94",
   "metadata": {
    "vscode": {
     "languageId": "shellscript"
    }
   },
   "outputs": [
    {
     "name": "stdout",
     "output_type": "stream",
     "text": [
      "file2 line 1\n"
     ]
    }
   ],
   "source": [
    "git cat-file -p HEAD~1:file2.txt"
   ]
  },
  {
   "cell_type": "code",
   "execution_count": 13,
   "id": "7e42b8d5",
   "metadata": {
    "vscode": {
     "languageId": "shellscript"
    }
   },
   "outputs": [
    {
     "name": "stdout",
     "output_type": "stream",
     "text": [
      "file2 line 1\n"
     ]
    }
   ],
   "source": [
    "git cat-file -p HEAD:file2.txt"
   ]
  },
  {
   "cell_type": "code",
   "execution_count": 14,
   "id": "8fb3c6b9",
   "metadata": {
    "vscode": {
     "languageId": "shellscript"
    }
   },
   "outputs": [
    {
     "name": "stdout",
     "output_type": "stream",
     "text": [
      "file3 line 1\n"
     ]
    }
   ],
   "source": [
    "git cat-file -p HEAD:sub/file3.txt"
   ]
  },
  {
   "cell_type": "markdown",
   "id": "9a23a486",
   "metadata": {},
   "source": [
    "## `git show` 명령"
   ]
  },
  {
   "cell_type": "markdown",
   "id": "8acab246",
   "metadata": {},
   "source": [
    "- 특정 커밋의 변경 내역 보기"
   ]
  },
  {
   "cell_type": "code",
   "execution_count": 15,
   "id": "a6383ff4",
   "metadata": {
    "vscode": {
     "languageId": "shellscript"
    }
   },
   "outputs": [
    {
     "name": "stdout",
     "output_type": "stream",
     "text": [
      "commit 7d76be2ec9a8b7377c63cf7e9dc2a6315690985a\n",
      "Author: user <user@company.com>\n",
      "Date:   Fri Aug 15 21:41:03 2025 +0900\n",
      "\n",
      "    c1\n",
      "\n",
      "A\tfile1.txt\n"
     ]
    }
   ],
   "source": [
    "git show --name-status HEAD~2"
   ]
  },
  {
   "cell_type": "code",
   "execution_count": 16,
   "id": "f8e90e84",
   "metadata": {
    "vscode": {
     "languageId": "shellscript"
    }
   },
   "outputs": [
    {
     "name": "stdout",
     "output_type": "stream",
     "text": [
      "commit fe456673c2f940be6272771d12abc5cdb2d4c5c3\n",
      "Author: user <user@company.com>\n",
      "Date:   Fri Aug 15 21:41:04 2025 +0900\n",
      "\n",
      "    c2\n",
      "\n",
      "M\tfile1.txt\n",
      "A\tfile2.txt\n"
     ]
    }
   ],
   "source": [
    "git show --name-status HEAD~1"
   ]
  },
  {
   "cell_type": "code",
   "execution_count": 17,
   "id": "6901ca73",
   "metadata": {
    "vscode": {
     "languageId": "shellscript"
    }
   },
   "outputs": [
    {
     "name": "stdout",
     "output_type": "stream",
     "text": [
      "commit 6c39b88a449fd38831e87e33aaec8c4910643a2d (HEAD -> main)\n",
      "Author: user <user@company.com>\n",
      "Date:   Fri Aug 15 21:41:04 2025 +0900\n",
      "\n",
      "    c3\n",
      "\n",
      "D\tfile1.txt\n",
      "A\tsub/file3.txt\n"
     ]
    }
   ],
   "source": [
    "git show --name-status HEAD"
   ]
  },
  {
   "cell_type": "markdown",
   "id": "36715465",
   "metadata": {},
   "source": [
    "## `git diff` 명령"
   ]
  },
  {
   "cell_type": "markdown",
   "id": "93baecbe",
   "metadata": {},
   "source": [
    "- 커밋과 커밋간의 차이를 보기"
   ]
  },
  {
   "cell_type": "code",
   "execution_count": null,
   "id": "955642a2",
   "metadata": {
    "vscode": {
     "languageId": "shellscript"
    }
   },
   "outputs": [],
   "source": []
  }
 ],
 "metadata": {
  "kernelspec": {
   "display_name": "Bash",
   "language": "bash",
   "name": "bash"
  },
  "language_info": {
   "codemirror_mode": "shell",
   "file_extension": ".sh",
   "mimetype": "text/x-sh",
   "name": "bash"
  }
 },
 "nbformat": 4,
 "nbformat_minor": 5
}
