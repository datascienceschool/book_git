{
 "cells": [
  {
   "cell_type": "markdown",
   "id": "b52789ac",
   "metadata": {},
   "source": [
    "# 체크아웃"
   ]
  },
  {
   "cell_type": "markdown",
   "id": "ebb04d8d",
   "metadata": {},
   "source": [
    "## 커밋 기록"
   ]
  },
  {
   "cell_type": "markdown",
   "id": "c9a7f7e2",
   "metadata": {},
   "source": [
    "- 커밋을 여러번 하게 되면 한 줄의 커밋 기록(commit history)이 생기게 된다."
   ]
  },
  {
   "cell_type": "markdown",
   "id": "ccd10e52",
   "metadata": {},
   "source": [
    "## 헤드"
   ]
  },
  {
   "cell_type": "markdown",
   "id": "583eba6c",
   "metadata": {},
   "source": [
    "- 헤드(HEAD) 정보는 사용자가 현재 어떤 커밋에 머물러 있는지를 알려주시는 정보다.\n",
    "- 일반적으로 커밋을 할 때마다 헤드 정보가 변경된다."
   ]
  },
  {
   "cell_type": "markdown",
   "id": "2a37dfd1",
   "metadata": {},
   "source": [
    "## 체크아웃"
   ]
  },
  {
   "cell_type": "markdown",
   "id": "46300260",
   "metadata": {},
   "source": [
    "- 커밋 기록에서 과거의 커밋으로 이동하는 것을 체크아웃(checkout)이라고 한다."
   ]
  },
  {
   "cell_type": "markdown",
   "id": "5de0923d",
   "metadata": {},
   "source": []
  }
 ],
 "metadata": {
  "language_info": {
   "name": "python"
  }
 },
 "nbformat": 4,
 "nbformat_minor": 5
}
