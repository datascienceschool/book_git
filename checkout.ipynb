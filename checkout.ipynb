{
 "cells": [
  {
   "cell_type": "code",
   "execution_count": 1,
   "id": "a536a2b3",
   "metadata": {
    "vscode": {
     "languageId": "shellscript"
    }
   },
   "outputs": [],
   "source": [
    "# | echo: false\n",
    "# | output: false\n",
    "export LANG=en_US.UTF-8\n",
    "export HOME=/Users/joelkim/Work/personal/book_git\n",
    "cd $HOME/lab"
   ]
  },
  {
   "cell_type": "markdown",
   "id": "b52789ac",
   "metadata": {},
   "source": [
    "# 체크아웃"
   ]
  },
  {
   "cell_type": "markdown",
   "id": "ad78e867",
   "metadata": {},
   "source": [
    "## 체크아웃"
   ]
  },
  {
   "cell_type": "markdown",
   "id": "c9a7f7e2",
   "metadata": {},
   "source": [
    "- 과거 커밋이 존재하는 경우, 필요에 따라 과거의 커밋 상태로 되돌아 가는 것이 가능하다\n",
    "- 특정 커밋 시점으로 이동하는 것을 체크아웃이라고 한다.\n"
   ]
  },
  {
   "cell_type": "markdown",
   "id": "2e634a0f",
   "metadata": {},
   "source": [
    "## 체크아웃 명령"
   ]
  },
  {
   "cell_type": "markdown",
   "id": "81c8cc07",
   "metadata": {},
   "source": [
    "- 과거 커밋으로 체크아웃\n",
    "\n",
    "   ```bash\n",
    "   git checkout <과거 커밋의 해시값>\n",
    "   ```"
   ]
  },
  {
   "cell_type": "markdown",
   "id": "5983b237",
   "metadata": {},
   "source": [
    "- 특정 브랜치의 최신 커밋으로 체크아웃\n",
    "\n",
    "   ```bash\n",
    "   git checkout <브랜치 이름>\n",
    "   ```"
   ]
  },
  {
   "cell_type": "markdown",
   "id": "1da2f5ac",
   "metadata": {},
   "source": [
    "## attached 상태와 detached 상태"
   ]
  },
  {
   "cell_type": "markdown",
   "id": "31cfdd2a",
   "metadata": {},
   "source": [
    "| 헤드 상태 | 설명 | HEAD 파일의 내용 |\n",
    "|-|-|-|\n",
    "| attached 상태 | 헤드가 현재 브랜치의 가장 말단(최신) 커밋을 가리키고 있는 상태 | `ref: refs/heads/<현재 브랜치 이름>` |\n",
    "| detached 상태 | 헤드가 브랜치의 과거 시점 커밋을 커밋을 가리키고 있는 상태 | 가리키는 커밋의 해시값 |"
   ]
  },
  {
   "cell_type": "markdown",
   "id": "7be6a749",
   "metadata": {},
   "source": [
    "## 헤드 정보"
   ]
  },
  {
   "cell_type": "markdown",
   "id": "4ff84214",
   "metadata": {},
   "source": [
    "- 헤드정보는 `.git/HEAD` 텍스트 파일로 저장되어 관리된다.\n",
    "- attacehd 상태에서는 헤드(HEAD) 정보가 브랜치를 가리키지만\n",
    "- detached 상태에서는 헤드(HEAD) 정보가 커밋 해시값을 가진다."
   ]
  },
  {
   "cell_type": "markdown",
   "id": "f57409a4",
   "metadata": {},
   "source": [
    "#### 실습"
   ]
  },
  {
   "cell_type": "markdown",
   "id": "9a7dc75f",
   "metadata": {},
   "source": [
    "1. 저장소 생성"
   ]
  },
  {
   "cell_type": "code",
   "execution_count": 2,
   "id": "c1ffbb76",
   "metadata": {
    "vscode": {
     "languageId": "shellscript"
    }
   },
   "outputs": [
    {
     "name": "stdout",
     "output_type": "stream",
     "text": [
      "Initialized empty Git repository in /Users/joelkim/Work/personal/book_git/lab/test_checkout_01/.git/\n"
     ]
    }
   ],
   "source": [
    "# | output: false\n",
    "rm -rf test_checkout_01\n",
    "git init test_checkout_01\n",
    "cd test_checkout_01"
   ]
  },
  {
   "cell_type": "markdown",
   "id": "6f178ca2",
   "metadata": {},
   "source": [
    ":::{.cell}\n",
    "::::{.cell-output .cell-output-stdout}\n",
    "Initialized empty Git repository in /test_checkout_01/.git/\n",
    "::::\n",
    ":::"
   ]
  },
  {
   "cell_type": "markdown",
   "id": "d274fede",
   "metadata": {},
   "source": [
    "2. 커밋 c1\n",
    "   - file1.txt 추가"
   ]
  },
  {
   "cell_type": "code",
   "execution_count": 3,
   "id": "32e141c5",
   "metadata": {
    "vscode": {
     "languageId": "shellscript"
    }
   },
   "outputs": [
    {
     "name": "stdout",
     "output_type": "stream",
     "text": [
      "[main (root-commit) e5b1c6f] c1\n",
      " 1 file changed, 1 insertion(+)\n",
      " create mode 100644 file1.txt\n"
     ]
    }
   ],
   "source": [
    "echo \"file1 line 1\" >> file1.txt\n",
    "git add .\n",
    "git commit -m c1"
   ]
  },
  {
   "cell_type": "markdown",
   "id": "3c0758c8",
   "metadata": {},
   "source": [
    "3. 커밋 c2\n",
    "   - file2.txt 추가"
   ]
  },
  {
   "cell_type": "code",
   "execution_count": 4,
   "id": "6748966e",
   "metadata": {
    "vscode": {
     "languageId": "shellscript"
    }
   },
   "outputs": [
    {
     "name": "stdout",
     "output_type": "stream",
     "text": [
      "[main 700fb5a] c2\n",
      " 2 files changed, 2 insertions(+)\n",
      " create mode 100644 file2.txt\n"
     ]
    }
   ],
   "source": [
    "echo \"file1 line 2\" >> file1.txt\n",
    "echo \"file2 line 1\" >> file2.txt\n",
    "git add .\n",
    "git commit -m c2"
   ]
  },
  {
   "cell_type": "markdown",
   "id": "c677dc17",
   "metadata": {},
   "source": [
    "4. 커밋 c3\n",
    "   - file3.txt 추가"
   ]
  },
  {
   "cell_type": "code",
   "execution_count": 5,
   "id": "63aa121f",
   "metadata": {
    "vscode": {
     "languageId": "shellscript"
    }
   },
   "outputs": [
    {
     "name": "stdout",
     "output_type": "stream",
     "text": [
      "rm 'file1.txt'\n",
      "[main 87bbcda] c3\n",
      " 2 files changed, 1 insertion(+), 2 deletions(-)\n",
      " delete mode 100644 file1.txt\n",
      " create mode 100644 sub/file3.txt\n"
     ]
    }
   ],
   "source": [
    "git rm file1.txt\n",
    "mkdir sub\n",
    "echo \"file3 line 1\" >> sub/file3.txt\n",
    "git add .\n",
    "git commit -m c3"
   ]
  },
  {
   "cell_type": "markdown",
   "id": "2cfeea40",
   "metadata": {},
   "source": [
    "5. 현재 상태 확인"
   ]
  },
  {
   "cell_type": "code",
   "execution_count": 6,
   "id": "d77bf5cc",
   "metadata": {
    "vscode": {
     "languageId": "shellscript"
    }
   },
   "outputs": [
    {
     "name": "stdout",
     "output_type": "stream",
     "text": [
      "commit 87bbcdaf15bea96b7e6e68406c8c354e94f78a48 (HEAD -> main)\n",
      "Author: user <user@company.com>\n",
      "Date:   Sun Aug 17 10:35:41 2025 +0900\n",
      "\n",
      "    c3\n",
      "\n",
      "commit 700fb5af146f567d22db5245b620b7ce9b944ccc\n",
      "Author: user <user@company.com>\n",
      "Date:   Sun Aug 17 10:35:40 2025 +0900\n",
      "\n",
      "    c2\n",
      "\n",
      "commit e5b1c6fec8d49633243aa03fc156c55084be00b7\n",
      "Author: user <user@company.com>\n",
      "Date:   Sun Aug 17 10:35:40 2025 +0900\n",
      "\n",
      "    c1\n"
     ]
    }
   ],
   "source": [
    "git log"
   ]
  },
  {
   "cell_type": "markdown",
   "id": "ce142d4b",
   "metadata": {},
   "source": [
    "![그림: 예제 커밋 상황](figs/fig_log_01.png){width=400px}"
   ]
  },
  {
   "cell_type": "markdown",
   "id": "a6032abb",
   "metadata": {},
   "source": [
    "| c1 | c2 | c3 |\n",
    "|-|-|-|\n",
    "| file1.txt | file1.txt | -         |\n",
    "| -         | file2.txt | file2.txt |\n",
    "| -         | -         | file3.txt |\n"
   ]
  },
  {
   "cell_type": "markdown",
   "id": "4fcb4d39",
   "metadata": {},
   "source": [
    "- 현재 main 브랜치 (말단 커밋)"
   ]
  },
  {
   "cell_type": "code",
   "execution_count": 7,
   "id": "6536295c",
   "metadata": {
    "vscode": {
     "languageId": "shellscript"
    }
   },
   "outputs": [
    {
     "name": "stdout",
     "output_type": "stream",
     "text": [
      "ref: refs/heads/main\n"
     ]
    }
   ],
   "source": [
    "cat .git/HEAD"
   ]
  },
  {
   "cell_type": "code",
   "execution_count": 8,
   "id": "76a231c6",
   "metadata": {
    "vscode": {
     "languageId": "shellscript"
    }
   },
   "outputs": [
    {
     "name": "stdout",
     "output_type": "stream",
     "text": [
      ".\n",
      "├── file2.txt\n",
      "└── sub\n",
      "    └── file3.txt\n",
      "\n",
      "2 directories, 2 files\n"
     ]
    }
   ],
   "source": [
    "tree"
   ]
  },
  {
   "cell_type": "markdown",
   "id": "69f5e6e7",
   "metadata": {},
   "source": [
    "6. 바로 앞 커밋으로 체크아웃"
   ]
  },
  {
   "cell_type": "code",
   "execution_count": 9,
   "id": "9fd3b46b",
   "metadata": {
    "vscode": {
     "languageId": "shellscript"
    }
   },
   "outputs": [
    {
     "name": "stdout",
     "output_type": "stream",
     "text": [
      "Note: switching to 'HEAD~1'.\n",
      "\n",
      "You are in 'detached HEAD' state. You can look around, make experimental\n",
      "changes and commit them, and you can discard any commits you make in this\n",
      "state without impacting any branches by switching back to a branch.\n",
      "\n",
      "If you want to create a new branch to retain commits you create, you may\n",
      "do so (now or later) by using -c with the switch command. Example:\n",
      "\n",
      "  git switch -c <new-branch-name>\n",
      "\n",
      "Or undo this operation with:\n",
      "\n",
      "  git switch -\n",
      "\n",
      "Turn off this advice by setting config variable advice.detachedHead to false\n",
      "\n",
      "HEAD is now at 700fb5a c2\n"
     ]
    }
   ],
   "source": [
    "git checkout HEAD~1"
   ]
  },
  {
   "cell_type": "markdown",
   "id": "6369ec50",
   "metadata": {},
   "source": [
    "- 현재 상태"
   ]
  },
  {
   "cell_type": "code",
   "execution_count": 10,
   "id": "941e6ab8",
   "metadata": {
    "vscode": {
     "languageId": "shellscript"
    }
   },
   "outputs": [
    {
     "name": "stdout",
     "output_type": "stream",
     "text": [
      "HEAD detached at 700fb5a\n",
      "nothing to commit, working tree clean\n"
     ]
    }
   ],
   "source": [
    "git status"
   ]
  },
  {
   "cell_type": "code",
   "execution_count": 11,
   "id": "315faa47",
   "metadata": {
    "vscode": {
     "languageId": "shellscript"
    }
   },
   "outputs": [
    {
     "name": "stdout",
     "output_type": "stream",
     "text": [
      "700fb5af146f567d22db5245b620b7ce9b944ccc\n"
     ]
    }
   ],
   "source": [
    "cat .git/HEAD"
   ]
  },
  {
   "cell_type": "markdown",
   "id": "642aa926",
   "metadata": {},
   "source": [
    "- 로그에는 c2까지만 출력"
   ]
  },
  {
   "cell_type": "code",
   "execution_count": 12,
   "id": "563e0f38",
   "metadata": {
    "vscode": {
     "languageId": "shellscript"
    }
   },
   "outputs": [
    {
     "name": "stdout",
     "output_type": "stream",
     "text": [
      "commit 700fb5af146f567d22db5245b620b7ce9b944ccc (HEAD)\n",
      "Author: user <user@company.com>\n",
      "Date:   Sun Aug 17 10:35:40 2025 +0900\n",
      "\n",
      "    c2\n",
      "\n",
      "commit e5b1c6fec8d49633243aa03fc156c55084be00b7\n",
      "Author: user <user@company.com>\n",
      "Date:   Sun Aug 17 10:35:40 2025 +0900\n",
      "\n",
      "    c1\n"
     ]
    }
   ],
   "source": [
    "git log"
   ]
  },
  {
   "cell_type": "code",
   "execution_count": 13,
   "id": "f75090cc",
   "metadata": {
    "vscode": {
     "languageId": "shellscript"
    }
   },
   "outputs": [
    {
     "name": "stdout",
     "output_type": "stream",
     "text": [
      ".\n",
      "├── file1.txt\n",
      "└── file2.txt\n",
      "\n",
      "1 directory, 2 files\n"
     ]
    }
   ],
   "source": [
    "tree"
   ]
  },
  {
   "cell_type": "markdown",
   "id": "b08578ab",
   "metadata": {},
   "source": [
    "7. 더 앞으로 체크아웃"
   ]
  },
  {
   "cell_type": "code",
   "execution_count": 14,
   "id": "b38de65d",
   "metadata": {
    "vscode": {
     "languageId": "shellscript"
    }
   },
   "outputs": [
    {
     "name": "stdout",
     "output_type": "stream",
     "text": [
      "Previous HEAD position was 700fb5a c2\n",
      "HEAD is now at e5b1c6f c1\n"
     ]
    }
   ],
   "source": [
    "git checkout HEAD~1"
   ]
  },
  {
   "cell_type": "code",
   "execution_count": 15,
   "id": "fe4d213f",
   "metadata": {
    "vscode": {
     "languageId": "shellscript"
    }
   },
   "outputs": [
    {
     "name": "stdout",
     "output_type": "stream",
     "text": [
      "HEAD detached at e5b1c6f\n",
      "nothing to commit, working tree clean\n"
     ]
    }
   ],
   "source": [
    "git status"
   ]
  },
  {
   "cell_type": "code",
   "execution_count": 16,
   "id": "f869ba49",
   "metadata": {
    "vscode": {
     "languageId": "shellscript"
    }
   },
   "outputs": [
    {
     "name": "stdout",
     "output_type": "stream",
     "text": [
      "e5b1c6fec8d49633243aa03fc156c55084be00b7\n"
     ]
    }
   ],
   "source": [
    "cat .git/HEAD"
   ]
  },
  {
   "cell_type": "code",
   "execution_count": 17,
   "id": "da46acde",
   "metadata": {
    "vscode": {
     "languageId": "shellscript"
    }
   },
   "outputs": [
    {
     "name": "stdout",
     "output_type": "stream",
     "text": [
      "commit e5b1c6fec8d49633243aa03fc156c55084be00b7 (HEAD)\n",
      "Author: user <user@company.com>\n",
      "Date:   Sun Aug 17 10:35:40 2025 +0900\n",
      "\n",
      "    c1\n"
     ]
    }
   ],
   "source": [
    "git log"
   ]
  },
  {
   "cell_type": "code",
   "execution_count": 18,
   "id": "f9159e42",
   "metadata": {
    "vscode": {
     "languageId": "shellscript"
    }
   },
   "outputs": [
    {
     "name": "stdout",
     "output_type": "stream",
     "text": [
      ".\n",
      "└── file1.txt\n",
      "\n",
      "1 directory, 1 file\n"
     ]
    }
   ],
   "source": [
    "tree"
   ]
  },
  {
   "cell_type": "markdown",
   "id": "9f406576",
   "metadata": {},
   "source": [
    "8. 도로 브랜치(말단 커밋)로 체크아웃"
   ]
  },
  {
   "cell_type": "code",
   "execution_count": 19,
   "id": "8f4a7eed",
   "metadata": {
    "vscode": {
     "languageId": "shellscript"
    }
   },
   "outputs": [
    {
     "name": "stdout",
     "output_type": "stream",
     "text": [
      "Previous HEAD position was e5b1c6f c1\n",
      "Switched to branch 'main'\n"
     ]
    }
   ],
   "source": [
    "git checkout main"
   ]
  },
  {
   "cell_type": "code",
   "execution_count": 20,
   "id": "ce5d1fd4",
   "metadata": {
    "vscode": {
     "languageId": "shellscript"
    }
   },
   "outputs": [
    {
     "name": "stdout",
     "output_type": "stream",
     "text": [
      "On branch main\n",
      "nothing to commit, working tree clean\n"
     ]
    }
   ],
   "source": [
    "git status"
   ]
  },
  {
   "cell_type": "code",
   "execution_count": 21,
   "id": "7e98fc5b",
   "metadata": {
    "vscode": {
     "languageId": "shellscript"
    }
   },
   "outputs": [
    {
     "name": "stdout",
     "output_type": "stream",
     "text": [
      "ref: refs/heads/main\n"
     ]
    }
   ],
   "source": [
    "cat .git/HEAD"
   ]
  },
  {
   "cell_type": "code",
   "execution_count": 22,
   "id": "1d8ed9bf",
   "metadata": {
    "vscode": {
     "languageId": "shellscript"
    }
   },
   "outputs": [
    {
     "name": "stdout",
     "output_type": "stream",
     "text": [
      "commit 87bbcdaf15bea96b7e6e68406c8c354e94f78a48 (HEAD -> main)\n",
      "Author: user <user@company.com>\n",
      "Date:   Sun Aug 17 10:35:41 2025 +0900\n",
      "\n",
      "    c3\n",
      "\n",
      "commit 700fb5af146f567d22db5245b620b7ce9b944ccc\n",
      "Author: user <user@company.com>\n",
      "Date:   Sun Aug 17 10:35:40 2025 +0900\n",
      "\n",
      "    c2\n",
      "\n",
      "commit e5b1c6fec8d49633243aa03fc156c55084be00b7\n",
      "Author: user <user@company.com>\n",
      "Date:   Sun Aug 17 10:35:40 2025 +0900\n",
      "\n",
      "    c1\n"
     ]
    }
   ],
   "source": [
    "git log"
   ]
  },
  {
   "cell_type": "markdown",
   "id": "21ee5a33",
   "metadata": {},
   "source": [
    "## 체크아웃시의 파일 변화"
   ]
  },
  {
   "cell_type": "markdown",
   "id": "9681628b",
   "metadata": {},
   "source": [
    "- 체크아웃하면 출발지 커밋과 목적지 커밋에 해당 파일이 있는지 여부에 따라 파일에 발생하는 현상이 달라진다.\n",
    "\n",
    "| 출발지 커밋 | 목적지 커밋 | 결과 |\n",
    "|-|-|-----|\n",
    "| 커밋 | 커밋 | 목적지 커밋에 있는 내용으로 바뀐다. |\n",
    "| 커밋 |  -   | 파일이 사라진다 |\n",
    "| -    | 커밋 | 출발시점의 워크트리에 같은 이름의 파일이 있으면 실패, 없으면 생긴다. |\n",
    "| -    | -    | 그대로 유지된다. |"
   ]
  },
  {
   "cell_type": "markdown",
   "id": "38fa6630",
   "metadata": {},
   "source": [
    "- file4.txt라는 untracked 파일을 만들고 c3 -> c2 로 체크아웃 하는 경우\n",
    "\n",
    "| 파일 | 출발지 c3 | 목적지 c2 | 결과 |\n",
    "|-|-|-|-----|\n",
    "| file2.txt | 커밋 | 커밋 | 목적지 커밋에 있는 내용으로 바뀐다. |\n",
    "| file3.txt | 커밋 |  -   | 파일이 사라진다 |\n",
    "| file1.txt | -    | 커밋 | 출발시점의 워크트리에 같은 이름의 파일이 있으면 실패, 없으면 생긴다. |\n",
    "| file4.txt | -    | -    | 그대로 유지된다. |"
   ]
  },
  {
   "cell_type": "markdown",
   "id": "06927908",
   "metadata": {},
   "source": [
    "#### 실습"
   ]
  },
  {
   "cell_type": "code",
   "execution_count": 23,
   "id": "b79ac17d",
   "metadata": {
    "vscode": {
     "languageId": "shellscript"
    }
   },
   "outputs": [
    {
     "name": "stdout",
     "output_type": "stream",
     "text": [
      "On branch main\n",
      "nothing to commit, working tree clean\n"
     ]
    }
   ],
   "source": [
    "git status"
   ]
  },
  {
   "cell_type": "markdown",
   "id": "2c845b32",
   "metadata": {},
   "source": [
    "- untracked 파일 file4.txt 생성"
   ]
  },
  {
   "cell_type": "code",
   "execution_count": 24,
   "id": "ded4dda7",
   "metadata": {
    "vscode": {
     "languageId": "shellscript"
    }
   },
   "outputs": [],
   "source": [
    "touch file4.txt"
   ]
  },
  {
   "cell_type": "code",
   "execution_count": 25,
   "id": "fb069a29",
   "metadata": {
    "vscode": {
     "languageId": "shellscript"
    }
   },
   "outputs": [
    {
     "name": "stdout",
     "output_type": "stream",
     "text": [
      ".\n",
      "├── file2.txt\n",
      "├── file4.txt\n",
      "└── sub\n",
      "    └── file3.txt\n",
      "\n",
      "2 directories, 3 files\n"
     ]
    }
   ],
   "source": [
    "tree"
   ]
  },
  {
   "cell_type": "markdown",
   "id": "1c0d3779",
   "metadata": {},
   "source": [
    "- c2로 체크아웃"
   ]
  },
  {
   "cell_type": "code",
   "execution_count": 26,
   "id": "c9e82354",
   "metadata": {
    "vscode": {
     "languageId": "shellscript"
    }
   },
   "outputs": [
    {
     "name": "stdout",
     "output_type": "stream",
     "text": [
      "Note: switching to 'HEAD~1'.\n",
      "\n",
      "You are in 'detached HEAD' state. You can look around, make experimental\n",
      "changes and commit them, and you can discard any commits you make in this\n",
      "state without impacting any branches by switching back to a branch.\n",
      "\n",
      "If you want to create a new branch to retain commits you create, you may\n",
      "do so (now or later) by using -c with the switch command. Example:\n",
      "\n",
      "  git switch -c <new-branch-name>\n",
      "\n",
      "Or undo this operation with:\n",
      "\n",
      "  git switch -\n",
      "\n",
      "Turn off this advice by setting config variable advice.detachedHead to false\n",
      "\n",
      "HEAD is now at 700fb5a c2\n"
     ]
    }
   ],
   "source": [
    "git checkout HEAD~1"
   ]
  },
  {
   "cell_type": "markdown",
   "id": "6d76408a",
   "metadata": {},
   "source": [
    "- c2, c3에 모두 있는 file2.txt는 그대로\n",
    "- c2에만 있는 file1.txt 생김\n",
    "- c3에만 있는 file3.txt 사라짐\n",
    "- 모두 커밋되지 않은 file4.txt는 그대로"
   ]
  },
  {
   "cell_type": "code",
   "execution_count": 27,
   "id": "f982828d",
   "metadata": {
    "vscode": {
     "languageId": "shellscript"
    }
   },
   "outputs": [
    {
     "name": "stdout",
     "output_type": "stream",
     "text": [
      ".\n",
      "├── file1.txt\n",
      "├── file2.txt\n",
      "└── file4.txt\n",
      "\n",
      "1 directory, 3 files\n"
     ]
    }
   ],
   "source": [
    "tree"
   ]
  },
  {
   "cell_type": "markdown",
   "id": "678de8a4",
   "metadata": {},
   "source": [
    "## 체크아웃 실패"
   ]
  },
  {
   "cell_type": "markdown",
   "id": "55053139",
   "metadata": {},
   "source": [
    "- 체크아웃도 브랜치 전환과 마찬가지로 워크트리의 파일 상태에 따라 불가능한 경우가 있다."
   ]
  },
  {
   "cell_type": "markdown",
   "id": "0d51ba4d",
   "metadata": {},
   "source": [
    "- 출발 시점에 워크트리에 있는 파일의 상태가 다음과 같으면 목적지 커밋으로 체크아웃 할 수 없다.\n",
    "  - 변경(modified), 삭제(deleted) 상태의 파일이 존재\n",
    "  - 목적지 커밋에 있는 파일과 같은 이름의 신규(untracked) 파일이 존재\n",
    "- 즉 변경/삭제 상태의 파일이 존재하지 않아야 하고, 신규파일의 경우 목적지 커밋에 해당 이름의 파일이 없어야 한다.\n",
    "- 이는 커밋을 전환하면서 현재 워크트리의 변경사항이 목적지 커밋의 내용으로 덮어씌워지는 것을 방지하기 위함이다.\n",
    "- 변경 혹은 신규 파일의 내용이 목적지 커밋된 있는 파일과 같은 경우에도 상관없이 불가능하다. \n"
   ]
  },
  {
   "cell_type": "markdown",
   "id": "b6912ed3",
   "metadata": {},
   "source": [
    "- 다시 c3 커밋으로 복귀"
   ]
  },
  {
   "cell_type": "code",
   "execution_count": 28,
   "id": "7dd2ce3d",
   "metadata": {
    "vscode": {
     "languageId": "shellscript"
    }
   },
   "outputs": [
    {
     "name": "stdout",
     "output_type": "stream",
     "text": [
      "Previous HEAD position was 700fb5a c2\n",
      "Switched to branch 'main'\n"
     ]
    }
   ],
   "source": [
    "git checkout main"
   ]
  },
  {
   "cell_type": "code",
   "execution_count": 29,
   "id": "8257087d",
   "metadata": {
    "vscode": {
     "languageId": "shellscript"
    }
   },
   "outputs": [
    {
     "name": "stdout",
     "output_type": "stream",
     "text": [
      ".\n",
      "├── file2.txt\n",
      "├── file4.txt\n",
      "└── sub\n",
      "    └── file3.txt\n",
      "\n",
      "2 directories, 3 files\n"
     ]
    }
   ],
   "source": [
    "tree"
   ]
  },
  {
   "cell_type": "markdown",
   "id": "ce98e0d1",
   "metadata": {},
   "source": [
    "- file2.txt 를 변경하여 변경상태로 만들면"
   ]
  },
  {
   "cell_type": "code",
   "execution_count": 30,
   "id": "786acba7",
   "metadata": {
    "vscode": {
     "languageId": "shellscript"
    }
   },
   "outputs": [
    {
     "name": "stdout",
     "output_type": "stream",
     "text": [
      "On branch main\n",
      "Changes not staged for commit:\n",
      "  (use \"git add <file>...\" to update what will be committed)\n",
      "  (use \"git restore <file>...\" to discard changes in working directory)\n",
      "\tmodified:   file2.txt\n",
      "\n",
      "Untracked files:\n",
      "  (use \"git add <file>...\" to include in what will be committed)\n",
      "\tfile4.txt\n",
      "\n",
      "no changes added to commit (use \"git add\" and/or \"git commit -a\")\n"
     ]
    }
   ],
   "source": [
    "echo \"file2 line 2\" >> file2.txt\n",
    "git status"
   ]
  },
  {
   "cell_type": "markdown",
   "id": "b6bec6ec",
   "metadata": {},
   "source": [
    "- 체크아웃 실패"
   ]
  },
  {
   "cell_type": "code",
   "execution_count": 31,
   "id": "d8644a48",
   "metadata": {
    "vscode": {
     "languageId": "shellscript"
    }
   },
   "outputs": [
    {
     "name": "stdout",
     "output_type": "stream",
     "text": [
      "M\tfile2.txt\n",
      "Note: switching to 'HEAD~1'.\n",
      "\n",
      "You are in 'detached HEAD' state. You can look around, make experimental\n",
      "changes and commit them, and you can discard any commits you make in this\n",
      "state without impacting any branches by switching back to a branch.\n",
      "\n",
      "If you want to create a new branch to retain commits you create, you may\n",
      "do so (now or later) by using -c with the switch command. Example:\n",
      "\n",
      "  git switch -c <new-branch-name>\n",
      "\n",
      "Or undo this operation with:\n",
      "\n",
      "  git switch -\n",
      "\n",
      "Turn off this advice by setting config variable advice.detachedHead to false\n",
      "\n",
      "HEAD is now at 700fb5a c2\n"
     ]
    }
   ],
   "source": [
    "git checkout HEAD~1 || true"
   ]
  },
  {
   "cell_type": "markdown",
   "id": "ff53f4a7",
   "metadata": {},
   "source": [
    "- file2.txt를 복구하고 다시 시도하면 성공"
   ]
  },
  {
   "cell_type": "code",
   "execution_count": 32,
   "id": "e081bf1f",
   "metadata": {
    "vscode": {
     "languageId": "shellscript"
    }
   },
   "outputs": [
    {
     "name": "stdout",
     "output_type": "stream",
     "text": [
      "HEAD detached at 700fb5a\n",
      "Untracked files:\n",
      "  (use \"git add <file>...\" to include in what will be committed)\n",
      "\tfile4.txt\n",
      "\n",
      "nothing added to commit but untracked files present (use \"git add\" to track)\n"
     ]
    }
   ],
   "source": [
    "git restore file2.txt\n",
    "git status"
   ]
  },
  {
   "cell_type": "code",
   "execution_count": 33,
   "id": "729b1834",
   "metadata": {
    "vscode": {
     "languageId": "shellscript"
    }
   },
   "outputs": [
    {
     "name": "stdout",
     "output_type": "stream",
     "text": [
      "Previous HEAD position was 700fb5a c2\n",
      "HEAD is now at e5b1c6f c1\n"
     ]
    }
   ],
   "source": [
    "git checkout HEAD~1"
   ]
  },
  {
   "cell_type": "markdown",
   "id": "3b7ea2c4",
   "metadata": {},
   "source": [
    "- 다시 c3로 체크아웃 한 뒤"
   ]
  },
  {
   "cell_type": "code",
   "execution_count": 34,
   "id": "72266a7d",
   "metadata": {
    "vscode": {
     "languageId": "shellscript"
    }
   },
   "outputs": [
    {
     "name": "stdout",
     "output_type": "stream",
     "text": [
      "Previous HEAD position was e5b1c6f c1\n",
      "Switched to branch 'main'\n"
     ]
    }
   ],
   "source": [
    "git checkout main"
   ]
  },
  {
   "cell_type": "markdown",
   "id": "3f17ed23",
   "metadata": {},
   "source": [
    "- c2에만 있는 file1.txt와 같은 이름의 untracked 파일 생성"
   ]
  },
  {
   "cell_type": "code",
   "execution_count": 35,
   "id": "557013a9",
   "metadata": {
    "vscode": {
     "languageId": "shellscript"
    }
   },
   "outputs": [
    {
     "name": "stdout",
     "output_type": "stream",
     "text": [
      ".\n",
      "├── file1.txt\n",
      "├── file2.txt\n",
      "├── file4.txt\n",
      "└── sub\n",
      "    └── file3.txt\n",
      "\n",
      "2 directories, 4 files\n"
     ]
    }
   ],
   "source": [
    "touch file1.txt\n",
    "tree"
   ]
  },
  {
   "cell_type": "markdown",
   "id": "f72775e1",
   "metadata": {},
   "source": [
    "- 체크아웃 실패"
   ]
  },
  {
   "cell_type": "code",
   "execution_count": 36,
   "id": "4537c35a",
   "metadata": {
    "vscode": {
     "languageId": "shellscript"
    }
   },
   "outputs": [
    {
     "name": "stdout",
     "output_type": "stream",
     "text": [
      "error: The following untracked working tree files would be overwritten by checkout:\n",
      "\tfile1.txt\n",
      "Please move or remove them before you switch branches.\n",
      "Aborting\n"
     ]
    }
   ],
   "source": [
    "git checkout HEAD~1 || true"
   ]
  },
  {
   "cell_type": "markdown",
   "id": "bb6f1bab",
   "metadata": {},
   "source": [
    "- file1.txt 파일을 없애면 체크아웃 성공"
   ]
  },
  {
   "cell_type": "code",
   "execution_count": 37,
   "id": "8895fda3",
   "metadata": {
    "vscode": {
     "languageId": "shellscript"
    }
   },
   "outputs": [
    {
     "name": "stdout",
     "output_type": "stream",
     "text": [
      "Note: switching to 'HEAD~1'.\n",
      "\n",
      "You are in 'detached HEAD' state. You can look around, make experimental\n",
      "changes and commit them, and you can discard any commits you make in this\n",
      "state without impacting any branches by switching back to a branch.\n",
      "\n",
      "If you want to create a new branch to retain commits you create, you may\n",
      "do so (now or later) by using -c with the switch command. Example:\n",
      "\n",
      "  git switch -c <new-branch-name>\n",
      "\n",
      "Or undo this operation with:\n",
      "\n",
      "  git switch -\n",
      "\n",
      "Turn off this advice by setting config variable advice.detachedHead to false\n",
      "\n",
      "HEAD is now at 700fb5a c2\n"
     ]
    }
   ],
   "source": [
    "rm -r file1.txt\n",
    "git checkout HEAD~1"
   ]
  }
 ],
 "metadata": {
  "kernelspec": {
   "display_name": "Bash",
   "language": "bash",
   "name": "bash"
  },
  "language_info": {
   "codemirror_mode": "shell",
   "file_extension": ".sh",
   "mimetype": "text/x-sh",
   "name": "bash"
  }
 },
 "nbformat": 4,
 "nbformat_minor": 5
}
