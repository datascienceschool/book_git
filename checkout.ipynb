{
 "cells": [
  {
   "cell_type": "code",
   "execution_count": 1,
   "id": "a536a2b3",
   "metadata": {},
   "outputs": [
    {
     "name": "stdout",
     "output_type": "stream",
     "text": [
      "env: LANG=en_US.UTF-8\n"
     ]
    }
   ],
   "source": [
    "# | echo: false\n",
    "# | output: false\n",
    "%env LANG=en_US.UTF-8"
   ]
  },
  {
   "cell_type": "markdown",
   "id": "b52789ac",
   "metadata": {},
   "source": [
    "# 체크아웃"
   ]
  },
  {
   "cell_type": "markdown",
   "id": "ad78e867",
   "metadata": {},
   "source": [
    "## 체크아웃"
   ]
  },
  {
   "cell_type": "markdown",
   "id": "c9a7f7e2",
   "metadata": {},
   "source": [
    "- 커밋을 계속하여 과거 커밋이 존재하는 경우, 필요에 따라 과거의 커밋 상태로 되돌아 가는 것이 가능하다\n",
    "- 특정 커밋 시점으로 이동하는 것을 체크아웃이라고 한다.\n"
   ]
  },
  {
   "cell_type": "markdown",
   "id": "2e634a0f",
   "metadata": {},
   "source": [
    "## 체크아웃 명령"
   ]
  },
  {
   "cell_type": "markdown",
   "id": "81c8cc07",
   "metadata": {},
   "source": [
    "- 과거 커밋으로 체크아웃\n",
    "\n",
    "   ```bash\n",
    "   git checkout <과거 커밋의 해시값>\n",
    "   ```"
   ]
  },
  {
   "cell_type": "markdown",
   "id": "5983b237",
   "metadata": {},
   "source": [
    "- 특정 브랜치의 최신 커밋으로 체크아웃\n",
    "\n",
    "   ```bash\n",
    "   git checkout <브랜치 이름>\n",
    "   ```"
   ]
  },
  {
   "cell_type": "markdown",
   "id": "ccd10e52",
   "metadata": {},
   "source": [
    "## 헤드"
   ]
  },
  {
   "cell_type": "markdown",
   "id": "583eba6c",
   "metadata": {},
   "source": [
    "- 헤드(HEAD) 정보는 사용자가 현재 어떤 커밋에 체크아웃되어 있는지를 알려주시는 정보다.\n",
    "- `.git/HEAD` 파일로 저장되어 관리된다.\n"
   ]
  },
  {
   "cell_type": "markdown",
   "id": "1da2f5ac",
   "metadata": {},
   "source": [
    "## attached 상태와 detached 상태"
   ]
  },
  {
   "cell_type": "markdown",
   "id": "31cfdd2a",
   "metadata": {},
   "source": [
    "| 헤드 상태 | 설명 | HEAD 파일의 내용 |\n",
    "|-|-|-|\n",
    "| attached 상태 | 헤드가 현재 브랜치의 가장 말단(최신) 커밋을 가리키고 있는 상태 | `ref: refs/heads/<현재 브랜치 이름>` |\n",
    "| detached 상태 | 헤드가 브랜치의 과거 시점 커밋을 커밋을 가리키고 있는 상태 | 가리키는 커밋의 해시값 |"
   ]
  },
  {
   "cell_type": "code",
   "execution_count": 2,
   "id": "14630e80",
   "metadata": {},
   "outputs": [
    {
     "name": "stdout",
     "output_type": "stream",
     "text": [
      "/Users/joelkim/Work/personal/book_git/temp\n"
     ]
    }
   ],
   "source": [
    "# | echo: false\n",
    "# | output: false\n",
    "%cd /Users/joelkim/Work/personal/book_git/temp/"
   ]
  },
  {
   "cell_type": "code",
   "execution_count": 3,
   "id": "c1ffbb76",
   "metadata": {},
   "outputs": [
    {
     "name": "stdout",
     "output_type": "stream",
     "text": [
      "Initialized empty Git repository in /Users/joelkim/Work/personal/book_git/temp/test_checkout_01/.git/\n"
     ]
    }
   ],
   "source": [
    "# | output: false\n",
    "!rm -rf test_checkout_01\n",
    "!git init test_checkout_01"
   ]
  },
  {
   "cell_type": "markdown",
   "id": "6f178ca2",
   "metadata": {},
   "source": [
    "```{.cell-output .cell-output-stdout}\n",
    "Initialized empty Git repository in /test_checkout_01/.git/\n",
    "```"
   ]
  },
  {
   "cell_type": "code",
   "execution_count": 4,
   "id": "2f82953b",
   "metadata": {},
   "outputs": [
    {
     "name": "stdout",
     "output_type": "stream",
     "text": [
      "/Users/joelkim/Work/personal/book_git/temp/test_checkout_01\n"
     ]
    }
   ],
   "source": [
    "# | echo: false\n",
    "# | output: false\n",
    "%cd /Users/joelkim/Work/personal/book_git/temp/test_checkout_01"
   ]
  },
  {
   "cell_type": "code",
   "execution_count": 5,
   "id": "6867ad98",
   "metadata": {},
   "outputs": [
    {
     "name": "stdout",
     "output_type": "stream",
     "text": [
      "[main (root-commit) e9cf0e3] c1\n",
      " 1 file changed, 1 insertion(+)\n",
      " create mode 100644 file.txt\n"
     ]
    }
   ],
   "source": [
    "!echo \"line 1\" >> file.txt\n",
    "!git add .\n",
    "!git commit -m c1"
   ]
  },
  {
   "cell_type": "code",
   "execution_count": 6,
   "id": "ed67ca74",
   "metadata": {},
   "outputs": [
    {
     "name": "stdout",
     "output_type": "stream",
     "text": [
      "\u001b[33me9cf0e3\u001b[m\u001b[33m (\u001b[m\u001b[1;36mHEAD\u001b[m\u001b[33m -> \u001b[m\u001b[1;32mmain\u001b[m\u001b[33m)\u001b[m c1\n"
     ]
    }
   ],
   "source": [
    "!git log --oneline"
   ]
  },
  {
   "cell_type": "code",
   "execution_count": 7,
   "id": "88ab4605",
   "metadata": {},
   "outputs": [
    {
     "name": "stdout",
     "output_type": "stream",
     "text": [
      "ref: refs/heads/main\n"
     ]
    }
   ],
   "source": [
    "!cat .git/HEAD"
   ]
  },
  {
   "cell_type": "code",
   "execution_count": 8,
   "id": "bc5b1cdb",
   "metadata": {},
   "outputs": [
    {
     "name": "stdout",
     "output_type": "stream",
     "text": [
      "e9cf0e3511301e7bb1150af8d64297cb14f42fc1\n"
     ]
    }
   ],
   "source": [
    "!cat .git/refs/heads/main"
   ]
  },
  {
   "cell_type": "code",
   "execution_count": 9,
   "id": "4119900b",
   "metadata": {},
   "outputs": [
    {
     "name": "stdout",
     "output_type": "stream",
     "text": [
      "[main 94054da] c2\n",
      " 1 file changed, 1 insertion(+)\n"
     ]
    }
   ],
   "source": [
    "!echo \"line 2\" >> file.txt\n",
    "!git commit -am c2"
   ]
  },
  {
   "cell_type": "code",
   "execution_count": 10,
   "id": "122e804b",
   "metadata": {},
   "outputs": [
    {
     "name": "stdout",
     "output_type": "stream",
     "text": [
      "\u001b[33m94054da\u001b[m\u001b[33m (\u001b[m\u001b[1;36mHEAD\u001b[m\u001b[33m -> \u001b[m\u001b[1;32mmain\u001b[m\u001b[33m)\u001b[m c2\n",
      "\u001b[33me9cf0e3\u001b[m c1\n"
     ]
    }
   ],
   "source": [
    "!git log --oneline"
   ]
  },
  {
   "cell_type": "code",
   "execution_count": 11,
   "id": "de08dadb",
   "metadata": {},
   "outputs": [
    {
     "name": "stdout",
     "output_type": "stream",
     "text": [
      "ref: refs/heads/main\n"
     ]
    }
   ],
   "source": [
    "!cat .git/HEAD"
   ]
  },
  {
   "cell_type": "code",
   "execution_count": 12,
   "id": "40247748",
   "metadata": {},
   "outputs": [
    {
     "name": "stdout",
     "output_type": "stream",
     "text": [
      "94054da7589066ffd508cf497e7462b4fddeb52d\n"
     ]
    }
   ],
   "source": [
    "!cat .git/refs/heads/main"
   ]
  },
  {
   "cell_type": "markdown",
   "id": "678de8a4",
   "metadata": {},
   "source": [
    "## 체크아웃의 영향"
   ]
  },
  {
   "cell_type": "markdown",
   "id": "55053139",
   "metadata": {},
   "source": [
    "- 체크아웃을 하면 \n",
    "  1. 헤드 정보가 해당 커밋을 가리키도록 변경된다.\n",
    "  2. `restore` 명령을 수행하면 헤드가 가리키는 커밋 정보를 사용한다.\n",
    "  3. `log` 명령을 수행하면 해당 커밋까지만 출력된다.\n",
    "  4. 워크트리와 스테이지는 바뀌지 않는다."
   ]
  },
  {
   "cell_type": "markdown",
   "id": "19574351",
   "metadata": {},
   "source": []
  }
 ],
 "metadata": {
  "kernelspec": {
   "display_name": "base",
   "language": "python",
   "name": "python3"
  },
  "language_info": {
   "codemirror_mode": {
    "name": "ipython",
    "version": 3
   },
   "file_extension": ".py",
   "mimetype": "text/x-python",
   "name": "python",
   "nbconvert_exporter": "python",
   "pygments_lexer": "ipython3",
   "version": "3.12.8"
  }
 },
 "nbformat": 4,
 "nbformat_minor": 5
}
