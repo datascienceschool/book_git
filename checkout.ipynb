{
 "cells": [
  {
   "cell_type": "code",
   "execution_count": 1,
   "id": "a536a2b3",
   "metadata": {},
   "outputs": [
    {
     "name": "stdout",
     "output_type": "stream",
     "text": [
      "env: LANG=en_US.UTF-8\n"
     ]
    }
   ],
   "source": [
    "# | echo: false\n",
    "# | output: false\n",
    "%env LANG=en_US.UTF-8"
   ]
  },
  {
   "cell_type": "markdown",
   "id": "b52789ac",
   "metadata": {},
   "source": [
    "# 체크아웃"
   ]
  },
  {
   "cell_type": "markdown",
   "id": "ad78e867",
   "metadata": {},
   "source": [
    "## 체크아웃"
   ]
  },
  {
   "cell_type": "markdown",
   "id": "c9a7f7e2",
   "metadata": {},
   "source": [
    "- 과거 커밋이 존재하는 경우, 필요에 따라 과거의 커밋 상태로 되돌아 가는 것이 가능하다\n",
    "- 특정 커밋 시점으로 이동하는 것을 체크아웃이라고 한다.\n"
   ]
  },
  {
   "cell_type": "markdown",
   "id": "2e634a0f",
   "metadata": {},
   "source": [
    "## 체크아웃 명령"
   ]
  },
  {
   "cell_type": "markdown",
   "id": "81c8cc07",
   "metadata": {},
   "source": [
    "- 과거 커밋으로 체크아웃\n",
    "\n",
    "   ```bash\n",
    "   git checkout <과거 커밋의 해시값>\n",
    "   ```"
   ]
  },
  {
   "cell_type": "markdown",
   "id": "5983b237",
   "metadata": {},
   "source": [
    "- 특정 브랜치의 최신 커밋으로 체크아웃\n",
    "\n",
    "   ```bash\n",
    "   git checkout <브랜치 이름>\n",
    "   ```"
   ]
  },
  {
   "cell_type": "markdown",
   "id": "ccd10e52",
   "metadata": {},
   "source": [
    "## 헤드"
   ]
  },
  {
   "cell_type": "markdown",
   "id": "583eba6c",
   "metadata": {},
   "source": [
    "- 헤드(HEAD) 정보는 사용자가 현재 어떤 커밋에 체크아웃되어 있는지를 알려주시는 정보다.\n",
    "- `.git/HEAD` 파일로 저장되어 관리된다.\n"
   ]
  },
  {
   "cell_type": "markdown",
   "id": "1da2f5ac",
   "metadata": {},
   "source": [
    "## attached 상태와 detached 상태"
   ]
  },
  {
   "cell_type": "markdown",
   "id": "31cfdd2a",
   "metadata": {},
   "source": [
    "| 헤드 상태 | 설명 | HEAD 파일의 내용 |\n",
    "|-|-|-|\n",
    "| attached 상태 | 헤드가 현재 브랜치의 가장 말단(최신) 커밋을 가리키고 있는 상태 | `ref: refs/heads/<현재 브랜치 이름>` |\n",
    "| detached 상태 | 헤드가 브랜치의 과거 시점 커밋을 커밋을 가리키고 있는 상태 | 가리키는 커밋의 해시값 |"
   ]
  },
  {
   "cell_type": "code",
   "execution_count": 2,
   "id": "14630e80",
   "metadata": {},
   "outputs": [
    {
     "name": "stdout",
     "output_type": "stream",
     "text": [
      "/Users/joelkim/Work/personal/book_git/temp\n"
     ]
    }
   ],
   "source": [
    "# | echo: false\n",
    "# | output: false\n",
    "%cd /Users/joelkim/Work/personal/book_git/temp/"
   ]
  },
  {
   "cell_type": "code",
   "execution_count": 3,
   "id": "c1ffbb76",
   "metadata": {},
   "outputs": [
    {
     "name": "stdout",
     "output_type": "stream",
     "text": [
      "Initialized empty Git repository in /Users/joelkim/Work/personal/book_git/temp/test_checkout_01/.git/\n"
     ]
    }
   ],
   "source": [
    "# | output: false\n",
    "!rm -rf test_checkout_01\n",
    "!git init test_checkout_01"
   ]
  },
  {
   "cell_type": "markdown",
   "id": "6f178ca2",
   "metadata": {},
   "source": [
    ":::{.cell}\n",
    "::::{.cell-output .cell-output-stdout}\n",
    "Initialized empty Git repository in /test_checkout_01/.git/\n",
    "::::\n",
    ":::"
   ]
  },
  {
   "cell_type": "code",
   "execution_count": 4,
   "id": "2f82953b",
   "metadata": {},
   "outputs": [
    {
     "name": "stdout",
     "output_type": "stream",
     "text": [
      "/Users/joelkim/Work/personal/book_git/temp/test_checkout_01\n"
     ]
    }
   ],
   "source": [
    "# | echo: false\n",
    "# | output: false\n",
    "%cd /Users/joelkim/Work/personal/book_git/temp/test_checkout_01"
   ]
  },
  {
   "cell_type": "code",
   "execution_count": 5,
   "id": "6867ad98",
   "metadata": {},
   "outputs": [
    {
     "name": "stdout",
     "output_type": "stream",
     "text": [
      "[main (root-commit) d466db1] c1\n",
      " 1 file changed, 1 insertion(+)\n",
      " create mode 100644 file.txt\n"
     ]
    }
   ],
   "source": [
    "!echo \"line 1\" >> file.txt\n",
    "!git add .\n",
    "!git commit -m c1"
   ]
  },
  {
   "cell_type": "code",
   "execution_count": 6,
   "id": "ed67ca74",
   "metadata": {},
   "outputs": [
    {
     "name": "stdout",
     "output_type": "stream",
     "text": [
      "\u001b[33md466db1\u001b[m\u001b[33m (\u001b[m\u001b[1;36mHEAD\u001b[m\u001b[33m -> \u001b[m\u001b[1;32mmain\u001b[m\u001b[33m)\u001b[m c1\n"
     ]
    }
   ],
   "source": [
    "!git log --oneline"
   ]
  },
  {
   "cell_type": "code",
   "execution_count": 7,
   "id": "88ab4605",
   "metadata": {},
   "outputs": [
    {
     "name": "stdout",
     "output_type": "stream",
     "text": [
      "ref: refs/heads/main\n"
     ]
    }
   ],
   "source": [
    "!cat .git/HEAD"
   ]
  },
  {
   "cell_type": "code",
   "execution_count": 8,
   "id": "bc5b1cdb",
   "metadata": {},
   "outputs": [
    {
     "name": "stdout",
     "output_type": "stream",
     "text": [
      "d466db16ad0f29b0c121697c9d96ad9c37e4edde\n"
     ]
    }
   ],
   "source": [
    "!cat .git/refs/heads/main"
   ]
  },
  {
   "cell_type": "code",
   "execution_count": 9,
   "id": "4119900b",
   "metadata": {},
   "outputs": [
    {
     "name": "stdout",
     "output_type": "stream",
     "text": [
      "[main 33605d5] c2\n",
      " 1 file changed, 1 insertion(+)\n"
     ]
    }
   ],
   "source": [
    "!echo \"line 2\" >> file.txt\n",
    "!git commit -am c2"
   ]
  },
  {
   "cell_type": "code",
   "execution_count": 10,
   "id": "122e804b",
   "metadata": {},
   "outputs": [
    {
     "name": "stdout",
     "output_type": "stream",
     "text": [
      "\u001b[33m33605d5\u001b[m\u001b[33m (\u001b[m\u001b[1;36mHEAD\u001b[m\u001b[33m -> \u001b[m\u001b[1;32mmain\u001b[m\u001b[33m)\u001b[m c2\n",
      "\u001b[33md466db1\u001b[m c1\n"
     ]
    }
   ],
   "source": [
    "!git log --oneline"
   ]
  },
  {
   "cell_type": "code",
   "execution_count": 11,
   "id": "de08dadb",
   "metadata": {},
   "outputs": [
    {
     "name": "stdout",
     "output_type": "stream",
     "text": [
      "ref: refs/heads/main\n"
     ]
    }
   ],
   "source": [
    "!cat .git/HEAD"
   ]
  },
  {
   "cell_type": "code",
   "execution_count": 12,
   "id": "40247748",
   "metadata": {},
   "outputs": [
    {
     "name": "stdout",
     "output_type": "stream",
     "text": [
      "33605d5e44184d80afd6950bc81dc38461dbfbec\n"
     ]
    }
   ],
   "source": [
    "!cat .git/refs/heads/main"
   ]
  },
  {
   "cell_type": "markdown",
   "id": "a0927005",
   "metadata": {},
   "source": [
    "## 상대 참조 표기"
   ]
  },
  {
   "cell_type": "markdown",
   "id": "15ab1f44",
   "metadata": {},
   "source": [
    "- 특정 커밋 위치로부터 N번 앞(과거)의 커밋은 `~N`을 커밋 해시값 뒤에 붙여서 상대 참조 표기로 나타낼 수 있다.\n",
    "- 현재의 커밋은 커밋 해시값 대신 `HEAD`를 사용할 수 있다. 따라서\n",
    "- 현재 커밋 바로 앞의 커밋(부모 커밋)은 `HEAD~1`\n",
    "- 현재 커밋 2번재 앞 커밋(조부모 커밋)은 `HEAD~2`\n",
    "- 앞(과거)이 아닌 뒤(미래)의 커밋은 복수가 있는 경우가 있어 상대 참조 표기를 사용하지 않는다.\n"
   ]
  },
  {
   "cell_type": "markdown",
   "id": "678de8a4",
   "metadata": {},
   "source": [
    "## 체크아웃 실패"
   ]
  },
  {
   "cell_type": "markdown",
   "id": "55053139",
   "metadata": {},
   "source": [
    "- 워크트리나 스테이지 상태가 clean 상태가 아니면 다른 커밋으로의 체크아웃을 실패한다. "
   ]
  },
  {
   "cell_type": "code",
   "execution_count": 13,
   "id": "926f2c32",
   "metadata": {},
   "outputs": [
    {
     "name": "stdout",
     "output_type": "stream",
     "text": [
      "On branch main\n",
      "Changes not staged for commit:\n",
      "  (use \"git add <file>...\" to update what will be committed)\n",
      "  (use \"git restore <file>...\" to discard changes in working directory)\n",
      "\t\u001b[31mmodified:   file.txt\u001b[m\n",
      "\n",
      "no changes added to commit (use \"git add\" and/or \"git commit -a\")\n"
     ]
    }
   ],
   "source": [
    "!echo \"line 3\" >> file.txt\n",
    "!git status"
   ]
  },
  {
   "cell_type": "code",
   "execution_count": 14,
   "id": "f5f1c590",
   "metadata": {},
   "outputs": [
    {
     "name": "stdout",
     "output_type": "stream",
     "text": [
      "error: Your local changes to the following files would be overwritten by checkout:\n",
      "\tfile.txt\n",
      "Please commit your changes or stash them before you switch branches.\n",
      "Aborting\n"
     ]
    }
   ],
   "source": [
    "!git checkout HEAD~1"
   ]
  }
 ],
 "metadata": {
  "kernelspec": {
   "display_name": "base",
   "language": "python",
   "name": "python3"
  },
  "language_info": {
   "codemirror_mode": {
    "name": "ipython",
    "version": 3
   },
   "file_extension": ".py",
   "mimetype": "text/x-python",
   "name": "python",
   "nbconvert_exporter": "python",
   "pygments_lexer": "ipython3",
   "version": "3.12.8"
  }
 },
 "nbformat": 4,
 "nbformat_minor": 5
}
