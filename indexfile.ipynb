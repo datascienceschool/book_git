{
 "cells": [
  {
   "cell_type": "code",
   "execution_count": 1,
   "id": "1e184d24",
   "metadata": {
    "vscode": {
     "languageId": "shellscript"
    }
   },
   "outputs": [],
   "source": [
    "# | echo: false\n",
    "# | output: false\n",
    "export LANG=en_US.UTF-8\n",
    "export HOME=/Users/joelkim/Work/personal/book_git\n",
    "cd $HOME"
   ]
  },
  {
   "cell_type": "markdown",
   "id": "4e03d0f0",
   "metadata": {},
   "source": [
    "# 인덱스 파일"
   ]
  },
  {
   "cell_type": "markdown",
   "id": "5e89c204",
   "metadata": {},
   "source": [
    "::: {.hidden}\n",
    "\n",
    "## 참고 문헌\n",
    "\n",
    "- Pro Git, Git Internels, Git Objects\n",
    "  - chrome-extension://oemmndcbldboiebfnladdacbdfmadadm/file:///Users/joelkim/Work/study/study_cs/book/DevOps/Progit/progit.pdf#%5B%7B%22num%22%3A2221%2C%22gen%22%3A0%7D%2C%7B%22name%22%3A%22XYZ%22%7D%2C0%2C510.57%2Cnull%5D\n",
    "- Mastering Git, Ch.10 Keeping History Clean, An introduction to Git internals\n",
    "  - chrome-extension://oemmndcbldboiebfnladdacbdfmadadm/file:///Users/joelkim/Work/study/study_cs/book/DevOps/Narebski/2024%20-%20Narebski%20-%20Mastering%20Git,%202nd%20Edition.pdf#p263\n",
    "- Building Git, Ch.6 The index\n",
    "  - chrome-extension://oemmndcbldboiebfnladdacbdfmadadm/file:///Users/joelkim/Work/study/study_cs/book/DevOps/Coglan/2021%20-%20Coglan%20-%20Buliding%20Git.pdf#%5B%7B%22num%22%3A524%2C%22gen%22%3A0%7D%2C%7B%22name%22%3A%22XYZ%22%7D%2C72%2C769.889%2Cnull%5D\n",
    ":::"
   ]
  },
  {
   "cell_type": "markdown",
   "id": "f86df408",
   "metadata": {},
   "source": [
    "## git 기본 명령의 내부 구조"
   ]
  },
  {
   "cell_type": "markdown",
   "id": "3890b0e0",
   "metadata": {},
   "source": [
    "- add, commit 등의 명령으로 파일이 등록되는 과정은 내부적으로 다음과 같은 고급 명령을 사용한다.\n",
    "- 이 중심에는 인덱스 파일이 있다."
   ]
  },
  {
   "cell_type": "markdown",
   "id": "cde5fad8",
   "metadata": {},
   "source": [
    "| 순번 | git 명령 | 내부 동작 | 설명 |\n",
    "|-|--|---|------------|\n",
    "| 1 | git add | 블롭 객체 생성\t| `git hash-object` 명령으로 블롭 객체 생성 |\n",
    "| 2 | - | 인덱스 등록\t| `git update-index` 명령으로 인덱스 파일에 스테이징 정보 등록 |\n",
    "| 3 | git commit | 트리 객체 생성\t| `git write-tree` 명령으로 인덱스 파일정보를 이용하여 트리 객체 생성 |\n",
    "| 4 | - | 커밋 객체 생성 | `git commit-tree` 명령으로 커밋 객체 생성 |\n",
    "| 5 | - | 브랜치 갱신 | `git update-ref` 명령으로 브랜치 정보 갱신 |"
   ]
  },
  {
   "cell_type": "markdown",
   "id": "b0e06c5b",
   "metadata": {},
   "source": [
    "## 실습 1: 레포지토리 준비"
   ]
  },
  {
   "cell_type": "markdown",
   "id": "aa1980ce",
   "metadata": {},
   "source": [
    "- 레포지토리 생성"
   ]
  },
  {
   "cell_type": "code",
   "execution_count": 2,
   "id": "4a13c83a",
   "metadata": {
    "vscode": {
     "languageId": "shellscript"
    }
   },
   "outputs": [
    {
     "name": "stdout",
     "output_type": "stream",
     "text": [
      "Initialized empty Git repository in /Users/joelkim/Work/personal/book_git/lab/test_internal_02/.git/\n"
     ]
    }
   ],
   "source": [
    "# | output: false\n",
    "cd $HOME/lab\n",
    "rm -rf test_internal_02\n",
    "git init test_internal_02\n",
    "cd test_internal_02"
   ]
  },
  {
   "cell_type": "markdown",
   "id": "b57718a8",
   "metadata": {},
   "source": [
    ":::{.cell}\n",
    "::::{.cell-output .cell-output-stdout}\n",
    "Initialized empty Git repository in ~/lab/test_internal_02/.git/\n",
    "::::\n",
    ":::"
   ]
  },
  {
   "cell_type": "code",
   "execution_count": 3,
   "id": "2473fbdc",
   "metadata": {
    "vscode": {
     "languageId": "shellscript"
    }
   },
   "outputs": [
    {
     "name": "stdout",
     "output_type": "stream",
     "text": [
      ".git/objects\n",
      "├── info\n",
      "└── pack\n",
      "\n",
      "3 directories, 0 files\n"
     ]
    }
   ],
   "source": [
    "tree .git/objects"
   ]
  },
  {
   "cell_type": "markdown",
   "id": "128b3ec9",
   "metadata": {},
   "source": [
    "## hash-object 명령"
   ]
  },
  {
   "cell_type": "markdown",
   "id": "19c11f23",
   "metadata": {},
   "source": [
    "- hash-object 명령은 입력된 데이터를 이용하여 해시값을 계산하고 객체를 생성한다.\n",
    " - `-w` 옵션을 주지 않으면 단순히 해시값만 계산한다."
   ]
  },
  {
   "cell_type": "markdown",
   "id": "d66b679a",
   "metadata": {},
   "source": [
    "```bash\n",
    "git hash-object [옵션] 입력파일 경로\n",
    "```"
   ]
  },
  {
   "cell_type": "markdown",
   "id": "c1f0b8ae",
   "metadata": {},
   "source": [
    "### hash-object 명령의 옵션"
   ]
  },
  {
   "cell_type": "markdown",
   "id": "7287fc61",
   "metadata": {},
   "source": [
    "- `-t` <유형>\n",
    "  - 생성할 객체 유형을 지정\n",
    "  - 기본값: \"blob\"\n",
    "  - 가능한 값: \"commit\", \"tree\", \"blob\", \"tag\""
   ]
  },
  {
   "cell_type": "markdown",
   "id": "79da6675",
   "metadata": {},
   "source": [
    "## 실습 2: 파일의 블롭 객체 생성"
   ]
  },
  {
   "cell_type": "code",
   "execution_count": 4,
   "id": "989ad082",
   "metadata": {
    "vscode": {
     "languageId": "shellscript"
    }
   },
   "outputs": [],
   "source": [
    "echo \"file1 line1\" > file1.txt"
   ]
  },
  {
   "cell_type": "code",
   "execution_count": 5,
   "id": "3b3984d4",
   "metadata": {
    "vscode": {
     "languageId": "shellscript"
    }
   },
   "outputs": [
    {
     "name": "stdout",
     "output_type": "stream",
     "text": [
      "On branch main\n",
      "\n",
      "No commits yet\n",
      "\n",
      "Untracked files:\n",
      "  (use \"git add <file>...\" to include in what will be committed)\n",
      "\tfile1.txt\n",
      "\n",
      "nothing added to commit but untracked files present (use \"git add\" to track)\n"
     ]
    }
   ],
   "source": [
    "git status"
   ]
  },
  {
   "cell_type": "markdown",
   "id": "69e3daf6",
   "metadata": {},
   "source": [
    "- hash-object 명령으로 file1.txt 파일에 대한 해시값을 계산"
   ]
  },
  {
   "cell_type": "code",
   "execution_count": 6,
   "id": "61e34335",
   "metadata": {
    "vscode": {
     "languageId": "shellscript"
    }
   },
   "outputs": [
    {
     "name": "stdout",
     "output_type": "stream",
     "text": [
      "0b11cfca50e35a4865e8505f1a108bd23a3f9401\n"
     ]
    }
   ],
   "source": [
    "git hash-object file1.txt"
   ]
  },
  {
   "cell_type": "markdown",
   "id": "437afda7",
   "metadata": {},
   "source": [
    "- -w 옵션이 없어서 실재로 블롭객체 파일을 생성하지 않음"
   ]
  },
  {
   "cell_type": "code",
   "execution_count": 7,
   "id": "c061f5a2",
   "metadata": {
    "vscode": {
     "languageId": "shellscript"
    }
   },
   "outputs": [
    {
     "name": "stdout",
     "output_type": "stream",
     "text": [
      ".git/objects\n",
      "├── info\n",
      "└── pack\n",
      "\n",
      "3 directories, 0 files\n"
     ]
    }
   ],
   "source": [
    "tree .git/objects"
   ]
  },
  {
   "cell_type": "markdown",
   "id": "063f078e",
   "metadata": {},
   "source": [
    "- -w 옵션을 주면 실재로 블롭객체 파일을 생성함"
   ]
  },
  {
   "cell_type": "code",
   "execution_count": 8,
   "id": "b707dfcc",
   "metadata": {
    "vscode": {
     "languageId": "shellscript"
    }
   },
   "outputs": [
    {
     "name": "stdout",
     "output_type": "stream",
     "text": [
      "0b11cfca50e35a4865e8505f1a108bd23a3f9401\n"
     ]
    }
   ],
   "source": [
    "git hash-object -w file1.txt"
   ]
  },
  {
   "cell_type": "code",
   "execution_count": 9,
   "id": "315233f4",
   "metadata": {
    "vscode": {
     "languageId": "shellscript"
    }
   },
   "outputs": [
    {
     "name": "stdout",
     "output_type": "stream",
     "text": [
      ".git/objects\n",
      "├── 0b\n",
      "│   └── 11cfca50e35a4865e8505f1a108bd23a3f9401\n",
      "├── info\n",
      "└── pack\n",
      "\n",
      "4 directories, 1 file\n"
     ]
    }
   ],
   "source": [
    "tree .git/objects"
   ]
  },
  {
   "cell_type": "markdown",
   "id": "0370adea",
   "metadata": {},
   "source": [
    "- cat-file 명령으로 블롭객체의 내용을 읽을 수 있음"
   ]
  },
  {
   "cell_type": "code",
   "execution_count": 10,
   "id": "42ba607a",
   "metadata": {
    "vscode": {
     "languageId": "shellscript"
    }
   },
   "outputs": [
    {
     "name": "stdout",
     "output_type": "stream",
     "text": [
      "file1 line1\n"
     ]
    }
   ],
   "source": [
    "git cat-file -p 0b11cfca50e35a4865e8505f1a108bd23a3f9401"
   ]
  },
  {
   "cell_type": "markdown",
   "id": "0a30f572",
   "metadata": {},
   "source": [
    "## 인덱스 파일"
   ]
  },
  {
   "cell_type": "markdown",
   "id": "1252f930",
   "metadata": {},
   "source": [
    "- 인덱스 파일은 다음과 같은 정보를 저장하고 제공하는 바이너리 파일\n",
    "  - 스테이지와 헤드 커밋에 있는 파일의 메타 정보\n",
    "    - 파일의 블롭 객체에 대한 포인터\n",
    "    - 해당 파일의 워크트리 파일 버전의 최신 변경 시간 등에 대한 정보\n",
    "\n",
    "- add 명령을 실행하면\n",
    "  - 스테이지에 올라간 파일의 블롭 객체를 생성하고\n",
    "  - 해당 파일에 대한 메타정보를 인덱스 파일에 등록한다."
   ]
  },
  {
   "cell_type": "markdown",
   "id": "0d656ce5",
   "metadata": {},
   "source": [
    "## update-index 명령"
   ]
  },
  {
   "cell_type": "markdown",
   "id": "f3eebad1",
   "metadata": {},
   "source": [
    "- hash-object 명령은 객체를 만들 뿐이지 스테이지에 넣지는 않는다.\n",
    "- 스테이지에 객체를 넣는 것은 update-index 명령을 사용한다.\n",
    "- update-index 명령은 파일의 메타정보와 내용을 인덱스 파일에 등록한다.\n",
    "- 실행시에 인덱스 파일이 없으면 새로 생성한다."
   ]
  },
  {
   "cell_type": "markdown",
   "id": "b6edbc4a",
   "metadata": {},
   "source": [
    "### update-index 명령의 옵션"
   ]
  },
  {
   "cell_type": "markdown",
   "id": "2d86dbee",
   "metadata": {},
   "source": [
    "- -add <유형>\n",
    "  - 인덱스 파일에 파일의 블롭객체를 등록\n",
    "  - --cacheinfo 옵션이 없으면 블롭객체를 직접 생성함"
   ]
  },
  {
   "cell_type": "markdown",
   "id": "6310f4cf",
   "metadata": {},
   "source": [
    "- `--cacheinfo` <모드> <파일의 블롭객체의 해시값> <파일 경로>\n",
    "  - 이미 생성된 블롭객체가 존재할 경우 직접 인덱스 파일에 직접 등록"
   ]
  },
  {
   "cell_type": "markdown",
   "id": "751cf555",
   "metadata": {},
   "source": [
    "- `--refresh` \n",
    "  - 파일 경로 정보를 이용하여 실제 파일에 대해 stat() 시스템 콜을 호출\n",
    "  - 인덱스 파일의 엔트리 헤더(메타정보)가 stat() 시스템 콜 결과와 다르면 갱신\n",
    "  - 블롭객체는 건들지 않는다. "
   ]
  },
  {
   "cell_type": "markdown",
   "id": "cf28d86b",
   "metadata": {},
   "source": [
    "## 실습 3: 인덱스 파일 생성"
   ]
  },
  {
   "cell_type": "markdown",
   "id": "b411835e",
   "metadata": {},
   "source": [
    "- 아직 .git/index 파일이 존재하지 않음"
   ]
  },
  {
   "cell_type": "code",
   "execution_count": 11,
   "id": "4896c14e",
   "metadata": {
    "vscode": {
     "languageId": "shellscript"
    }
   },
   "outputs": [
    {
     "name": "stdout",
     "output_type": "stream",
     "text": [
      "total 24\n",
      "drwxr-xr-x@  9 joelkim  staff  288 Aug 31 20:04 .\n",
      "drwxr-xr-x@  4 joelkim  staff  128 Aug 31 20:04 ..\n",
      "-rw-r--r--@  1 joelkim  staff  137 Aug 31 20:04 config\n",
      "-rw-r--r--@  1 joelkim  staff   73 Aug 31 20:04 description\n",
      "-rw-r--r--@  1 joelkim  staff   21 Aug 31 20:04 HEAD\n",
      "drwxr-xr-x@ 16 joelkim  staff  512 Aug 31 20:04 hooks\n",
      "drwxr-xr-x@  3 joelkim  staff   96 Aug 31 20:04 info\n",
      "drwxr-xr-x@  5 joelkim  staff  160 Aug 31 20:04 objects\n",
      "drwxr-xr-x@  4 joelkim  staff  128 Aug 31 20:04 refs\n"
     ]
    }
   ],
   "source": [
    "ls -al .git"
   ]
  },
  {
   "cell_type": "markdown",
   "id": "08b0572a",
   "metadata": {},
   "source": [
    "- 아까 생성한 블롭 객체를 등록"
   ]
  },
  {
   "cell_type": "code",
   "execution_count": 12,
   "id": "fa721a35",
   "metadata": {
    "vscode": {
     "languageId": "shellscript"
    }
   },
   "outputs": [],
   "source": [
    "git update-index --add --cacheinfo 100644 0b11cfca50e35a4865e8505f1a108bd23a3f9401 file1.txt"
   ]
  },
  {
   "cell_type": "markdown",
   "id": "3ddfc172",
   "metadata": {},
   "source": [
    "- .git/index 인덱스 파일이 생성됨"
   ]
  },
  {
   "cell_type": "code",
   "execution_count": 13,
   "id": "b0acabba",
   "metadata": {
    "vscode": {
     "languageId": "shellscript"
    }
   },
   "outputs": [
    {
     "name": "stdout",
     "output_type": "stream",
     "text": [
      "total 32\n",
      "drwxr-xr-x@ 10 joelkim  staff  320 Aug 31 20:04 .\n",
      "drwxr-xr-x@  4 joelkim  staff  128 Aug 31 20:04 ..\n",
      "-rw-r--r--@  1 joelkim  staff  137 Aug 31 20:04 config\n",
      "-rw-r--r--@  1 joelkim  staff   73 Aug 31 20:04 description\n",
      "-rw-r--r--@  1 joelkim  staff   21 Aug 31 20:04 HEAD\n",
      "drwxr-xr-x@ 16 joelkim  staff  512 Aug 31 20:04 hooks\n",
      "-rw-r--r--@  1 joelkim  staff  104 Aug 31 20:04 index\n",
      "drwxr-xr-x@  3 joelkim  staff   96 Aug 31 20:04 info\n",
      "drwxr-xr-x@  5 joelkim  staff  160 Aug 31 20:04 objects\n",
      "drwxr-xr-x@  4 joelkim  staff  128 Aug 31 20:04 refs\n"
     ]
    }
   ],
   "source": [
    "ls -al .git"
   ]
  },
  {
   "cell_type": "markdown",
   "id": "66b30de3",
   "metadata": {},
   "source": [
    "- 인덱스 파일의 내용"
   ]
  },
  {
   "cell_type": "code",
   "execution_count": 14,
   "id": "db9351db",
   "metadata": {
    "vscode": {
     "languageId": "shellscript"
    }
   },
   "outputs": [
    {
     "name": "stdout",
     "output_type": "stream",
     "text": [
      "00000000  44 49 52 43 00 00 00 02  00 00 00 01 00 00 00 00  |DIRC............|\n",
      "00000010  00 00 00 00 00 00 00 00  00 00 00 00 00 00 00 00  |................|\n",
      "00000020  00 00 00 00 00 00 81 a4  00 00 00 00 00 00 00 00  |................|\n",
      "00000030  00 00 00 00 0b 11 cf ca  50 e3 5a 48 65 e8 50 5f  |........P.ZHe.P_|\n",
      "00000040  1a 10 8b d2 3a 3f 94 01  00 09 66 69 6c 65 31 2e  |....:?....file1.|\n",
      "00000050  74 78 74 00 35 4c 42 43  60 45 a6 f6 87 b3 31 4e  |txt.5LBC`E....1N|\n",
      "00000060  84 73 b8 e3 b9 75 79 c3                           |.s...uy.|\n",
      "00000068\n"
     ]
    }
   ],
   "source": [
    "hexdump -C .git/index"
   ]
  },
  {
   "cell_type": "markdown",
   "id": "a8d48c2a",
   "metadata": {},
   "source": [
    "- 인덱스 항목 중 워크트리의 메타 정보에 해당하는 헤더 정보가 빠져있음. update-index --refresh 명령으로 갱신"
   ]
  },
  {
   "cell_type": "code",
   "execution_count": 15,
   "id": "6667af9c",
   "metadata": {
    "vscode": {
     "languageId": "shellscript"
    }
   },
   "outputs": [],
   "source": [
    "git update-index --refresh"
   ]
  },
  {
   "cell_type": "code",
   "execution_count": 16,
   "id": "3ae8c8b9",
   "metadata": {
    "vscode": {
     "languageId": "shellscript"
    }
   },
   "outputs": [
    {
     "name": "stdout",
     "output_type": "stream",
     "text": [
      "00000000  44 49 52 43 00 00 00 02  00 00 00 01 68 b4 2c 27  |DIRC........h.,'|\n",
      "00000010  0d 58 cd a0 68 b4 2c 27  0d 58 cd a0 01 00 00 04  |.X..h.,'.X......|\n",
      "00000020  09 67 9e e3 00 00 81 a4  00 00 01 f6 00 00 00 14  |.g..............|\n",
      "00000030  00 00 00 0c 0b 11 cf ca  50 e3 5a 48 65 e8 50 5f  |........P.ZHe.P_|\n",
      "00000040  1a 10 8b d2 3a 3f 94 01  00 09 66 69 6c 65 31 2e  |....:?....file1.|\n",
      "00000050  74 78 74 00 c5 4d ba 8b  75 2c 2b 78 d6 91 b5 28  |txt..M..u,+x...(|\n",
      "00000060  60 63 a7 75 7d 52 89 33                           |`c.u}R.3|\n",
      "00000068\n"
     ]
    }
   ],
   "source": [
    "hexdump -C .git/index"
   ]
  },
  {
   "cell_type": "markdown",
   "id": "1248bebd",
   "metadata": {},
   "source": [
    "## 인덱스 파일의 구조"
   ]
  },
  {
   "cell_type": "markdown",
   "id": "a983d9c9",
   "metadata": {},
   "source": [
    "- 구조\n",
    "  - 인덱스 파일 헤더 (12 바이트)\n",
    "  - 파일에 대한 인덱스 항목들 (가변)\n",
    "  - 확장 영역 (가변)\n",
    "    - 트리 항목 (커밋이 존재하는 경우)\n",
    "  - 체크섬 (20 바이트)\n",
    "  "
   ]
  },
  {
   "cell_type": "markdown",
   "id": "14312092",
   "metadata": {},
   "source": [
    "- 인덱스 파일 헤더\n",
    "  - 총 12 바이트\n",
    "  - 4바이트 시그너쳐 ('D', 'I', 'R', 'C') (\"dircache\"를 뜻함)\n",
    "  - 4바이트 버전숫자 (2~4 중 하나)\n",
    "  - 32비트 인덱스 엔트리 갯수"
   ]
  },
  {
   "cell_type": "markdown",
   "id": "326508c0",
   "metadata": {},
   "source": [
    "- 헤더 예시\n",
    "  - `44 49 52 43 00 00 00 02  00 00 00 01`\n",
    "  - DIRC, 버전 2, 1개 엔트리\n",
    "\n",
    "    ```bash\n",
    "    00000000  44 49 52 43 00 00 00 02  00 00 00 01 00 00 00 00  |DIRC............|\n",
    "    ```\n"
   ]
  },
  {
   "cell_type": "markdown",
   "id": "feef2501",
   "metadata": {},
   "source": [
    "- 인덱스 항목 구성\n",
    "  - 항목 헤더 (파일의 생성일자, 모드, 크기 등 메타정보)\n",
    "  - 블롭객체 해시값 (파일의 내용)\n",
    "  - 플래그 + 파일 이름\n",
    "  - 엔트리 항목 해시값"
   ]
  },
  {
   "cell_type": "markdown",
   "id": "ae2575c1",
   "metadata": {},
   "source": [
    "- 항목 헤더 (40 바이트)\n",
    "  - 32 비트 ctime 초 (파일 메터메이터가 최종 변경된 시간)\n",
    "  - 32 비트 ctime 나노초\n",
    "  - 32 비트 mtime 초 (파일 본문 데이터가 최종 변경된 시간)\n",
    "  - 32 비트 mtime 나노초\n",
    "  - 32 비트 dev\n",
    "  - 32 비트 inode 아이디\n",
    "  - 32 비트 모드\n",
    "  - 32 비트 uid\n",
    "  - 32 비트 gid\n",
    "  - 32 비트 파일 크기\n",
    "  ```bash\n",
    "  00000000  __ __ __ __ __ __ __ __  __ __ __ __ 68 b2 47 74  |            h.Gt|\n",
    "  00000010  01 6c 0f fd 68 b2 47 74  01 6c 0f fd 01 00 00 04  |.l..h.Gt.l......|\n",
    "  00000020  09 65 a3 68 00 00 81 a4  00 00 01 f6 00 00 00 14  |.e.h............|\n",
    "  00000030  00 00 00 0c __ __ __ __  __ __ __ __ __ __ __ __  |....            |\n",
    "  ```"
   ]
  },
  {
   "cell_type": "markdown",
   "id": "63e9d2e1",
   "metadata": {},
   "source": [
    "- 객체 해시값\n",
    "  - 0b11cfca50e35a4865e8505f1a108bd23a3f9401\n",
    "  ```bash\n",
    "  00000030  __ __ __ __ 0b 11 cf ca  50 e3 5a 48 65 e8 50 5f  |........P.ZHe.P_|\n",
    "  00000040  1a 10 8b d2 3a 3f 94 01  __ __ __ __ __ __ __ __  |....:?.         |\n",
    "  ```"
   ]
  },
  {
   "cell_type": "markdown",
   "id": "7788480c",
   "metadata": {},
   "source": [
    "- 플래그(2 바이트) + 파일 이름(8 바이트 배수로 패딩)\n",
    "  ```bash\n",
    "  00000040  __ __ __ __ __ __ __ __  00 09 66 69 6c 65 31 2e  |.       ..file1.|\n",
    "  00000050  74 78 74 00 __ __ __ __  __ __ __ __ __ __ __ __  |txt.            |\n",
    "  ```"
   ]
  },
  {
   "cell_type": "markdown",
   "id": "e072cdce",
   "metadata": {},
   "source": [
    "- 20 바이트 체크섬\n",
    "  ```bash\n",
    "  00000050  __ __ __ __ 8c 8e e0 4a  cb ef 63 04 81 44 a6 22  |    ...J..c..D.\"|\n",
    "  00000060  8f cd 09 a2 39 cb 45 1c                           |....9.E.|\n",
    "  ```"
   ]
  },
  {
   "cell_type": "markdown",
   "id": "9783a1d9",
   "metadata": {},
   "source": [
    "### ls-files 명령"
   ]
  },
  {
   "cell_type": "markdown",
   "id": "59f333fe",
   "metadata": {},
   "source": [
    "- ls-files 명령은 워크트리와 스테이지, 커밋 내부의 파일 목록을 보여주는 명령\n",
    "- 워크트리의 파일 목록은 실시간으로 검색하지만\n",
    "- 스테이지와 커밋 파일 목록을 찾을 때 내부적으로 인덱스 파일을 사용함"
   ]
  },
  {
   "cell_type": "markdown",
   "id": "90a610aa",
   "metadata": {},
   "source": [
    "### ls-files 명령의 옵션"
   ]
  },
  {
   "cell_type": "markdown",
   "id": "89b3e5b6",
   "metadata": {},
   "source": [
    "- `-c`\n",
    "  - 인덱스 파일의 항목 출력\n",
    "  - 즉, 추적 상태인 파일 목록 출력\n",
    "  - 아무 옵션이 없는 상태와 동일한 결과"
   ]
  },
  {
   "cell_type": "markdown",
   "id": "166b1647",
   "metadata": {},
   "source": [
    "- `--stage`, `-s`\n",
    "  - 스테이지 영역의 파일만 출력"
   ]
  },
  {
   "cell_type": "markdown",
   "id": "ad496736",
   "metadata": {},
   "source": [
    "- `--others`, `-o`\n",
    "  - 비추적 상태의 파일 목록 출력"
   ]
  },
  {
   "cell_type": "markdown",
   "id": "2a80123a",
   "metadata": {},
   "source": [
    "- `--ignored`, `-i`\n",
    "  - 무시되고 있는 파일 목록 출력\n",
    "  - 반드시 `-o` 옵션과 같이 사용해야 함"
   ]
  },
  {
   "cell_type": "markdown",
   "id": "46ad200b",
   "metadata": {},
   "source": [
    "- `--debug`\n",
    "  - 메타 정보까지 출력"
   ]
  },
  {
   "cell_type": "markdown",
   "id": "1e764363",
   "metadata": {},
   "source": [
    "## 실습 4: 파일 목록 출력"
   ]
  },
  {
   "cell_type": "markdown",
   "id": "914d00ac",
   "metadata": {},
   "source": [
    "- 아직 추적되지 않는 신규 파일 생성"
   ]
  },
  {
   "cell_type": "code",
   "execution_count": 17,
   "id": "deed2d9d",
   "metadata": {
    "vscode": {
     "languageId": "shellscript"
    }
   },
   "outputs": [],
   "source": [
    "mkdir sub\n",
    "echo \"file2 line1\" > sub/file2.txt"
   ]
  },
  {
   "cell_type": "code",
   "execution_count": 18,
   "id": "3a2067f8",
   "metadata": {
    "vscode": {
     "languageId": "shellscript"
    }
   },
   "outputs": [
    {
     "name": "stdout",
     "output_type": "stream",
     "text": [
      ".\n",
      "├── file1.txt\n",
      "└── sub\n",
      "    └── file2.txt\n",
      "\n",
      "2 directories, 2 files\n"
     ]
    }
   ],
   "source": [
    "tree ."
   ]
  },
  {
   "cell_type": "markdown",
   "id": "33e549fb",
   "metadata": {},
   "source": [
    "- 추적 상태의 파일 (스테이지 + 커밋)"
   ]
  },
  {
   "cell_type": "code",
   "execution_count": 19,
   "id": "96d3f70f",
   "metadata": {
    "vscode": {
     "languageId": "shellscript"
    }
   },
   "outputs": [
    {
     "name": "stdout",
     "output_type": "stream",
     "text": [
      "file1.txt\n"
     ]
    }
   ],
   "source": [
    "git ls-files"
   ]
  },
  {
   "cell_type": "markdown",
   "id": "fc5d2b70",
   "metadata": {},
   "source": [
    "- 스테이지 파일"
   ]
  },
  {
   "cell_type": "code",
   "execution_count": 20,
   "id": "97b35aad",
   "metadata": {
    "vscode": {
     "languageId": "shellscript"
    }
   },
   "outputs": [
    {
     "name": "stdout",
     "output_type": "stream",
     "text": [
      "100644 0b11cfca50e35a4865e8505f1a108bd23a3f9401 0\tfile1.txt\n"
     ]
    }
   ],
   "source": [
    "git ls-files -s"
   ]
  },
  {
   "cell_type": "markdown",
   "id": "54ab366a",
   "metadata": {},
   "source": [
    "- 메타 정보 포함"
   ]
  },
  {
   "cell_type": "code",
   "execution_count": 21,
   "id": "0a249277",
   "metadata": {
    "vscode": {
     "languageId": "shellscript"
    }
   },
   "outputs": [
    {
     "name": "stdout",
     "output_type": "stream",
     "text": [
      "file1.txt\n",
      "  ctime: 1756638247:223923616\n",
      "  mtime: 1756638247:223923616\n",
      "  dev: 16777220\tino: 157785827\n",
      "  uid: 502\tgid: 20\n",
      "  size: 12\tflags: 0\n"
     ]
    }
   ],
   "source": [
    "git ls-files --debug"
   ]
  },
  {
   "cell_type": "markdown",
   "id": "a9c408de",
   "metadata": {},
   "source": [
    "- 비추적 상태의 파일"
   ]
  },
  {
   "cell_type": "code",
   "execution_count": 22,
   "id": "d3aff6f5",
   "metadata": {
    "vscode": {
     "languageId": "shellscript"
    }
   },
   "outputs": [
    {
     "name": "stdout",
     "output_type": "stream",
     "text": [
      "sub/file2.txt\n"
     ]
    }
   ],
   "source": [
    "git ls-files -o"
   ]
  },
  {
   "cell_type": "markdown",
   "id": "89420f55",
   "metadata": {},
   "source": [
    "## 실습 5: 다른 파일을 스테이지에 추가"
   ]
  },
  {
   "cell_type": "code",
   "execution_count": 23,
   "id": "9e64fa1a",
   "metadata": {
    "vscode": {
     "languageId": "shellscript"
    }
   },
   "outputs": [
    {
     "name": "stdout",
     "output_type": "stream",
     "text": [
      "4a8d995103b41f561e547ce3b32e1983d424da22\n"
     ]
    }
   ],
   "source": [
    "git hash-object -w sub/file2.txt"
   ]
  },
  {
   "cell_type": "code",
   "execution_count": 24,
   "id": "4b5654c4",
   "metadata": {
    "vscode": {
     "languageId": "shellscript"
    }
   },
   "outputs": [
    {
     "name": "stdout",
     "output_type": "stream",
     "text": [
      ".git/objects\n",
      "├── 0b\n",
      "│   └── 11cfca50e35a4865e8505f1a108bd23a3f9401\n",
      "├── 4a\n",
      "│   └── 8d995103b41f561e547ce3b32e1983d424da22\n",
      "├── info\n",
      "└── pack\n",
      "\n",
      "5 directories, 2 files\n"
     ]
    }
   ],
   "source": [
    "tree .git/objects"
   ]
  },
  {
   "cell_type": "code",
   "execution_count": 25,
   "id": "53d0fe55",
   "metadata": {
    "vscode": {
     "languageId": "shellscript"
    }
   },
   "outputs": [],
   "source": [
    "git update-index --add --cacheinfo 100644 4a8d995103b41f561e547ce3b32e1983d424da22 sub/file2.txt"
   ]
  },
  {
   "cell_type": "code",
   "execution_count": 26,
   "id": "7d140908",
   "metadata": {
    "vscode": {
     "languageId": "shellscript"
    }
   },
   "outputs": [],
   "source": [
    "git update-index --refresh"
   ]
  },
  {
   "cell_type": "code",
   "execution_count": 27,
   "id": "2616949d",
   "metadata": {
    "vscode": {
     "languageId": "shellscript"
    }
   },
   "outputs": [
    {
     "name": "stdout",
     "output_type": "stream",
     "text": [
      "00000000  44 49 52 43 00 00 00 02  00 00 00 02 68 b4 2c 27  |DIRC........h.,'|\n",
      "00000010  0d 58 cd a0 68 b4 2c 27  0d 58 cd a0 01 00 00 04  |.X..h.,'.X......|\n",
      "00000020  09 67 9e e3 00 00 81 a4  00 00 01 f6 00 00 00 14  |.g..............|\n",
      "00000030  00 00 00 0c 0b 11 cf ca  50 e3 5a 48 65 e8 50 5f  |........P.ZHe.P_|\n",
      "00000040  1a 10 8b d2 3a 3f 94 01  00 09 66 69 6c 65 31 2e  |....:?....file1.|\n",
      "00000050  74 78 74 00 68 b4 2c 28  37 9b 9d 13 68 b4 2c 28  |txt.h.,(7...h.,(|\n",
      "00000060  37 9b 9d 13 01 00 00 04  09 67 9e ed 00 00 81 a4  |7........g......|\n",
      "00000070  00 00 01 f6 00 00 00 14  00 00 00 0c 4a 8d 99 51  |............J..Q|\n",
      "00000080  03 b4 1f 56 1e 54 7c e3  b3 2e 19 83 d4 24 da 22  |...V.T|......$.\"|\n",
      "00000090  00 0d 73 75 62 2f 66 69  6c 65 32 2e 74 78 74 00  |..sub/file2.txt.|\n",
      "000000a0  00 00 00 00 14 5e 1b 92  d8 ca 60 b7 12 85 02 3f  |.....^....`....?|\n",
      "000000b0  b6 21 7b 7b 1b 42 43 f2                           |.!{{.BC.|\n",
      "000000b8\n"
     ]
    }
   ],
   "source": [
    "hexdump -C .git/index"
   ]
  },
  {
   "cell_type": "code",
   "execution_count": 28,
   "id": "13fa9d8c",
   "metadata": {
    "vscode": {
     "languageId": "shellscript"
    }
   },
   "outputs": [
    {
     "name": "stdout",
     "output_type": "stream",
     "text": [
      "100644 0b11cfca50e35a4865e8505f1a108bd23a3f9401 0\tfile1.txt\n",
      "100644 4a8d995103b41f561e547ce3b32e1983d424da22 0\tsub/file2.txt\n"
     ]
    }
   ],
   "source": [
    "git ls-files -s"
   ]
  },
  {
   "cell_type": "code",
   "execution_count": 29,
   "id": "5ced9223",
   "metadata": {
    "vscode": {
     "languageId": "shellscript"
    }
   },
   "outputs": [
    {
     "name": "stdout",
     "output_type": "stream",
     "text": [
      "file1.txt\n",
      "  ctime: 1756638247:223923616\n",
      "  mtime: 1756638247:223923616\n",
      "  dev: 16777220\tino: 157785827\n",
      "  uid: 502\tgid: 20\n",
      "  size: 12\tflags: 0\n",
      "sub/file2.txt\n",
      "  ctime: 1756638248:932945171\n",
      "  mtime: 1756638248:932945171\n",
      "  dev: 16777220\tino: 157785837\n",
      "  uid: 502\tgid: 20\n",
      "  size: 12\tflags: 0\n"
     ]
    }
   ],
   "source": [
    "git ls-files --debug"
   ]
  },
  {
   "cell_type": "markdown",
   "id": "d62702c8",
   "metadata": {},
   "source": [
    "## write-tree 명령"
   ]
  },
  {
   "cell_type": "markdown",
   "id": "768ce971",
   "metadata": {},
   "source": [
    "- write-tree 명령은 인덱스 내의 항목을 기반으로 커밋 등록에 필요한 트리 객체들을 생성하고 인덱스 파일에 추가\n",
    "- 생성된 트리 객체 중 루트 트리의 해시값을 출력"
   ]
  },
  {
   "cell_type": "markdown",
   "id": "26429461",
   "metadata": {},
   "source": [
    "## 실습 6: 트리 객체 생성"
   ]
  },
  {
   "cell_type": "code",
   "execution_count": 30,
   "id": "f6c641a9",
   "metadata": {
    "vscode": {
     "languageId": "shellscript"
    }
   },
   "outputs": [
    {
     "name": "stdout",
     "output_type": "stream",
     "text": [
      "4c2cf5eb3d8af11e9fe5f56cb6c853e1559d7166\n"
     ]
    }
   ],
   "source": [
    "git write-tree"
   ]
  },
  {
   "cell_type": "markdown",
   "id": "992162a5",
   "metadata": {},
   "source": [
    "- 2개의 트리 객체가 만들어진다. "
   ]
  },
  {
   "cell_type": "code",
   "execution_count": 31,
   "id": "668142a0",
   "metadata": {
    "vscode": {
     "languageId": "shellscript"
    }
   },
   "outputs": [
    {
     "name": "stdout",
     "output_type": "stream",
     "text": [
      ".git/objects\n",
      "├── 0b\n",
      "│   └── 11cfca50e35a4865e8505f1a108bd23a3f9401\n",
      "├── 4a\n",
      "│   └── 8d995103b41f561e547ce3b32e1983d424da22\n",
      "├── 4c\n",
      "│   └── 2cf5eb3d8af11e9fe5f56cb6c853e1559d7166\n",
      "├── dd\n",
      "│   └── 62677237dce0946aeffef97910ffc4ec32c3e7\n",
      "├── info\n",
      "└── pack\n",
      "\n",
      "7 directories, 4 files\n"
     ]
    }
   ],
   "source": [
    "tree .git/objects"
   ]
  },
  {
   "cell_type": "markdown",
   "id": "296f9893",
   "metadata": {},
   "source": [
    "- 각 트리 객체의 내용은 다음과 같다."
   ]
  },
  {
   "cell_type": "code",
   "execution_count": 32,
   "id": "1a278bf0",
   "metadata": {
    "vscode": {
     "languageId": "shellscript"
    }
   },
   "outputs": [
    {
     "name": "stdout",
     "output_type": "stream",
     "text": [
      "100644 blob 0b11cfca50e35a4865e8505f1a108bd23a3f9401\tfile1.txt\n",
      "040000 tree dd62677237dce0946aeffef97910ffc4ec32c3e7\tsub\n"
     ]
    }
   ],
   "source": [
    "git cat-file -p 4c2cf5eb3d8af11e9fe5f56cb6c853e1559d7166"
   ]
  },
  {
   "cell_type": "code",
   "execution_count": 33,
   "id": "23db44d2",
   "metadata": {
    "vscode": {
     "languageId": "shellscript"
    }
   },
   "outputs": [
    {
     "name": "stdout",
     "output_type": "stream",
     "text": [
      "100644 blob 4a8d995103b41f561e547ce3b32e1983d424da22\tfile2.txt\n"
     ]
    }
   ],
   "source": [
    "git cat-file -p dd62677237dce0946aeffef97910ffc4ec32c3e7"
   ]
  },
  {
   "cell_type": "markdown",
   "id": "5695bb37",
   "metadata": {},
   "source": [
    "- 트리 객체의 경우에는 cat-file -p 명령대신 ls-tree 명령 사용 가능"
   ]
  },
  {
   "cell_type": "code",
   "execution_count": 34,
   "id": "e030a8ae",
   "metadata": {
    "vscode": {
     "languageId": "shellscript"
    }
   },
   "outputs": [
    {
     "name": "stdout",
     "output_type": "stream",
     "text": [
      "100644 blob 0b11cfca50e35a4865e8505f1a108bd23a3f9401\tfile1.txt\n",
      "040000 tree dd62677237dce0946aeffef97910ffc4ec32c3e7\tsub\n"
     ]
    }
   ],
   "source": [
    "git ls-tree 4c2cf5eb3d8af11e9fe5f56cb6c853e1559d7166"
   ]
  },
  {
   "cell_type": "code",
   "execution_count": 35,
   "id": "a4959767",
   "metadata": {
    "vscode": {
     "languageId": "shellscript"
    }
   },
   "outputs": [
    {
     "name": "stdout",
     "output_type": "stream",
     "text": [
      "100644 blob 4a8d995103b41f561e547ce3b32e1983d424da22\tfile2.txt\n"
     ]
    }
   ],
   "source": [
    "git ls-tree dd62677237dce0946aeffef97910ffc4ec32c3e7"
   ]
  },
  {
   "cell_type": "markdown",
   "id": "e9183b4f",
   "metadata": {},
   "source": [
    "- write-tree 명령은 인덱스 파일에도 생성된 트리 객체의 정보를 넣는다 "
   ]
  },
  {
   "cell_type": "code",
   "execution_count": 36,
   "id": "e9450453",
   "metadata": {
    "vscode": {
     "languageId": "shellscript"
    }
   },
   "outputs": [
    {
     "name": "stdout",
     "output_type": "stream",
     "text": [
      "00000000  44 49 52 43 00 00 00 02  00 00 00 02 68 b4 2c 27  |DIRC........h.,'|\n",
      "00000010  0d 58 cd a0 68 b4 2c 27  0d 58 cd a0 01 00 00 04  |.X..h.,'.X......|\n",
      "00000020  09 67 9e e3 00 00 81 a4  00 00 01 f6 00 00 00 14  |.g..............|\n",
      "00000030  00 00 00 0c 0b 11 cf ca  50 e3 5a 48 65 e8 50 5f  |........P.ZHe.P_|\n",
      "00000040  1a 10 8b d2 3a 3f 94 01  00 09 66 69 6c 65 31 2e  |....:?....file1.|\n",
      "00000050  74 78 74 00 68 b4 2c 28  37 9b 9d 13 68 b4 2c 28  |txt.h.,(7...h.,(|\n",
      "00000060  37 9b 9d 13 01 00 00 04  09 67 9e ed 00 00 81 a4  |7........g......|\n",
      "00000070  00 00 01 f6 00 00 00 14  00 00 00 0c 4a 8d 99 51  |............J..Q|\n",
      "00000080  03 b4 1f 56 1e 54 7c e3  b3 2e 19 83 d4 24 da 22  |...V.T|......$.\"|\n",
      "00000090  00 0d 73 75 62 2f 66 69  6c 65 32 2e 74 78 74 00  |..sub/file2.txt.|\n",
      "000000a0  00 00 00 00 54 52 45 45  00 00 00 35 00 32 20 31  |....TREE...5.2 1|\n",
      "000000b0  0a 4c 2c f5 eb 3d 8a f1  1e 9f e5 f5 6c b6 c8 53  |.L,..=......l..S|\n",
      "000000c0  e1 55 9d 71 66 73 75 62  00 31 20 30 0a dd 62 67  |.U.qfsub.1 0..bg|\n",
      "000000d0  72 37 dc e0 94 6a ef fe  f9 79 10 ff c4 ec 32 c3  |r7...j...y....2.|\n",
      "000000e0  e7 9e 9e 32 c5 01 92 11  72 dd 94 82 12 6b 43 f0  |...2....r....kC.|\n",
      "000000f0  65 89 a9 3c 62                                    |e..<b|\n",
      "000000f5\n"
     ]
    }
   ],
   "source": [
    "hexdump -C .git/index"
   ]
  },
  {
   "cell_type": "markdown",
   "id": "f132fde2",
   "metadata": {},
   "source": [
    "## status 명령"
   ]
  },
  {
   "cell_type": "markdown",
   "id": "34835728",
   "metadata": {},
   "source": [
    "- status 명령은 실행시 인덱스 파일을 이용하여 다음과 같은 정보를 알아낸다.\n",
    "  1. 워크트리의 파일이 추적 상태인지 아닌지 알아낸다.\n",
    "  2. 추적 상태의 파일인 경우 변경되었는지 아닌지 알아낸다.\n",
    "  3. 파일이 워크트리, 스테이지, 커밋 중 어느 영역에 있는지 알아낸다. \n"
   ]
  },
  {
   "cell_type": "markdown",
   "id": "5f032b13",
   "metadata": {},
   "source": [
    "- 방법은 다음과 같다.\n",
    "  - 추적/비추적 여부\n",
    "    - 인덱스 항목에 없는 파일은 비추적 파일이다.\n",
    "    - 인덱스 항목에 있는 파일은 스테이지 또는 커밋 영역의 파일이다. 즉, 추적 상태의 파일이다.\n",
    "  - 추적 파일의 변경 여부\n",
    "    - 워크트리 파일의 해시값이 인덱스 항목의 블롭 객체 해시값과 같으면 변경되지 않은 파일이다.\n",
    "    - 워크트리 파일의 해시값이 인덱스 항목의 블롭 객체 해시값과 다르면 변경된 않은 파일이다.\n",
    "  - 스테이지/커밋 영역의 구별 여부\n",
    "    - 인덱스 항목의 해시값과 같은 해시값을 가지는 블롭 객체가 커밋에 있으면 커밋 영역의 파일이다.\n",
    "    - 인덱스 항목의 해시값과 같은 해시값을 가지는 블롭 객체가 커밋에 없으면 스테이지 영역의 파일이다.\n"
   ]
  },
  {
   "cell_type": "markdown",
   "id": "6bf85b1f",
   "metadata": {},
   "source": [
    "## 실습 7: 상태 조회"
   ]
  },
  {
   "cell_type": "code",
   "execution_count": 37,
   "id": "bb02bd73",
   "metadata": {
    "vscode": {
     "languageId": "shellscript"
    }
   },
   "outputs": [
    {
     "name": "stdout",
     "output_type": "stream",
     "text": [
      "On branch main\n",
      "\n",
      "No commits yet\n",
      "\n",
      "Changes to be committed:\n",
      "  (use \"git rm --cached <file>...\" to unstage)\n",
      "\tnew file:   file1.txt\n",
      "\tnew file:   sub/file2.txt\n",
      "\n"
     ]
    }
   ],
   "source": [
    "git status"
   ]
  },
  {
   "cell_type": "markdown",
   "id": "91eb3a52",
   "metadata": {},
   "source": [
    "## commit-tree 명령"
   ]
  },
  {
   "cell_type": "markdown",
   "id": "eaec2e75",
   "metadata": {},
   "source": [
    "- 커밋 객체를 생성"
   ]
  },
  {
   "cell_type": "markdown",
   "id": "1f2987d0",
   "metadata": {},
   "source": [
    "## 실습 8: 커밋 객체 생성"
   ]
  },
  {
   "cell_type": "code",
   "execution_count": 38,
   "id": "9501168d",
   "metadata": {
    "vscode": {
     "languageId": "shellscript"
    }
   },
   "outputs": [
    {
     "name": "stdout",
     "output_type": "stream",
     "text": [
      "e42955ccb9b2b73c7e81e251cbab0fdc84aed671\n"
     ]
    }
   ],
   "source": [
    "GIT_AUTHOR_DATE=\"2025-01-01T12:00:00\" \\\n",
    "GIT_COMMITTER_DATE=\"2025-01-01T12:00:00\" \\\n",
    "git commit-tree -m 'first commit' 4c2cf5eb3d8af11e9fe5f56cb6c853e1559d7166"
   ]
  },
  {
   "cell_type": "code",
   "execution_count": 39,
   "id": "e2e9cdb7",
   "metadata": {
    "vscode": {
     "languageId": "shellscript"
    }
   },
   "outputs": [
    {
     "name": "stdout",
     "output_type": "stream",
     "text": [
      ".git/objects\n",
      "├── 0b\n",
      "│   └── 11cfca50e35a4865e8505f1a108bd23a3f9401\n",
      "├── 4a\n",
      "│   └── 8d995103b41f561e547ce3b32e1983d424da22\n",
      "├── 4c\n",
      "│   └── 2cf5eb3d8af11e9fe5f56cb6c853e1559d7166\n",
      "├── dd\n",
      "│   └── 62677237dce0946aeffef97910ffc4ec32c3e7\n",
      "├── e4\n",
      "│   └── 2955ccb9b2b73c7e81e251cbab0fdc84aed671\n",
      "├── info\n",
      "└── pack\n",
      "\n",
      "8 directories, 5 files\n"
     ]
    }
   ],
   "source": [
    "tree .git/objects"
   ]
  },
  {
   "cell_type": "markdown",
   "id": "e6ace246",
   "metadata": {},
   "source": [
    "- 커밋 객체는 정상적으로 생성되었음"
   ]
  },
  {
   "cell_type": "code",
   "execution_count": 40,
   "id": "f29e294f",
   "metadata": {
    "vscode": {
     "languageId": "shellscript"
    }
   },
   "outputs": [
    {
     "name": "stdout",
     "output_type": "stream",
     "text": [
      "tree 4c2cf5eb3d8af11e9fe5f56cb6c853e1559d7166\n",
      "author user <user@company.com> 1735700400 +0900\n",
      "committer user <user@company.com> 1735700400 +0900\n",
      "\n",
      "first commit\n"
     ]
    }
   ],
   "source": [
    "git cat-file -p e42955ccb9b2b73c7e81e251cbab0fdc84aed671"
   ]
  },
  {
   "cell_type": "markdown",
   "id": "de50101d",
   "metadata": {},
   "source": [
    "- 그러나 git status 명령으로는 아직 커밋된 상태가 아니라고 나옴"
   ]
  },
  {
   "cell_type": "code",
   "execution_count": 41,
   "id": "fcdb5b78",
   "metadata": {
    "vscode": {
     "languageId": "shellscript"
    }
   },
   "outputs": [
    {
     "name": "stdout",
     "output_type": "stream",
     "text": [
      "On branch main\n",
      "\n",
      "No commits yet\n",
      "\n",
      "Changes to be committed:\n",
      "  (use \"git rm --cached <file>...\" to unstage)\n",
      "\tnew file:   file1.txt\n",
      "\tnew file:   sub/file2.txt\n",
      "\n"
     ]
    }
   ],
   "source": [
    "git status"
   ]
  },
  {
   "cell_type": "markdown",
   "id": "fdc4f393",
   "metadata": {},
   "source": [
    "- 로그도 정상 출력되지 않음"
   ]
  },
  {
   "cell_type": "code",
   "execution_count": 42,
   "id": "73d065e6",
   "metadata": {
    "vscode": {
     "languageId": "shellscript"
    }
   },
   "outputs": [
    {
     "name": "stdout",
     "output_type": "stream",
     "text": [
      "fatal: your current branch 'main' does not have any commits yet\n"
     ]
    }
   ],
   "source": [
    "git log || true"
   ]
  },
  {
   "cell_type": "markdown",
   "id": "0d8a22b9",
   "metadata": {},
   "source": [
    "## update-ref 명령"
   ]
  },
  {
   "cell_type": "markdown",
   "id": "19535828",
   "metadata": {},
   "source": [
    "- 브랜치가 해당 커밋을 가리키지 않으면 커밋이 생성되었다고 인식하지 않음\n",
    "- update-ref 명령으로 브랜치가 해당 커밋을 가리키게 만듬"
   ]
  },
  {
   "cell_type": "markdown",
   "id": "26212a61",
   "metadata": {},
   "source": [
    "## 실습 9: 브랜치 참조 파일 생성"
   ]
  },
  {
   "cell_type": "markdown",
   "id": "e9570e72",
   "metadata": {},
   "source": [
    "- HEAD는 main 브랜치를 가리키고 있음"
   ]
  },
  {
   "cell_type": "code",
   "execution_count": 43,
   "id": "1ff10cc6",
   "metadata": {
    "vscode": {
     "languageId": "shellscript"
    }
   },
   "outputs": [
    {
     "name": "stdout",
     "output_type": "stream",
     "text": [
      "ref: refs/heads/main\n"
     ]
    }
   ],
   "source": [
    "cat .git/HEAD"
   ]
  },
  {
   "cell_type": "markdown",
   "id": "3e544af3",
   "metadata": {},
   "source": [
    "- 그러나 main 브랜치에 대한 참조 파일이 만들어지지 않았음"
   ]
  },
  {
   "cell_type": "code",
   "execution_count": 44,
   "id": "819a52b1",
   "metadata": {
    "vscode": {
     "languageId": "shellscript"
    }
   },
   "outputs": [
    {
     "name": "stdout",
     "output_type": "stream",
     "text": [
      ".git/refs/heads\n",
      "\n",
      "0 directories, 0 files\n"
     ]
    }
   ],
   "source": [
    "tree .git/refs/heads"
   ]
  },
  {
   "cell_type": "markdown",
   "id": "fd88859b",
   "metadata": {},
   "source": [
    "- update-ref 명령으로 방금 생성한 커밋을 가리키는 main 브랜치 참조 파일 생성"
   ]
  },
  {
   "cell_type": "code",
   "execution_count": 45,
   "id": "02d769d8",
   "metadata": {
    "vscode": {
     "languageId": "shellscript"
    }
   },
   "outputs": [],
   "source": [
    "git update-ref refs/heads/main e42955ccb9b2b73c7e81e251cbab0fdc84aed671"
   ]
  },
  {
   "cell_type": "markdown",
   "id": "6fcb4e60",
   "metadata": {},
   "source": [
    "- 참조 파일이 생성되었음"
   ]
  },
  {
   "cell_type": "code",
   "execution_count": 46,
   "id": "54464c99",
   "metadata": {
    "vscode": {
     "languageId": "shellscript"
    }
   },
   "outputs": [
    {
     "name": "stdout",
     "output_type": "stream",
     "text": [
      ".git/refs/heads\n",
      "└── main\n",
      "\n",
      "1 directory, 1 file\n"
     ]
    }
   ],
   "source": [
    "tree .git/refs/heads"
   ]
  },
  {
   "cell_type": "markdown",
   "id": "e7be7df1",
   "metadata": {},
   "source": [
    "- 참조 파일은 방금 생성된 커밋 객체를 가리킴"
   ]
  },
  {
   "cell_type": "code",
   "execution_count": 47,
   "id": "02492446",
   "metadata": {
    "vscode": {
     "languageId": "shellscript"
    }
   },
   "outputs": [
    {
     "name": "stdout",
     "output_type": "stream",
     "text": [
      "e42955ccb9b2b73c7e81e251cbab0fdc84aed671\n"
     ]
    }
   ],
   "source": [
    "cat .git/refs/heads/main"
   ]
  },
  {
   "cell_type": "markdown",
   "id": "83d5b6a2",
   "metadata": {},
   "source": [
    "- 이제 정상적으로 커밋되었다고 인식함"
   ]
  },
  {
   "cell_type": "code",
   "execution_count": 48,
   "id": "2b479753",
   "metadata": {
    "vscode": {
     "languageId": "shellscript"
    }
   },
   "outputs": [
    {
     "name": "stdout",
     "output_type": "stream",
     "text": [
      "On branch main\n",
      "nothing to commit, working tree clean\n"
     ]
    }
   ],
   "source": [
    "git status"
   ]
  },
  {
   "cell_type": "markdown",
   "id": "f5791eec",
   "metadata": {},
   "source": [
    "- 로그도 정상적으로 출력"
   ]
  },
  {
   "cell_type": "code",
   "execution_count": 49,
   "id": "9d8abd04",
   "metadata": {
    "vscode": {
     "languageId": "shellscript"
    }
   },
   "outputs": [
    {
     "name": "stdout",
     "output_type": "stream",
     "text": [
      "commit e42955ccb9b2b73c7e81e251cbab0fdc84aed671 (HEAD -> main)\n",
      "Author: user <user@company.com>\n",
      "Date:   Wed Jan 1 12:00:00 2025 +0900\n",
      "\n",
      "    first commit\n"
     ]
    }
   ],
   "source": [
    "git log"
   ]
  },
  {
   "cell_type": "markdown",
   "id": "3b8af0ac",
   "metadata": {},
   "source": [
    "## 실습 10: add, commit 명령 사용"
   ]
  },
  {
   "cell_type": "markdown",
   "id": "757a166b",
   "metadata": {},
   "source": [
    "- 지금까지 한 작업을 add, commit 명령으로 해본다."
   ]
  },
  {
   "cell_type": "markdown",
   "id": "3b12dae6",
   "metadata": {},
   "source": [
    "- 저장소 리셋"
   ]
  },
  {
   "cell_type": "code",
   "execution_count": 50,
   "id": "f4dfeea9",
   "metadata": {
    "vscode": {
     "languageId": "shellscript"
    }
   },
   "outputs": [
    {
     "name": "stdout",
     "output_type": "stream",
     "text": [
      "Initialized empty Git repository in /Users/joelkim/Work/personal/book_git/lab/test_internal_02/.git/\n"
     ]
    }
   ],
   "source": [
    "# | output: false\n",
    "cd $HOME/lab\n",
    "rm -rf test_internal_02\n",
    "git init test_internal_02\n",
    "cd test_internal_02"
   ]
  },
  {
   "cell_type": "markdown",
   "id": "1ecab29a",
   "metadata": {},
   "source": [
    ":::{.cell}\n",
    "::::{.cell-output .cell-output-stdout}\n",
    "Initialized empty Git repository in ~/lab/test_internal_02/.git/\n",
    "::::\n",
    ":::"
   ]
  },
  {
   "cell_type": "code",
   "execution_count": 51,
   "id": "3772419b",
   "metadata": {
    "vscode": {
     "languageId": "shellscript"
    }
   },
   "outputs": [],
   "source": [
    "echo \"file1 line1\" > file1.txt\n",
    "mkdir sub\n",
    "echo \"file2 line1\" > sub/file2.txt\n",
    "git add ."
   ]
  },
  {
   "cell_type": "code",
   "execution_count": 52,
   "id": "c02f692a",
   "metadata": {
    "vscode": {
     "languageId": "shellscript"
    }
   },
   "outputs": [
    {
     "name": "stdout",
     "output_type": "stream",
     "text": [
      "00000000  44 49 52 43 00 00 00 02  00 00 00 02 68 b4 2c 2d  |DIRC........h.,-|\n",
      "00000010  24 1a 62 1d 68 b4 2c 2d  24 1a 62 1d 01 00 00 04  |$.b.h.,-$.b.....|\n",
      "00000020  09 67 9f 31 00 00 81 a4  00 00 01 f6 00 00 00 14  |.g.1............|\n",
      "00000030  00 00 00 0c 0b 11 cf ca  50 e3 5a 48 65 e8 50 5f  |........P.ZHe.P_|\n",
      "00000040  1a 10 8b d2 3a 3f 94 01  00 09 66 69 6c 65 31 2e  |....:?....file1.|\n",
      "00000050  74 78 74 00 68 b4 2c 2d  2a b1 1f 02 68 b4 2c 2d  |txt.h.,-*...h.,-|\n",
      "00000060  2a b1 1f 02 01 00 00 04  09 67 9f 33 00 00 81 a4  |*........g.3....|\n",
      "00000070  00 00 01 f6 00 00 00 14  00 00 00 0c 4a 8d 99 51  |............J..Q|\n",
      "00000080  03 b4 1f 56 1e 54 7c e3  b3 2e 19 83 d4 24 da 22  |...V.T|......$.\"|\n",
      "00000090  00 0d 73 75 62 2f 66 69  6c 65 32 2e 74 78 74 00  |..sub/file2.txt.|\n",
      "000000a0  00 00 00 00 f6 72 a6 22  d9 36 43 3c 2d a0 ad 16  |.....r.\".6C<-...|\n",
      "000000b0  10 37 f6 5e 9f 5b f1 93                           |.7.^.[..|\n",
      "000000b8\n"
     ]
    }
   ],
   "source": [
    "hexdump -C .git/index"
   ]
  },
  {
   "cell_type": "code",
   "execution_count": 53,
   "id": "93b941f9",
   "metadata": {
    "vscode": {
     "languageId": "shellscript"
    }
   },
   "outputs": [
    {
     "name": "stdout",
     "output_type": "stream",
     "text": [
      ".git/objects\n",
      "├── 0b\n",
      "│   └── 11cfca50e35a4865e8505f1a108bd23a3f9401\n",
      "├── 4a\n",
      "│   └── 8d995103b41f561e547ce3b32e1983d424da22\n",
      "├── info\n",
      "└── pack\n",
      "\n",
      "5 directories, 2 files\n"
     ]
    }
   ],
   "source": [
    "tree .git/objects"
   ]
  },
  {
   "cell_type": "code",
   "execution_count": 54,
   "id": "4ebf264e",
   "metadata": {
    "vscode": {
     "languageId": "shellscript"
    }
   },
   "outputs": [
    {
     "name": "stdout",
     "output_type": "stream",
     "text": [
      "[main (root-commit) e42955c] first commit\n",
      " 2 files changed, 2 insertions(+)\n",
      " create mode 100644 file1.txt\n",
      " create mode 100644 sub/file2.txt\n"
     ]
    }
   ],
   "source": [
    "GIT_AUTHOR_DATE=\"2025-01-01T12:00:00\" \\\n",
    "GIT_COMMITTER_DATE=\"2025-01-01T12:00:00\" \\\n",
    "git commit -m 'first commit'"
   ]
  },
  {
   "cell_type": "code",
   "execution_count": 55,
   "id": "df9ba234",
   "metadata": {
    "vscode": {
     "languageId": "shellscript"
    }
   },
   "outputs": [
    {
     "name": "stdout",
     "output_type": "stream",
     "text": [
      "00000000  44 49 52 43 00 00 00 02  00 00 00 02 68 b4 2c 2d  |DIRC........h.,-|\n",
      "00000010  24 1a 62 1d 68 b4 2c 2d  24 1a 62 1d 01 00 00 04  |$.b.h.,-$.b.....|\n",
      "00000020  09 67 9f 31 00 00 81 a4  00 00 01 f6 00 00 00 14  |.g.1............|\n",
      "00000030  00 00 00 0c 0b 11 cf ca  50 e3 5a 48 65 e8 50 5f  |........P.ZHe.P_|\n",
      "00000040  1a 10 8b d2 3a 3f 94 01  00 09 66 69 6c 65 31 2e  |....:?....file1.|\n",
      "00000050  74 78 74 00 68 b4 2c 2d  2a b1 1f 02 68 b4 2c 2d  |txt.h.,-*...h.,-|\n",
      "00000060  2a b1 1f 02 01 00 00 04  09 67 9f 33 00 00 81 a4  |*........g.3....|\n",
      "00000070  00 00 01 f6 00 00 00 14  00 00 00 0c 4a 8d 99 51  |............J..Q|\n",
      "00000080  03 b4 1f 56 1e 54 7c e3  b3 2e 19 83 d4 24 da 22  |...V.T|......$.\"|\n",
      "00000090  00 0d 73 75 62 2f 66 69  6c 65 32 2e 74 78 74 00  |..sub/file2.txt.|\n",
      "000000a0  00 00 00 00 54 52 45 45  00 00 00 35 00 32 20 31  |....TREE...5.2 1|\n",
      "000000b0  0a 4c 2c f5 eb 3d 8a f1  1e 9f e5 f5 6c b6 c8 53  |.L,..=......l..S|\n",
      "000000c0  e1 55 9d 71 66 73 75 62  00 31 20 30 0a dd 62 67  |.U.qfsub.1 0..bg|\n",
      "000000d0  72 37 dc e0 94 6a ef fe  f9 79 10 ff c4 ec 32 c3  |r7...j...y....2.|\n",
      "000000e0  e7 2e 4a cd 6a f7 7d a2  4a 7b 29 b3 94 91 db e8  |..J.j.}.J{).....|\n",
      "000000f0  15 0f c1 2c 62                                    |...,b|\n",
      "000000f5\n"
     ]
    }
   ],
   "source": [
    "hexdump -C .git/index"
   ]
  },
  {
   "cell_type": "code",
   "execution_count": 56,
   "id": "3ef37c68",
   "metadata": {
    "vscode": {
     "languageId": "shellscript"
    }
   },
   "outputs": [
    {
     "name": "stdout",
     "output_type": "stream",
     "text": [
      ".git/objects\n",
      "├── 0b\n",
      "│   └── 11cfca50e35a4865e8505f1a108bd23a3f9401\n",
      "├── 4a\n",
      "│   └── 8d995103b41f561e547ce3b32e1983d424da22\n",
      "├── 4c\n",
      "│   └── 2cf5eb3d8af11e9fe5f56cb6c853e1559d7166\n",
      "├── dd\n",
      "│   └── 62677237dce0946aeffef97910ffc4ec32c3e7\n",
      "├── e4\n",
      "│   └── 2955ccb9b2b73c7e81e251cbab0fdc84aed671\n",
      "├── info\n",
      "└── pack\n",
      "\n",
      "8 directories, 5 files\n"
     ]
    }
   ],
   "source": [
    "tree .git/objects"
   ]
  },
  {
   "cell_type": "markdown",
   "id": "edb8491e",
   "metadata": {},
   "source": [
    "## 인덱스 락 파일"
   ]
  },
  {
   "cell_type": "markdown",
   "id": "86f69487",
   "metadata": {},
   "source": [
    "- 인덱스 파일에 두 개 이상의 프로세스가 동시에 쓰기를 허용하면 누락 정보가 발생할 수 있음\n",
    "- 따라서 인덱스 파일에 대한 쓰기 작업은 한 번에 하나의 프로세스만 가능\n",
    "- 먼저 쓰기를 시도하는 프로세스가 인덱스 파일을 복사한 `index.lock`이라는 인덱스 락 파일을 생성\n",
    "- 만약 인덱스 락 파일이 존재하면 다른 프로세스는 인덱스 쓰기 실패함\n",
    "- 쓰기 권한을 가진 프로세스는 인덱스 파일 자체 대신 인덱스 락 파일에 쓰기 시도\n",
    "- 쓰기가 완료되면 `index.lock` 파일의 이름을 `index`로 바꿔서 한번에 파일 교체"
   ]
  },
  {
   "cell_type": "code",
   "execution_count": 57,
   "id": "8e64c74d",
   "metadata": {
    "vscode": {
     "languageId": "shellscript"
    }
   },
   "outputs": [],
   "source": [
    "touch .git/index.lock"
   ]
  },
  {
   "cell_type": "code",
   "execution_count": 60,
   "id": "d857b26a",
   "metadata": {
    "vscode": {
     "languageId": "shellscript"
    }
   },
   "outputs": [
    {
     "name": "stdout",
     "output_type": "stream",
     "text": [
      "fatal: Unable to create '/Users/joelkim/Work/personal/book_git/lab/test_internal_02/.git/index.lock': File exists.\n",
      "\n",
      "Another git process seems to be running in this repository, e.g.\n",
      "an editor opened by 'git commit'. Please make sure all processes\n",
      "are terminated then try again. If it still fails, a git process\n",
      "may have crashed in this repository earlier:\n",
      "remove the file manually to continue.\n"
     ]
    }
   ],
   "source": [
    "git add file1.txt || true"
   ]
  },
  {
   "cell_type": "code",
   "execution_count": 61,
   "id": "49de6071",
   "metadata": {
    "vscode": {
     "languageId": "shellscript"
    }
   },
   "outputs": [
    {
     "name": "stdout",
     "output_type": "stream",
     "text": [
      "On branch main\n",
      "nothing to commit, working tree clean\n"
     ]
    }
   ],
   "source": [
    "git status"
   ]
  },
  {
   "cell_type": "markdown",
   "id": "486ce0b4",
   "metadata": {},
   "source": []
  }
 ],
 "metadata": {
  "kernelspec": {
   "display_name": "Bash",
   "language": "bash",
   "name": "bash"
  },
  "language_info": {
   "codemirror_mode": "shell",
   "file_extension": ".sh",
   "mimetype": "text/x-sh",
   "name": "bash"
  }
 },
 "nbformat": 4,
 "nbformat_minor": 5
}
